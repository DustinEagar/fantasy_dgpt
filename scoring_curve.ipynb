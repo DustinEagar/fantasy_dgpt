{
 "cells": [
  {
   "cell_type": "code",
   "execution_count": 5,
   "metadata": {},
   "outputs": [
    {
     "data": {
      "application/vnd.jupyter.widget-view+json": {
       "model_id": "6179167780dc4d28993eba937d5fbc46",
       "version_major": 2,
       "version_minor": 0
      },
      "text/plain": [
       "interactive(children=(FloatSlider(value=0.5, description='Alpha', max=1.0, step=0.05), FloatSlider(value=100.0…"
      ]
     },
     "metadata": {},
     "output_type": "display_data"
    }
   ],
   "source": [
    "import numpy as np\n",
    "import pandas as pd\n",
    "import matplotlib.pyplot as plt\n",
    "import ipywidgets as widgets\n",
    "from ipywidgets import interactive\n",
    "\n",
    "# If using Jupyter Notebook, uncomment the line below for inline plots\n",
    "# %matplotlib inline\n",
    "\n",
    "def exponential_smoothing(data, alpha, start_value):\n",
    "    \"\"\"\n",
    "    Applies single exponential smoothing to a time series.\n",
    "\n",
    "    Parameters:\n",
    "    -----------\n",
    "    data : array-like\n",
    "        The data points to smooth (first element = 1, rest = 0).\n",
    "    alpha : float\n",
    "        The smoothing factor (0 <= alpha <= 1).\n",
    "    start_value : float\n",
    "        The initial value used for the smoothed series (overrides the first data point).\n",
    "\n",
    "    Returns:\n",
    "    --------\n",
    "    smoothed_data : list\n",
    "        The exponentially smoothed data representing the fantasy league scoring curve.\n",
    "    \"\"\"\n",
    "    # Set the first smoothed point to start_value\n",
    "    smoothed_data = [start_value]\n",
    "    \n",
    "    # Subsequent points follow single exponential smoothing\n",
    "    for i in range(1, len(data)):\n",
    "        smoothed_value = alpha * data[i] + (1 - alpha) * smoothed_data[i - 1]\n",
    "        smoothed_data.append(smoothed_value)\n",
    "    \n",
    "    return smoothed_data\n",
    "\n",
    "# Create a data array for 30 positions:\n",
    "# The first entry is 1 (representing 1st place), and the rest are 0s\n",
    "positions = np.arange(1, 31)\n",
    "data = np.zeros(30)\n",
    "data[0] = 1  # 1st place\n",
    "\n",
    "def update_chart(alpha=0.5, start_value=100, offset=0):\n",
    "    \"\"\"\n",
    "    Updates and plots the scoring curve based on alpha, start_value, and offset.\n",
    "    Also prints a two-column DataFrame of Place and Points.\n",
    "    \"\"\"\n",
    "    # Get the exponentially smoothed distribution\n",
    "    scoring_curve = exponential_smoothing(data, alpha, start_value)\n",
    "    # Add the offset to each position in the curve\n",
    "    final_curve = [pt + offset for pt in scoring_curve]\n",
    "    \n",
    "    # Clear current figure\n",
    "    plt.figure(figsize=(10, 6))\n",
    "    \n",
    "    # Plot the scoring curve\n",
    "    plt.plot(positions, final_curve, marker='o', label='Scoring Curve')\n",
    "    plt.title(\n",
    "        f'Fantasy League Scoring Curve\\n'\n",
    "        f'(1st place = {start_value} pts, alpha = {alpha}, offset = {offset})'\n",
    "    )\n",
    "    plt.xlabel('Position')\n",
    "    plt.ylabel('Points')\n",
    "    plt.grid(True)\n",
    "    plt.legend()\n",
    "    \n",
    "    # Freeze the y-axis range from 0 to 350\n",
    "    plt.ylim(0, 350)\n",
    "    \n",
    "    plt.show()\n",
    "    \n",
    "    # Create a two-column DataFrame (Position, Points) and display it\n",
    "    df = pd.DataFrame({\n",
    "        'Position': positions,\n",
    "        'Points': final_curve\n",
    "    })\n",
    "    # Optionally round points for a cleaner display\n",
    "    df['Points'] = df['Points'].round()\n",
    "    display(df)\n",
    "\n",
    "# Create interactive sliders for alpha, start_value, and offset\n",
    "interactive_plot = interactive(\n",
    "    update_chart,\n",
    "    alpha=widgets.FloatSlider(value=0.5, min=0.0, max=1.0, step=0.05, description='Alpha'),\n",
    "    start_value=widgets.FloatSlider(value=100, min=10, max=500, step=10, description='Start Value'),\n",
    "    offset=widgets.FloatSlider(value=0, min=0, max=100, step=5, description='Offset')\n",
    ")\n",
    "\n",
    "# Display the interactive widget\n",
    "display(interactive_plot)\n"
   ]
  }
 ],
 "metadata": {
  "kernelspec": {
   "display_name": "datascience",
   "language": "python",
   "name": "python3"
  },
  "language_info": {
   "codemirror_mode": {
    "name": "ipython",
    "version": 3
   },
   "file_extension": ".py",
   "mimetype": "text/x-python",
   "name": "python",
   "nbconvert_exporter": "python",
   "pygments_lexer": "ipython3",
   "version": "3.9.15"
  }
 },
 "nbformat": 4,
 "nbformat_minor": 2
}
