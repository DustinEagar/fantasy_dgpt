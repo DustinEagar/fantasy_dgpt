{
 "cells": [
  {
   "cell_type": "code",
   "execution_count": null,
   "metadata": {},
   "outputs": [],
   "source": [
    "#Author - Dustin Eagar\n",
    "#January, 2024"
   ]
  },
  {
   "attachments": {},
   "cell_type": "markdown",
   "metadata": {},
   "source": [
    "## Fantasy Disc Golf Auction Valuation\n",
    "\n",
    "The objective of this project is to use past results to create a draft auction valuation model for 2024 DGPT Fantasy Disc Golf.\n",
    "\n",
    "## EDA of Past Results"
   ]
  },
  {
   "cell_type": "code",
   "execution_count": null,
   "metadata": {},
   "outputs": [],
   "source": [
    "import pandas as pd\n",
    "import matplotlib.pyplot as plt\n",
    "import seaborn as sns \n",
    "import pymc as pm \n",
    "import plotly.express as px\n",
    "\n",
    "plt.style.use('ggplot')\n",
    "\n",
    "pd.set_option('display.max_rows', None)"
   ]
  },
  {
   "cell_type": "code",
   "execution_count": null,
   "metadata": {},
   "outputs": [],
   "source": [
    "players_24 = pd.read_csv('./data/2024_pdga_tourcards_mpo.csv')\n",
    "players_24"
   ]
  },
  {
   "attachments": {},
   "cell_type": "markdown",
   "metadata": {},
   "source": [
    "## Scraping Data"
   ]
  },
  {
   "cell_type": "code",
   "execution_count": 2,
   "metadata": {},
   "outputs": [],
   "source": [
    "import requests\n",
    "from bs4 import BeautifulSoup\n",
    "import pandas as pd\n",
    "from tqdm.notebook import tqdm\n",
    "import time"
   ]
  },
  {
   "cell_type": "code",
   "execution_count": null,
   "metadata": {},
   "outputs": [],
   "source": [
    "\n",
    "\n",
    "url = 'https://www.pdga.com/tour/event/65208'#Music City Open\n",
    "table_id = 'tournament-stats-0'\n",
    "\n",
    "def scrape_pdga_table(url, table_id, event=False):\n",
    "    response = requests.get(url)\n",
    "    soup = BeautifulSoup(response.content, 'html.parser')\n",
    "\n",
    "    table = soup.find('table', id=table_id)\n",
    "    rows = table.find_all('tr')\n",
    "\n",
    "    # Extracting the header\n",
    "    headers = []\n",
    "    counter=1 #Counter for naming round rating columns\n",
    "    for i, header in enumerate(rows[0].find_all('th')):\n",
    "        header_text = header.text.strip()\n",
    "        if event and not header_text:  # If the header is empty\n",
    "            header_text = f'rating_{counter}'  # Assign a custom name\n",
    "            counter+=1\n",
    "        headers.append(header_text)\n",
    "\n",
    "    # Extracting the data\n",
    "    data = []\n",
    "    for row in rows[1:]:\n",
    "        cols = [ele.text.strip() for ele in row.find_all('td')]\n",
    "        data.append(cols)\n",
    "\n",
    "    # Creating the DataFrame\n",
    "    df = pd.DataFrame(data, columns=headers)\n",
    "    return df\n",
    "\n",
    "# Displaying the DataFrame\n",
    "#df = scrape_pdga_table(url, table_id, event=True)\n",
    "#df.head()\n"
   ]
  },
  {
   "cell_type": "code",
   "execution_count": null,
   "metadata": {},
   "outputs": [],
   "source": [
    "def ratings_date_parse(s):\n",
    "    parsed = s.split('to')[-1].strip(' ')\n",
    "\n",
    "    return parsed\n",
    "\n",
    "def scrape_player_stats(pdga_number, years_list):\n",
    "    \n",
    "    table_id_stats = \"player-results-mpo\"\n",
    "    table_id_ratings = \"player-results-details\"\n",
    "    \n",
    "    stats = pd.DataFrame()\n",
    "    for year in years_list:\n",
    "        try:\n",
    "            url_stats = f'https://www.pdga.com/player/{str(pdga_number)}/stats/{year}'\n",
    "            stats_year = scrape_pdga_table(url=url_stats, table_id = table_id_stats)\n",
    "            stats = pd.concat([stats, stats_year])\n",
    "        except Exception as e:\n",
    "            print(e)\n",
    "            pass\n",
    "        time.sleep(1.5)\n",
    "\n",
    "    if stats.shape[0]>0:\n",
    "        stats = stats[stats['Tier'].isin(['ES', 'M', 'A', 'B', 'XM'])]\n",
    "        stats['Date'] = pd.to_datetime(stats['Dates'].apply(ratings_date_parse))\n",
    "\n",
    "        stats = stats[['Place', 'Tier', 'Date', 'Tournament']]\n",
    "\n",
    "    url_ratings = f'https://www.pdga.com/player/{str(pdga_number)}/details'\n",
    "    \n",
    "    \n",
    "    try:\n",
    "        ratings = scrape_pdga_table(url=url_ratings, table_id=table_id_ratings)\n",
    "        ratings = ratings[ratings['Tier'].isin(['ES', 'M', 'A', 'B', 'XM'])]\n",
    "        ratings['Date'] = pd.to_datetime(ratings['Date'].apply(ratings_date_parse))\n",
    "        ratings = ratings[['Rating', 'Date', 'Tournament', 'Tier', 'Round']]\n",
    "    except Exception as e:\n",
    "        ratings=pd.DataFrame()\n",
    "        print(f'{e}, {pdga_number}')\n",
    "        pass\n",
    "\n",
    "\n",
    "    return stats, ratings\n",
    "\n",
    "stats, ratings = scrape_player_stats('76669', ['2020','2021','2022','2023'])\n",
    "stats"
   ]
  },
  {
   "cell_type": "code",
   "execution_count": null,
   "metadata": {},
   "outputs": [],
   "source": [
    "ratings"
   ]
  },
  {
   "cell_type": "code",
   "execution_count": null,
   "metadata": {},
   "outputs": [],
   "source": [
    "#css selectors\n",
    "css_selectors = {'career_events':'.career-events',\n",
    "                 'join_date':'.join-date',\n",
    "                 'rating_current':'.current-rating',\n",
    "                 'career_events':'.career-events',\n",
    "                 'career_wins':'.career-wins',\n",
    "                 'career_earnings':'.career-earnings',\n",
    "                 'world_rank':'.world-rank'}\n",
    "\n",
    "#Get current rating and other stats\n",
    "url = 'https://www.pdga.com/player/81739/details' #Casey White\n",
    "response = requests.get(url)\n",
    "collection_dict = {}\n",
    "# Parse the HTML content\n",
    "soup = BeautifulSoup(response.content, 'html.parser')\n",
    "for key, val in css_selectors.items():\n",
    "    # Find element using CSS selector\n",
    "    elements = soup.select(val)\n",
    "    if elements:\n",
    "        extracted_text = ' '.join([elem.get_text(strip=True) for elem in elements])\n",
    "    else:\n",
    "        extracted_text = 'Element not found'\n",
    "\n",
    "    # Print or process the extracted text\n",
    "    collection_dict[key]=extracted_text\n",
    "    print(extracted_text.strip(f'{key}:{val}'))\n",
    "\n",
    "collection_dict\n"
   ]
  },
  {
   "cell_type": "code",
   "execution_count": null,
   "metadata": {},
   "outputs": [
    {
     "name": "stdout",
     "output_type": "stream",
     "text": [
      "Career Events:206\n",
      "Member Since:2016\n",
      "Current Rating:1031(as of 12-Nov-2024)\n",
      "Career Wins:23\n",
      "Career Earnings:$90,371.00\n",
      "Element not fou\n"
     ]
    },
    {
     "data": {
      "text/plain": [
       "{'pdga_number': '81739',\n",
       " 'career_events_raw': 'Career Events:206',\n",
       " 'join_date_raw': 'Member Since:2016',\n",
       " 'rating_current_raw': 'Current Rating:1031(as of 12-Nov-2024)',\n",
       " 'career_wins_raw': 'Career Wins:23',\n",
       " 'career_earnings_raw': 'Career Earnings:$90,371.00',\n",
       " 'world_rank_raw': 'Element not found'}"
      ]
     },
     "execution_count": 3,
     "metadata": {},
     "output_type": "execute_result"
    }
   ],
   "source": [
    "def get_player_career_stats (player_pdga):\n",
    "\n",
    "    #css selectors\n",
    "    css_selectors = {'career_events_raw':'.career-events',\n",
    "                 'join_date_raw':'.join-date',\n",
    "                 'rating_current_raw':'.current-rating',\n",
    "                 'career_events_raw':'.career-events',\n",
    "                 'career_wins_raw':'.career-wins',\n",
    "                 'career_earnings_raw':'.career-earnings',\n",
    "                 'world_rank_raw':'.world-rank'}\n",
    "    \n",
    "    #Get current rating and other stats\n",
    "    url = f'https://www.pdga.com/player/{str(player_pdga)}/details' #Casey White\n",
    "    response = requests.get(url)\n",
    "\n",
    "    # Parse the HTML content\n",
    "    collection_dict = {'pdga_number':player_pdga}\n",
    "    soup = BeautifulSoup(response.content, 'html.parser')\n",
    "    for key, val in css_selectors.items():\n",
    "        # Find element using CSS selector\n",
    "        elements = soup.select(val)\n",
    "        if elements:\n",
    "            extracted_text = ' '.join([elem.get_text(strip=True) for elem in elements])\n",
    "        else:\n",
    "            extracted_text = 'Element not found'\n",
    "\n",
    "        # Print or process the extracted text\n",
    "        #print(extracted_text.strip(f'{key}:{val}'))\n",
    "        collection_dict[key]=extracted_text\n",
    "\n",
    "    return collection_dict\n",
    "    \n",
    "\n",
    "\n",
    "get_player_career_stats('81739')       "
   ]
  },
  {
   "cell_type": "code",
   "execution_count": null,
   "metadata": {},
   "outputs": [],
   "source": []
  },
  {
   "cell_type": "code",
   "execution_count": null,
   "metadata": {},
   "outputs": [],
   "source": [
    "def execute_player_stats_scrape():\n",
    "    for index, row in tqdm(players_24.iterrows(), total=players_24.shape[0]):\n",
    "\n",
    "        stats = get_player_career_stats(player_pdga=row['pdga_number'])\n",
    "\n",
    "        for key, value in stats.items():\n",
    "            players_24.at[index, key]=value\n",
    "\n",
    "#players_24.to_csv('./data/players_basic_stats.csv')\n",
    "players_24 = pd.read_csv('./data/players_basic_stats.csv', index_col=0)"
   ]
  },
  {
   "cell_type": "code",
   "execution_count": null,
   "metadata": {},
   "outputs": [],
   "source": [
    "players_24 = players_24[:-1]"
   ]
  },
  {
   "cell_type": "code",
   "execution_count": null,
   "metadata": {},
   "outputs": [],
   "source": [
    "import re\n",
    "def extract_numbers(s):\n",
    "    # Regular expression pattern\n",
    "    pattern = r'.*[:$#]\\s?((\\d{1,5}(?:,\\d{3})*|\\d+)(\\.\\d+)?)'\n",
    "    \n",
    "    # Find all matches\n",
    "    matches = re.findall(pattern, s)\n",
    "\n",
    "    if matches:\n",
    "        # Extracting only the numbers from the matches\n",
    "        return [match[0] for match in matches][0]\n",
    "    else:\n",
    "        #Return none if no matches are found\n",
    "        return None"
   ]
  },
  {
   "cell_type": "code",
   "execution_count": null,
   "metadata": {},
   "outputs": [],
   "source": [
    "players_24['career_events'] = players_24['career_events_raw'].apply(extract_numbers)\n",
    "players_24['join_date'] = players_24['join_date_raw'].apply(extract_numbers)\n",
    "players_24['rating_current'] = players_24['rating_current_raw'].apply(extract_numbers)\n",
    "players_24['career_wins'] = players_24['career_wins_raw'].apply(extract_numbers)\n",
    "players_24['career_earnings'] = players_24['career_earnings_raw'].apply(extract_numbers)\n",
    "players_24['world_rank'] = players_24['world_rank_raw'].apply(extract_numbers)\n",
    "\n",
    "players_24 = players_24.drop(columns=players_24.columns[2:8])"
   ]
  },
  {
   "cell_type": "code",
   "execution_count": null,
   "metadata": {},
   "outputs": [],
   "source": [
    "#players_24.to_csv('./data/players_basic_stats_processed.csv')"
   ]
  },
  {
   "cell_type": "code",
   "execution_count": null,
   "metadata": {},
   "outputs": [],
   "source": [
    "import time\n",
    "def execute_player_stats_crawl():\n",
    "    for index, row in tqdm(players_24.iterrows(), total=players_24.shape[0]):\n",
    "\n",
    "        stats, ratings = scrape_player_stats(pdga_number=row['pdga_number'], years_list=['2022','2023'])\n",
    "\n",
    "        players_24.at[index, 'stats_data'] = [stats.to_dict(orient='list')]\n",
    "        players_24.at[index, 'ratings_data'] = [ratings.to_dict(orient='list')]\n",
    "        time.sleep(1.5)\n",
    "\n",
    "execute_player_stats_crawl()\n"
   ]
  },
  {
   "cell_type": "code",
   "execution_count": null,
   "metadata": {},
   "outputs": [],
   "source": [
    "players_24.to_csv('./players_crawled.csv')"
   ]
  },
  {
   "cell_type": "code",
   "execution_count": null,
   "metadata": {},
   "outputs": [],
   "source": [
    "players_24"
   ]
  },
  {
   "cell_type": "code",
   "execution_count": null,
   "metadata": {},
   "outputs": [],
   "source": [
    "pd.DataFrame(players_24.iloc[0]['ratings_data'][0])"
   ]
  },
  {
   "cell_type": "code",
   "execution_count": null,
   "metadata": {},
   "outputs": [],
   "source": [
    "def extract_ratings_vec(input_data, tiers:list=None, cutoff_date=None):\n",
    "    '''\n",
    "    Extract a filtered vector of round ratings from \n",
    "    a player's rating history object. Include round ratings\n",
    "    in specified tiers and after cutoff date\n",
    "\n",
    "    input_data - dictionary object of ratings scraped from\n",
    "    ratings details. Read into dataframe\n",
    "    tiers - list of strings\n",
    "    cutoff_date - string date, 'yyyy-mm-dd', e.g. '2022-01-31'\n",
    "    '''\n",
    "\n",
    "    # column_dtypes = {'Rating':int,\n",
    "    #                  'Date':pd.Timestamp,\n",
    "    #                  'Tournament':str,\n",
    "    #                  'Tier':str}\n",
    "    \n",
    "    df = pd.DataFrame(input_data)\n",
    "    #df = df.astype(dtype=column_dtypes)\n",
    "\n",
    "    #df['Rating'] = df['Rating'].astype(float)\n",
    "    df['Date'] = pd.to_datetime(df['Date'])\n",
    "    print(df.dtypes)\n",
    "    if cutoff_date:\n",
    "        cutoff = pd.Timestamp(cutoff_date)\n",
    "        df = df[df['Date']>cutoff_date]\n",
    "\n",
    "    if tiers:\n",
    "        df = df[df['Tier'].isin(tiers)]\n",
    "    ratings_vec = df['Rating'].values\n",
    "\n",
    "    return ratings_vec\n",
    "\n",
    "#Test\n",
    "extract_ratings_vec(players_24.iloc[0]['ratings_data'][0],\n",
    "                    tiers=['ES', 'M', 'XM', 'A'],\n",
    "                    cutoff_date='2022-01-01')"
   ]
  },
  {
   "cell_type": "code",
   "execution_count": null,
   "metadata": {},
   "outputs": [],
   "source": [
    "#Need to fix this\n",
    "players_24['ratings_data'].apply(extract_ratings_vec)"
   ]
  },
  {
   "cell_type": "code",
   "execution_count": null,
   "metadata": {},
   "outputs": [],
   "source": [
    "pd.DataFrame(players_24['stats_data'].values[0][0]).dtypes"
   ]
  },
  {
   "cell_type": "code",
   "execution_count": null,
   "metadata": {},
   "outputs": [],
   "source": [
    "points_map = {\n",
    "    1:300,\n",
    "    2:245,\n",
    "    3:195,\n",
    "    4:155,\n",
    "    5:135,\n",
    "    6:110,\n",
    "    7:97,\n",
    "    8:85,\n",
    "    9:75,\n",
    "    10:64,\n",
    "    11:56,\n",
    "    12:48,\n",
    "    13:42,\n",
    "    14:36,\n",
    "    15:33,\n",
    "    16:30,\n",
    "    17:24,\n",
    "    18:24,\n",
    "    19:21,\n",
    "    20:18,\n",
    "    21:15,\n",
    "    22:12,\n",
    "    23:10,\n",
    "    24:8,\n",
    "    25:6,\n",
    "    26:4,\n",
    "    27:3,\n",
    "    28:2,\n",
    "    29:1,   \n",
    "}\n",
    "\n",
    "def calculate_points(input_obj, points_map, year):\n",
    "\n",
    "    df = pd.DataFrame(input_obj[0])\n",
    "    df = df[df['Tier'].isin(['M', 'ES', 'XM'])]\n",
    "    df = df[df['Date'].dt.year == year]\n",
    "    print(len(df))\n",
    "\n",
    "    df['event_points'] = df['Place'].astype(int).map(points_map)\n",
    "    df.loc[df['Tier'].isin(['M', 'XM']), 'event_points']*=1.5\n",
    "\n",
    "    total_points = df['event_points'].sum()\n",
    "\n",
    "    return total_points\n"
   ]
  },
  {
   "cell_type": "code",
   "execution_count": null,
   "metadata": {},
   "outputs": [],
   "source": [
    "players_24['fantasy_points_23'] = players_24['stats_data'].apply(\n",
    "    lambda x : calculate_points(x, points_map = points_map, year=2023))\n",
    "\n",
    "players_24['fantasy_points_22'] = players_24['stats_data'].apply(\n",
    "    lambda x : calculate_points(x, points_map = points_map, year=2022))"
   ]
  },
  {
   "cell_type": "code",
   "execution_count": null,
   "metadata": {},
   "outputs": [],
   "source": [
    "players_24['rating_current'] = players_24['rating_current'].astype(float)"
   ]
  },
  {
   "cell_type": "code",
   "execution_count": null,
   "metadata": {},
   "outputs": [],
   "source": [
    "px.scatter(players_24, x='rating_current', y='fantasy_points_23', hover_name='Player')"
   ]
  },
  {
   "cell_type": "code",
   "execution_count": null,
   "metadata": {},
   "outputs": [],
   "source": [
    "players_24['rating_current'].corr(players_24['fantasy_points_23'])"
   ]
  },
  {
   "cell_type": "code",
   "execution_count": null,
   "metadata": {},
   "outputs": [],
   "source": []
  },
  {
   "cell_type": "code",
   "execution_count": null,
   "metadata": {},
   "outputs": [],
   "source": [
    "sns.histplot(players_24['fantasy_points_23'], bins=50)"
   ]
  },
  {
   "cell_type": "code",
   "execution_count": null,
   "metadata": {},
   "outputs": [],
   "source": []
  },
  {
   "cell_type": "code",
   "execution_count": null,
   "metadata": {},
   "outputs": [],
   "source": [
    "px.scatter(players_24, x='fantasy_points_22', y='fantasy_points_23', hover_name='Player')"
   ]
  },
  {
   "cell_type": "code",
   "execution_count": null,
   "metadata": {},
   "outputs": [],
   "source": [
    "#weighted average of 22 and 23 fantasy points\n",
    "from scipy import stats\n",
    "import numpy as np\n",
    "\n",
    "players_24['composite_fp'] = .65*players_24['fantasy_points_23'] + .35*players_24['fantasy_points_22']\n",
    "players_24['composite_percentile'] = players_24['composite_fp'].apply(lambda x : np.round(stats.percentileofscore(players_24['composite_fp'], x), 1))\n",
    "players_24['frac_calvin'] = players_24['composite_fp']/3464"
   ]
  },
  {
   "cell_type": "code",
   "execution_count": null,
   "metadata": {},
   "outputs": [],
   "source": [
    "sns.histplot(players_24['composite_fp'], bins=50)"
   ]
  },
  {
   "cell_type": "code",
   "execution_count": null,
   "metadata": {},
   "outputs": [],
   "source": [
    "draft = players_24.drop(columns=['stats_data', 'ratings_data', 'career_earnings', 'world_rank', 'pdga_number']).sort_values(by='composite_fp', ascending=False)\n",
    "draft.reset_index(drop=True)"
   ]
  },
  {
   "cell_type": "code",
   "execution_count": null,
   "metadata": {},
   "outputs": [],
   "source": []
  }
 ],
 "metadata": {
  "kernelspec": {
   "display_name": "datascience",
   "language": "python",
   "name": "python3"
  },
  "language_info": {
   "codemirror_mode": {
    "name": "ipython",
    "version": 3
   },
   "file_extension": ".py",
   "mimetype": "text/x-python",
   "name": "python",
   "nbconvert_exporter": "python",
   "pygments_lexer": "ipython3",
   "version": "3.9.15"
  },
  "orig_nbformat": 4
 },
 "nbformat": 4,
 "nbformat_minor": 2
}
