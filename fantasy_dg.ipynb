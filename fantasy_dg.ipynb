{
 "cells": [
  {
   "cell_type": "code",
   "execution_count": null,
   "metadata": {},
   "outputs": [],
   "source": [
    "#Author - Dustin Eagar\n",
    "#January, 2024"
   ]
  },
  {
   "attachments": {},
   "cell_type": "markdown",
   "metadata": {},
   "source": [
    "## Fantasy Disc Golf Auction Valuation\n",
    "\n",
    "The objective of this project is to use past results to create a draft auction valuation model for 2024 DGPT Fantasy Disc Golf.\n",
    "\n",
    "## EDA of Past Results"
   ]
  },
  {
   "cell_type": "code",
   "execution_count": 273,
   "metadata": {},
   "outputs": [],
   "source": [
    "import pandas as pd\n",
    "import matplotlib.pyplot as plt\n",
    "import seaborn as sns \n",
    "import pymc as pm \n",
    "import plotly.express as px\n",
    "\n",
    "plt.style.use('ggplot')\n",
    "\n",
    "pd.set_option('display.max_rows', None)"
   ]
  },
  {
   "cell_type": "code",
   "execution_count": 6,
   "metadata": {},
   "outputs": [
    {
     "data": {
      "text/html": [
       "<div>\n",
       "<style scoped>\n",
       "    .dataframe tbody tr th:only-of-type {\n",
       "        vertical-align: middle;\n",
       "    }\n",
       "\n",
       "    .dataframe tbody tr th {\n",
       "        vertical-align: top;\n",
       "    }\n",
       "\n",
       "    .dataframe thead th {\n",
       "        text-align: right;\n",
       "    }\n",
       "</style>\n",
       "<table border=\"1\" class=\"dataframe\">\n",
       "  <thead>\n",
       "    <tr style=\"text-align: right;\">\n",
       "      <th></th>\n",
       "      <th>Player</th>\n",
       "      <th>pdga_number</th>\n",
       "    </tr>\n",
       "  </thead>\n",
       "  <tbody>\n",
       "    <tr>\n",
       "      <th>0</th>\n",
       "      <td>Aaron Gossage</td>\n",
       "      <td>35449</td>\n",
       "    </tr>\n",
       "    <tr>\n",
       "      <th>1</th>\n",
       "      <td>Adam Hammes</td>\n",
       "      <td>57365</td>\n",
       "    </tr>\n",
       "    <tr>\n",
       "      <th>2</th>\n",
       "      <td>Aidan Scott</td>\n",
       "      <td>99246</td>\n",
       "    </tr>\n",
       "    <tr>\n",
       "      <th>3</th>\n",
       "      <td>AJ Carey</td>\n",
       "      <td>61770</td>\n",
       "    </tr>\n",
       "    <tr>\n",
       "      <th>4</th>\n",
       "      <td>Albert Tamm</td>\n",
       "      <td>76669</td>\n",
       "    </tr>\n",
       "    <tr>\n",
       "      <th>...</th>\n",
       "      <td>...</td>\n",
       "      <td>...</td>\n",
       "    </tr>\n",
       "    <tr>\n",
       "      <th>88</th>\n",
       "      <td>Tuomas Hyytiäinen</td>\n",
       "      <td>65715</td>\n",
       "    </tr>\n",
       "    <tr>\n",
       "      <th>89</th>\n",
       "      <td>Ty Love</td>\n",
       "      <td>89959</td>\n",
       "    </tr>\n",
       "    <tr>\n",
       "      <th>90</th>\n",
       "      <td>Väinö Mäkelä</td>\n",
       "      <td>59635</td>\n",
       "    </tr>\n",
       "    <tr>\n",
       "      <th>91</th>\n",
       "      <td>Zach Arlinghaus</td>\n",
       "      <td>65266</td>\n",
       "    </tr>\n",
       "    <tr>\n",
       "      <th>92</th>\n",
       "      <td>Zachary Nash</td>\n",
       "      <td>101197</td>\n",
       "    </tr>\n",
       "  </tbody>\n",
       "</table>\n",
       "<p>93 rows × 2 columns</p>\n",
       "</div>"
      ],
      "text/plain": [
       "               Player  pdga_number\n",
       "0       Aaron Gossage        35449\n",
       "1         Adam Hammes        57365\n",
       "2         Aidan Scott        99246\n",
       "3            AJ Carey        61770\n",
       "4         Albert Tamm        76669\n",
       "..                ...          ...\n",
       "88  Tuomas Hyytiäinen        65715\n",
       "89            Ty Love        89959\n",
       "90       Väinö Mäkelä        59635\n",
       "91    Zach Arlinghaus        65266\n",
       "92       Zachary Nash       101197\n",
       "\n",
       "[93 rows x 2 columns]"
      ]
     },
     "execution_count": 6,
     "metadata": {},
     "output_type": "execute_result"
    }
   ],
   "source": [
    "players_24 = pd.read_csv('./data/2024_pdga_tourcards_mpo.csv')\n",
    "players_24"
   ]
  },
  {
   "attachments": {},
   "cell_type": "markdown",
   "metadata": {},
   "source": [
    "## Scraping Data"
   ]
  },
  {
   "cell_type": "code",
   "execution_count": 184,
   "metadata": {},
   "outputs": [],
   "source": [
    "import requests\n",
    "from bs4 import BeautifulSoup\n",
    "import pandas as pd\n",
    "from tqdm.notebook import tqdm\n",
    "import time"
   ]
  },
  {
   "cell_type": "code",
   "execution_count": 20,
   "metadata": {},
   "outputs": [
    {
     "data": {
      "text/html": [
       "<div>\n",
       "<style scoped>\n",
       "    .dataframe tbody tr th:only-of-type {\n",
       "        vertical-align: middle;\n",
       "    }\n",
       "\n",
       "    .dataframe tbody tr th {\n",
       "        vertical-align: top;\n",
       "    }\n",
       "\n",
       "    .dataframe thead th {\n",
       "        text-align: right;\n",
       "    }\n",
       "</style>\n",
       "<table border=\"1\" class=\"dataframe\">\n",
       "  <thead>\n",
       "    <tr style=\"text-align: right;\">\n",
       "      <th></th>\n",
       "      <th>Place</th>\n",
       "      <th>Points</th>\n",
       "      <th>Name</th>\n",
       "      <th>PDGA#</th>\n",
       "      <th>Rating</th>\n",
       "      <th>Par</th>\n",
       "      <th>Rd1</th>\n",
       "      <th>rating_1</th>\n",
       "      <th>Rd2</th>\n",
       "      <th>rating_2</th>\n",
       "      <th>Rd3</th>\n",
       "      <th>rating_3</th>\n",
       "      <th>Total</th>\n",
       "      <th>Prize</th>\n",
       "    </tr>\n",
       "  </thead>\n",
       "  <tbody>\n",
       "    <tr>\n",
       "      <th>0</th>\n",
       "      <td>1</td>\n",
       "      <td>1160.00</td>\n",
       "      <td>Simon Lizotte</td>\n",
       "      <td>8332</td>\n",
       "      <td>1037</td>\n",
       "      <td>-23</td>\n",
       "      <td>59</td>\n",
       "      <td>1050</td>\n",
       "      <td>59</td>\n",
       "      <td>1046</td>\n",
       "      <td>54</td>\n",
       "      <td>1068</td>\n",
       "      <td>172</td>\n",
       "      <td>$8,000</td>\n",
       "    </tr>\n",
       "    <tr>\n",
       "      <th>1</th>\n",
       "      <td>2</td>\n",
       "      <td>1150.00</td>\n",
       "      <td>Anthony Barela</td>\n",
       "      <td>44382</td>\n",
       "      <td>1042</td>\n",
       "      <td>-22</td>\n",
       "      <td>59</td>\n",
       "      <td>1050</td>\n",
       "      <td>57</td>\n",
       "      <td>1059</td>\n",
       "      <td>57</td>\n",
       "      <td>1047</td>\n",
       "      <td>173</td>\n",
       "      <td>$5,000</td>\n",
       "    </tr>\n",
       "    <tr>\n",
       "      <th>2</th>\n",
       "      <td>3</td>\n",
       "      <td>1140.00</td>\n",
       "      <td>Calvin Heimburg</td>\n",
       "      <td>45971</td>\n",
       "      <td>1042</td>\n",
       "      <td>-21</td>\n",
       "      <td>61</td>\n",
       "      <td>1037</td>\n",
       "      <td>57</td>\n",
       "      <td>1059</td>\n",
       "      <td>56</td>\n",
       "      <td>1054</td>\n",
       "      <td>174</td>\n",
       "      <td>$2,352</td>\n",
       "    </tr>\n",
       "    <tr>\n",
       "      <th>3</th>\n",
       "      <td>3</td>\n",
       "      <td>1140.00</td>\n",
       "      <td>Gannon Buhr</td>\n",
       "      <td>75412</td>\n",
       "      <td>1041</td>\n",
       "      <td>-21</td>\n",
       "      <td>59</td>\n",
       "      <td>1050</td>\n",
       "      <td>58</td>\n",
       "      <td>1052</td>\n",
       "      <td>57</td>\n",
       "      <td>1047</td>\n",
       "      <td>174</td>\n",
       "      <td>$2,352</td>\n",
       "    </tr>\n",
       "    <tr>\n",
       "      <th>4</th>\n",
       "      <td>3</td>\n",
       "      <td>1140.00</td>\n",
       "      <td>Chris Dickerson</td>\n",
       "      <td>62467</td>\n",
       "      <td>1042</td>\n",
       "      <td>-21</td>\n",
       "      <td>59</td>\n",
       "      <td>1050</td>\n",
       "      <td>55</td>\n",
       "      <td>1072</td>\n",
       "      <td>60</td>\n",
       "      <td>1025</td>\n",
       "      <td>174</td>\n",
       "      <td>$2,352</td>\n",
       "    </tr>\n",
       "  </tbody>\n",
       "</table>\n",
       "</div>"
      ],
      "text/plain": [
       "  Place   Points             Name  PDGA# Rating  Par Rd1 rating_1 Rd2  \\\n",
       "0     1  1160.00    Simon Lizotte   8332   1037  -23  59     1050  59   \n",
       "1     2  1150.00   Anthony Barela  44382   1042  -22  59     1050  57   \n",
       "2     3  1140.00  Calvin Heimburg  45971   1042  -21  61     1037  57   \n",
       "3     3  1140.00      Gannon Buhr  75412   1041  -21  59     1050  58   \n",
       "4     3  1140.00  Chris Dickerson  62467   1042  -21  59     1050  55   \n",
       "\n",
       "  rating_2 Rd3 rating_3 Total   Prize  \n",
       "0     1046  54     1068   172  $8,000  \n",
       "1     1059  57     1047   173  $5,000  \n",
       "2     1059  56     1054   174  $2,352  \n",
       "3     1052  57     1047   174  $2,352  \n",
       "4     1072  60     1025   174  $2,352  "
      ]
     },
     "execution_count": 20,
     "metadata": {},
     "output_type": "execute_result"
    }
   ],
   "source": [
    "\n",
    "\n",
    "url = 'https://www.pdga.com/tour/event/65208'#Music City Open\n",
    "table_id = 'tournament-stats-0'\n",
    "\n",
    "def scrape_pdga_table(url, table_id, event=False):\n",
    "    response = requests.get(url)\n",
    "    soup = BeautifulSoup(response.content, 'html.parser')\n",
    "\n",
    "    table = soup.find('table', id=table_id)\n",
    "    rows = table.find_all('tr')\n",
    "\n",
    "    # Extracting the header\n",
    "    headers = []\n",
    "    counter=1 #Counter for naming round rating columns\n",
    "    for i, header in enumerate(rows[0].find_all('th')):\n",
    "        header_text = header.text.strip()\n",
    "        if event and not header_text:  # If the header is empty\n",
    "            header_text = f'rating_{counter}'  # Assign a custom name\n",
    "            counter+=1\n",
    "        headers.append(header_text)\n",
    "\n",
    "    # Extracting the data\n",
    "    data = []\n",
    "    for row in rows[1:]:\n",
    "        cols = [ele.text.strip() for ele in row.find_all('td')]\n",
    "        data.append(cols)\n",
    "\n",
    "    # Creating the DataFrame\n",
    "    df = pd.DataFrame(data, columns=headers)\n",
    "    return df\n",
    "\n",
    "# Displaying the DataFrame\n",
    "#df = scrape_pdga_table(url, table_id, event=True)\n",
    "df = \n",
    "df.head()\n"
   ]
  },
  {
   "cell_type": "code",
   "execution_count": 185,
   "metadata": {},
   "outputs": [
    {
     "data": {
      "text/html": [
       "<div>\n",
       "<style scoped>\n",
       "    .dataframe tbody tr th:only-of-type {\n",
       "        vertical-align: middle;\n",
       "    }\n",
       "\n",
       "    .dataframe tbody tr th {\n",
       "        vertical-align: top;\n",
       "    }\n",
       "\n",
       "    .dataframe thead th {\n",
       "        text-align: right;\n",
       "    }\n",
       "</style>\n",
       "<table border=\"1\" class=\"dataframe\">\n",
       "  <thead>\n",
       "    <tr style=\"text-align: right;\">\n",
       "      <th></th>\n",
       "      <th>Place</th>\n",
       "      <th>Tier</th>\n",
       "      <th>Date</th>\n",
       "      <th>Tournament</th>\n",
       "    </tr>\n",
       "  </thead>\n",
       "  <tbody>\n",
       "    <tr>\n",
       "      <th>1</th>\n",
       "      <td>4</td>\n",
       "      <td>A</td>\n",
       "      <td>2020-06-28</td>\n",
       "      <td>Prodigy Disc Pro Tour 2020 - Helsinki</td>\n",
       "    </tr>\n",
       "    <tr>\n",
       "      <th>2</th>\n",
       "      <td>10</td>\n",
       "      <td>A</td>\n",
       "      <td>2020-07-12</td>\n",
       "      <td>Prodigy Disc Pro Tour 2020 - Turku</td>\n",
       "    </tr>\n",
       "    <tr>\n",
       "      <th>4</th>\n",
       "      <td>1</td>\n",
       "      <td>A</td>\n",
       "      <td>2020-07-26</td>\n",
       "      <td>BDGC Alutaguse Open 2020 Sponsored by Innova C...</td>\n",
       "    </tr>\n",
       "    <tr>\n",
       "      <th>5</th>\n",
       "      <td>5</td>\n",
       "      <td>A</td>\n",
       "      <td>2020-08-02</td>\n",
       "      <td>Prodigy Disc Pro Tour - Kuopio</td>\n",
       "    </tr>\n",
       "    <tr>\n",
       "      <th>7</th>\n",
       "      <td>1</td>\n",
       "      <td>B</td>\n",
       "      <td>2020-08-28</td>\n",
       "      <td>Eesti Meistrivõistlused 2020</td>\n",
       "    </tr>\n",
       "    <tr>\n",
       "      <th>5</th>\n",
       "      <td>33</td>\n",
       "      <td>M</td>\n",
       "      <td>2021-06-26</td>\n",
       "      <td>2021 PDGA Professional Disc Golf World Champio...</td>\n",
       "    </tr>\n",
       "    <tr>\n",
       "      <th>6</th>\n",
       "      <td>9</td>\n",
       "      <td>A</td>\n",
       "      <td>2021-07-04</td>\n",
       "      <td>The Majestic</td>\n",
       "    </tr>\n",
       "    <tr>\n",
       "      <th>11</th>\n",
       "      <td>1</td>\n",
       "      <td>B</td>\n",
       "      <td>2021-08-28</td>\n",
       "      <td>Disctroyeri Eesti Meistrivõistlused discgolfis...</td>\n",
       "    </tr>\n",
       "    <tr>\n",
       "      <th>13</th>\n",
       "      <td>19</td>\n",
       "      <td>A</td>\n",
       "      <td>2021-10-03</td>\n",
       "      <td>Carolina Clash Presented by Another Round Disc...</td>\n",
       "    </tr>\n",
       "    <tr>\n",
       "      <th>14</th>\n",
       "      <td>42</td>\n",
       "      <td>XM</td>\n",
       "      <td>2021-10-09</td>\n",
       "      <td>United States Disc Golf Championship</td>\n",
       "    </tr>\n",
       "    <tr>\n",
       "      <th>1</th>\n",
       "      <td>34</td>\n",
       "      <td>ES</td>\n",
       "      <td>2022-02-27</td>\n",
       "      <td>DGPT - Las Vegas Challenge presented by Innova</td>\n",
       "    </tr>\n",
       "    <tr>\n",
       "      <th>2</th>\n",
       "      <td>28</td>\n",
       "      <td>ES</td>\n",
       "      <td>2022-03-13</td>\n",
       "      <td>DGPT - Waco Annual Charity Open presented by P...</td>\n",
       "    </tr>\n",
       "    <tr>\n",
       "      <th>3</th>\n",
       "      <td>66</td>\n",
       "      <td>A</td>\n",
       "      <td>2022-03-20</td>\n",
       "      <td>Discraft presents THE OPEN at BELTON, a DGPT S...</td>\n",
       "    </tr>\n",
       "    <tr>\n",
       "      <th>4</th>\n",
       "      <td>36</td>\n",
       "      <td>ES</td>\n",
       "      <td>2022-03-27</td>\n",
       "      <td>DGPT - 27th Annual Texas State Disc Golf Champ...</td>\n",
       "    </tr>\n",
       "    <tr>\n",
       "      <th>5</th>\n",
       "      <td>1</td>\n",
       "      <td>A</td>\n",
       "      <td>2022-04-10</td>\n",
       "      <td>The 2022 Open at Tallahassee - DGPT Silver Ser...</td>\n",
       "    </tr>\n",
       "    <tr>\n",
       "      <th>6</th>\n",
       "      <td>57</td>\n",
       "      <td>M</td>\n",
       "      <td>2022-04-17</td>\n",
       "      <td>PDGA Champions Cup Presented by Bushnell</td>\n",
       "    </tr>\n",
       "    <tr>\n",
       "      <th>7</th>\n",
       "      <td>31</td>\n",
       "      <td>ES</td>\n",
       "      <td>2022-04-24</td>\n",
       "      <td>DGPT - Play It Again Sports Jonesboro Open pow...</td>\n",
       "    </tr>\n",
       "    <tr>\n",
       "      <th>8</th>\n",
       "      <td>58</td>\n",
       "      <td>ES</td>\n",
       "      <td>2022-05-01</td>\n",
       "      <td>DGPT - Dynamic Discs Open</td>\n",
       "    </tr>\n",
       "    <tr>\n",
       "      <th>9</th>\n",
       "      <td>21</td>\n",
       "      <td>A</td>\n",
       "      <td>2022-05-15</td>\n",
       "      <td>2022 Santa Cruz Masters Cup (DGPT Silver Serie...</td>\n",
       "    </tr>\n",
       "    <tr>\n",
       "      <th>10</th>\n",
       "      <td>23</td>\n",
       "      <td>ES</td>\n",
       "      <td>2022-05-22</td>\n",
       "      <td>DGPT - OTB Open presented by MVP Disc Sports</td>\n",
       "    </tr>\n",
       "    <tr>\n",
       "      <th>11</th>\n",
       "      <td>5</td>\n",
       "      <td>ES</td>\n",
       "      <td>2022-06-05</td>\n",
       "      <td>DGPT - Portland Open presented by Dynamic Discs</td>\n",
       "    </tr>\n",
       "    <tr>\n",
       "      <th>12</th>\n",
       "      <td>6</td>\n",
       "      <td>A</td>\n",
       "      <td>2022-06-12</td>\n",
       "      <td>Discraft presents the 2022 Beaver State Fling ...</td>\n",
       "    </tr>\n",
       "    <tr>\n",
       "      <th>13</th>\n",
       "      <td>6</td>\n",
       "      <td>ES</td>\n",
       "      <td>2022-06-26</td>\n",
       "      <td>DGPT - The Preserve Championship designed by L...</td>\n",
       "    </tr>\n",
       "    <tr>\n",
       "      <th>14</th>\n",
       "      <td>49</td>\n",
       "      <td>ES</td>\n",
       "      <td>2022-07-10</td>\n",
       "      <td>DGPT - LWS Open at Idlewild presented by Dynam...</td>\n",
       "    </tr>\n",
       "    <tr>\n",
       "      <th>16</th>\n",
       "      <td>41</td>\n",
       "      <td>M</td>\n",
       "      <td>2022-07-24</td>\n",
       "      <td>European Open presented by Discmania</td>\n",
       "    </tr>\n",
       "    <tr>\n",
       "      <th>17</th>\n",
       "      <td>15</td>\n",
       "      <td>ES</td>\n",
       "      <td>2022-07-31</td>\n",
       "      <td>DGPT - Discraft's Great Lakes Open</td>\n",
       "    </tr>\n",
       "    <tr>\n",
       "      <th>18</th>\n",
       "      <td>26</td>\n",
       "      <td>ES</td>\n",
       "      <td>2022-08-14</td>\n",
       "      <td>DGPT - Discraft Ledgestone Open</td>\n",
       "    </tr>\n",
       "    <tr>\n",
       "      <th>19</th>\n",
       "      <td>35</td>\n",
       "      <td>ES</td>\n",
       "      <td>2022-08-21</td>\n",
       "      <td>DGPT - The TruBank Des Moines Challenge presen...</td>\n",
       "    </tr>\n",
       "    <tr>\n",
       "      <th>21</th>\n",
       "      <td>41</td>\n",
       "      <td>M</td>\n",
       "      <td>2022-09-03</td>\n",
       "      <td>2022 PDGA Professional Disc Golf World Champio...</td>\n",
       "    </tr>\n",
       "    <tr>\n",
       "      <th>22</th>\n",
       "      <td>34</td>\n",
       "      <td>A</td>\n",
       "      <td>2022-09-11</td>\n",
       "      <td>Butler County Disc Golf Classic - DGPT Silver ...</td>\n",
       "    </tr>\n",
       "    <tr>\n",
       "      <th>23</th>\n",
       "      <td>65</td>\n",
       "      <td>ES</td>\n",
       "      <td>2022-09-18</td>\n",
       "      <td>DGPT Playoffs - Discraft's Green Mountain Cham...</td>\n",
       "    </tr>\n",
       "    <tr>\n",
       "      <th>24</th>\n",
       "      <td>42</td>\n",
       "      <td>ES</td>\n",
       "      <td>2022-09-25</td>\n",
       "      <td>DGPT - MVP Open at Maple Hill</td>\n",
       "    </tr>\n",
       "    <tr>\n",
       "      <th>25</th>\n",
       "      <td>40</td>\n",
       "      <td>XM</td>\n",
       "      <td>2022-10-09</td>\n",
       "      <td>United States Disc Golf Championship</td>\n",
       "    </tr>\n",
       "    <tr>\n",
       "      <th>0</th>\n",
       "      <td>5</td>\n",
       "      <td>A</td>\n",
       "      <td>2023-02-05</td>\n",
       "      <td>10th Annual Maricopa Open presented by Infinit...</td>\n",
       "    </tr>\n",
       "    <tr>\n",
       "      <th>1</th>\n",
       "      <td>5</td>\n",
       "      <td>A</td>\n",
       "      <td>2023-02-12</td>\n",
       "      <td>The Challenge @ Goat Hill Park - Presented by ...</td>\n",
       "    </tr>\n",
       "    <tr>\n",
       "      <th>2</th>\n",
       "      <td>61</td>\n",
       "      <td>ES</td>\n",
       "      <td>2023-02-26</td>\n",
       "      <td>DGPT - Las Vegas Challenge presented by Innova</td>\n",
       "    </tr>\n",
       "    <tr>\n",
       "      <th>3</th>\n",
       "      <td>45</td>\n",
       "      <td>ES</td>\n",
       "      <td>2023-03-12</td>\n",
       "      <td>DGPT - Prodigy presents WACO</td>\n",
       "    </tr>\n",
       "    <tr>\n",
       "      <th>4</th>\n",
       "      <td>16</td>\n",
       "      <td>ES</td>\n",
       "      <td>2023-03-19</td>\n",
       "      <td>DGPT - The Open at Austin presented by Lone St...</td>\n",
       "    </tr>\n",
       "    <tr>\n",
       "      <th>5</th>\n",
       "      <td>79</td>\n",
       "      <td>A</td>\n",
       "      <td>2023-03-26</td>\n",
       "      <td>DGPT Silver - Innova Open at The 28th Annual T...</td>\n",
       "    </tr>\n",
       "    <tr>\n",
       "      <th>6</th>\n",
       "      <td>44</td>\n",
       "      <td>ES</td>\n",
       "      <td>2023-04-09</td>\n",
       "      <td>DGPT Elite - Music City Open presented by Lone...</td>\n",
       "    </tr>\n",
       "    <tr>\n",
       "      <th>7</th>\n",
       "      <td>16</td>\n",
       "      <td>A</td>\n",
       "      <td>2023-04-16</td>\n",
       "      <td>DGPT Silver - Innova Blue Ridge Championship a...</td>\n",
       "    </tr>\n",
       "    <tr>\n",
       "      <th>8</th>\n",
       "      <td>45</td>\n",
       "      <td>M</td>\n",
       "      <td>2023-04-23</td>\n",
       "      <td>PDGA Champions Cup Presented by Bushnell</td>\n",
       "    </tr>\n",
       "    <tr>\n",
       "      <th>9</th>\n",
       "      <td>34</td>\n",
       "      <td>ES</td>\n",
       "      <td>2023-04-30</td>\n",
       "      <td>DGPT - Play It Again Sports Jonesboro Open pre...</td>\n",
       "    </tr>\n",
       "    <tr>\n",
       "      <th>10</th>\n",
       "      <td>23</td>\n",
       "      <td>ES</td>\n",
       "      <td>2023-05-14</td>\n",
       "      <td>DGPT - OTB Open presented by MVP Disc Sports</td>\n",
       "    </tr>\n",
       "    <tr>\n",
       "      <th>11</th>\n",
       "      <td>60</td>\n",
       "      <td>A</td>\n",
       "      <td>2023-05-21</td>\n",
       "      <td>DGPT Silver - Beaver State Fling Presented by ...</td>\n",
       "    </tr>\n",
       "    <tr>\n",
       "      <th>12</th>\n",
       "      <td>54</td>\n",
       "      <td>ES</td>\n",
       "      <td>2023-06-04</td>\n",
       "      <td>DGPT Elite+ 2023 Portland Open presented by La...</td>\n",
       "    </tr>\n",
       "    <tr>\n",
       "      <th>13</th>\n",
       "      <td>12</td>\n",
       "      <td>ES</td>\n",
       "      <td>2023-06-18</td>\n",
       "      <td>DGPT - Dynamic Discs Open</td>\n",
       "    </tr>\n",
       "    <tr>\n",
       "      <th>14</th>\n",
       "      <td>32</td>\n",
       "      <td>ES</td>\n",
       "      <td>2023-06-25</td>\n",
       "      <td>DGPT - The TruBank Des Moines Challenge presen...</td>\n",
       "    </tr>\n",
       "    <tr>\n",
       "      <th>15</th>\n",
       "      <td>47</td>\n",
       "      <td>ES</td>\n",
       "      <td>2023-07-02</td>\n",
       "      <td>DGPT - The Preserve Championship powered by Pr...</td>\n",
       "    </tr>\n",
       "    <tr>\n",
       "      <th>16</th>\n",
       "      <td>47</td>\n",
       "      <td>ES</td>\n",
       "      <td>2023-07-15</td>\n",
       "      <td>DGPT - ET#6 - PCS Open 2023 presented by Innova</td>\n",
       "    </tr>\n",
       "    <tr>\n",
       "      <th>17</th>\n",
       "      <td>19</td>\n",
       "      <td>M</td>\n",
       "      <td>2023-07-23</td>\n",
       "      <td>European Open 2023 presented by Discmania</td>\n",
       "    </tr>\n",
       "    <tr>\n",
       "      <th>18</th>\n",
       "      <td>2</td>\n",
       "      <td>A</td>\n",
       "      <td>2023-08-05</td>\n",
       "      <td>Coolbet Eesti Meistrivõistlused 2023</td>\n",
       "    </tr>\n",
       "    <tr>\n",
       "      <th>19</th>\n",
       "      <td>4</td>\n",
       "      <td>A</td>\n",
       "      <td>2023-08-12</td>\n",
       "      <td>ET#8 - Lone Star Disc Alutaguse Open</td>\n",
       "    </tr>\n",
       "    <tr>\n",
       "      <th>22</th>\n",
       "      <td>82</td>\n",
       "      <td>M</td>\n",
       "      <td>2023-09-03</td>\n",
       "      <td>2023 PDGA Professional Disc Golf World Champio...</td>\n",
       "    </tr>\n",
       "    <tr>\n",
       "      <th>23</th>\n",
       "      <td>31</td>\n",
       "      <td>ES</td>\n",
       "      <td>2023-09-17</td>\n",
       "      <td>DGPT Playoffs - MVP Open presented by OTB</td>\n",
       "    </tr>\n",
       "    <tr>\n",
       "      <th>24</th>\n",
       "      <td>41</td>\n",
       "      <td>XM</td>\n",
       "      <td>2023-10-08</td>\n",
       "      <td>United States Disc Golf Championship</td>\n",
       "    </tr>\n",
       "  </tbody>\n",
       "</table>\n",
       "</div>"
      ],
      "text/plain": [
       "   Place Tier       Date                                         Tournament\n",
       "1      4    A 2020-06-28              Prodigy Disc Pro Tour 2020 - Helsinki\n",
       "2     10    A 2020-07-12                 Prodigy Disc Pro Tour 2020 - Turku\n",
       "4      1    A 2020-07-26  BDGC Alutaguse Open 2020 Sponsored by Innova C...\n",
       "5      5    A 2020-08-02                     Prodigy Disc Pro Tour - Kuopio\n",
       "7      1    B 2020-08-28                       Eesti Meistrivõistlused 2020\n",
       "5     33    M 2021-06-26  2021 PDGA Professional Disc Golf World Champio...\n",
       "6      9    A 2021-07-04                                       The Majestic\n",
       "11     1    B 2021-08-28  Disctroyeri Eesti Meistrivõistlused discgolfis...\n",
       "13    19    A 2021-10-03  Carolina Clash Presented by Another Round Disc...\n",
       "14    42   XM 2021-10-09               United States Disc Golf Championship\n",
       "1     34   ES 2022-02-27     DGPT - Las Vegas Challenge presented by Innova\n",
       "2     28   ES 2022-03-13  DGPT - Waco Annual Charity Open presented by P...\n",
       "3     66    A 2022-03-20  Discraft presents THE OPEN at BELTON, a DGPT S...\n",
       "4     36   ES 2022-03-27  DGPT - 27th Annual Texas State Disc Golf Champ...\n",
       "5      1    A 2022-04-10  The 2022 Open at Tallahassee - DGPT Silver Ser...\n",
       "6     57    M 2022-04-17           PDGA Champions Cup Presented by Bushnell\n",
       "7     31   ES 2022-04-24  DGPT - Play It Again Sports Jonesboro Open pow...\n",
       "8     58   ES 2022-05-01                          DGPT - Dynamic Discs Open\n",
       "9     21    A 2022-05-15  2022 Santa Cruz Masters Cup (DGPT Silver Serie...\n",
       "10    23   ES 2022-05-22       DGPT - OTB Open presented by MVP Disc Sports\n",
       "11     5   ES 2022-06-05    DGPT - Portland Open presented by Dynamic Discs\n",
       "12     6    A 2022-06-12  Discraft presents the 2022 Beaver State Fling ...\n",
       "13     6   ES 2022-06-26  DGPT - The Preserve Championship designed by L...\n",
       "14    49   ES 2022-07-10  DGPT - LWS Open at Idlewild presented by Dynam...\n",
       "16    41    M 2022-07-24               European Open presented by Discmania\n",
       "17    15   ES 2022-07-31                 DGPT - Discraft's Great Lakes Open\n",
       "18    26   ES 2022-08-14                    DGPT - Discraft Ledgestone Open\n",
       "19    35   ES 2022-08-21  DGPT - The TruBank Des Moines Challenge presen...\n",
       "21    41    M 2022-09-03  2022 PDGA Professional Disc Golf World Champio...\n",
       "22    34    A 2022-09-11  Butler County Disc Golf Classic - DGPT Silver ...\n",
       "23    65   ES 2022-09-18  DGPT Playoffs - Discraft's Green Mountain Cham...\n",
       "24    42   ES 2022-09-25                      DGPT - MVP Open at Maple Hill\n",
       "25    40   XM 2022-10-09               United States Disc Golf Championship\n",
       "0      5    A 2023-02-05  10th Annual Maricopa Open presented by Infinit...\n",
       "1      5    A 2023-02-12  The Challenge @ Goat Hill Park - Presented by ...\n",
       "2     61   ES 2023-02-26     DGPT - Las Vegas Challenge presented by Innova\n",
       "3     45   ES 2023-03-12                       DGPT - Prodigy presents WACO\n",
       "4     16   ES 2023-03-19  DGPT - The Open at Austin presented by Lone St...\n",
       "5     79    A 2023-03-26  DGPT Silver - Innova Open at The 28th Annual T...\n",
       "6     44   ES 2023-04-09  DGPT Elite - Music City Open presented by Lone...\n",
       "7     16    A 2023-04-16  DGPT Silver - Innova Blue Ridge Championship a...\n",
       "8     45    M 2023-04-23           PDGA Champions Cup Presented by Bushnell\n",
       "9     34   ES 2023-04-30  DGPT - Play It Again Sports Jonesboro Open pre...\n",
       "10    23   ES 2023-05-14       DGPT - OTB Open presented by MVP Disc Sports\n",
       "11    60    A 2023-05-21  DGPT Silver - Beaver State Fling Presented by ...\n",
       "12    54   ES 2023-06-04  DGPT Elite+ 2023 Portland Open presented by La...\n",
       "13    12   ES 2023-06-18                          DGPT - Dynamic Discs Open\n",
       "14    32   ES 2023-06-25  DGPT - The TruBank Des Moines Challenge presen...\n",
       "15    47   ES 2023-07-02  DGPT - The Preserve Championship powered by Pr...\n",
       "16    47   ES 2023-07-15    DGPT - ET#6 - PCS Open 2023 presented by Innova\n",
       "17    19    M 2023-07-23          European Open 2023 presented by Discmania\n",
       "18     2    A 2023-08-05               Coolbet Eesti Meistrivõistlused 2023\n",
       "19     4    A 2023-08-12               ET#8 - Lone Star Disc Alutaguse Open\n",
       "22    82    M 2023-09-03  2023 PDGA Professional Disc Golf World Champio...\n",
       "23    31   ES 2023-09-17          DGPT Playoffs - MVP Open presented by OTB\n",
       "24    41   XM 2023-10-08               United States Disc Golf Championship"
      ]
     },
     "execution_count": 185,
     "metadata": {},
     "output_type": "execute_result"
    }
   ],
   "source": [
    "def ratings_date_parse(s):\n",
    "    parsed = s.split('to')[-1].strip(' ')\n",
    "\n",
    "    return parsed\n",
    "\n",
    "def scrape_player_stats(pdga_number, years_list):\n",
    "    \n",
    "    table_id_stats = \"player-results-mpo\"\n",
    "    table_id_ratings = \"player-results-details\"\n",
    "    \n",
    "    stats = pd.DataFrame()\n",
    "    for year in years_list:\n",
    "        try:\n",
    "            url_stats = f'https://www.pdga.com/player/{str(pdga_number)}/stats/{year}'\n",
    "            stats_year = scrape_pdga_table(url=url_stats, table_id = table_id_stats)\n",
    "            stats = pd.concat([stats, stats_year])\n",
    "        except Exception as e:\n",
    "            print(e)\n",
    "            pass\n",
    "        time.sleep(1.5)\n",
    "\n",
    "    if stats.shape[0]>0:\n",
    "        stats = stats[stats['Tier'].isin(['ES', 'M', 'A', 'B', 'XM'])]\n",
    "        stats['Date'] = pd.to_datetime(stats['Dates'].apply(ratings_date_parse))\n",
    "\n",
    "        stats = stats[['Place', 'Tier', 'Date', 'Tournament']]\n",
    "\n",
    "    url_ratings = f'https://www.pdga.com/player/{str(pdga_number)}/details'\n",
    "    \n",
    "    \n",
    "    try:\n",
    "        ratings = scrape_pdga_table(url=url_ratings, table_id=table_id_ratings)\n",
    "        ratings = ratings[ratings['Tier'].isin(['ES', 'M', 'A', 'B', 'XM'])]\n",
    "        ratings['Date'] = pd.to_datetime(ratings['Date'].apply(ratings_date_parse))\n",
    "        ratings = ratings[['Rating', 'Date', 'Tournament', 'Tier', 'Round']]\n",
    "    except Exception as e:\n",
    "        ratings=pd.DataFrame()\n",
    "        print(f'{e}, {pdga_number}')\n",
    "        pass\n",
    "\n",
    "\n",
    "    return stats, ratings\n",
    "\n",
    "stats, ratings = scrape_player_stats('76669', ['2020','2021','2022','2023'])\n",
    "stats"
   ]
  },
  {
   "cell_type": "code",
   "execution_count": 186,
   "metadata": {},
   "outputs": [
    {
     "data": {
      "text/html": [
       "<div>\n",
       "<style scoped>\n",
       "    .dataframe tbody tr th:only-of-type {\n",
       "        vertical-align: middle;\n",
       "    }\n",
       "\n",
       "    .dataframe tbody tr th {\n",
       "        vertical-align: top;\n",
       "    }\n",
       "\n",
       "    .dataframe thead th {\n",
       "        text-align: right;\n",
       "    }\n",
       "</style>\n",
       "<table border=\"1\" class=\"dataframe\">\n",
       "  <thead>\n",
       "    <tr style=\"text-align: right;\">\n",
       "      <th></th>\n",
       "      <th>Rating</th>\n",
       "      <th>Date</th>\n",
       "      <th>Tournament</th>\n",
       "      <th>Tier</th>\n",
       "      <th>Round</th>\n",
       "    </tr>\n",
       "  </thead>\n",
       "  <tbody>\n",
       "    <tr>\n",
       "      <th>2</th>\n",
       "      <td>1021</td>\n",
       "      <td>2023-10-08</td>\n",
       "      <td>United States Disc Golf Championship</td>\n",
       "      <td>XM</td>\n",
       "      <td>1</td>\n",
       "    </tr>\n",
       "    <tr>\n",
       "      <th>3</th>\n",
       "      <td>1032</td>\n",
       "      <td>2023-10-08</td>\n",
       "      <td>United States Disc Golf Championship</td>\n",
       "      <td>XM</td>\n",
       "      <td>2</td>\n",
       "    </tr>\n",
       "    <tr>\n",
       "      <th>4</th>\n",
       "      <td>993</td>\n",
       "      <td>2023-10-08</td>\n",
       "      <td>United States Disc Golf Championship</td>\n",
       "      <td>XM</td>\n",
       "      <td>3</td>\n",
       "    </tr>\n",
       "    <tr>\n",
       "      <th>5</th>\n",
       "      <td>1043</td>\n",
       "      <td>2023-10-08</td>\n",
       "      <td>United States Disc Golf Championship</td>\n",
       "      <td>XM</td>\n",
       "      <td>4</td>\n",
       "    </tr>\n",
       "    <tr>\n",
       "      <th>6</th>\n",
       "      <td>1045</td>\n",
       "      <td>2023-09-17</td>\n",
       "      <td>DGPT Playoffs - MVP Open presented by OTB</td>\n",
       "      <td>ES</td>\n",
       "      <td>1</td>\n",
       "    </tr>\n",
       "    <tr>\n",
       "      <th>...</th>\n",
       "      <td>...</td>\n",
       "      <td>...</td>\n",
       "      <td>...</td>\n",
       "      <td>...</td>\n",
       "      <td>...</td>\n",
       "    </tr>\n",
       "    <tr>\n",
       "      <th>410</th>\n",
       "      <td>946</td>\n",
       "      <td>2016-07-17</td>\n",
       "      <td>EuroTour #5 - Estonian Open</td>\n",
       "      <td>A</td>\n",
       "      <td>2</td>\n",
       "    </tr>\n",
       "    <tr>\n",
       "      <th>411</th>\n",
       "      <td>913</td>\n",
       "      <td>2016-07-17</td>\n",
       "      <td>EuroTour #5 - Estonian Open</td>\n",
       "      <td>A</td>\n",
       "      <td>3</td>\n",
       "    </tr>\n",
       "    <tr>\n",
       "      <th>416</th>\n",
       "      <td>967</td>\n",
       "      <td>2016-05-29</td>\n",
       "      <td>EuroTour #4 - HAIX Tali Open</td>\n",
       "      <td>A</td>\n",
       "      <td>1</td>\n",
       "    </tr>\n",
       "    <tr>\n",
       "      <th>417</th>\n",
       "      <td>967</td>\n",
       "      <td>2016-05-29</td>\n",
       "      <td>EuroTour #4 - HAIX Tali Open</td>\n",
       "      <td>A</td>\n",
       "      <td>2</td>\n",
       "    </tr>\n",
       "    <tr>\n",
       "      <th>418</th>\n",
       "      <td>901</td>\n",
       "      <td>2016-05-29</td>\n",
       "      <td>EuroTour #4 - HAIX Tali Open</td>\n",
       "      <td>A</td>\n",
       "      <td>3</td>\n",
       "    </tr>\n",
       "  </tbody>\n",
       "</table>\n",
       "<p>305 rows × 5 columns</p>\n",
       "</div>"
      ],
      "text/plain": [
       "    Rating       Date                                 Tournament Tier Round\n",
       "2     1021 2023-10-08       United States Disc Golf Championship   XM     1\n",
       "3     1032 2023-10-08       United States Disc Golf Championship   XM     2\n",
       "4      993 2023-10-08       United States Disc Golf Championship   XM     3\n",
       "5     1043 2023-10-08       United States Disc Golf Championship   XM     4\n",
       "6     1045 2023-09-17  DGPT Playoffs - MVP Open presented by OTB   ES     1\n",
       "..     ...        ...                                        ...  ...   ...\n",
       "410    946 2016-07-17                EuroTour #5 - Estonian Open    A     2\n",
       "411    913 2016-07-17                EuroTour #5 - Estonian Open    A     3\n",
       "416    967 2016-05-29               EuroTour #4 - HAIX Tali Open    A     1\n",
       "417    967 2016-05-29               EuroTour #4 - HAIX Tali Open    A     2\n",
       "418    901 2016-05-29               EuroTour #4 - HAIX Tali Open    A     3\n",
       "\n",
       "[305 rows x 5 columns]"
      ]
     },
     "execution_count": 186,
     "metadata": {},
     "output_type": "execute_result"
    }
   ],
   "source": [
    "ratings"
   ]
  },
  {
   "cell_type": "code",
   "execution_count": 48,
   "metadata": {},
   "outputs": [
    {
     "name": "stdout",
     "output_type": "stream",
     "text": [
      "Career Events:179\n",
      "Member Since:2016\n",
      "Current Rating:1018(as of 14-Nov-2023)\n",
      "Career Wins:22\n",
      "Career Earnings:$65,331.00\n",
      "United States Tour Rank:#67\n"
     ]
    },
    {
     "data": {
      "text/plain": [
       "{'career_events': 'Career Events:179',\n",
       " 'join_date': 'Member Since:2016',\n",
       " 'rating_current': 'Current Rating:1018(as of 14-Nov-2023)',\n",
       " 'career_wins': 'Career Wins:22',\n",
       " 'career_earnings': 'Career Earnings:$65,331.00',\n",
       " 'world_rank': 'United States Tour Rank:#67'}"
      ]
     },
     "execution_count": 48,
     "metadata": {},
     "output_type": "execute_result"
    }
   ],
   "source": [
    "#css selectors\n",
    "css_selectors = {'career_events':'.career-events',\n",
    "                 'join_date':'.join-date',\n",
    "                 'rating_current':'.current-rating',\n",
    "                 'career_events':'.career-events',\n",
    "                 'career_wins':'.career-wins',\n",
    "                 'career_earnings':'.career-earnings',\n",
    "                 'world_rank':'.world-rank'}\n",
    "\n",
    "#Get current rating and other stats\n",
    "url = 'https://www.pdga.com/player/81739/details' #Casey White\n",
    "response = requests.get(url)\n",
    "collection_dict = {}\n",
    "# Parse the HTML content\n",
    "soup = BeautifulSoup(response.content, 'html.parser')\n",
    "for key, val in css_selectors.items():\n",
    "    # Find element using CSS selector\n",
    "    elements = soup.select(val)\n",
    "    if elements:\n",
    "        extracted_text = ' '.join([elem.get_text(strip=True) for elem in elements])\n",
    "    else:\n",
    "        extracted_text = 'Element not found'\n",
    "\n",
    "    # Print or process the extracted text\n",
    "    collection_dict[key]=extracted_text\n",
    "    print(extracted_text.strip(f'{key}:{val}'))\n",
    "\n",
    "collection_dict\n"
   ]
  },
  {
   "cell_type": "code",
   "execution_count": 50,
   "metadata": {},
   "outputs": [
    {
     "name": "stdout",
     "output_type": "stream",
     "text": [
      "Career Events:179\n",
      "Member Since:2016\n",
      "Current Rating:1018(as of 14-Nov-2023)\n",
      "Career Wins:22\n",
      "Career Earnings:$65,331.00\n",
      "United States Tour Rank:#67\n"
     ]
    },
    {
     "data": {
      "text/plain": [
       "{'pdga_number': '81739',\n",
       " 'career_events_raw': 'Career Events:179',\n",
       " 'join_date_raw': 'Member Since:2016',\n",
       " 'rating_current_raw': 'Current Rating:1018(as of 14-Nov-2023)',\n",
       " 'career_wins_raw': 'Career Wins:22',\n",
       " 'career_earnings_raw': 'Career Earnings:$65,331.00',\n",
       " 'world_rank_raw': 'United States Tour Rank:#67'}"
      ]
     },
     "execution_count": 50,
     "metadata": {},
     "output_type": "execute_result"
    }
   ],
   "source": [
    "def get_player_career_stats (player_pdga):\n",
    "\n",
    "    #css selectors\n",
    "    css_selectors = {'career_events_raw':'.career-events',\n",
    "                 'join_date_raw':'.join-date',\n",
    "                 'rating_current_raw':'.current-rating',\n",
    "                 'career_events_raw':'.career-events',\n",
    "                 'career_wins_raw':'.career-wins',\n",
    "                 'career_earnings_raw':'.career-earnings',\n",
    "                 'world_rank_raw':'.world-rank'}\n",
    "    \n",
    "    #Get current rating and other stats\n",
    "    url = f'https://www.pdga.com/player/{str(player_pdga)}/details' #Casey White\n",
    "    response = requests.get(url)\n",
    "\n",
    "    # Parse the HTML content\n",
    "    collection_dict = {'pdga_number':player_pdga}\n",
    "    soup = BeautifulSoup(response.content, 'html.parser')\n",
    "    for key, val in css_selectors.items():\n",
    "        # Find element using CSS selector\n",
    "        elements = soup.select(val)\n",
    "        if elements:\n",
    "            extracted_text = ' '.join([elem.get_text(strip=True) for elem in elements])\n",
    "        else:\n",
    "            extracted_text = 'Element not found'\n",
    "\n",
    "        # Print or process the extracted text\n",
    "        print(extracted_text.strip(f'{key}:{val}'))\n",
    "        collection_dict[key]=extracted_text\n",
    "\n",
    "    return collection_dict\n",
    "    \n",
    "\n",
    "\n",
    "#get_player_career_stats('81739')       "
   ]
  },
  {
   "cell_type": "code",
   "execution_count": null,
   "metadata": {},
   "outputs": [],
   "source": []
  },
  {
   "cell_type": "code",
   "execution_count": 112,
   "metadata": {},
   "outputs": [],
   "source": [
    "def execute_player_stats_scrape():\n",
    "    for index, row in tqdm(players_24.iterrows(), total=players_24.shape[0]):\n",
    "\n",
    "        stats = get_player_career_stats(player_pdga=row['pdga_number'])\n",
    "\n",
    "        for key, value in stats.items():\n",
    "            players_24.at[index, key]=value\n",
    "\n",
    "#players_24.to_csv('./data/players_basic_stats.csv')\n",
    "players_24 = pd.read_csv('./data/players_basic_stats.csv', index_col=0)"
   ]
  },
  {
   "cell_type": "code",
   "execution_count": 113,
   "metadata": {},
   "outputs": [],
   "source": [
    "players_24 = players_24[:-1]"
   ]
  },
  {
   "cell_type": "code",
   "execution_count": 121,
   "metadata": {},
   "outputs": [],
   "source": [
    "import re\n",
    "def extract_numbers(s):\n",
    "    # Regular expression pattern\n",
    "    pattern = r'.*[:$#]\\s?((\\d{1,5}(?:,\\d{3})*|\\d+)(\\.\\d+)?)'\n",
    "    \n",
    "    # Find all matches\n",
    "    matches = re.findall(pattern, s)\n",
    "\n",
    "    if matches:\n",
    "        # Extracting only the numbers from the matches\n",
    "        return [match[0] for match in matches][0]\n",
    "    else:\n",
    "        #Return none if no matches are found\n",
    "        return None"
   ]
  },
  {
   "cell_type": "code",
   "execution_count": 115,
   "metadata": {},
   "outputs": [],
   "source": [
    "players_24['career_events'] = players_24['career_events_raw'].apply(extract_numbers)\n",
    "players_24['join_date'] = players_24['join_date_raw'].apply(extract_numbers)\n",
    "players_24['rating_current'] = players_24['rating_current_raw'].apply(extract_numbers)\n",
    "players_24['career_wins'] = players_24['career_wins_raw'].apply(extract_numbers)\n",
    "players_24['career_earnings'] = players_24['career_earnings_raw'].apply(extract_numbers)\n",
    "players_24['world_rank'] = players_24['world_rank_raw'].apply(extract_numbers)\n",
    "\n",
    "players_24 = players_24.drop(columns=players_24.columns[2:8])"
   ]
  },
  {
   "cell_type": "code",
   "execution_count": 120,
   "metadata": {},
   "outputs": [],
   "source": [
    "#players_24.to_csv('./data/players_basic_stats_processed.csv')"
   ]
  },
  {
   "cell_type": "code",
   "execution_count": 187,
   "metadata": {},
   "outputs": [
    {
     "data": {
      "application/vnd.jupyter.widget-view+json": {
       "model_id": "97bf17b1e4f94717944ab82ec0f39006",
       "version_major": 2,
       "version_minor": 0
      },
      "text/plain": [
       "  0%|          | 0/92 [00:00<?, ?it/s]"
      ]
     },
     "metadata": {},
     "output_type": "display_data"
    }
   ],
   "source": [
    "import time\n",
    "def execute_player_stats_crawl():\n",
    "    for index, row in tqdm(players_24.iterrows(), total=players_24.shape[0]):\n",
    "\n",
    "        stats, ratings = scrape_player_stats(pdga_number=row['pdga_number'], years_list=['2022','2023'])\n",
    "\n",
    "        players_24.at[index, 'stats_data'] = [stats.to_dict(orient='list')]\n",
    "        players_24.at[index, 'ratings_data'] = [ratings.to_dict(orient='list')]\n",
    "        time.sleep(1.5)\n",
    "\n",
    "execute_player_stats_crawl()\n"
   ]
  },
  {
   "cell_type": "code",
   "execution_count": 188,
   "metadata": {},
   "outputs": [],
   "source": [
    "players_24.to_csv('./players_crawled.csv')"
   ]
  },
  {
   "cell_type": "code",
   "execution_count": 189,
   "metadata": {},
   "outputs": [
    {
     "data": {
      "text/html": [
       "<div>\n",
       "<style scoped>\n",
       "    .dataframe tbody tr th:only-of-type {\n",
       "        vertical-align: middle;\n",
       "    }\n",
       "\n",
       "    .dataframe tbody tr th {\n",
       "        vertical-align: top;\n",
       "    }\n",
       "\n",
       "    .dataframe thead th {\n",
       "        text-align: right;\n",
       "    }\n",
       "</style>\n",
       "<table border=\"1\" class=\"dataframe\">\n",
       "  <thead>\n",
       "    <tr style=\"text-align: right;\">\n",
       "      <th></th>\n",
       "      <th>Player</th>\n",
       "      <th>pdga_number</th>\n",
       "      <th>career_events</th>\n",
       "      <th>join_date</th>\n",
       "      <th>rating_current</th>\n",
       "      <th>career_wins</th>\n",
       "      <th>career_earnings</th>\n",
       "      <th>world_rank</th>\n",
       "      <th>stats_data</th>\n",
       "      <th>ratings_data</th>\n",
       "    </tr>\n",
       "  </thead>\n",
       "  <tbody>\n",
       "    <tr>\n",
       "      <th>0</th>\n",
       "      <td>Aaron Gossage</td>\n",
       "      <td>35449</td>\n",
       "      <td>155</td>\n",
       "      <td>2008</td>\n",
       "      <td>1032</td>\n",
       "      <td>29</td>\n",
       "      <td>114,142.00</td>\n",
       "      <td>29</td>\n",
       "      <td>[{'Place': ['3', '57', '3', '5', '13', '50', '...</td>\n",
       "      <td>[{'Rating': ['1006', '968', '1034', '1034', '1...</td>\n",
       "    </tr>\n",
       "    <tr>\n",
       "      <th>1</th>\n",
       "      <td>Adam Hammes</td>\n",
       "      <td>57365</td>\n",
       "      <td>188</td>\n",
       "      <td>2013</td>\n",
       "      <td>1028</td>\n",
       "      <td>28</td>\n",
       "      <td>172,674.20</td>\n",
       "      <td>20</td>\n",
       "      <td>[{'Place': ['1', '7', '4', '77', '13', '50', '...</td>\n",
       "      <td>[{'Rating': ['964', '1045', '1014', '1030', '9...</td>\n",
       "    </tr>\n",
       "    <tr>\n",
       "      <th>2</th>\n",
       "      <td>Aidan Scott</td>\n",
       "      <td>99246</td>\n",
       "      <td>127</td>\n",
       "      <td>2017</td>\n",
       "      <td>1018</td>\n",
       "      <td>60</td>\n",
       "      <td>28,136.00</td>\n",
       "      <td>46</td>\n",
       "      <td>[{'Place': ['2', '1', '1', '1', '2', '6', '5',...</td>\n",
       "      <td>[{'Rating': ['984', '1017', '986', '1042', '98...</td>\n",
       "    </tr>\n",
       "    <tr>\n",
       "      <th>3</th>\n",
       "      <td>AJ Carey</td>\n",
       "      <td>61770</td>\n",
       "      <td>290</td>\n",
       "      <td>2013</td>\n",
       "      <td>1012</td>\n",
       "      <td>21</td>\n",
       "      <td>41,923.50</td>\n",
       "      <td>75</td>\n",
       "      <td>[{'Place': ['39', '56', '52', '79', '34', '90'...</td>\n",
       "      <td>[{'Rating': ['1042', '993', '1042', '1044', '1...</td>\n",
       "    </tr>\n",
       "    <tr>\n",
       "      <th>4</th>\n",
       "      <td>Albert Tamm</td>\n",
       "      <td>76669</td>\n",
       "      <td>153</td>\n",
       "      <td>2015</td>\n",
       "      <td>1022</td>\n",
       "      <td>25</td>\n",
       "      <td>52,582.67</td>\n",
       "      <td>60</td>\n",
       "      <td>[{'Place': ['34', '28', '66', '36', '1', '57',...</td>\n",
       "      <td>[{'Rating': ['1021', '1032', '993', '1043', '1...</td>\n",
       "    </tr>\n",
       "    <tr>\n",
       "      <th>...</th>\n",
       "      <td>...</td>\n",
       "      <td>...</td>\n",
       "      <td>...</td>\n",
       "      <td>...</td>\n",
       "      <td>...</td>\n",
       "      <td>...</td>\n",
       "      <td>...</td>\n",
       "      <td>...</td>\n",
       "      <td>...</td>\n",
       "      <td>...</td>\n",
       "    </tr>\n",
       "    <tr>\n",
       "      <th>87</th>\n",
       "      <td>Tristan Tanner</td>\n",
       "      <td>99053</td>\n",
       "      <td>138</td>\n",
       "      <td>2017</td>\n",
       "      <td>1008</td>\n",
       "      <td>2</td>\n",
       "      <td>34,187.25</td>\n",
       "      <td>62</td>\n",
       "      <td>[{'Place': ['6', '86', '25', '60', '46', '112'...</td>\n",
       "      <td>[{'Rating': ['962', '968', '1026', '1041', '10...</td>\n",
       "    </tr>\n",
       "    <tr>\n",
       "      <th>88</th>\n",
       "      <td>Tuomas Hyytiäinen</td>\n",
       "      <td>65715</td>\n",
       "      <td>164</td>\n",
       "      <td>2014</td>\n",
       "      <td>1017</td>\n",
       "      <td>17</td>\n",
       "      <td>26,942.44</td>\n",
       "      <td>78</td>\n",
       "      <td>[{'Place': ['97', '74', '58', '93', '58', '46'...</td>\n",
       "      <td>[{'Rating': ['1016', '1052', '1014', '1052', '...</td>\n",
       "    </tr>\n",
       "    <tr>\n",
       "      <th>89</th>\n",
       "      <td>Ty Love</td>\n",
       "      <td>89959</td>\n",
       "      <td>72</td>\n",
       "      <td>2016</td>\n",
       "      <td>1012</td>\n",
       "      <td>6</td>\n",
       "      <td>21,635.00</td>\n",
       "      <td>74</td>\n",
       "      <td>[{'Place': ['5', '28', '26', '29', '14', '53',...</td>\n",
       "      <td>[{'Rating': ['993', '983', '1034', '1010', '10...</td>\n",
       "    </tr>\n",
       "    <tr>\n",
       "      <th>90</th>\n",
       "      <td>Väinö Mäkelä</td>\n",
       "      <td>59635</td>\n",
       "      <td>158</td>\n",
       "      <td>2013</td>\n",
       "      <td>1030</td>\n",
       "      <td>22</td>\n",
       "      <td>82,603.46</td>\n",
       "      <td>24</td>\n",
       "      <td>[{'Place': ['45', '110', '51', '43', '3', '21'...</td>\n",
       "      <td>[{'Rating': ['1052', '986', '1034', '1045', '1...</td>\n",
       "    </tr>\n",
       "    <tr>\n",
       "      <th>91</th>\n",
       "      <td>Zach Arlinghaus</td>\n",
       "      <td>65266</td>\n",
       "      <td>211</td>\n",
       "      <td>2014</td>\n",
       "      <td>1018</td>\n",
       "      <td>32</td>\n",
       "      <td>42,362.00</td>\n",
       "      <td>41</td>\n",
       "      <td>[{'Place': ['67', '18', '87', '21', '5', '2', ...</td>\n",
       "      <td>[{'Rating': ['975', '991', '1020', '1042', '10...</td>\n",
       "    </tr>\n",
       "  </tbody>\n",
       "</table>\n",
       "<p>92 rows × 10 columns</p>\n",
       "</div>"
      ],
      "text/plain": [
       "               Player  pdga_number career_events join_date rating_current  \\\n",
       "0       Aaron Gossage        35449           155      2008           1032   \n",
       "1         Adam Hammes        57365           188      2013           1028   \n",
       "2         Aidan Scott        99246           127      2017           1018   \n",
       "3            AJ Carey        61770           290      2013           1012   \n",
       "4         Albert Tamm        76669           153      2015           1022   \n",
       "..                ...          ...           ...       ...            ...   \n",
       "87     Tristan Tanner        99053           138      2017           1008   \n",
       "88  Tuomas Hyytiäinen        65715           164      2014           1017   \n",
       "89            Ty Love        89959            72      2016           1012   \n",
       "90       Väinö Mäkelä        59635           158      2013           1030   \n",
       "91    Zach Arlinghaus        65266           211      2014           1018   \n",
       "\n",
       "   career_wins career_earnings world_rank  \\\n",
       "0           29      114,142.00         29   \n",
       "1           28      172,674.20         20   \n",
       "2           60       28,136.00         46   \n",
       "3           21       41,923.50         75   \n",
       "4           25       52,582.67         60   \n",
       "..         ...             ...        ...   \n",
       "87           2       34,187.25         62   \n",
       "88          17       26,942.44         78   \n",
       "89           6       21,635.00         74   \n",
       "90          22       82,603.46         24   \n",
       "91          32       42,362.00         41   \n",
       "\n",
       "                                           stats_data  \\\n",
       "0   [{'Place': ['3', '57', '3', '5', '13', '50', '...   \n",
       "1   [{'Place': ['1', '7', '4', '77', '13', '50', '...   \n",
       "2   [{'Place': ['2', '1', '1', '1', '2', '6', '5',...   \n",
       "3   [{'Place': ['39', '56', '52', '79', '34', '90'...   \n",
       "4   [{'Place': ['34', '28', '66', '36', '1', '57',...   \n",
       "..                                                ...   \n",
       "87  [{'Place': ['6', '86', '25', '60', '46', '112'...   \n",
       "88  [{'Place': ['97', '74', '58', '93', '58', '46'...   \n",
       "89  [{'Place': ['5', '28', '26', '29', '14', '53',...   \n",
       "90  [{'Place': ['45', '110', '51', '43', '3', '21'...   \n",
       "91  [{'Place': ['67', '18', '87', '21', '5', '2', ...   \n",
       "\n",
       "                                         ratings_data  \n",
       "0   [{'Rating': ['1006', '968', '1034', '1034', '1...  \n",
       "1   [{'Rating': ['964', '1045', '1014', '1030', '9...  \n",
       "2   [{'Rating': ['984', '1017', '986', '1042', '98...  \n",
       "3   [{'Rating': ['1042', '993', '1042', '1044', '1...  \n",
       "4   [{'Rating': ['1021', '1032', '993', '1043', '1...  \n",
       "..                                                ...  \n",
       "87  [{'Rating': ['962', '968', '1026', '1041', '10...  \n",
       "88  [{'Rating': ['1016', '1052', '1014', '1052', '...  \n",
       "89  [{'Rating': ['993', '983', '1034', '1010', '10...  \n",
       "90  [{'Rating': ['1052', '986', '1034', '1045', '1...  \n",
       "91  [{'Rating': ['975', '991', '1020', '1042', '10...  \n",
       "\n",
       "[92 rows x 10 columns]"
      ]
     },
     "execution_count": 189,
     "metadata": {},
     "output_type": "execute_result"
    }
   ],
   "source": [
    "players_24"
   ]
  },
  {
   "cell_type": "code",
   "execution_count": 207,
   "metadata": {},
   "outputs": [
    {
     "data": {
      "text/html": [
       "<div>\n",
       "<style scoped>\n",
       "    .dataframe tbody tr th:only-of-type {\n",
       "        vertical-align: middle;\n",
       "    }\n",
       "\n",
       "    .dataframe tbody tr th {\n",
       "        vertical-align: top;\n",
       "    }\n",
       "\n",
       "    .dataframe thead th {\n",
       "        text-align: right;\n",
       "    }\n",
       "</style>\n",
       "<table border=\"1\" class=\"dataframe\">\n",
       "  <thead>\n",
       "    <tr style=\"text-align: right;\">\n",
       "      <th></th>\n",
       "      <th>Rating</th>\n",
       "      <th>Date</th>\n",
       "      <th>Tournament</th>\n",
       "      <th>Tier</th>\n",
       "      <th>Round</th>\n",
       "    </tr>\n",
       "  </thead>\n",
       "  <tbody>\n",
       "    <tr>\n",
       "      <th>0</th>\n",
       "      <td>1006</td>\n",
       "      <td>2023-12-10</td>\n",
       "      <td>The Big Arm Challenge 4</td>\n",
       "      <td>B</td>\n",
       "      <td>1</td>\n",
       "    </tr>\n",
       "    <tr>\n",
       "      <th>1</th>\n",
       "      <td>968</td>\n",
       "      <td>2023-12-10</td>\n",
       "      <td>The Big Arm Challenge 4</td>\n",
       "      <td>B</td>\n",
       "      <td>2</td>\n",
       "    </tr>\n",
       "    <tr>\n",
       "      <th>2</th>\n",
       "      <td>1034</td>\n",
       "      <td>2023-11-19</td>\n",
       "      <td>Phoenix Fall Classic Presented by Dynamic Disc...</td>\n",
       "      <td>B</td>\n",
       "      <td>1</td>\n",
       "    </tr>\n",
       "    <tr>\n",
       "      <th>3</th>\n",
       "      <td>1034</td>\n",
       "      <td>2023-11-19</td>\n",
       "      <td>Phoenix Fall Classic Presented by Dynamic Disc...</td>\n",
       "      <td>B</td>\n",
       "      <td>2</td>\n",
       "    </tr>\n",
       "    <tr>\n",
       "      <th>4</th>\n",
       "      <td>1039</td>\n",
       "      <td>2023-10-29</td>\n",
       "      <td>Halloween Classic</td>\n",
       "      <td>B</td>\n",
       "      <td>1</td>\n",
       "    </tr>\n",
       "    <tr>\n",
       "      <th>...</th>\n",
       "      <td>...</td>\n",
       "      <td>...</td>\n",
       "      <td>...</td>\n",
       "      <td>...</td>\n",
       "      <td>...</td>\n",
       "    </tr>\n",
       "    <tr>\n",
       "      <th>286</th>\n",
       "      <td>756</td>\n",
       "      <td>2009-09-27</td>\n",
       "      <td>Johnny Roberts Memorial</td>\n",
       "      <td>B</td>\n",
       "      <td>2</td>\n",
       "    </tr>\n",
       "    <tr>\n",
       "      <th>287</th>\n",
       "      <td>837</td>\n",
       "      <td>2009-09-27</td>\n",
       "      <td>Johnny Roberts Memorial</td>\n",
       "      <td>B</td>\n",
       "      <td>3</td>\n",
       "    </tr>\n",
       "    <tr>\n",
       "      <th>288</th>\n",
       "      <td>737</td>\n",
       "      <td>2008-09-28</td>\n",
       "      <td>Colorado State Championships</td>\n",
       "      <td>A</td>\n",
       "      <td>1</td>\n",
       "    </tr>\n",
       "    <tr>\n",
       "      <th>289</th>\n",
       "      <td>799</td>\n",
       "      <td>2008-09-28</td>\n",
       "      <td>Colorado State Championships</td>\n",
       "      <td>A</td>\n",
       "      <td>2</td>\n",
       "    </tr>\n",
       "    <tr>\n",
       "      <th>290</th>\n",
       "      <td>752</td>\n",
       "      <td>2008-09-28</td>\n",
       "      <td>Colorado State Championships</td>\n",
       "      <td>A</td>\n",
       "      <td>3</td>\n",
       "    </tr>\n",
       "  </tbody>\n",
       "</table>\n",
       "<p>291 rows × 5 columns</p>\n",
       "</div>"
      ],
      "text/plain": [
       "    Rating       Date                                         Tournament Tier  \\\n",
       "0     1006 2023-12-10                            The Big Arm Challenge 4    B   \n",
       "1      968 2023-12-10                            The Big Arm Challenge 4    B   \n",
       "2     1034 2023-11-19  Phoenix Fall Classic Presented by Dynamic Disc...    B   \n",
       "3     1034 2023-11-19  Phoenix Fall Classic Presented by Dynamic Disc...    B   \n",
       "4     1039 2023-10-29                                  Halloween Classic    B   \n",
       "..     ...        ...                                                ...  ...   \n",
       "286    756 2009-09-27                            Johnny Roberts Memorial    B   \n",
       "287    837 2009-09-27                            Johnny Roberts Memorial    B   \n",
       "288    737 2008-09-28                       Colorado State Championships    A   \n",
       "289    799 2008-09-28                       Colorado State Championships    A   \n",
       "290    752 2008-09-28                       Colorado State Championships    A   \n",
       "\n",
       "    Round  \n",
       "0       1  \n",
       "1       2  \n",
       "2       1  \n",
       "3       2  \n",
       "4       1  \n",
       "..    ...  \n",
       "286     2  \n",
       "287     3  \n",
       "288     1  \n",
       "289     2  \n",
       "290     3  \n",
       "\n",
       "[291 rows x 5 columns]"
      ]
     },
     "execution_count": 207,
     "metadata": {},
     "output_type": "execute_result"
    }
   ],
   "source": [
    "pd.DataFrame(players_24.iloc[0]['ratings_data'][0])"
   ]
  },
  {
   "cell_type": "code",
   "execution_count": 222,
   "metadata": {},
   "outputs": [
    {
     "name": "stdout",
     "output_type": "stream",
     "text": [
      "Rating                object\n",
      "Date          datetime64[ns]\n",
      "Tournament            object\n",
      "Tier                  object\n",
      "Round                 object\n",
      "dtype: object\n"
     ]
    },
    {
     "data": {
      "text/plain": [
       "array(['1005', '1012', '1018', '772', '1041', '1039', '1048', '1056',\n",
       "       '1001', '1082', '1067', '1067', '1033', '1040', '1000', '1005',\n",
       "       '1050', '1050', '1033', '1007', '1029', '1062', '999', '1037',\n",
       "       '1006', '1016', '1023', '1036', '1011', '1033', '1030', '977',\n",
       "       '1036', '1044', '1021', '1031', '1075', '1017', '1002', '1024',\n",
       "       '1038', '1022', '1035', '1047', '1020', '1034', '1062', '1048',\n",
       "       '1032', '1060', '1057', '1030', '1043', '1052', '1059', '1006',\n",
       "       '1055', '1054', '1054', '1063', '1008', '1030', '999', '1019',\n",
       "       '1006', '1019', '1031', '1026', '1047', '1027', '1041', '1064',\n",
       "       '1030', '1045', '1021', '1015', '1028', '1015', '1065', '1075',\n",
       "       '1053', '1053', '1006', '1079', '1003', '1031', '1018', '1036',\n",
       "       '981', '1054', '1054', '1026', '1008', '1018', '965', '1027',\n",
       "       '1018', '1039', '973', '1033', '1074', '1017', '982', '1063',\n",
       "       '1064', '1063', '1057', '1044', '1018', '1012', '996', '1018',\n",
       "       '1017', '1027', '1024', '1036', '1030', '1030', '1033', '1019',\n",
       "       '998', '1064', '1073', '1018', '973', '988', '1006', '1042', '987',\n",
       "       '1030', '1038', '1016', '1034', '1026', '1026', '1051', '1018',\n",
       "       '1048', '1043', '1061', '998', '980', '1015', '1075', '1023',\n",
       "       '1017', '1032', '1038', '1024', '1044', '1038', '1011', '1010',\n",
       "       '1028', '996', '990', '1067', '1006', '1025', '1038', '1000',\n",
       "       '1050', '1043', '1018', '1011', '1018', '1008', '1048', '1047',\n",
       "       '1024', '1047', '1062', '1059', '1063', '1069', '1069', '969',\n",
       "       '1051', '999'], dtype=object)"
      ]
     },
     "execution_count": 222,
     "metadata": {},
     "output_type": "execute_result"
    }
   ],
   "source": [
    "def extract_ratings_vec(input_data, tiers:list=None, cutoff_date=None):\n",
    "    '''\n",
    "    Extract a filtered vector of round ratings from \n",
    "    a player's rating history object. Include round ratings\n",
    "    in specified tiers and after cutoff date\n",
    "\n",
    "    input_data - dictionary object of ratings scraped from\n",
    "    ratings details. Read into dataframe\n",
    "    tiers - list of strings\n",
    "    cutoff_date - string date, 'yyyy-mm-dd', e.g. '2022-01-31'\n",
    "    '''\n",
    "\n",
    "    # column_dtypes = {'Rating':int,\n",
    "    #                  'Date':pd.Timestamp,\n",
    "    #                  'Tournament':str,\n",
    "    #                  'Tier':str}\n",
    "    \n",
    "    df = pd.DataFrame(input_data)\n",
    "    #df = df.astype(dtype=column_dtypes)\n",
    "\n",
    "    #df['Rating'] = df['Rating'].astype(float)\n",
    "    df['Date'] = pd.to_datetime(df['Date'])\n",
    "    print(df.dtypes)\n",
    "    if cutoff_date:\n",
    "        cutoff = pd.Timestamp(cutoff_date)\n",
    "        df = df[df['Date']>cutoff_date]\n",
    "\n",
    "    if tiers:\n",
    "        df = df[df['Tier'].isin(tiers)]\n",
    "    ratings_vec = df['Rating'].values\n",
    "\n",
    "    return ratings_vec\n",
    "\n",
    "#Test\n",
    "extract_ratings_vec(players_24.iloc[0]['ratings_data'][0],\n",
    "                    tiers=['ES', 'M', 'XM', 'A'],\n",
    "                    cutoff_date='2022-01-01')"
   ]
  },
  {
   "cell_type": "code",
   "execution_count": 223,
   "metadata": {},
   "outputs": [
    {
     "ename": "TypeError",
     "evalue": "<class 'list'> is not convertible to datetime",
     "output_type": "error",
     "traceback": [
      "\u001b[0;31m---------------------------------------------------------------------------\u001b[0m",
      "\u001b[0;31mTypeError\u001b[0m                                 Traceback (most recent call last)",
      "Cell \u001b[0;32mIn[223], line 1\u001b[0m\n\u001b[0;32m----> 1\u001b[0m players_24[\u001b[39m'\u001b[39;49m\u001b[39mratings_data\u001b[39;49m\u001b[39m'\u001b[39;49m]\u001b[39m.\u001b[39;49mapply(extract_ratings_vec)\n",
      "File \u001b[0;32m~/miniconda3/envs/datascience/lib/python3.9/site-packages/pandas/core/series.py:4771\u001b[0m, in \u001b[0;36mSeries.apply\u001b[0;34m(self, func, convert_dtype, args, **kwargs)\u001b[0m\n\u001b[1;32m   4661\u001b[0m \u001b[39mdef\u001b[39;00m \u001b[39mapply\u001b[39m(\n\u001b[1;32m   4662\u001b[0m     \u001b[39mself\u001b[39m,\n\u001b[1;32m   4663\u001b[0m     func: AggFuncType,\n\u001b[0;32m   (...)\u001b[0m\n\u001b[1;32m   4666\u001b[0m     \u001b[39m*\u001b[39m\u001b[39m*\u001b[39mkwargs,\n\u001b[1;32m   4667\u001b[0m ) \u001b[39m-\u001b[39m\u001b[39m>\u001b[39m DataFrame \u001b[39m|\u001b[39m Series:\n\u001b[1;32m   4668\u001b[0m     \u001b[39m\"\"\"\u001b[39;00m\n\u001b[1;32m   4669\u001b[0m \u001b[39m    Invoke function on values of Series.\u001b[39;00m\n\u001b[1;32m   4670\u001b[0m \n\u001b[0;32m   (...)\u001b[0m\n\u001b[1;32m   4769\u001b[0m \u001b[39m    dtype: float64\u001b[39;00m\n\u001b[1;32m   4770\u001b[0m \u001b[39m    \"\"\"\u001b[39;00m\n\u001b[0;32m-> 4771\u001b[0m     \u001b[39mreturn\u001b[39;00m SeriesApply(\u001b[39mself\u001b[39;49m, func, convert_dtype, args, kwargs)\u001b[39m.\u001b[39;49mapply()\n",
      "File \u001b[0;32m~/miniconda3/envs/datascience/lib/python3.9/site-packages/pandas/core/apply.py:1105\u001b[0m, in \u001b[0;36mSeriesApply.apply\u001b[0;34m(self)\u001b[0m\n\u001b[1;32m   1102\u001b[0m     \u001b[39mreturn\u001b[39;00m \u001b[39mself\u001b[39m\u001b[39m.\u001b[39mapply_str()\n\u001b[1;32m   1104\u001b[0m \u001b[39m# self.f is Callable\u001b[39;00m\n\u001b[0;32m-> 1105\u001b[0m \u001b[39mreturn\u001b[39;00m \u001b[39mself\u001b[39;49m\u001b[39m.\u001b[39;49mapply_standard()\n",
      "File \u001b[0;32m~/miniconda3/envs/datascience/lib/python3.9/site-packages/pandas/core/apply.py:1156\u001b[0m, in \u001b[0;36mSeriesApply.apply_standard\u001b[0;34m(self)\u001b[0m\n\u001b[1;32m   1154\u001b[0m     \u001b[39melse\u001b[39;00m:\n\u001b[1;32m   1155\u001b[0m         values \u001b[39m=\u001b[39m obj\u001b[39m.\u001b[39mastype(\u001b[39mobject\u001b[39m)\u001b[39m.\u001b[39m_values\n\u001b[0;32m-> 1156\u001b[0m         mapped \u001b[39m=\u001b[39m lib\u001b[39m.\u001b[39;49mmap_infer(\n\u001b[1;32m   1157\u001b[0m             values,\n\u001b[1;32m   1158\u001b[0m             f,\n\u001b[1;32m   1159\u001b[0m             convert\u001b[39m=\u001b[39;49m\u001b[39mself\u001b[39;49m\u001b[39m.\u001b[39;49mconvert_dtype,\n\u001b[1;32m   1160\u001b[0m         )\n\u001b[1;32m   1162\u001b[0m \u001b[39mif\u001b[39;00m \u001b[39mlen\u001b[39m(mapped) \u001b[39mand\u001b[39;00m \u001b[39misinstance\u001b[39m(mapped[\u001b[39m0\u001b[39m], ABCSeries):\n\u001b[1;32m   1163\u001b[0m     \u001b[39m# GH#43986 Need to do list(mapped) in order to get treated as nested\u001b[39;00m\n\u001b[1;32m   1164\u001b[0m     \u001b[39m#  See also GH#25959 regarding EA support\u001b[39;00m\n\u001b[1;32m   1165\u001b[0m     \u001b[39mreturn\u001b[39;00m obj\u001b[39m.\u001b[39m_constructor_expanddim(\u001b[39mlist\u001b[39m(mapped), index\u001b[39m=\u001b[39mobj\u001b[39m.\u001b[39mindex)\n",
      "File \u001b[0;32m~/miniconda3/envs/datascience/lib/python3.9/site-packages/pandas/_libs/lib.pyx:2918\u001b[0m, in \u001b[0;36mpandas._libs.lib.map_infer\u001b[0;34m()\u001b[0m\n",
      "Cell \u001b[0;32mIn[222], line 22\u001b[0m, in \u001b[0;36mextract_ratings_vec\u001b[0;34m(input_data, tiers, cutoff_date)\u001b[0m\n\u001b[1;32m     18\u001b[0m df \u001b[39m=\u001b[39m pd\u001b[39m.\u001b[39mDataFrame(input_data)\n\u001b[1;32m     19\u001b[0m \u001b[39m#df = df.astype(dtype=column_dtypes)\u001b[39;00m\n\u001b[1;32m     20\u001b[0m \n\u001b[1;32m     21\u001b[0m \u001b[39m#df['Rating'] = df['Rating'].astype(float)\u001b[39;00m\n\u001b[0;32m---> 22\u001b[0m df[\u001b[39m'\u001b[39m\u001b[39mDate\u001b[39m\u001b[39m'\u001b[39m] \u001b[39m=\u001b[39m pd\u001b[39m.\u001b[39;49mto_datetime(df[\u001b[39m'\u001b[39;49m\u001b[39mDate\u001b[39;49m\u001b[39m'\u001b[39;49m])\n\u001b[1;32m     23\u001b[0m \u001b[39mprint\u001b[39m(df\u001b[39m.\u001b[39mdtypes)\n\u001b[1;32m     24\u001b[0m \u001b[39mif\u001b[39;00m cutoff_date:\n",
      "File \u001b[0;32m~/miniconda3/envs/datascience/lib/python3.9/site-packages/pandas/core/tools/datetimes.py:1068\u001b[0m, in \u001b[0;36mto_datetime\u001b[0;34m(arg, errors, dayfirst, yearfirst, utc, format, exact, unit, infer_datetime_format, origin, cache)\u001b[0m\n\u001b[1;32m   1066\u001b[0m         result \u001b[39m=\u001b[39m arg\u001b[39m.\u001b[39mmap(cache_array)\n\u001b[1;32m   1067\u001b[0m     \u001b[39melse\u001b[39;00m:\n\u001b[0;32m-> 1068\u001b[0m         values \u001b[39m=\u001b[39m convert_listlike(arg\u001b[39m.\u001b[39;49m_values, \u001b[39mformat\u001b[39;49m)\n\u001b[1;32m   1069\u001b[0m         result \u001b[39m=\u001b[39m arg\u001b[39m.\u001b[39m_constructor(values, index\u001b[39m=\u001b[39marg\u001b[39m.\u001b[39mindex, name\u001b[39m=\u001b[39marg\u001b[39m.\u001b[39mname)\n\u001b[1;32m   1070\u001b[0m \u001b[39melif\u001b[39;00m \u001b[39misinstance\u001b[39m(arg, (ABCDataFrame, abc\u001b[39m.\u001b[39mMutableMapping)):\n",
      "File \u001b[0;32m~/miniconda3/envs/datascience/lib/python3.9/site-packages/pandas/core/tools/datetimes.py:438\u001b[0m, in \u001b[0;36m_convert_listlike_datetimes\u001b[0;34m(arg, format, name, tz, unit, errors, infer_datetime_format, dayfirst, yearfirst, exact)\u001b[0m\n\u001b[1;32m    436\u001b[0m \u001b[39massert\u001b[39;00m \u001b[39mformat\u001b[39m \u001b[39mis\u001b[39;00m \u001b[39mNone\u001b[39;00m \u001b[39mor\u001b[39;00m infer_datetime_format\n\u001b[1;32m    437\u001b[0m utc \u001b[39m=\u001b[39m tz \u001b[39m==\u001b[39m \u001b[39m\"\u001b[39m\u001b[39mutc\u001b[39m\u001b[39m\"\u001b[39m\n\u001b[0;32m--> 438\u001b[0m result, tz_parsed \u001b[39m=\u001b[39m objects_to_datetime64ns(\n\u001b[1;32m    439\u001b[0m     arg,\n\u001b[1;32m    440\u001b[0m     dayfirst\u001b[39m=\u001b[39;49mdayfirst,\n\u001b[1;32m    441\u001b[0m     yearfirst\u001b[39m=\u001b[39;49myearfirst,\n\u001b[1;32m    442\u001b[0m     utc\u001b[39m=\u001b[39;49mutc,\n\u001b[1;32m    443\u001b[0m     errors\u001b[39m=\u001b[39;49merrors,\n\u001b[1;32m    444\u001b[0m     require_iso8601\u001b[39m=\u001b[39;49mrequire_iso8601,\n\u001b[1;32m    445\u001b[0m     allow_object\u001b[39m=\u001b[39;49m\u001b[39mTrue\u001b[39;49;00m,\n\u001b[1;32m    446\u001b[0m )\n\u001b[1;32m    448\u001b[0m \u001b[39mif\u001b[39;00m tz_parsed \u001b[39mis\u001b[39;00m \u001b[39mnot\u001b[39;00m \u001b[39mNone\u001b[39;00m:\n\u001b[1;32m    449\u001b[0m     \u001b[39m# We can take a shortcut since the datetime64 numpy array\u001b[39;00m\n\u001b[1;32m    450\u001b[0m     \u001b[39m# is in UTC\u001b[39;00m\n\u001b[1;32m    451\u001b[0m     dta \u001b[39m=\u001b[39m DatetimeArray(result, dtype\u001b[39m=\u001b[39mtz_to_dtype(tz_parsed))\n",
      "File \u001b[0;32m~/miniconda3/envs/datascience/lib/python3.9/site-packages/pandas/core/arrays/datetimes.py:2177\u001b[0m, in \u001b[0;36mobjects_to_datetime64ns\u001b[0;34m(data, dayfirst, yearfirst, utc, errors, require_iso8601, allow_object, allow_mixed)\u001b[0m\n\u001b[1;32m   2175\u001b[0m order: Literal[\u001b[39m\"\u001b[39m\u001b[39mF\u001b[39m\u001b[39m\"\u001b[39m, \u001b[39m\"\u001b[39m\u001b[39mC\u001b[39m\u001b[39m\"\u001b[39m] \u001b[39m=\u001b[39m \u001b[39m\"\u001b[39m\u001b[39mF\u001b[39m\u001b[39m\"\u001b[39m \u001b[39mif\u001b[39;00m flags\u001b[39m.\u001b[39mf_contiguous \u001b[39melse\u001b[39;00m \u001b[39m\"\u001b[39m\u001b[39mC\u001b[39m\u001b[39m\"\u001b[39m\n\u001b[1;32m   2176\u001b[0m \u001b[39mtry\u001b[39;00m:\n\u001b[0;32m-> 2177\u001b[0m     result, tz_parsed \u001b[39m=\u001b[39m tslib\u001b[39m.\u001b[39;49marray_to_datetime(\n\u001b[1;32m   2178\u001b[0m         data\u001b[39m.\u001b[39;49mravel(\u001b[39m\"\u001b[39;49m\u001b[39mK\u001b[39;49m\u001b[39m\"\u001b[39;49m),\n\u001b[1;32m   2179\u001b[0m         errors\u001b[39m=\u001b[39;49merrors,\n\u001b[1;32m   2180\u001b[0m         utc\u001b[39m=\u001b[39;49mutc,\n\u001b[1;32m   2181\u001b[0m         dayfirst\u001b[39m=\u001b[39;49mdayfirst,\n\u001b[1;32m   2182\u001b[0m         yearfirst\u001b[39m=\u001b[39;49myearfirst,\n\u001b[1;32m   2183\u001b[0m         require_iso8601\u001b[39m=\u001b[39;49mrequire_iso8601,\n\u001b[1;32m   2184\u001b[0m         allow_mixed\u001b[39m=\u001b[39;49mallow_mixed,\n\u001b[1;32m   2185\u001b[0m     )\n\u001b[1;32m   2186\u001b[0m     result \u001b[39m=\u001b[39m result\u001b[39m.\u001b[39mreshape(data\u001b[39m.\u001b[39mshape, order\u001b[39m=\u001b[39morder)\n\u001b[1;32m   2187\u001b[0m \u001b[39mexcept\u001b[39;00m \u001b[39mOverflowError\u001b[39;00m \u001b[39mas\u001b[39;00m err:\n\u001b[1;32m   2188\u001b[0m     \u001b[39m# Exception is raised when a part of date is greater than 32 bit signed int\u001b[39;00m\n",
      "File \u001b[0;32m~/miniconda3/envs/datascience/lib/python3.9/site-packages/pandas/_libs/tslib.pyx:427\u001b[0m, in \u001b[0;36mpandas._libs.tslib.array_to_datetime\u001b[0;34m()\u001b[0m\n",
      "File \u001b[0;32m~/miniconda3/envs/datascience/lib/python3.9/site-packages/pandas/_libs/tslib.pyx:683\u001b[0m, in \u001b[0;36mpandas._libs.tslib.array_to_datetime\u001b[0;34m()\u001b[0m\n",
      "File \u001b[0;32m~/miniconda3/envs/datascience/lib/python3.9/site-packages/pandas/_libs/tslib.pyx:833\u001b[0m, in \u001b[0;36mpandas._libs.tslib._array_to_datetime_object\u001b[0;34m()\u001b[0m\n",
      "File \u001b[0;32m~/miniconda3/envs/datascience/lib/python3.9/site-packages/pandas/_libs/tslib.pyx:655\u001b[0m, in \u001b[0;36mpandas._libs.tslib.array_to_datetime\u001b[0;34m()\u001b[0m\n",
      "\u001b[0;31mTypeError\u001b[0m: <class 'list'> is not convertible to datetime"
     ]
    }
   ],
   "source": [
    "#Need to fix this\n",
    "players_24['ratings_data'].apply(extract_ratings_vec)"
   ]
  },
  {
   "cell_type": "code",
   "execution_count": 246,
   "metadata": {},
   "outputs": [
    {
     "data": {
      "text/plain": [
       "Place                 object\n",
       "Tier                  object\n",
       "Date          datetime64[ns]\n",
       "Tournament            object\n",
       "dtype: object"
      ]
     },
     "execution_count": 246,
     "metadata": {},
     "output_type": "execute_result"
    }
   ],
   "source": [
    "pd.DataFrame(players_24['stats_data'].values[0][0]).dtypes"
   ]
  },
  {
   "cell_type": "code",
   "execution_count": 262,
   "metadata": {},
   "outputs": [],
   "source": [
    "points_map = {\n",
    "    1:300,\n",
    "    2:245,\n",
    "    3:195,\n",
    "    4:155,\n",
    "    5:135,\n",
    "    6:110,\n",
    "    7:97,\n",
    "    8:85,\n",
    "    9:75,\n",
    "    10:64,\n",
    "    11:56,\n",
    "    12:48,\n",
    "    13:42,\n",
    "    14:36,\n",
    "    15:33,\n",
    "    16:30,\n",
    "    17:24,\n",
    "    18:24,\n",
    "    19:21,\n",
    "    20:18,\n",
    "    21:15,\n",
    "    22:12,\n",
    "    23:10,\n",
    "    24:8,\n",
    "    25:6,\n",
    "    26:4,\n",
    "    27:3,\n",
    "    28:2,\n",
    "    29:1,   \n",
    "}\n",
    "\n",
    "def calculate_points(input_obj, points_map, year):\n",
    "\n",
    "    df = pd.DataFrame(input_obj[0])\n",
    "    df = df[df['Tier'].isin(['M', 'ES', 'XM'])]\n",
    "    df = df[df['Date'].dt.year == year]\n",
    "    print(len(df))\n",
    "\n",
    "    df['event_points'] = df['Place'].astype(int).map(points_map)\n",
    "    df.loc[df['Tier'].isin(['M', 'XM']), 'event_points']*=1.5\n",
    "\n",
    "    total_points = df['event_points'].sum()\n",
    "\n",
    "    return total_points\n"
   ]
  },
  {
   "cell_type": "code",
   "execution_count": 263,
   "metadata": {},
   "outputs": [
    {
     "name": "stdout",
     "output_type": "stream",
     "text": [
      "20\n",
      "20\n",
      "8\n",
      "15\n",
      "16\n",
      "19\n",
      "16\n",
      "14\n",
      "18\n",
      "19\n",
      "16\n",
      "12\n",
      "18\n",
      "18\n",
      "4\n",
      "19\n",
      "20\n",
      "8\n",
      "15\n",
      "15\n",
      "18\n",
      "18\n",
      "16\n",
      "16\n",
      "18\n",
      "13\n",
      "17\n",
      "11\n",
      "17\n",
      "7\n",
      "16\n",
      "18\n",
      "19\n",
      "16\n",
      "11\n",
      "19\n",
      "17\n",
      "18\n",
      "17\n",
      "19\n",
      "16\n",
      "8\n",
      "14\n",
      "19\n",
      "17\n",
      "16\n",
      "17\n",
      "12\n",
      "19\n",
      "19\n",
      "18\n",
      "3\n",
      "15\n",
      "9\n",
      "7\n",
      "19\n",
      "12\n",
      "18\n",
      "4\n",
      "7\n",
      "19\n",
      "19\n",
      "9\n",
      "16\n",
      "12\n",
      "14\n",
      "17\n",
      "8\n",
      "10\n",
      "12\n",
      "18\n",
      "12\n",
      "18\n",
      "2\n",
      "9\n",
      "12\n",
      "20\n",
      "13\n",
      "15\n",
      "15\n",
      "19\n",
      "13\n",
      "5\n",
      "16\n",
      "11\n",
      "15\n",
      "11\n",
      "19\n",
      "11\n",
      "11\n",
      "13\n",
      "16\n",
      "18\n",
      "18\n",
      "0\n",
      "18\n",
      "18\n",
      "18\n",
      "10\n",
      "16\n",
      "15\n",
      "14\n",
      "18\n",
      "10\n",
      "15\n",
      "18\n",
      "0\n",
      "19\n",
      "18\n",
      "4\n",
      "16\n",
      "17\n",
      "17\n",
      "18\n",
      "15\n",
      "12\n",
      "14\n",
      "17\n",
      "17\n",
      "1\n",
      "18\n",
      "15\n",
      "5\n",
      "16\n",
      "15\n",
      "12\n",
      "7\n",
      "19\n",
      "6\n",
      "18\n",
      "17\n",
      "17\n",
      "10\n",
      "2\n",
      "15\n",
      "13\n",
      "11\n",
      "7\n",
      "2\n",
      "7\n",
      "18\n",
      "12\n",
      "19\n",
      "2\n",
      "16\n",
      "2\n",
      "2\n",
      "18\n",
      "14\n",
      "18\n",
      "9\n",
      "17\n",
      "17\n",
      "17\n",
      "3\n",
      "17\n",
      "1\n",
      "14\n",
      "13\n",
      "3\n",
      "10\n",
      "7\n",
      "9\n",
      "11\n",
      "4\n",
      "2\n",
      "18\n",
      "9\n",
      "13\n",
      "13\n",
      "7\n",
      "18\n",
      "8\n",
      "10\n",
      "12\n",
      "17\n",
      "6\n",
      "17\n",
      "11\n",
      "17\n",
      "9\n",
      "6\n",
      "12\n",
      "6\n"
     ]
    }
   ],
   "source": [
    "players_24['fantasy_points_23'] = players_24['stats_data'].apply(\n",
    "    lambda x : calculate_points(x, points_map = points_map, year=2023))\n",
    "\n",
    "players_24['fantasy_points_22'] = players_24['stats_data'].apply(\n",
    "    lambda x : calculate_points(x, points_map = points_map, year=2022))"
   ]
  },
  {
   "cell_type": "code",
   "execution_count": 264,
   "metadata": {},
   "outputs": [],
   "source": [
    "players_24['rating_current'] = players_24['rating_current'].astype(float)"
   ]
  },
  {
   "cell_type": "code",
   "execution_count": 265,
   "metadata": {},
   "outputs": [
    {
     "data": {
      "application/vnd.plotly.v1+json": {
       "config": {
        "plotlyServerURL": "https://plot.ly"
       },
       "data": [
        {
         "hovertemplate": "<b>%{hovertext}</b><br><br>rating_current=%{x}<br>fantasy_points_23=%{y}<extra></extra>",
         "hovertext": [
          "Aaron Gossage",
          "Adam Hammes",
          "Aidan Scott",
          "AJ Carey",
          "Albert Tamm",
          "Alden Harris",
          "Andrew Fish",
          "Andrew Marwede",
          "Andrew Presnell",
          "Anthony Barela",
          "Austin Hannum",
          "Austin Turner",
          "Benjamin Callaway",
          "Bradley Williams",
          "Braeden Sides",
          "Brodie Smith",
          "Calvin Heimburg",
          "Carter Ahrens",
          "Casey White",
          "Chandler Fry",
          "Chandler Kramer",
          "Chris Clemons",
          "Chris Dickerson",
          "Clay Edwards",
          "Cole Redalen",
          "Colten Montgomery",
          "Connor OReilly",
          "Connor Rock",
          "Corey Ellis",
          "Drew Gibson",
          "Eagle McMahon",
          "Emerson Keith",
          "Eric Oakley",
          "Evan Scott",
          "Evan Smith",
          "Ezra Aderhold",
          "Ezra Robinson",
          "Gannon Buhr",
          "Garrett Gurthie",
          "Gavin Babcock",
          "Gavin Rathbun",
          "Grady Shue",
          "Gregg Barsby",
          "Isaac Robinson",
          "Jake Hebenheimer",
          "Jake Monn",
          "Jake Wolff",
          "Jakub Semerád",
          "James Conrad",
          "James Proctor",
          "Jeremy Koling",
          "Jesse Nieminen",
          "Joel Freeman",
          "Joona Heinänen",
          "Joseph Anderson",
          "Kevin Jones",
          "Kevin Kiefer",
          "Kyle Klein",
          "Lauri Lehtinen",
          "Linus Carlsson",
          "Luke Humphries",
          "Luke Samson",
          "Luke Taylor",
          "Mason Ford",
          "Mason Marchbanks",
          "Matt Bell",
          "Matt Orum",
          "Nate Hecker",
          "Nate Sexton",
          "Nathan Queen",
          "Nikko Locastro",
          "Niklas Anttila",
          "Parker Welck",
          "Paul Krans",
          "Paul McBeth",
          "Paul Oman",
          "Paul Ulibarri",
          "Randon Latta",
          "Raven Newsom",
          "Ricky Wysocki",
          "Robert Burridge",
          "Silas Schultz",
          "Silver Lätt",
          "Simon Lizotte",
          "Sullivan Tipton",
          "Thomas Gilbert",
          "Tim Barham",
          "Tristan Tanner",
          "Tuomas Hyytiäinen",
          "Ty Love",
          "Väinö Mäkelä",
          "Zach Arlinghaus"
         ],
         "legendgroup": "",
         "marker": {
          "color": "#636efa",
          "symbol": "circle"
         },
         "mode": "markers",
         "name": "",
         "orientation": "v",
         "showlegend": false,
         "type": "scatter",
         "x": [
          1032,
          1028,
          1018,
          1012,
          1022,
          1034,
          1017,
          1030,
          1030,
          1035,
          null,
          null,
          null,
          null,
          null,
          null,
          1052,
          1010,
          null,
          null,
          1022,
          null,
          null,
          null,
          1038,
          null,
          null,
          null,
          1030,
          1027,
          1049,
          1023,
          1023,
          1021,
          1026,
          1028,
          null,
          null,
          1028,
          1021,
          1020,
          1020,
          null,
          1041,
          null,
          1013,
          null,
          null,
          null,
          1034,
          null,
          null,
          1035,
          1028,
          null,
          null,
          null,
          null,
          1033,
          null,
          null,
          null,
          null,
          1028,
          null,
          null,
          null,
          null,
          1024,
          1017,
          1029,
          1040,
          1020,
          1023,
          1049,
          1019,
          1019,
          1000,
          1015,
          1047,
          1021,
          1014,
          1014,
          1044,
          1025,
          1011,
          1017,
          1008,
          1017,
          1012,
          1030,
          1018
         ],
         "xaxis": "x",
         "y": [
          1096.5,
          1074.5,
          157.5,
          0,
          119.5,
          899,
          22,
          295.5,
          310,
          1416,
          68,
          276,
          641.5,
          842,
          0,
          140,
          3929.5,
          33,
          135,
          12,
          128,
          488,
          944,
          0,
          1388,
          10,
          0,
          40,
          999,
          207,
          2282,
          562.5,
          139,
          76.5,
          335,
          960.5,
          943.5,
          2104,
          265,
          262.5,
          126,
          39,
          241,
          2686.5,
          194,
          8,
          0,
          164,
          706,
          1375.5,
          105,
          1.5,
          651.5,
          160,
          97.5,
          882,
          97,
          2148.5,
          69,
          0,
          81,
          18,
          98,
          459.5,
          114,
          191,
          1554.5,
          97,
          87,
          12,
          296,
          788.5,
          367,
          27,
          645,
          90,
          332,
          48,
          36,
          1849,
          137,
          330.5,
          21,
          1730.5,
          124,
          9,
          12,
          90,
          63,
          96,
          520.5,
          159
         ],
         "yaxis": "y"
        }
       ],
       "layout": {
        "legend": {
         "tracegroupgap": 0
        },
        "margin": {
         "t": 60
        },
        "template": {
         "data": {
          "bar": [
           {
            "error_x": {
             "color": "#2a3f5f"
            },
            "error_y": {
             "color": "#2a3f5f"
            },
            "marker": {
             "line": {
              "color": "#E5ECF6",
              "width": 0.5
             },
             "pattern": {
              "fillmode": "overlay",
              "size": 10,
              "solidity": 0.2
             }
            },
            "type": "bar"
           }
          ],
          "barpolar": [
           {
            "marker": {
             "line": {
              "color": "#E5ECF6",
              "width": 0.5
             },
             "pattern": {
              "fillmode": "overlay",
              "size": 10,
              "solidity": 0.2
             }
            },
            "type": "barpolar"
           }
          ],
          "carpet": [
           {
            "aaxis": {
             "endlinecolor": "#2a3f5f",
             "gridcolor": "white",
             "linecolor": "white",
             "minorgridcolor": "white",
             "startlinecolor": "#2a3f5f"
            },
            "baxis": {
             "endlinecolor": "#2a3f5f",
             "gridcolor": "white",
             "linecolor": "white",
             "minorgridcolor": "white",
             "startlinecolor": "#2a3f5f"
            },
            "type": "carpet"
           }
          ],
          "choropleth": [
           {
            "colorbar": {
             "outlinewidth": 0,
             "ticks": ""
            },
            "type": "choropleth"
           }
          ],
          "contour": [
           {
            "colorbar": {
             "outlinewidth": 0,
             "ticks": ""
            },
            "colorscale": [
             [
              0,
              "#0d0887"
             ],
             [
              0.1111111111111111,
              "#46039f"
             ],
             [
              0.2222222222222222,
              "#7201a8"
             ],
             [
              0.3333333333333333,
              "#9c179e"
             ],
             [
              0.4444444444444444,
              "#bd3786"
             ],
             [
              0.5555555555555556,
              "#d8576b"
             ],
             [
              0.6666666666666666,
              "#ed7953"
             ],
             [
              0.7777777777777778,
              "#fb9f3a"
             ],
             [
              0.8888888888888888,
              "#fdca26"
             ],
             [
              1,
              "#f0f921"
             ]
            ],
            "type": "contour"
           }
          ],
          "contourcarpet": [
           {
            "colorbar": {
             "outlinewidth": 0,
             "ticks": ""
            },
            "type": "contourcarpet"
           }
          ],
          "heatmap": [
           {
            "colorbar": {
             "outlinewidth": 0,
             "ticks": ""
            },
            "colorscale": [
             [
              0,
              "#0d0887"
             ],
             [
              0.1111111111111111,
              "#46039f"
             ],
             [
              0.2222222222222222,
              "#7201a8"
             ],
             [
              0.3333333333333333,
              "#9c179e"
             ],
             [
              0.4444444444444444,
              "#bd3786"
             ],
             [
              0.5555555555555556,
              "#d8576b"
             ],
             [
              0.6666666666666666,
              "#ed7953"
             ],
             [
              0.7777777777777778,
              "#fb9f3a"
             ],
             [
              0.8888888888888888,
              "#fdca26"
             ],
             [
              1,
              "#f0f921"
             ]
            ],
            "type": "heatmap"
           }
          ],
          "heatmapgl": [
           {
            "colorbar": {
             "outlinewidth": 0,
             "ticks": ""
            },
            "colorscale": [
             [
              0,
              "#0d0887"
             ],
             [
              0.1111111111111111,
              "#46039f"
             ],
             [
              0.2222222222222222,
              "#7201a8"
             ],
             [
              0.3333333333333333,
              "#9c179e"
             ],
             [
              0.4444444444444444,
              "#bd3786"
             ],
             [
              0.5555555555555556,
              "#d8576b"
             ],
             [
              0.6666666666666666,
              "#ed7953"
             ],
             [
              0.7777777777777778,
              "#fb9f3a"
             ],
             [
              0.8888888888888888,
              "#fdca26"
             ],
             [
              1,
              "#f0f921"
             ]
            ],
            "type": "heatmapgl"
           }
          ],
          "histogram": [
           {
            "marker": {
             "pattern": {
              "fillmode": "overlay",
              "size": 10,
              "solidity": 0.2
             }
            },
            "type": "histogram"
           }
          ],
          "histogram2d": [
           {
            "colorbar": {
             "outlinewidth": 0,
             "ticks": ""
            },
            "colorscale": [
             [
              0,
              "#0d0887"
             ],
             [
              0.1111111111111111,
              "#46039f"
             ],
             [
              0.2222222222222222,
              "#7201a8"
             ],
             [
              0.3333333333333333,
              "#9c179e"
             ],
             [
              0.4444444444444444,
              "#bd3786"
             ],
             [
              0.5555555555555556,
              "#d8576b"
             ],
             [
              0.6666666666666666,
              "#ed7953"
             ],
             [
              0.7777777777777778,
              "#fb9f3a"
             ],
             [
              0.8888888888888888,
              "#fdca26"
             ],
             [
              1,
              "#f0f921"
             ]
            ],
            "type": "histogram2d"
           }
          ],
          "histogram2dcontour": [
           {
            "colorbar": {
             "outlinewidth": 0,
             "ticks": ""
            },
            "colorscale": [
             [
              0,
              "#0d0887"
             ],
             [
              0.1111111111111111,
              "#46039f"
             ],
             [
              0.2222222222222222,
              "#7201a8"
             ],
             [
              0.3333333333333333,
              "#9c179e"
             ],
             [
              0.4444444444444444,
              "#bd3786"
             ],
             [
              0.5555555555555556,
              "#d8576b"
             ],
             [
              0.6666666666666666,
              "#ed7953"
             ],
             [
              0.7777777777777778,
              "#fb9f3a"
             ],
             [
              0.8888888888888888,
              "#fdca26"
             ],
             [
              1,
              "#f0f921"
             ]
            ],
            "type": "histogram2dcontour"
           }
          ],
          "mesh3d": [
           {
            "colorbar": {
             "outlinewidth": 0,
             "ticks": ""
            },
            "type": "mesh3d"
           }
          ],
          "parcoords": [
           {
            "line": {
             "colorbar": {
              "outlinewidth": 0,
              "ticks": ""
             }
            },
            "type": "parcoords"
           }
          ],
          "pie": [
           {
            "automargin": true,
            "type": "pie"
           }
          ],
          "scatter": [
           {
            "fillpattern": {
             "fillmode": "overlay",
             "size": 10,
             "solidity": 0.2
            },
            "type": "scatter"
           }
          ],
          "scatter3d": [
           {
            "line": {
             "colorbar": {
              "outlinewidth": 0,
              "ticks": ""
             }
            },
            "marker": {
             "colorbar": {
              "outlinewidth": 0,
              "ticks": ""
             }
            },
            "type": "scatter3d"
           }
          ],
          "scattercarpet": [
           {
            "marker": {
             "colorbar": {
              "outlinewidth": 0,
              "ticks": ""
             }
            },
            "type": "scattercarpet"
           }
          ],
          "scattergeo": [
           {
            "marker": {
             "colorbar": {
              "outlinewidth": 0,
              "ticks": ""
             }
            },
            "type": "scattergeo"
           }
          ],
          "scattergl": [
           {
            "marker": {
             "colorbar": {
              "outlinewidth": 0,
              "ticks": ""
             }
            },
            "type": "scattergl"
           }
          ],
          "scattermapbox": [
           {
            "marker": {
             "colorbar": {
              "outlinewidth": 0,
              "ticks": ""
             }
            },
            "type": "scattermapbox"
           }
          ],
          "scatterpolar": [
           {
            "marker": {
             "colorbar": {
              "outlinewidth": 0,
              "ticks": ""
             }
            },
            "type": "scatterpolar"
           }
          ],
          "scatterpolargl": [
           {
            "marker": {
             "colorbar": {
              "outlinewidth": 0,
              "ticks": ""
             }
            },
            "type": "scatterpolargl"
           }
          ],
          "scatterternary": [
           {
            "marker": {
             "colorbar": {
              "outlinewidth": 0,
              "ticks": ""
             }
            },
            "type": "scatterternary"
           }
          ],
          "surface": [
           {
            "colorbar": {
             "outlinewidth": 0,
             "ticks": ""
            },
            "colorscale": [
             [
              0,
              "#0d0887"
             ],
             [
              0.1111111111111111,
              "#46039f"
             ],
             [
              0.2222222222222222,
              "#7201a8"
             ],
             [
              0.3333333333333333,
              "#9c179e"
             ],
             [
              0.4444444444444444,
              "#bd3786"
             ],
             [
              0.5555555555555556,
              "#d8576b"
             ],
             [
              0.6666666666666666,
              "#ed7953"
             ],
             [
              0.7777777777777778,
              "#fb9f3a"
             ],
             [
              0.8888888888888888,
              "#fdca26"
             ],
             [
              1,
              "#f0f921"
             ]
            ],
            "type": "surface"
           }
          ],
          "table": [
           {
            "cells": {
             "fill": {
              "color": "#EBF0F8"
             },
             "line": {
              "color": "white"
             }
            },
            "header": {
             "fill": {
              "color": "#C8D4E3"
             },
             "line": {
              "color": "white"
             }
            },
            "type": "table"
           }
          ]
         },
         "layout": {
          "annotationdefaults": {
           "arrowcolor": "#2a3f5f",
           "arrowhead": 0,
           "arrowwidth": 1
          },
          "autotypenumbers": "strict",
          "coloraxis": {
           "colorbar": {
            "outlinewidth": 0,
            "ticks": ""
           }
          },
          "colorscale": {
           "diverging": [
            [
             0,
             "#8e0152"
            ],
            [
             0.1,
             "#c51b7d"
            ],
            [
             0.2,
             "#de77ae"
            ],
            [
             0.3,
             "#f1b6da"
            ],
            [
             0.4,
             "#fde0ef"
            ],
            [
             0.5,
             "#f7f7f7"
            ],
            [
             0.6,
             "#e6f5d0"
            ],
            [
             0.7,
             "#b8e186"
            ],
            [
             0.8,
             "#7fbc41"
            ],
            [
             0.9,
             "#4d9221"
            ],
            [
             1,
             "#276419"
            ]
           ],
           "sequential": [
            [
             0,
             "#0d0887"
            ],
            [
             0.1111111111111111,
             "#46039f"
            ],
            [
             0.2222222222222222,
             "#7201a8"
            ],
            [
             0.3333333333333333,
             "#9c179e"
            ],
            [
             0.4444444444444444,
             "#bd3786"
            ],
            [
             0.5555555555555556,
             "#d8576b"
            ],
            [
             0.6666666666666666,
             "#ed7953"
            ],
            [
             0.7777777777777778,
             "#fb9f3a"
            ],
            [
             0.8888888888888888,
             "#fdca26"
            ],
            [
             1,
             "#f0f921"
            ]
           ],
           "sequentialminus": [
            [
             0,
             "#0d0887"
            ],
            [
             0.1111111111111111,
             "#46039f"
            ],
            [
             0.2222222222222222,
             "#7201a8"
            ],
            [
             0.3333333333333333,
             "#9c179e"
            ],
            [
             0.4444444444444444,
             "#bd3786"
            ],
            [
             0.5555555555555556,
             "#d8576b"
            ],
            [
             0.6666666666666666,
             "#ed7953"
            ],
            [
             0.7777777777777778,
             "#fb9f3a"
            ],
            [
             0.8888888888888888,
             "#fdca26"
            ],
            [
             1,
             "#f0f921"
            ]
           ]
          },
          "colorway": [
           "#636efa",
           "#EF553B",
           "#00cc96",
           "#ab63fa",
           "#FFA15A",
           "#19d3f3",
           "#FF6692",
           "#B6E880",
           "#FF97FF",
           "#FECB52"
          ],
          "font": {
           "color": "#2a3f5f"
          },
          "geo": {
           "bgcolor": "white",
           "lakecolor": "white",
           "landcolor": "#E5ECF6",
           "showlakes": true,
           "showland": true,
           "subunitcolor": "white"
          },
          "hoverlabel": {
           "align": "left"
          },
          "hovermode": "closest",
          "mapbox": {
           "style": "light"
          },
          "paper_bgcolor": "white",
          "plot_bgcolor": "#E5ECF6",
          "polar": {
           "angularaxis": {
            "gridcolor": "white",
            "linecolor": "white",
            "ticks": ""
           },
           "bgcolor": "#E5ECF6",
           "radialaxis": {
            "gridcolor": "white",
            "linecolor": "white",
            "ticks": ""
           }
          },
          "scene": {
           "xaxis": {
            "backgroundcolor": "#E5ECF6",
            "gridcolor": "white",
            "gridwidth": 2,
            "linecolor": "white",
            "showbackground": true,
            "ticks": "",
            "zerolinecolor": "white"
           },
           "yaxis": {
            "backgroundcolor": "#E5ECF6",
            "gridcolor": "white",
            "gridwidth": 2,
            "linecolor": "white",
            "showbackground": true,
            "ticks": "",
            "zerolinecolor": "white"
           },
           "zaxis": {
            "backgroundcolor": "#E5ECF6",
            "gridcolor": "white",
            "gridwidth": 2,
            "linecolor": "white",
            "showbackground": true,
            "ticks": "",
            "zerolinecolor": "white"
           }
          },
          "shapedefaults": {
           "line": {
            "color": "#2a3f5f"
           }
          },
          "ternary": {
           "aaxis": {
            "gridcolor": "white",
            "linecolor": "white",
            "ticks": ""
           },
           "baxis": {
            "gridcolor": "white",
            "linecolor": "white",
            "ticks": ""
           },
           "bgcolor": "#E5ECF6",
           "caxis": {
            "gridcolor": "white",
            "linecolor": "white",
            "ticks": ""
           }
          },
          "title": {
           "x": 0.05
          },
          "xaxis": {
           "automargin": true,
           "gridcolor": "white",
           "linecolor": "white",
           "ticks": "",
           "title": {
            "standoff": 15
           },
           "zerolinecolor": "white",
           "zerolinewidth": 2
          },
          "yaxis": {
           "automargin": true,
           "gridcolor": "white",
           "linecolor": "white",
           "ticks": "",
           "title": {
            "standoff": 15
           },
           "zerolinecolor": "white",
           "zerolinewidth": 2
          }
         }
        },
        "xaxis": {
         "anchor": "y",
         "domain": [
          0,
          1
         ],
         "title": {
          "text": "rating_current"
         }
        },
        "yaxis": {
         "anchor": "x",
         "domain": [
          0,
          1
         ],
         "title": {
          "text": "fantasy_points_23"
         }
        }
       }
      },
      "text/html": [
       "<div>                            <div id=\"79d0fe7d-dca7-4e89-95c6-dbe251583293\" class=\"plotly-graph-div\" style=\"height:525px; width:100%;\"></div>            <script type=\"text/javascript\">                require([\"plotly\"], function(Plotly) {                    window.PLOTLYENV=window.PLOTLYENV || {};                                    if (document.getElementById(\"79d0fe7d-dca7-4e89-95c6-dbe251583293\")) {                    Plotly.newPlot(                        \"79d0fe7d-dca7-4e89-95c6-dbe251583293\",                        [{\"hovertemplate\":\"<b>%{hovertext}</b><br><br>rating_current=%{x}<br>fantasy_points_23=%{y}<extra></extra>\",\"hovertext\":[\"Aaron Gossage\",\"Adam Hammes\",\"Aidan Scott\",\"AJ Carey\",\"Albert Tamm\",\"Alden Harris\",\"Andrew Fish\",\"Andrew Marwede\",\"Andrew Presnell\",\"Anthony Barela\",\"Austin Hannum\",\"Austin Turner\",\"Benjamin Callaway\",\"Bradley Williams\",\"Braeden Sides\",\"Brodie Smith\",\"Calvin Heimburg\",\"Carter Ahrens\",\"Casey White\",\"Chandler Fry\",\"Chandler Kramer\",\"Chris Clemons\",\"Chris Dickerson\",\"Clay Edwards\",\"Cole Redalen\",\"Colten Montgomery\",\"Connor OReilly\",\"Connor Rock\",\"Corey Ellis\",\"Drew Gibson\",\"Eagle McMahon\",\"Emerson Keith\",\"Eric Oakley\",\"Evan Scott\",\"Evan Smith\",\"Ezra Aderhold\",\"Ezra Robinson\",\"Gannon Buhr\",\"Garrett Gurthie\",\"Gavin Babcock\",\"Gavin Rathbun\",\"Grady Shue\",\"Gregg Barsby\",\"Isaac Robinson\",\"Jake Hebenheimer\",\"Jake Monn\",\"Jake Wolff\",\"Jakub Semer\\u00e1d\",\"James Conrad\",\"James Proctor\",\"Jeremy Koling\",\"Jesse Nieminen\",\"Joel Freeman\",\"Joona Hein\\u00e4nen\",\"Joseph Anderson\",\"Kevin Jones\",\"Kevin Kiefer\",\"Kyle Klein\",\"Lauri Lehtinen\",\"Linus Carlsson\",\"Luke Humphries\",\"Luke Samson\",\"Luke Taylor\",\"Mason Ford\",\"Mason Marchbanks\",\"Matt Bell\",\"Matt Orum\",\"Nate Hecker\",\"Nate Sexton\",\"Nathan Queen\",\"Nikko Locastro\",\"Niklas Anttila\",\"Parker Welck\",\"Paul Krans\",\"Paul McBeth\",\"Paul Oman\",\"Paul Ulibarri\",\"Randon Latta\",\"Raven Newsom\",\"Ricky Wysocki\",\"Robert Burridge\",\"Silas Schultz\",\"Silver L\\u00e4tt\",\"Simon Lizotte\",\"Sullivan Tipton\",\"Thomas Gilbert\",\"Tim Barham\",\"Tristan Tanner\",\"Tuomas Hyyti\\u00e4inen\",\"Ty Love\",\"V\\u00e4in\\u00f6 M\\u00e4kel\\u00e4\",\"Zach Arlinghaus\"],\"legendgroup\":\"\",\"marker\":{\"color\":\"#636efa\",\"symbol\":\"circle\"},\"mode\":\"markers\",\"name\":\"\",\"orientation\":\"v\",\"showlegend\":false,\"x\":[1032.0,1028.0,1018.0,1012.0,1022.0,1034.0,1017.0,1030.0,1030.0,1035.0,null,null,null,null,null,null,1052.0,1010.0,null,null,1022.0,null,null,null,1038.0,null,null,null,1030.0,1027.0,1049.0,1023.0,1023.0,1021.0,1026.0,1028.0,null,null,1028.0,1021.0,1020.0,1020.0,null,1041.0,null,1013.0,null,null,null,1034.0,null,null,1035.0,1028.0,null,null,null,null,1033.0,null,null,null,null,1028.0,null,null,null,null,1024.0,1017.0,1029.0,1040.0,1020.0,1023.0,1049.0,1019.0,1019.0,1000.0,1015.0,1047.0,1021.0,1014.0,1014.0,1044.0,1025.0,1011.0,1017.0,1008.0,1017.0,1012.0,1030.0,1018.0],\"xaxis\":\"x\",\"y\":[1096.5,1074.5,157.5,0.0,119.5,899.0,22.0,295.5,310.0,1416.0,68.0,276.0,641.5,842.0,0.0,140.0,3929.5,33.0,135.0,12.0,128.0,488.0,944.0,0.0,1388.0,10.0,0.0,40.0,999.0,207.0,2282.0,562.5,139.0,76.5,335.0,960.5,943.5,2104.0,265.0,262.5,126.0,39.0,241.0,2686.5,194.0,8.0,0.0,164.0,706.0,1375.5,105.0,1.5,651.5,160.0,97.5,882.0,97.0,2148.5,69.0,0.0,81.0,18.0,98.0,459.5,114.0,191.0,1554.5,97.0,87.0,12.0,296.0,788.5,367.0,27.0,645.0,90.0,332.0,48.0,36.0,1849.0,137.0,330.5,21.0,1730.5,124.0,9.0,12.0,90.0,63.0,96.0,520.5,159.0],\"yaxis\":\"y\",\"type\":\"scatter\"}],                        {\"template\":{\"data\":{\"histogram2dcontour\":[{\"type\":\"histogram2dcontour\",\"colorbar\":{\"outlinewidth\":0,\"ticks\":\"\"},\"colorscale\":[[0.0,\"#0d0887\"],[0.1111111111111111,\"#46039f\"],[0.2222222222222222,\"#7201a8\"],[0.3333333333333333,\"#9c179e\"],[0.4444444444444444,\"#bd3786\"],[0.5555555555555556,\"#d8576b\"],[0.6666666666666666,\"#ed7953\"],[0.7777777777777778,\"#fb9f3a\"],[0.8888888888888888,\"#fdca26\"],[1.0,\"#f0f921\"]]}],\"choropleth\":[{\"type\":\"choropleth\",\"colorbar\":{\"outlinewidth\":0,\"ticks\":\"\"}}],\"histogram2d\":[{\"type\":\"histogram2d\",\"colorbar\":{\"outlinewidth\":0,\"ticks\":\"\"},\"colorscale\":[[0.0,\"#0d0887\"],[0.1111111111111111,\"#46039f\"],[0.2222222222222222,\"#7201a8\"],[0.3333333333333333,\"#9c179e\"],[0.4444444444444444,\"#bd3786\"],[0.5555555555555556,\"#d8576b\"],[0.6666666666666666,\"#ed7953\"],[0.7777777777777778,\"#fb9f3a\"],[0.8888888888888888,\"#fdca26\"],[1.0,\"#f0f921\"]]}],\"heatmap\":[{\"type\":\"heatmap\",\"colorbar\":{\"outlinewidth\":0,\"ticks\":\"\"},\"colorscale\":[[0.0,\"#0d0887\"],[0.1111111111111111,\"#46039f\"],[0.2222222222222222,\"#7201a8\"],[0.3333333333333333,\"#9c179e\"],[0.4444444444444444,\"#bd3786\"],[0.5555555555555556,\"#d8576b\"],[0.6666666666666666,\"#ed7953\"],[0.7777777777777778,\"#fb9f3a\"],[0.8888888888888888,\"#fdca26\"],[1.0,\"#f0f921\"]]}],\"heatmapgl\":[{\"type\":\"heatmapgl\",\"colorbar\":{\"outlinewidth\":0,\"ticks\":\"\"},\"colorscale\":[[0.0,\"#0d0887\"],[0.1111111111111111,\"#46039f\"],[0.2222222222222222,\"#7201a8\"],[0.3333333333333333,\"#9c179e\"],[0.4444444444444444,\"#bd3786\"],[0.5555555555555556,\"#d8576b\"],[0.6666666666666666,\"#ed7953\"],[0.7777777777777778,\"#fb9f3a\"],[0.8888888888888888,\"#fdca26\"],[1.0,\"#f0f921\"]]}],\"contourcarpet\":[{\"type\":\"contourcarpet\",\"colorbar\":{\"outlinewidth\":0,\"ticks\":\"\"}}],\"contour\":[{\"type\":\"contour\",\"colorbar\":{\"outlinewidth\":0,\"ticks\":\"\"},\"colorscale\":[[0.0,\"#0d0887\"],[0.1111111111111111,\"#46039f\"],[0.2222222222222222,\"#7201a8\"],[0.3333333333333333,\"#9c179e\"],[0.4444444444444444,\"#bd3786\"],[0.5555555555555556,\"#d8576b\"],[0.6666666666666666,\"#ed7953\"],[0.7777777777777778,\"#fb9f3a\"],[0.8888888888888888,\"#fdca26\"],[1.0,\"#f0f921\"]]}],\"surface\":[{\"type\":\"surface\",\"colorbar\":{\"outlinewidth\":0,\"ticks\":\"\"},\"colorscale\":[[0.0,\"#0d0887\"],[0.1111111111111111,\"#46039f\"],[0.2222222222222222,\"#7201a8\"],[0.3333333333333333,\"#9c179e\"],[0.4444444444444444,\"#bd3786\"],[0.5555555555555556,\"#d8576b\"],[0.6666666666666666,\"#ed7953\"],[0.7777777777777778,\"#fb9f3a\"],[0.8888888888888888,\"#fdca26\"],[1.0,\"#f0f921\"]]}],\"mesh3d\":[{\"type\":\"mesh3d\",\"colorbar\":{\"outlinewidth\":0,\"ticks\":\"\"}}],\"scatter\":[{\"fillpattern\":{\"fillmode\":\"overlay\",\"size\":10,\"solidity\":0.2},\"type\":\"scatter\"}],\"parcoords\":[{\"type\":\"parcoords\",\"line\":{\"colorbar\":{\"outlinewidth\":0,\"ticks\":\"\"}}}],\"scatterpolargl\":[{\"type\":\"scatterpolargl\",\"marker\":{\"colorbar\":{\"outlinewidth\":0,\"ticks\":\"\"}}}],\"bar\":[{\"error_x\":{\"color\":\"#2a3f5f\"},\"error_y\":{\"color\":\"#2a3f5f\"},\"marker\":{\"line\":{\"color\":\"#E5ECF6\",\"width\":0.5},\"pattern\":{\"fillmode\":\"overlay\",\"size\":10,\"solidity\":0.2}},\"type\":\"bar\"}],\"scattergeo\":[{\"type\":\"scattergeo\",\"marker\":{\"colorbar\":{\"outlinewidth\":0,\"ticks\":\"\"}}}],\"scatterpolar\":[{\"type\":\"scatterpolar\",\"marker\":{\"colorbar\":{\"outlinewidth\":0,\"ticks\":\"\"}}}],\"histogram\":[{\"marker\":{\"pattern\":{\"fillmode\":\"overlay\",\"size\":10,\"solidity\":0.2}},\"type\":\"histogram\"}],\"scattergl\":[{\"type\":\"scattergl\",\"marker\":{\"colorbar\":{\"outlinewidth\":0,\"ticks\":\"\"}}}],\"scatter3d\":[{\"type\":\"scatter3d\",\"line\":{\"colorbar\":{\"outlinewidth\":0,\"ticks\":\"\"}},\"marker\":{\"colorbar\":{\"outlinewidth\":0,\"ticks\":\"\"}}}],\"scattermapbox\":[{\"type\":\"scattermapbox\",\"marker\":{\"colorbar\":{\"outlinewidth\":0,\"ticks\":\"\"}}}],\"scatterternary\":[{\"type\":\"scatterternary\",\"marker\":{\"colorbar\":{\"outlinewidth\":0,\"ticks\":\"\"}}}],\"scattercarpet\":[{\"type\":\"scattercarpet\",\"marker\":{\"colorbar\":{\"outlinewidth\":0,\"ticks\":\"\"}}}],\"carpet\":[{\"aaxis\":{\"endlinecolor\":\"#2a3f5f\",\"gridcolor\":\"white\",\"linecolor\":\"white\",\"minorgridcolor\":\"white\",\"startlinecolor\":\"#2a3f5f\"},\"baxis\":{\"endlinecolor\":\"#2a3f5f\",\"gridcolor\":\"white\",\"linecolor\":\"white\",\"minorgridcolor\":\"white\",\"startlinecolor\":\"#2a3f5f\"},\"type\":\"carpet\"}],\"table\":[{\"cells\":{\"fill\":{\"color\":\"#EBF0F8\"},\"line\":{\"color\":\"white\"}},\"header\":{\"fill\":{\"color\":\"#C8D4E3\"},\"line\":{\"color\":\"white\"}},\"type\":\"table\"}],\"barpolar\":[{\"marker\":{\"line\":{\"color\":\"#E5ECF6\",\"width\":0.5},\"pattern\":{\"fillmode\":\"overlay\",\"size\":10,\"solidity\":0.2}},\"type\":\"barpolar\"}],\"pie\":[{\"automargin\":true,\"type\":\"pie\"}]},\"layout\":{\"autotypenumbers\":\"strict\",\"colorway\":[\"#636efa\",\"#EF553B\",\"#00cc96\",\"#ab63fa\",\"#FFA15A\",\"#19d3f3\",\"#FF6692\",\"#B6E880\",\"#FF97FF\",\"#FECB52\"],\"font\":{\"color\":\"#2a3f5f\"},\"hovermode\":\"closest\",\"hoverlabel\":{\"align\":\"left\"},\"paper_bgcolor\":\"white\",\"plot_bgcolor\":\"#E5ECF6\",\"polar\":{\"bgcolor\":\"#E5ECF6\",\"angularaxis\":{\"gridcolor\":\"white\",\"linecolor\":\"white\",\"ticks\":\"\"},\"radialaxis\":{\"gridcolor\":\"white\",\"linecolor\":\"white\",\"ticks\":\"\"}},\"ternary\":{\"bgcolor\":\"#E5ECF6\",\"aaxis\":{\"gridcolor\":\"white\",\"linecolor\":\"white\",\"ticks\":\"\"},\"baxis\":{\"gridcolor\":\"white\",\"linecolor\":\"white\",\"ticks\":\"\"},\"caxis\":{\"gridcolor\":\"white\",\"linecolor\":\"white\",\"ticks\":\"\"}},\"coloraxis\":{\"colorbar\":{\"outlinewidth\":0,\"ticks\":\"\"}},\"colorscale\":{\"sequential\":[[0.0,\"#0d0887\"],[0.1111111111111111,\"#46039f\"],[0.2222222222222222,\"#7201a8\"],[0.3333333333333333,\"#9c179e\"],[0.4444444444444444,\"#bd3786\"],[0.5555555555555556,\"#d8576b\"],[0.6666666666666666,\"#ed7953\"],[0.7777777777777778,\"#fb9f3a\"],[0.8888888888888888,\"#fdca26\"],[1.0,\"#f0f921\"]],\"sequentialminus\":[[0.0,\"#0d0887\"],[0.1111111111111111,\"#46039f\"],[0.2222222222222222,\"#7201a8\"],[0.3333333333333333,\"#9c179e\"],[0.4444444444444444,\"#bd3786\"],[0.5555555555555556,\"#d8576b\"],[0.6666666666666666,\"#ed7953\"],[0.7777777777777778,\"#fb9f3a\"],[0.8888888888888888,\"#fdca26\"],[1.0,\"#f0f921\"]],\"diverging\":[[0,\"#8e0152\"],[0.1,\"#c51b7d\"],[0.2,\"#de77ae\"],[0.3,\"#f1b6da\"],[0.4,\"#fde0ef\"],[0.5,\"#f7f7f7\"],[0.6,\"#e6f5d0\"],[0.7,\"#b8e186\"],[0.8,\"#7fbc41\"],[0.9,\"#4d9221\"],[1,\"#276419\"]]},\"xaxis\":{\"gridcolor\":\"white\",\"linecolor\":\"white\",\"ticks\":\"\",\"title\":{\"standoff\":15},\"zerolinecolor\":\"white\",\"automargin\":true,\"zerolinewidth\":2},\"yaxis\":{\"gridcolor\":\"white\",\"linecolor\":\"white\",\"ticks\":\"\",\"title\":{\"standoff\":15},\"zerolinecolor\":\"white\",\"automargin\":true,\"zerolinewidth\":2},\"scene\":{\"xaxis\":{\"backgroundcolor\":\"#E5ECF6\",\"gridcolor\":\"white\",\"linecolor\":\"white\",\"showbackground\":true,\"ticks\":\"\",\"zerolinecolor\":\"white\",\"gridwidth\":2},\"yaxis\":{\"backgroundcolor\":\"#E5ECF6\",\"gridcolor\":\"white\",\"linecolor\":\"white\",\"showbackground\":true,\"ticks\":\"\",\"zerolinecolor\":\"white\",\"gridwidth\":2},\"zaxis\":{\"backgroundcolor\":\"#E5ECF6\",\"gridcolor\":\"white\",\"linecolor\":\"white\",\"showbackground\":true,\"ticks\":\"\",\"zerolinecolor\":\"white\",\"gridwidth\":2}},\"shapedefaults\":{\"line\":{\"color\":\"#2a3f5f\"}},\"annotationdefaults\":{\"arrowcolor\":\"#2a3f5f\",\"arrowhead\":0,\"arrowwidth\":1},\"geo\":{\"bgcolor\":\"white\",\"landcolor\":\"#E5ECF6\",\"subunitcolor\":\"white\",\"showland\":true,\"showlakes\":true,\"lakecolor\":\"white\"},\"title\":{\"x\":0.05},\"mapbox\":{\"style\":\"light\"}}},\"xaxis\":{\"anchor\":\"y\",\"domain\":[0.0,1.0],\"title\":{\"text\":\"rating_current\"}},\"yaxis\":{\"anchor\":\"x\",\"domain\":[0.0,1.0],\"title\":{\"text\":\"fantasy_points_23\"}},\"legend\":{\"tracegroupgap\":0},\"margin\":{\"t\":60}},                        {\"responsive\": true}                    ).then(function(){\n",
       "                            \n",
       "var gd = document.getElementById('79d0fe7d-dca7-4e89-95c6-dbe251583293');\n",
       "var x = new MutationObserver(function (mutations, observer) {{\n",
       "        var display = window.getComputedStyle(gd).display;\n",
       "        if (!display || display === 'none') {{\n",
       "            console.log([gd, 'removed!']);\n",
       "            Plotly.purge(gd);\n",
       "            observer.disconnect();\n",
       "        }}\n",
       "}});\n",
       "\n",
       "// Listen for the removal of the full notebook cells\n",
       "var notebookContainer = gd.closest('#notebook-container');\n",
       "if (notebookContainer) {{\n",
       "    x.observe(notebookContainer, {childList: true});\n",
       "}}\n",
       "\n",
       "// Listen for the clearing of the current output cell\n",
       "var outputEl = gd.closest('.output');\n",
       "if (outputEl) {{\n",
       "    x.observe(outputEl, {childList: true});\n",
       "}}\n",
       "\n",
       "                        })                };                });            </script>        </div>"
      ]
     },
     "metadata": {},
     "output_type": "display_data"
    }
   ],
   "source": [
    "px.scatter(players_24, x='rating_current', y='fantasy_points_23', hover_name='Player')"
   ]
  },
  {
   "cell_type": "code",
   "execution_count": 269,
   "metadata": {},
   "outputs": [
    {
     "data": {
      "text/plain": [
       "0.7774410361931111"
      ]
     },
     "execution_count": 269,
     "metadata": {},
     "output_type": "execute_result"
    }
   ],
   "source": [
    "players_24['rating_current'].corr(players_24['fantasy_points_23'])"
   ]
  },
  {
   "cell_type": "code",
   "execution_count": null,
   "metadata": {},
   "outputs": [],
   "source": []
  },
  {
   "cell_type": "code",
   "execution_count": 266,
   "metadata": {},
   "outputs": [
    {
     "data": {
      "text/plain": [
       "<AxesSubplot: xlabel='fantasy_points_23', ylabel='Count'>"
      ]
     },
     "execution_count": 266,
     "metadata": {},
     "output_type": "execute_result"
    },
    {
     "data": {
      "image/png": "[encoded data removed]",
      "text/plain": [
       "<Figure size 640x480 with 1 Axes>"
      ]
     },
     "metadata": {},
     "output_type": "display_data"
    }
   ],
   "source": [
    "sns.histplot(players_24['fantasy_points_23'], bins=50)"
   ]
  },
  {
   "cell_type": "code",
   "execution_count": null,
   "metadata": {},
   "outputs": [],
   "source": []
  },
  {
   "cell_type": "code",
   "execution_count": 267,
   "metadata": {},
   "outputs": [
    {
     "data": {
      "application/vnd.plotly.v1+json": {
       "config": {
        "plotlyServerURL": "https://plot.ly"
       },
       "data": [
        {
         "hovertemplate": "<b>%{hovertext}</b><br><br>fantasy_points_22=%{x}<br>fantasy_points_23=%{y}<extra></extra>",
         "hovertext": [
          "Aaron Gossage",
          "Adam Hammes",
          "Aidan Scott",
          "AJ Carey",
          "Albert Tamm",
          "Alden Harris",
          "Andrew Fish",
          "Andrew Marwede",
          "Andrew Presnell",
          "Anthony Barela",
          "Austin Hannum",
          "Austin Turner",
          "Benjamin Callaway",
          "Bradley Williams",
          "Braeden Sides",
          "Brodie Smith",
          "Calvin Heimburg",
          "Carter Ahrens",
          "Casey White",
          "Chandler Fry",
          "Chandler Kramer",
          "Chris Clemons",
          "Chris Dickerson",
          "Clay Edwards",
          "Cole Redalen",
          "Colten Montgomery",
          "Connor OReilly",
          "Connor Rock",
          "Corey Ellis",
          "Drew Gibson",
          "Eagle McMahon",
          "Emerson Keith",
          "Eric Oakley",
          "Evan Scott",
          "Evan Smith",
          "Ezra Aderhold",
          "Ezra Robinson",
          "Gannon Buhr",
          "Garrett Gurthie",
          "Gavin Babcock",
          "Gavin Rathbun",
          "Grady Shue",
          "Gregg Barsby",
          "Isaac Robinson",
          "Jake Hebenheimer",
          "Jake Monn",
          "Jake Wolff",
          "Jakub Semerád",
          "James Conrad",
          "James Proctor",
          "Jeremy Koling",
          "Jesse Nieminen",
          "Joel Freeman",
          "Joona Heinänen",
          "Joseph Anderson",
          "Kevin Jones",
          "Kevin Kiefer",
          "Kyle Klein",
          "Lauri Lehtinen",
          "Linus Carlsson",
          "Luke Humphries",
          "Luke Samson",
          "Luke Taylor",
          "Mason Ford",
          "Mason Marchbanks",
          "Matt Bell",
          "Matt Orum",
          "Nate Hecker",
          "Nate Sexton",
          "Nathan Queen",
          "Nikko Locastro",
          "Niklas Anttila",
          "Parker Welck",
          "Paul Krans",
          "Paul McBeth",
          "Paul Oman",
          "Paul Ulibarri",
          "Randon Latta",
          "Raven Newsom",
          "Ricky Wysocki",
          "Robert Burridge",
          "Silas Schultz",
          "Silver Lätt",
          "Simon Lizotte",
          "Sullivan Tipton",
          "Thomas Gilbert",
          "Tim Barham",
          "Tristan Tanner",
          "Tuomas Hyytiäinen",
          "Ty Love",
          "Väinö Mäkelä",
          "Zach Arlinghaus"
         ],
         "legendgroup": "",
         "marker": {
          "color": "#636efa",
          "symbol": "circle"
         },
         "mode": "markers",
         "name": "",
         "orientation": "v",
         "showlegend": false,
         "type": "scatter",
         "x": [
          1107.5,
          678,
          0,
          30,
          294,
          413.5,
          15,
          245.5,
          241,
          625.5,
          184,
          24,
          186,
          598.5,
          0,
          375,
          2599.5,
          0,
          129,
          237,
          310.5,
          972,
          1817,
          15,
          124,
          75,
          142,
          0,
          1093.5,
          637,
          519,
          540.5,
          112.5,
          10,
          233,
          564,
          90,
          2539.5,
          382,
          379.5,
          269,
          0,
          419,
          1401.5,
          337,
          70.5,
          0,
          45,
          852,
          110.5,
          263,
          165,
          1405,
          85.5,
          6,
          1133,
          48,
          1223,
          156,
          298,
          427,
          94,
          56,
          430,
          0,
          156,
          1618.5,
          8,
          367.5,
          42,
          229,
          988,
          0,
          0,
          2990.5,
          52,
          112.5,
          118,
          33,
          3093,
          245,
          36,
          0,
          2019,
          48,
          323,
          30,
          408.5,
          0,
          25,
          608,
          3
         ],
         "xaxis": "x",
         "y": [
          1096.5,
          1074.5,
          157.5,
          0,
          119.5,
          899,
          22,
          295.5,
          310,
          1416,
          68,
          276,
          641.5,
          842,
          0,
          140,
          3929.5,
          33,
          135,
          12,
          128,
          488,
          944,
          0,
          1388,
          10,
          0,
          40,
          999,
          207,
          2282,
          562.5,
          139,
          76.5,
          335,
          960.5,
          943.5,
          2104,
          265,
          262.5,
          126,
          39,
          241,
          2686.5,
          194,
          8,
          0,
          164,
          706,
          1375.5,
          105,
          1.5,
          651.5,
          160,
          97.5,
          882,
          97,
          2148.5,
          69,
          0,
          81,
          18,
          98,
          459.5,
          114,
          191,
          1554.5,
          97,
          87,
          12,
          296,
          788.5,
          367,
          27,
          645,
          90,
          332,
          48,
          36,
          1849,
          137,
          330.5,
          21,
          1730.5,
          124,
          9,
          12,
          90,
          63,
          96,
          520.5,
          159
         ],
         "yaxis": "y"
        }
       ],
       "layout": {
        "legend": {
         "tracegroupgap": 0
        },
        "margin": {
         "t": 60
        },
        "template": {
         "data": {
          "bar": [
           {
            "error_x": {
             "color": "#2a3f5f"
            },
            "error_y": {
             "color": "#2a3f5f"
            },
            "marker": {
             "line": {
              "color": "#E5ECF6",
              "width": 0.5
             },
             "pattern": {
              "fillmode": "overlay",
              "size": 10,
              "solidity": 0.2
             }
            },
            "type": "bar"
           }
          ],
          "barpolar": [
           {
            "marker": {
             "line": {
              "color": "#E5ECF6",
              "width": 0.5
             },
             "pattern": {
              "fillmode": "overlay",
              "size": 10,
              "solidity": 0.2
             }
            },
            "type": "barpolar"
           }
          ],
          "carpet": [
           {
            "aaxis": {
             "endlinecolor": "#2a3f5f",
             "gridcolor": "white",
             "linecolor": "white",
             "minorgridcolor": "white",
             "startlinecolor": "#2a3f5f"
            },
            "baxis": {
             "endlinecolor": "#2a3f5f",
             "gridcolor": "white",
             "linecolor": "white",
             "minorgridcolor": "white",
             "startlinecolor": "#2a3f5f"
            },
            "type": "carpet"
           }
          ],
          "choropleth": [
           {
            "colorbar": {
             "outlinewidth": 0,
             "ticks": ""
            },
            "type": "choropleth"
           }
          ],
          "contour": [
           {
            "colorbar": {
             "outlinewidth": 0,
             "ticks": ""
            },
            "colorscale": [
             [
              0,
              "#0d0887"
             ],
             [
              0.1111111111111111,
              "#46039f"
             ],
             [
              0.2222222222222222,
              "#7201a8"
             ],
             [
              0.3333333333333333,
              "#9c179e"
             ],
             [
              0.4444444444444444,
              "#bd3786"
             ],
             [
              0.5555555555555556,
              "#d8576b"
             ],
             [
              0.6666666666666666,
              "#ed7953"
             ],
             [
              0.7777777777777778,
              "#fb9f3a"
             ],
             [
              0.8888888888888888,
              "#fdca26"
             ],
             [
              1,
              "#f0f921"
             ]
            ],
            "type": "contour"
           }
          ],
          "contourcarpet": [
           {
            "colorbar": {
             "outlinewidth": 0,
             "ticks": ""
            },
            "type": "contourcarpet"
           }
          ],
          "heatmap": [
           {
            "colorbar": {
             "outlinewidth": 0,
             "ticks": ""
            },
            "colorscale": [
             [
              0,
              "#0d0887"
             ],
             [
              0.1111111111111111,
              "#46039f"
             ],
             [
              0.2222222222222222,
              "#7201a8"
             ],
             [
              0.3333333333333333,
              "#9c179e"
             ],
             [
              0.4444444444444444,
              "#bd3786"
             ],
             [
              0.5555555555555556,
              "#d8576b"
             ],
             [
              0.6666666666666666,
              "#ed7953"
             ],
             [
              0.7777777777777778,
              "#fb9f3a"
             ],
             [
              0.8888888888888888,
              "#fdca26"
             ],
             [
              1,
              "#f0f921"
             ]
            ],
            "type": "heatmap"
           }
          ],
          "heatmapgl": [
           {
            "colorbar": {
             "outlinewidth": 0,
             "ticks": ""
            },
            "colorscale": [
             [
              0,
              "#0d0887"
             ],
             [
              0.1111111111111111,
              "#46039f"
             ],
             [
              0.2222222222222222,
              "#7201a8"
             ],
             [
              0.3333333333333333,
              "#9c179e"
             ],
             [
              0.4444444444444444,
              "#bd3786"
             ],
             [
              0.5555555555555556,
              "#d8576b"
             ],
             [
              0.6666666666666666,
              "#ed7953"
             ],
             [
              0.7777777777777778,
              "#fb9f3a"
             ],
             [
              0.8888888888888888,
              "#fdca26"
             ],
             [
              1,
              "#f0f921"
             ]
            ],
            "type": "heatmapgl"
           }
          ],
          "histogram": [
           {
            "marker": {
             "pattern": {
              "fillmode": "overlay",
              "size": 10,
              "solidity": 0.2
             }
            },
            "type": "histogram"
           }
          ],
          "histogram2d": [
           {
            "colorbar": {
             "outlinewidth": 0,
             "ticks": ""
            },
            "colorscale": [
             [
              0,
              "#0d0887"
             ],
             [
              0.1111111111111111,
              "#46039f"
             ],
             [
              0.2222222222222222,
              "#7201a8"
             ],
             [
              0.3333333333333333,
              "#9c179e"
             ],
             [
              0.4444444444444444,
              "#bd3786"
             ],
             [
              0.5555555555555556,
              "#d8576b"
             ],
             [
              0.6666666666666666,
              "#ed7953"
             ],
             [
              0.7777777777777778,
              "#fb9f3a"
             ],
             [
              0.8888888888888888,
              "#fdca26"
             ],
             [
              1,
              "#f0f921"
             ]
            ],
            "type": "histogram2d"
           }
          ],
          "histogram2dcontour": [
           {
            "colorbar": {
             "outlinewidth": 0,
             "ticks": ""
            },
            "colorscale": [
             [
              0,
              "#0d0887"
             ],
             [
              0.1111111111111111,
              "#46039f"
             ],
             [
              0.2222222222222222,
              "#7201a8"
             ],
             [
              0.3333333333333333,
              "#9c179e"
             ],
             [
              0.4444444444444444,
              "#bd3786"
             ],
             [
              0.5555555555555556,
              "#d8576b"
             ],
             [
              0.6666666666666666,
              "#ed7953"
             ],
             [
              0.7777777777777778,
              "#fb9f3a"
             ],
             [
              0.8888888888888888,
              "#fdca26"
             ],
             [
              1,
              "#f0f921"
             ]
            ],
            "type": "histogram2dcontour"
           }
          ],
          "mesh3d": [
           {
            "colorbar": {
             "outlinewidth": 0,
             "ticks": ""
            },
            "type": "mesh3d"
           }
          ],
          "parcoords": [
           {
            "line": {
             "colorbar": {
              "outlinewidth": 0,
              "ticks": ""
             }
            },
            "type": "parcoords"
           }
          ],
          "pie": [
           {
            "automargin": true,
            "type": "pie"
           }
          ],
          "scatter": [
           {
            "fillpattern": {
             "fillmode": "overlay",
             "size": 10,
             "solidity": 0.2
            },
            "type": "scatter"
           }
          ],
          "scatter3d": [
           {
            "line": {
             "colorbar": {
              "outlinewidth": 0,
              "ticks": ""
             }
            },
            "marker": {
             "colorbar": {
              "outlinewidth": 0,
              "ticks": ""
             }
            },
            "type": "scatter3d"
           }
          ],
          "scattercarpet": [
           {
            "marker": {
             "colorbar": {
              "outlinewidth": 0,
              "ticks": ""
             }
            },
            "type": "scattercarpet"
           }
          ],
          "scattergeo": [
           {
            "marker": {
             "colorbar": {
              "outlinewidth": 0,
              "ticks": ""
             }
            },
            "type": "scattergeo"
           }
          ],
          "scattergl": [
           {
            "marker": {
             "colorbar": {
              "outlinewidth": 0,
              "ticks": ""
             }
            },
            "type": "scattergl"
           }
          ],
          "scattermapbox": [
           {
            "marker": {
             "colorbar": {
              "outlinewidth": 0,
              "ticks": ""
             }
            },
            "type": "scattermapbox"
           }
          ],
          "scatterpolar": [
           {
            "marker": {
             "colorbar": {
              "outlinewidth": 0,
              "ticks": ""
             }
            },
            "type": "scatterpolar"
           }
          ],
          "scatterpolargl": [
           {
            "marker": {
             "colorbar": {
              "outlinewidth": 0,
              "ticks": ""
             }
            },
            "type": "scatterpolargl"
           }
          ],
          "scatterternary": [
           {
            "marker": {
             "colorbar": {
              "outlinewidth": 0,
              "ticks": ""
             }
            },
            "type": "scatterternary"
           }
          ],
          "surface": [
           {
            "colorbar": {
             "outlinewidth": 0,
             "ticks": ""
            },
            "colorscale": [
             [
              0,
              "#0d0887"
             ],
             [
              0.1111111111111111,
              "#46039f"
             ],
             [
              0.2222222222222222,
              "#7201a8"
             ],
             [
              0.3333333333333333,
              "#9c179e"
             ],
             [
              0.4444444444444444,
              "#bd3786"
             ],
             [
              0.5555555555555556,
              "#d8576b"
             ],
             [
              0.6666666666666666,
              "#ed7953"
             ],
             [
              0.7777777777777778,
              "#fb9f3a"
             ],
             [
              0.8888888888888888,
              "#fdca26"
             ],
             [
              1,
              "#f0f921"
             ]
            ],
            "type": "surface"
           }
          ],
          "table": [
           {
            "cells": {
             "fill": {
              "color": "#EBF0F8"
             },
             "line": {
              "color": "white"
             }
            },
            "header": {
             "fill": {
              "color": "#C8D4E3"
             },
             "line": {
              "color": "white"
             }
            },
            "type": "table"
           }
          ]
         },
         "layout": {
          "annotationdefaults": {
           "arrowcolor": "#2a3f5f",
           "arrowhead": 0,
           "arrowwidth": 1
          },
          "autotypenumbers": "strict",
          "coloraxis": {
           "colorbar": {
            "outlinewidth": 0,
            "ticks": ""
           }
          },
          "colorscale": {
           "diverging": [
            [
             0,
             "#8e0152"
            ],
            [
             0.1,
             "#c51b7d"
            ],
            [
             0.2,
             "#de77ae"
            ],
            [
             0.3,
             "#f1b6da"
            ],
            [
             0.4,
             "#fde0ef"
            ],
            [
             0.5,
             "#f7f7f7"
            ],
            [
             0.6,
             "#e6f5d0"
            ],
            [
             0.7,
             "#b8e186"
            ],
            [
             0.8,
             "#7fbc41"
            ],
            [
             0.9,
             "#4d9221"
            ],
            [
             1,
             "#276419"
            ]
           ],
           "sequential": [
            [
             0,
             "#0d0887"
            ],
            [
             0.1111111111111111,
             "#46039f"
            ],
            [
             0.2222222222222222,
             "#7201a8"
            ],
            [
             0.3333333333333333,
             "#9c179e"
            ],
            [
             0.4444444444444444,
             "#bd3786"
            ],
            [
             0.5555555555555556,
             "#d8576b"
            ],
            [
             0.6666666666666666,
             "#ed7953"
            ],
            [
             0.7777777777777778,
             "#fb9f3a"
            ],
            [
             0.8888888888888888,
             "#fdca26"
            ],
            [
             1,
             "#f0f921"
            ]
           ],
           "sequentialminus": [
            [
             0,
             "#0d0887"
            ],
            [
             0.1111111111111111,
             "#46039f"
            ],
            [
             0.2222222222222222,
             "#7201a8"
            ],
            [
             0.3333333333333333,
             "#9c179e"
            ],
            [
             0.4444444444444444,
             "#bd3786"
            ],
            [
             0.5555555555555556,
             "#d8576b"
            ],
            [
             0.6666666666666666,
             "#ed7953"
            ],
            [
             0.7777777777777778,
             "#fb9f3a"
            ],
            [
             0.8888888888888888,
             "#fdca26"
            ],
            [
             1,
             "#f0f921"
            ]
           ]
          },
          "colorway": [
           "#636efa",
           "#EF553B",
           "#00cc96",
           "#ab63fa",
           "#FFA15A",
           "#19d3f3",
           "#FF6692",
           "#B6E880",
           "#FF97FF",
           "#FECB52"
          ],
          "font": {
           "color": "#2a3f5f"
          },
          "geo": {
           "bgcolor": "white",
           "lakecolor": "white",
           "landcolor": "#E5ECF6",
           "showlakes": true,
           "showland": true,
           "subunitcolor": "white"
          },
          "hoverlabel": {
           "align": "left"
          },
          "hovermode": "closest",
          "mapbox": {
           "style": "light"
          },
          "paper_bgcolor": "white",
          "plot_bgcolor": "#E5ECF6",
          "polar": {
           "angularaxis": {
            "gridcolor": "white",
            "linecolor": "white",
            "ticks": ""
           },
           "bgcolor": "#E5ECF6",
           "radialaxis": {
            "gridcolor": "white",
            "linecolor": "white",
            "ticks": ""
           }
          },
          "scene": {
           "xaxis": {
            "backgroundcolor": "#E5ECF6",
            "gridcolor": "white",
            "gridwidth": 2,
            "linecolor": "white",
            "showbackground": true,
            "ticks": "",
            "zerolinecolor": "white"
           },
           "yaxis": {
            "backgroundcolor": "#E5ECF6",
            "gridcolor": "white",
            "gridwidth": 2,
            "linecolor": "white",
            "showbackground": true,
            "ticks": "",
            "zerolinecolor": "white"
           },
           "zaxis": {
            "backgroundcolor": "#E5ECF6",
            "gridcolor": "white",
            "gridwidth": 2,
            "linecolor": "white",
            "showbackground": true,
            "ticks": "",
            "zerolinecolor": "white"
           }
          },
          "shapedefaults": {
           "line": {
            "color": "#2a3f5f"
           }
          },
          "ternary": {
           "aaxis": {
            "gridcolor": "white",
            "linecolor": "white",
            "ticks": ""
           },
           "baxis": {
            "gridcolor": "white",
            "linecolor": "white",
            "ticks": ""
           },
           "bgcolor": "#E5ECF6",
           "caxis": {
            "gridcolor": "white",
            "linecolor": "white",
            "ticks": ""
           }
          },
          "title": {
           "x": 0.05
          },
          "xaxis": {
           "automargin": true,
           "gridcolor": "white",
           "linecolor": "white",
           "ticks": "",
           "title": {
            "standoff": 15
           },
           "zerolinecolor": "white",
           "zerolinewidth": 2
          },
          "yaxis": {
           "automargin": true,
           "gridcolor": "white",
           "linecolor": "white",
           "ticks": "",
           "title": {
            "standoff": 15
           },
           "zerolinecolor": "white",
           "zerolinewidth": 2
          }
         }
        },
        "xaxis": {
         "anchor": "y",
         "domain": [
          0,
          1
         ],
         "title": {
          "text": "fantasy_points_22"
         }
        },
        "yaxis": {
         "anchor": "x",
         "domain": [
          0,
          1
         ],
         "title": {
          "text": "fantasy_points_23"
         }
        }
       }
      },
      "text/html": [
       "<div>                            <div id=\"45ade62d-3489-45c6-8122-d93f5eba2b8a\" class=\"plotly-graph-div\" style=\"height:525px; width:100%;\"></div>            <script type=\"text/javascript\">                require([\"plotly\"], function(Plotly) {                    window.PLOTLYENV=window.PLOTLYENV || {};                                    if (document.getElementById(\"45ade62d-3489-45c6-8122-d93f5eba2b8a\")) {                    Plotly.newPlot(                        \"45ade62d-3489-45c6-8122-d93f5eba2b8a\",                        [{\"hovertemplate\":\"<b>%{hovertext}</b><br><br>fantasy_points_22=%{x}<br>fantasy_points_23=%{y}<extra></extra>\",\"hovertext\":[\"Aaron Gossage\",\"Adam Hammes\",\"Aidan Scott\",\"AJ Carey\",\"Albert Tamm\",\"Alden Harris\",\"Andrew Fish\",\"Andrew Marwede\",\"Andrew Presnell\",\"Anthony Barela\",\"Austin Hannum\",\"Austin Turner\",\"Benjamin Callaway\",\"Bradley Williams\",\"Braeden Sides\",\"Brodie Smith\",\"Calvin Heimburg\",\"Carter Ahrens\",\"Casey White\",\"Chandler Fry\",\"Chandler Kramer\",\"Chris Clemons\",\"Chris Dickerson\",\"Clay Edwards\",\"Cole Redalen\",\"Colten Montgomery\",\"Connor OReilly\",\"Connor Rock\",\"Corey Ellis\",\"Drew Gibson\",\"Eagle McMahon\",\"Emerson Keith\",\"Eric Oakley\",\"Evan Scott\",\"Evan Smith\",\"Ezra Aderhold\",\"Ezra Robinson\",\"Gannon Buhr\",\"Garrett Gurthie\",\"Gavin Babcock\",\"Gavin Rathbun\",\"Grady Shue\",\"Gregg Barsby\",\"Isaac Robinson\",\"Jake Hebenheimer\",\"Jake Monn\",\"Jake Wolff\",\"Jakub Semer\\u00e1d\",\"James Conrad\",\"James Proctor\",\"Jeremy Koling\",\"Jesse Nieminen\",\"Joel Freeman\",\"Joona Hein\\u00e4nen\",\"Joseph Anderson\",\"Kevin Jones\",\"Kevin Kiefer\",\"Kyle Klein\",\"Lauri Lehtinen\",\"Linus Carlsson\",\"Luke Humphries\",\"Luke Samson\",\"Luke Taylor\",\"Mason Ford\",\"Mason Marchbanks\",\"Matt Bell\",\"Matt Orum\",\"Nate Hecker\",\"Nate Sexton\",\"Nathan Queen\",\"Nikko Locastro\",\"Niklas Anttila\",\"Parker Welck\",\"Paul Krans\",\"Paul McBeth\",\"Paul Oman\",\"Paul Ulibarri\",\"Randon Latta\",\"Raven Newsom\",\"Ricky Wysocki\",\"Robert Burridge\",\"Silas Schultz\",\"Silver L\\u00e4tt\",\"Simon Lizotte\",\"Sullivan Tipton\",\"Thomas Gilbert\",\"Tim Barham\",\"Tristan Tanner\",\"Tuomas Hyyti\\u00e4inen\",\"Ty Love\",\"V\\u00e4in\\u00f6 M\\u00e4kel\\u00e4\",\"Zach Arlinghaus\"],\"legendgroup\":\"\",\"marker\":{\"color\":\"#636efa\",\"symbol\":\"circle\"},\"mode\":\"markers\",\"name\":\"\",\"orientation\":\"v\",\"showlegend\":false,\"x\":[1107.5,678.0,0.0,30.0,294.0,413.5,15.0,245.5,241.0,625.5,184.0,24.0,186.0,598.5,0.0,375.0,2599.5,0.0,129.0,237.0,310.5,972.0,1817.0,15.0,124.0,75.0,142.0,0.0,1093.5,637.0,519.0,540.5,112.5,10.0,233.0,564.0,90.0,2539.5,382.0,379.5,269.0,0.0,419.0,1401.5,337.0,70.5,0.0,45.0,852.0,110.5,263.0,165.0,1405.0,85.5,6.0,1133.0,48.0,1223.0,156.0,298.0,427.0,94.0,56.0,430.0,0.0,156.0,1618.5,8.0,367.5,42.0,229.0,988.0,0.0,0.0,2990.5,52.0,112.5,118.0,33.0,3093.0,245.0,36.0,0.0,2019.0,48.0,323.0,30.0,408.5,0.0,25.0,608.0,3.0],\"xaxis\":\"x\",\"y\":[1096.5,1074.5,157.5,0.0,119.5,899.0,22.0,295.5,310.0,1416.0,68.0,276.0,641.5,842.0,0.0,140.0,3929.5,33.0,135.0,12.0,128.0,488.0,944.0,0.0,1388.0,10.0,0.0,40.0,999.0,207.0,2282.0,562.5,139.0,76.5,335.0,960.5,943.5,2104.0,265.0,262.5,126.0,39.0,241.0,2686.5,194.0,8.0,0.0,164.0,706.0,1375.5,105.0,1.5,651.5,160.0,97.5,882.0,97.0,2148.5,69.0,0.0,81.0,18.0,98.0,459.5,114.0,191.0,1554.5,97.0,87.0,12.0,296.0,788.5,367.0,27.0,645.0,90.0,332.0,48.0,36.0,1849.0,137.0,330.5,21.0,1730.5,124.0,9.0,12.0,90.0,63.0,96.0,520.5,159.0],\"yaxis\":\"y\",\"type\":\"scatter\"}],                        {\"template\":{\"data\":{\"histogram2dcontour\":[{\"type\":\"histogram2dcontour\",\"colorbar\":{\"outlinewidth\":0,\"ticks\":\"\"},\"colorscale\":[[0.0,\"#0d0887\"],[0.1111111111111111,\"#46039f\"],[0.2222222222222222,\"#7201a8\"],[0.3333333333333333,\"#9c179e\"],[0.4444444444444444,\"#bd3786\"],[0.5555555555555556,\"#d8576b\"],[0.6666666666666666,\"#ed7953\"],[0.7777777777777778,\"#fb9f3a\"],[0.8888888888888888,\"#fdca26\"],[1.0,\"#f0f921\"]]}],\"choropleth\":[{\"type\":\"choropleth\",\"colorbar\":{\"outlinewidth\":0,\"ticks\":\"\"}}],\"histogram2d\":[{\"type\":\"histogram2d\",\"colorbar\":{\"outlinewidth\":0,\"ticks\":\"\"},\"colorscale\":[[0.0,\"#0d0887\"],[0.1111111111111111,\"#46039f\"],[0.2222222222222222,\"#7201a8\"],[0.3333333333333333,\"#9c179e\"],[0.4444444444444444,\"#bd3786\"],[0.5555555555555556,\"#d8576b\"],[0.6666666666666666,\"#ed7953\"],[0.7777777777777778,\"#fb9f3a\"],[0.8888888888888888,\"#fdca26\"],[1.0,\"#f0f921\"]]}],\"heatmap\":[{\"type\":\"heatmap\",\"colorbar\":{\"outlinewidth\":0,\"ticks\":\"\"},\"colorscale\":[[0.0,\"#0d0887\"],[0.1111111111111111,\"#46039f\"],[0.2222222222222222,\"#7201a8\"],[0.3333333333333333,\"#9c179e\"],[0.4444444444444444,\"#bd3786\"],[0.5555555555555556,\"#d8576b\"],[0.6666666666666666,\"#ed7953\"],[0.7777777777777778,\"#fb9f3a\"],[0.8888888888888888,\"#fdca26\"],[1.0,\"#f0f921\"]]}],\"heatmapgl\":[{\"type\":\"heatmapgl\",\"colorbar\":{\"outlinewidth\":0,\"ticks\":\"\"},\"colorscale\":[[0.0,\"#0d0887\"],[0.1111111111111111,\"#46039f\"],[0.2222222222222222,\"#7201a8\"],[0.3333333333333333,\"#9c179e\"],[0.4444444444444444,\"#bd3786\"],[0.5555555555555556,\"#d8576b\"],[0.6666666666666666,\"#ed7953\"],[0.7777777777777778,\"#fb9f3a\"],[0.8888888888888888,\"#fdca26\"],[1.0,\"#f0f921\"]]}],\"contourcarpet\":[{\"type\":\"contourcarpet\",\"colorbar\":{\"outlinewidth\":0,\"ticks\":\"\"}}],\"contour\":[{\"type\":\"contour\",\"colorbar\":{\"outlinewidth\":0,\"ticks\":\"\"},\"colorscale\":[[0.0,\"#0d0887\"],[0.1111111111111111,\"#46039f\"],[0.2222222222222222,\"#7201a8\"],[0.3333333333333333,\"#9c179e\"],[0.4444444444444444,\"#bd3786\"],[0.5555555555555556,\"#d8576b\"],[0.6666666666666666,\"#ed7953\"],[0.7777777777777778,\"#fb9f3a\"],[0.8888888888888888,\"#fdca26\"],[1.0,\"#f0f921\"]]}],\"surface\":[{\"type\":\"surface\",\"colorbar\":{\"outlinewidth\":0,\"ticks\":\"\"},\"colorscale\":[[0.0,\"#0d0887\"],[0.1111111111111111,\"#46039f\"],[0.2222222222222222,\"#7201a8\"],[0.3333333333333333,\"#9c179e\"],[0.4444444444444444,\"#bd3786\"],[0.5555555555555556,\"#d8576b\"],[0.6666666666666666,\"#ed7953\"],[0.7777777777777778,\"#fb9f3a\"],[0.8888888888888888,\"#fdca26\"],[1.0,\"#f0f921\"]]}],\"mesh3d\":[{\"type\":\"mesh3d\",\"colorbar\":{\"outlinewidth\":0,\"ticks\":\"\"}}],\"scatter\":[{\"fillpattern\":{\"fillmode\":\"overlay\",\"size\":10,\"solidity\":0.2},\"type\":\"scatter\"}],\"parcoords\":[{\"type\":\"parcoords\",\"line\":{\"colorbar\":{\"outlinewidth\":0,\"ticks\":\"\"}}}],\"scatterpolargl\":[{\"type\":\"scatterpolargl\",\"marker\":{\"colorbar\":{\"outlinewidth\":0,\"ticks\":\"\"}}}],\"bar\":[{\"error_x\":{\"color\":\"#2a3f5f\"},\"error_y\":{\"color\":\"#2a3f5f\"},\"marker\":{\"line\":{\"color\":\"#E5ECF6\",\"width\":0.5},\"pattern\":{\"fillmode\":\"overlay\",\"size\":10,\"solidity\":0.2}},\"type\":\"bar\"}],\"scattergeo\":[{\"type\":\"scattergeo\",\"marker\":{\"colorbar\":{\"outlinewidth\":0,\"ticks\":\"\"}}}],\"scatterpolar\":[{\"type\":\"scatterpolar\",\"marker\":{\"colorbar\":{\"outlinewidth\":0,\"ticks\":\"\"}}}],\"histogram\":[{\"marker\":{\"pattern\":{\"fillmode\":\"overlay\",\"size\":10,\"solidity\":0.2}},\"type\":\"histogram\"}],\"scattergl\":[{\"type\":\"scattergl\",\"marker\":{\"colorbar\":{\"outlinewidth\":0,\"ticks\":\"\"}}}],\"scatter3d\":[{\"type\":\"scatter3d\",\"line\":{\"colorbar\":{\"outlinewidth\":0,\"ticks\":\"\"}},\"marker\":{\"colorbar\":{\"outlinewidth\":0,\"ticks\":\"\"}}}],\"scattermapbox\":[{\"type\":\"scattermapbox\",\"marker\":{\"colorbar\":{\"outlinewidth\":0,\"ticks\":\"\"}}}],\"scatterternary\":[{\"type\":\"scatterternary\",\"marker\":{\"colorbar\":{\"outlinewidth\":0,\"ticks\":\"\"}}}],\"scattercarpet\":[{\"type\":\"scattercarpet\",\"marker\":{\"colorbar\":{\"outlinewidth\":0,\"ticks\":\"\"}}}],\"carpet\":[{\"aaxis\":{\"endlinecolor\":\"#2a3f5f\",\"gridcolor\":\"white\",\"linecolor\":\"white\",\"minorgridcolor\":\"white\",\"startlinecolor\":\"#2a3f5f\"},\"baxis\":{\"endlinecolor\":\"#2a3f5f\",\"gridcolor\":\"white\",\"linecolor\":\"white\",\"minorgridcolor\":\"white\",\"startlinecolor\":\"#2a3f5f\"},\"type\":\"carpet\"}],\"table\":[{\"cells\":{\"fill\":{\"color\":\"#EBF0F8\"},\"line\":{\"color\":\"white\"}},\"header\":{\"fill\":{\"color\":\"#C8D4E3\"},\"line\":{\"color\":\"white\"}},\"type\":\"table\"}],\"barpolar\":[{\"marker\":{\"line\":{\"color\":\"#E5ECF6\",\"width\":0.5},\"pattern\":{\"fillmode\":\"overlay\",\"size\":10,\"solidity\":0.2}},\"type\":\"barpolar\"}],\"pie\":[{\"automargin\":true,\"type\":\"pie\"}]},\"layout\":{\"autotypenumbers\":\"strict\",\"colorway\":[\"#636efa\",\"#EF553B\",\"#00cc96\",\"#ab63fa\",\"#FFA15A\",\"#19d3f3\",\"#FF6692\",\"#B6E880\",\"#FF97FF\",\"#FECB52\"],\"font\":{\"color\":\"#2a3f5f\"},\"hovermode\":\"closest\",\"hoverlabel\":{\"align\":\"left\"},\"paper_bgcolor\":\"white\",\"plot_bgcolor\":\"#E5ECF6\",\"polar\":{\"bgcolor\":\"#E5ECF6\",\"angularaxis\":{\"gridcolor\":\"white\",\"linecolor\":\"white\",\"ticks\":\"\"},\"radialaxis\":{\"gridcolor\":\"white\",\"linecolor\":\"white\",\"ticks\":\"\"}},\"ternary\":{\"bgcolor\":\"#E5ECF6\",\"aaxis\":{\"gridcolor\":\"white\",\"linecolor\":\"white\",\"ticks\":\"\"},\"baxis\":{\"gridcolor\":\"white\",\"linecolor\":\"white\",\"ticks\":\"\"},\"caxis\":{\"gridcolor\":\"white\",\"linecolor\":\"white\",\"ticks\":\"\"}},\"coloraxis\":{\"colorbar\":{\"outlinewidth\":0,\"ticks\":\"\"}},\"colorscale\":{\"sequential\":[[0.0,\"#0d0887\"],[0.1111111111111111,\"#46039f\"],[0.2222222222222222,\"#7201a8\"],[0.3333333333333333,\"#9c179e\"],[0.4444444444444444,\"#bd3786\"],[0.5555555555555556,\"#d8576b\"],[0.6666666666666666,\"#ed7953\"],[0.7777777777777778,\"#fb9f3a\"],[0.8888888888888888,\"#fdca26\"],[1.0,\"#f0f921\"]],\"sequentialminus\":[[0.0,\"#0d0887\"],[0.1111111111111111,\"#46039f\"],[0.2222222222222222,\"#7201a8\"],[0.3333333333333333,\"#9c179e\"],[0.4444444444444444,\"#bd3786\"],[0.5555555555555556,\"#d8576b\"],[0.6666666666666666,\"#ed7953\"],[0.7777777777777778,\"#fb9f3a\"],[0.8888888888888888,\"#fdca26\"],[1.0,\"#f0f921\"]],\"diverging\":[[0,\"#8e0152\"],[0.1,\"#c51b7d\"],[0.2,\"#de77ae\"],[0.3,\"#f1b6da\"],[0.4,\"#fde0ef\"],[0.5,\"#f7f7f7\"],[0.6,\"#e6f5d0\"],[0.7,\"#b8e186\"],[0.8,\"#7fbc41\"],[0.9,\"#4d9221\"],[1,\"#276419\"]]},\"xaxis\":{\"gridcolor\":\"white\",\"linecolor\":\"white\",\"ticks\":\"\",\"title\":{\"standoff\":15},\"zerolinecolor\":\"white\",\"automargin\":true,\"zerolinewidth\":2},\"yaxis\":{\"gridcolor\":\"white\",\"linecolor\":\"white\",\"ticks\":\"\",\"title\":{\"standoff\":15},\"zerolinecolor\":\"white\",\"automargin\":true,\"zerolinewidth\":2},\"scene\":{\"xaxis\":{\"backgroundcolor\":\"#E5ECF6\",\"gridcolor\":\"white\",\"linecolor\":\"white\",\"showbackground\":true,\"ticks\":\"\",\"zerolinecolor\":\"white\",\"gridwidth\":2},\"yaxis\":{\"backgroundcolor\":\"#E5ECF6\",\"gridcolor\":\"white\",\"linecolor\":\"white\",\"showbackground\":true,\"ticks\":\"\",\"zerolinecolor\":\"white\",\"gridwidth\":2},\"zaxis\":{\"backgroundcolor\":\"#E5ECF6\",\"gridcolor\":\"white\",\"linecolor\":\"white\",\"showbackground\":true,\"ticks\":\"\",\"zerolinecolor\":\"white\",\"gridwidth\":2}},\"shapedefaults\":{\"line\":{\"color\":\"#2a3f5f\"}},\"annotationdefaults\":{\"arrowcolor\":\"#2a3f5f\",\"arrowhead\":0,\"arrowwidth\":1},\"geo\":{\"bgcolor\":\"white\",\"landcolor\":\"#E5ECF6\",\"subunitcolor\":\"white\",\"showland\":true,\"showlakes\":true,\"lakecolor\":\"white\"},\"title\":{\"x\":0.05},\"mapbox\":{\"style\":\"light\"}}},\"xaxis\":{\"anchor\":\"y\",\"domain\":[0.0,1.0],\"title\":{\"text\":\"fantasy_points_22\"}},\"yaxis\":{\"anchor\":\"x\",\"domain\":[0.0,1.0],\"title\":{\"text\":\"fantasy_points_23\"}},\"legend\":{\"tracegroupgap\":0},\"margin\":{\"t\":60}},                        {\"responsive\": true}                    ).then(function(){\n",
       "                            \n",
       "var gd = document.getElementById('45ade62d-3489-45c6-8122-d93f5eba2b8a');\n",
       "var x = new MutationObserver(function (mutations, observer) {{\n",
       "        var display = window.getComputedStyle(gd).display;\n",
       "        if (!display || display === 'none') {{\n",
       "            console.log([gd, 'removed!']);\n",
       "            Plotly.purge(gd);\n",
       "            observer.disconnect();\n",
       "        }}\n",
       "}});\n",
       "\n",
       "// Listen for the removal of the full notebook cells\n",
       "var notebookContainer = gd.closest('#notebook-container');\n",
       "if (notebookContainer) {{\n",
       "    x.observe(notebookContainer, {childList: true});\n",
       "}}\n",
       "\n",
       "// Listen for the clearing of the current output cell\n",
       "var outputEl = gd.closest('.output');\n",
       "if (outputEl) {{\n",
       "    x.observe(outputEl, {childList: true});\n",
       "}}\n",
       "\n",
       "                        })                };                });            </script>        </div>"
      ]
     },
     "metadata": {},
     "output_type": "display_data"
    }
   ],
   "source": [
    "px.scatter(players_24, x='fantasy_points_22', y='fantasy_points_23', hover_name='Player')"
   ]
  },
  {
   "cell_type": "code",
   "execution_count": 287,
   "metadata": {},
   "outputs": [],
   "source": [
    "#weighted average of 22 and 23 fantasy points\n",
    "from scipy import stats\n",
    "import numpy as np\n",
    "\n",
    "players_24['composite_fp'] = .65*players_24['fantasy_points_23'] + .35*players_24['fantasy_points_22']\n",
    "players_24['composite_percentile'] = players_24['composite_fp'].apply(lambda x : np.round(stats.percentileofscore(players_24['composite_fp'], x), 1))\n",
    "players_24['frac_calvin'] = players_24['composite_fp']/3464"
   ]
  },
  {
   "cell_type": "code",
   "execution_count": 274,
   "metadata": {},
   "outputs": [
    {
     "data": {
      "text/plain": [
       "<AxesSubplot: xlabel='composite_fp', ylabel='Count'>"
      ]
     },
     "execution_count": 274,
     "metadata": {},
     "output_type": "execute_result"
    },
    {
     "data": {
      "image/png": "[encoded data removed]",
      "text/plain": [
       "<Figure size 640x480 with 1 Axes>"
      ]
     },
     "metadata": {},
     "output_type": "display_data"
    }
   ],
   "source": [
    "sns.histplot(players_24['composite_fp'], bins=50)"
   ]
  },
  {
   "cell_type": "code",
   "execution_count": 288,
   "metadata": {},
   "outputs": [
    {
     "data": {
      "text/html": [
       "<div>\n",
       "<style scoped>\n",
       "    .dataframe tbody tr th:only-of-type {\n",
       "        vertical-align: middle;\n",
       "    }\n",
       "\n",
       "    .dataframe tbody tr th {\n",
       "        vertical-align: top;\n",
       "    }\n",
       "\n",
       "    .dataframe thead th {\n",
       "        text-align: right;\n",
       "    }\n",
       "</style>\n",
       "<table border=\"1\" class=\"dataframe\">\n",
       "  <thead>\n",
       "    <tr style=\"text-align: right;\">\n",
       "      <th></th>\n",
       "      <th>Player</th>\n",
       "      <th>career_events</th>\n",
       "      <th>join_date</th>\n",
       "      <th>rating_current</th>\n",
       "      <th>career_wins</th>\n",
       "      <th>fantasy_points_23</th>\n",
       "      <th>fantasy_points_22</th>\n",
       "      <th>composite_fp</th>\n",
       "      <th>composite_percentile</th>\n",
       "      <th>frac_calvin</th>\n",
       "    </tr>\n",
       "  </thead>\n",
       "  <tbody>\n",
       "    <tr>\n",
       "      <th>0</th>\n",
       "      <td>Calvin Heimburg</td>\n",
       "      <td>260</td>\n",
       "      <td>2010</td>\n",
       "      <td>1052.0</td>\n",
       "      <td>56</td>\n",
       "      <td>3929.5</td>\n",
       "      <td>2599.5</td>\n",
       "      <td>3464.000</td>\n",
       "      <td>100.0</td>\n",
       "      <td>1.000000</td>\n",
       "    </tr>\n",
       "    <tr>\n",
       "      <th>1</th>\n",
       "      <td>Ricky Wysocki</td>\n",
       "      <td>401</td>\n",
       "      <td>2009</td>\n",
       "      <td>1047.0</td>\n",
       "      <td>128</td>\n",
       "      <td>1849.0</td>\n",
       "      <td>3093.0</td>\n",
       "      <td>2284.400</td>\n",
       "      <td>98.9</td>\n",
       "      <td>0.659469</td>\n",
       "    </tr>\n",
       "    <tr>\n",
       "      <th>2</th>\n",
       "      <td>Gannon Buhr</td>\n",
       "      <td>None</td>\n",
       "      <td>None</td>\n",
       "      <td>NaN</td>\n",
       "      <td>None</td>\n",
       "      <td>2104.0</td>\n",
       "      <td>2539.5</td>\n",
       "      <td>2256.425</td>\n",
       "      <td>97.8</td>\n",
       "      <td>0.651393</td>\n",
       "    </tr>\n",
       "    <tr>\n",
       "      <th>3</th>\n",
       "      <td>Isaac Robinson</td>\n",
       "      <td>156</td>\n",
       "      <td>2011</td>\n",
       "      <td>1041.0</td>\n",
       "      <td>34</td>\n",
       "      <td>2686.5</td>\n",
       "      <td>1401.5</td>\n",
       "      <td>2236.750</td>\n",
       "      <td>96.7</td>\n",
       "      <td>0.645713</td>\n",
       "    </tr>\n",
       "    <tr>\n",
       "      <th>4</th>\n",
       "      <td>Simon Lizotte</td>\n",
       "      <td>260</td>\n",
       "      <td>2005</td>\n",
       "      <td>1044.0</td>\n",
       "      <td>80</td>\n",
       "      <td>1730.5</td>\n",
       "      <td>2019.0</td>\n",
       "      <td>1831.475</td>\n",
       "      <td>95.7</td>\n",
       "      <td>0.528717</td>\n",
       "    </tr>\n",
       "    <tr>\n",
       "      <th>5</th>\n",
       "      <td>Kyle Klein</td>\n",
       "      <td>None</td>\n",
       "      <td>None</td>\n",
       "      <td>NaN</td>\n",
       "      <td>None</td>\n",
       "      <td>2148.5</td>\n",
       "      <td>1223.0</td>\n",
       "      <td>1824.575</td>\n",
       "      <td>94.6</td>\n",
       "      <td>0.526725</td>\n",
       "    </tr>\n",
       "    <tr>\n",
       "      <th>6</th>\n",
       "      <td>Eagle McMahon</td>\n",
       "      <td>222</td>\n",
       "      <td>2008</td>\n",
       "      <td>1049.0</td>\n",
       "      <td>56</td>\n",
       "      <td>2282.0</td>\n",
       "      <td>519.0</td>\n",
       "      <td>1664.950</td>\n",
       "      <td>93.5</td>\n",
       "      <td>0.480644</td>\n",
       "    </tr>\n",
       "    <tr>\n",
       "      <th>7</th>\n",
       "      <td>Matt Orum</td>\n",
       "      <td>None</td>\n",
       "      <td>None</td>\n",
       "      <td>NaN</td>\n",
       "      <td>None</td>\n",
       "      <td>1554.5</td>\n",
       "      <td>1618.5</td>\n",
       "      <td>1576.900</td>\n",
       "      <td>92.4</td>\n",
       "      <td>0.455225</td>\n",
       "    </tr>\n",
       "    <tr>\n",
       "      <th>8</th>\n",
       "      <td>Paul McBeth</td>\n",
       "      <td>410</td>\n",
       "      <td>2005</td>\n",
       "      <td>1049.0</td>\n",
       "      <td>149</td>\n",
       "      <td>645.0</td>\n",
       "      <td>2990.5</td>\n",
       "      <td>1465.925</td>\n",
       "      <td>91.3</td>\n",
       "      <td>0.423189</td>\n",
       "    </tr>\n",
       "    <tr>\n",
       "      <th>9</th>\n",
       "      <td>Chris Dickerson</td>\n",
       "      <td>None</td>\n",
       "      <td>None</td>\n",
       "      <td>NaN</td>\n",
       "      <td>None</td>\n",
       "      <td>944.0</td>\n",
       "      <td>1817.0</td>\n",
       "      <td>1249.550</td>\n",
       "      <td>90.2</td>\n",
       "      <td>0.360725</td>\n",
       "    </tr>\n",
       "    <tr>\n",
       "      <th>10</th>\n",
       "      <td>Anthony Barela</td>\n",
       "      <td>217</td>\n",
       "      <td>2010</td>\n",
       "      <td>1035.0</td>\n",
       "      <td>34</td>\n",
       "      <td>1416.0</td>\n",
       "      <td>625.5</td>\n",
       "      <td>1139.325</td>\n",
       "      <td>89.1</td>\n",
       "      <td>0.328904</td>\n",
       "    </tr>\n",
       "    <tr>\n",
       "      <th>11</th>\n",
       "      <td>Aaron Gossage</td>\n",
       "      <td>155</td>\n",
       "      <td>2008</td>\n",
       "      <td>1032.0</td>\n",
       "      <td>29</td>\n",
       "      <td>1096.5</td>\n",
       "      <td>1107.5</td>\n",
       "      <td>1100.350</td>\n",
       "      <td>88.0</td>\n",
       "      <td>0.317653</td>\n",
       "    </tr>\n",
       "    <tr>\n",
       "      <th>12</th>\n",
       "      <td>Corey Ellis</td>\n",
       "      <td>251</td>\n",
       "      <td>2010</td>\n",
       "      <td>1030.0</td>\n",
       "      <td>51</td>\n",
       "      <td>999.0</td>\n",
       "      <td>1093.5</td>\n",
       "      <td>1032.075</td>\n",
       "      <td>87.0</td>\n",
       "      <td>0.297943</td>\n",
       "    </tr>\n",
       "    <tr>\n",
       "      <th>13</th>\n",
       "      <td>Kevin Jones</td>\n",
       "      <td>None</td>\n",
       "      <td>None</td>\n",
       "      <td>NaN</td>\n",
       "      <td>None</td>\n",
       "      <td>882.0</td>\n",
       "      <td>1133.0</td>\n",
       "      <td>969.850</td>\n",
       "      <td>85.9</td>\n",
       "      <td>0.279980</td>\n",
       "    </tr>\n",
       "    <tr>\n",
       "      <th>14</th>\n",
       "      <td>Cole Redalen</td>\n",
       "      <td>150</td>\n",
       "      <td>2015</td>\n",
       "      <td>1038.0</td>\n",
       "      <td>28</td>\n",
       "      <td>1388.0</td>\n",
       "      <td>124.0</td>\n",
       "      <td>945.600</td>\n",
       "      <td>84.8</td>\n",
       "      <td>0.272979</td>\n",
       "    </tr>\n",
       "    <tr>\n",
       "      <th>15</th>\n",
       "      <td>Adam Hammes</td>\n",
       "      <td>188</td>\n",
       "      <td>2013</td>\n",
       "      <td>1028.0</td>\n",
       "      <td>28</td>\n",
       "      <td>1074.5</td>\n",
       "      <td>678.0</td>\n",
       "      <td>935.725</td>\n",
       "      <td>83.7</td>\n",
       "      <td>0.270128</td>\n",
       "    </tr>\n",
       "    <tr>\n",
       "      <th>16</th>\n",
       "      <td>James Proctor</td>\n",
       "      <td>189</td>\n",
       "      <td>2008</td>\n",
       "      <td>1034.0</td>\n",
       "      <td>42</td>\n",
       "      <td>1375.5</td>\n",
       "      <td>110.5</td>\n",
       "      <td>932.750</td>\n",
       "      <td>82.6</td>\n",
       "      <td>0.269270</td>\n",
       "    </tr>\n",
       "    <tr>\n",
       "      <th>17</th>\n",
       "      <td>Joel Freeman</td>\n",
       "      <td>214</td>\n",
       "      <td>2014</td>\n",
       "      <td>1035.0</td>\n",
       "      <td>33</td>\n",
       "      <td>651.5</td>\n",
       "      <td>1405.0</td>\n",
       "      <td>915.225</td>\n",
       "      <td>81.5</td>\n",
       "      <td>0.264210</td>\n",
       "    </tr>\n",
       "    <tr>\n",
       "      <th>18</th>\n",
       "      <td>Niklas Anttila</td>\n",
       "      <td>101</td>\n",
       "      <td>2017</td>\n",
       "      <td>1040.0</td>\n",
       "      <td>23</td>\n",
       "      <td>788.5</td>\n",
       "      <td>988.0</td>\n",
       "      <td>858.325</td>\n",
       "      <td>80.4</td>\n",
       "      <td>0.247784</td>\n",
       "    </tr>\n",
       "    <tr>\n",
       "      <th>19</th>\n",
       "      <td>Ezra Aderhold</td>\n",
       "      <td>118</td>\n",
       "      <td>2019</td>\n",
       "      <td>1028.0</td>\n",
       "      <td>7</td>\n",
       "      <td>960.5</td>\n",
       "      <td>564.0</td>\n",
       "      <td>821.725</td>\n",
       "      <td>79.3</td>\n",
       "      <td>0.237219</td>\n",
       "    </tr>\n",
       "    <tr>\n",
       "      <th>20</th>\n",
       "      <td>James Conrad</td>\n",
       "      <td>None</td>\n",
       "      <td>None</td>\n",
       "      <td>NaN</td>\n",
       "      <td>None</td>\n",
       "      <td>706.0</td>\n",
       "      <td>852.0</td>\n",
       "      <td>757.100</td>\n",
       "      <td>78.3</td>\n",
       "      <td>0.218562</td>\n",
       "    </tr>\n",
       "    <tr>\n",
       "      <th>21</th>\n",
       "      <td>Bradley Williams</td>\n",
       "      <td>None</td>\n",
       "      <td>None</td>\n",
       "      <td>NaN</td>\n",
       "      <td>None</td>\n",
       "      <td>842.0</td>\n",
       "      <td>598.5</td>\n",
       "      <td>756.775</td>\n",
       "      <td>77.2</td>\n",
       "      <td>0.218469</td>\n",
       "    </tr>\n",
       "    <tr>\n",
       "      <th>22</th>\n",
       "      <td>Alden Harris</td>\n",
       "      <td>141</td>\n",
       "      <td>2017</td>\n",
       "      <td>1034.0</td>\n",
       "      <td>10</td>\n",
       "      <td>899.0</td>\n",
       "      <td>413.5</td>\n",
       "      <td>729.075</td>\n",
       "      <td>76.1</td>\n",
       "      <td>0.210472</td>\n",
       "    </tr>\n",
       "    <tr>\n",
       "      <th>23</th>\n",
       "      <td>Chris Clemons</td>\n",
       "      <td>None</td>\n",
       "      <td>None</td>\n",
       "      <td>NaN</td>\n",
       "      <td>None</td>\n",
       "      <td>488.0</td>\n",
       "      <td>972.0</td>\n",
       "      <td>657.400</td>\n",
       "      <td>75.0</td>\n",
       "      <td>0.189781</td>\n",
       "    </tr>\n",
       "    <tr>\n",
       "      <th>24</th>\n",
       "      <td>Ezra Robinson</td>\n",
       "      <td>None</td>\n",
       "      <td>None</td>\n",
       "      <td>NaN</td>\n",
       "      <td>None</td>\n",
       "      <td>943.5</td>\n",
       "      <td>90.0</td>\n",
       "      <td>644.775</td>\n",
       "      <td>73.9</td>\n",
       "      <td>0.186136</td>\n",
       "    </tr>\n",
       "    <tr>\n",
       "      <th>25</th>\n",
       "      <td>Emerson Keith</td>\n",
       "      <td>375</td>\n",
       "      <td>2011</td>\n",
       "      <td>1023.0</td>\n",
       "      <td>92</td>\n",
       "      <td>562.5</td>\n",
       "      <td>540.5</td>\n",
       "      <td>554.800</td>\n",
       "      <td>72.8</td>\n",
       "      <td>0.160162</td>\n",
       "    </tr>\n",
       "    <tr>\n",
       "      <th>26</th>\n",
       "      <td>Väinö Mäkelä</td>\n",
       "      <td>158</td>\n",
       "      <td>2013</td>\n",
       "      <td>1030.0</td>\n",
       "      <td>22</td>\n",
       "      <td>520.5</td>\n",
       "      <td>608.0</td>\n",
       "      <td>551.125</td>\n",
       "      <td>71.7</td>\n",
       "      <td>0.159101</td>\n",
       "    </tr>\n",
       "    <tr>\n",
       "      <th>27</th>\n",
       "      <td>Benjamin Callaway</td>\n",
       "      <td>None</td>\n",
       "      <td>None</td>\n",
       "      <td>NaN</td>\n",
       "      <td>None</td>\n",
       "      <td>641.5</td>\n",
       "      <td>186.0</td>\n",
       "      <td>482.075</td>\n",
       "      <td>70.7</td>\n",
       "      <td>0.139167</td>\n",
       "    </tr>\n",
       "    <tr>\n",
       "      <th>28</th>\n",
       "      <td>Mason Ford</td>\n",
       "      <td>143</td>\n",
       "      <td>2015</td>\n",
       "      <td>1028.0</td>\n",
       "      <td>40</td>\n",
       "      <td>459.5</td>\n",
       "      <td>430.0</td>\n",
       "      <td>449.175</td>\n",
       "      <td>69.6</td>\n",
       "      <td>0.129669</td>\n",
       "    </tr>\n",
       "    <tr>\n",
       "      <th>29</th>\n",
       "      <td>Drew Gibson</td>\n",
       "      <td>262</td>\n",
       "      <td>2011</td>\n",
       "      <td>1027.0</td>\n",
       "      <td>19</td>\n",
       "      <td>207.0</td>\n",
       "      <td>637.0</td>\n",
       "      <td>357.500</td>\n",
       "      <td>68.5</td>\n",
       "      <td>0.103204</td>\n",
       "    </tr>\n",
       "    <tr>\n",
       "      <th>30</th>\n",
       "      <td>Garrett Gurthie</td>\n",
       "      <td>412</td>\n",
       "      <td>1998</td>\n",
       "      <td>1028.0</td>\n",
       "      <td>46</td>\n",
       "      <td>265.0</td>\n",
       "      <td>382.0</td>\n",
       "      <td>305.950</td>\n",
       "      <td>67.4</td>\n",
       "      <td>0.088323</td>\n",
       "    </tr>\n",
       "    <tr>\n",
       "      <th>31</th>\n",
       "      <td>Gavin Babcock</td>\n",
       "      <td>106</td>\n",
       "      <td>2016</td>\n",
       "      <td>1021.0</td>\n",
       "      <td>6</td>\n",
       "      <td>262.5</td>\n",
       "      <td>379.5</td>\n",
       "      <td>303.450</td>\n",
       "      <td>66.3</td>\n",
       "      <td>0.087601</td>\n",
       "    </tr>\n",
       "    <tr>\n",
       "      <th>32</th>\n",
       "      <td>Gregg Barsby</td>\n",
       "      <td>None</td>\n",
       "      <td>None</td>\n",
       "      <td>NaN</td>\n",
       "      <td>None</td>\n",
       "      <td>241.0</td>\n",
       "      <td>419.0</td>\n",
       "      <td>303.300</td>\n",
       "      <td>65.2</td>\n",
       "      <td>0.087558</td>\n",
       "    </tr>\n",
       "    <tr>\n",
       "      <th>33</th>\n",
       "      <td>Evan Smith</td>\n",
       "      <td>109</td>\n",
       "      <td>2017</td>\n",
       "      <td>1026.0</td>\n",
       "      <td>24</td>\n",
       "      <td>335.0</td>\n",
       "      <td>233.0</td>\n",
       "      <td>299.300</td>\n",
       "      <td>64.1</td>\n",
       "      <td>0.086403</td>\n",
       "    </tr>\n",
       "    <tr>\n",
       "      <th>34</th>\n",
       "      <td>Andrew Presnell</td>\n",
       "      <td>299</td>\n",
       "      <td>2014</td>\n",
       "      <td>1030.0</td>\n",
       "      <td>91</td>\n",
       "      <td>310.0</td>\n",
       "      <td>241.0</td>\n",
       "      <td>285.850</td>\n",
       "      <td>63.0</td>\n",
       "      <td>0.082520</td>\n",
       "    </tr>\n",
       "    <tr>\n",
       "      <th>35</th>\n",
       "      <td>Andrew Marwede</td>\n",
       "      <td>248</td>\n",
       "      <td>2015</td>\n",
       "      <td>1030.0</td>\n",
       "      <td>59</td>\n",
       "      <td>295.5</td>\n",
       "      <td>245.5</td>\n",
       "      <td>278.000</td>\n",
       "      <td>62.0</td>\n",
       "      <td>0.080254</td>\n",
       "    </tr>\n",
       "    <tr>\n",
       "      <th>36</th>\n",
       "      <td>Nikko Locastro</td>\n",
       "      <td>503</td>\n",
       "      <td>1996</td>\n",
       "      <td>1029.0</td>\n",
       "      <td>123</td>\n",
       "      <td>296.0</td>\n",
       "      <td>229.0</td>\n",
       "      <td>272.550</td>\n",
       "      <td>60.9</td>\n",
       "      <td>0.078681</td>\n",
       "    </tr>\n",
       "    <tr>\n",
       "      <th>37</th>\n",
       "      <td>Paul Ulibarri</td>\n",
       "      <td>574</td>\n",
       "      <td>2005</td>\n",
       "      <td>1019.0</td>\n",
       "      <td>111</td>\n",
       "      <td>332.0</td>\n",
       "      <td>112.5</td>\n",
       "      <td>255.175</td>\n",
       "      <td>59.8</td>\n",
       "      <td>0.073665</td>\n",
       "    </tr>\n",
       "    <tr>\n",
       "      <th>38</th>\n",
       "      <td>Jake Hebenheimer</td>\n",
       "      <td>None</td>\n",
       "      <td>None</td>\n",
       "      <td>NaN</td>\n",
       "      <td>None</td>\n",
       "      <td>194.0</td>\n",
       "      <td>337.0</td>\n",
       "      <td>244.050</td>\n",
       "      <td>58.7</td>\n",
       "      <td>0.070453</td>\n",
       "    </tr>\n",
       "    <tr>\n",
       "      <th>39</th>\n",
       "      <td>Parker Welck</td>\n",
       "      <td>123</td>\n",
       "      <td>2009</td>\n",
       "      <td>1020.0</td>\n",
       "      <td>8</td>\n",
       "      <td>367.0</td>\n",
       "      <td>0.0</td>\n",
       "      <td>238.550</td>\n",
       "      <td>57.6</td>\n",
       "      <td>0.068865</td>\n",
       "    </tr>\n",
       "    <tr>\n",
       "      <th>40</th>\n",
       "      <td>Silas Schultz</td>\n",
       "      <td>135</td>\n",
       "      <td>2015</td>\n",
       "      <td>1014.0</td>\n",
       "      <td>31</td>\n",
       "      <td>330.5</td>\n",
       "      <td>36.0</td>\n",
       "      <td>227.425</td>\n",
       "      <td>56.5</td>\n",
       "      <td>0.065654</td>\n",
       "    </tr>\n",
       "    <tr>\n",
       "      <th>41</th>\n",
       "      <td>Brodie Smith</td>\n",
       "      <td>None</td>\n",
       "      <td>None</td>\n",
       "      <td>NaN</td>\n",
       "      <td>None</td>\n",
       "      <td>140.0</td>\n",
       "      <td>375.0</td>\n",
       "      <td>222.250</td>\n",
       "      <td>55.4</td>\n",
       "      <td>0.064160</td>\n",
       "    </tr>\n",
       "    <tr>\n",
       "      <th>42</th>\n",
       "      <td>Luke Humphries</td>\n",
       "      <td>None</td>\n",
       "      <td>None</td>\n",
       "      <td>NaN</td>\n",
       "      <td>None</td>\n",
       "      <td>81.0</td>\n",
       "      <td>427.0</td>\n",
       "      <td>202.100</td>\n",
       "      <td>54.3</td>\n",
       "      <td>0.058343</td>\n",
       "    </tr>\n",
       "    <tr>\n",
       "      <th>43</th>\n",
       "      <td>Tristan Tanner</td>\n",
       "      <td>138</td>\n",
       "      <td>2017</td>\n",
       "      <td>1008.0</td>\n",
       "      <td>2</td>\n",
       "      <td>90.0</td>\n",
       "      <td>408.5</td>\n",
       "      <td>201.475</td>\n",
       "      <td>53.3</td>\n",
       "      <td>0.058163</td>\n",
       "    </tr>\n",
       "    <tr>\n",
       "      <th>44</th>\n",
       "      <td>Chandler Kramer</td>\n",
       "      <td>93</td>\n",
       "      <td>2020</td>\n",
       "      <td>1022.0</td>\n",
       "      <td>7</td>\n",
       "      <td>128.0</td>\n",
       "      <td>310.5</td>\n",
       "      <td>191.875</td>\n",
       "      <td>52.2</td>\n",
       "      <td>0.055391</td>\n",
       "    </tr>\n",
       "    <tr>\n",
       "      <th>45</th>\n",
       "      <td>Austin Turner</td>\n",
       "      <td>None</td>\n",
       "      <td>None</td>\n",
       "      <td>NaN</td>\n",
       "      <td>None</td>\n",
       "      <td>276.0</td>\n",
       "      <td>24.0</td>\n",
       "      <td>187.800</td>\n",
       "      <td>51.1</td>\n",
       "      <td>0.054215</td>\n",
       "    </tr>\n",
       "    <tr>\n",
       "      <th>46</th>\n",
       "      <td>Nate Sexton</td>\n",
       "      <td>338</td>\n",
       "      <td>2001</td>\n",
       "      <td>1024.0</td>\n",
       "      <td>90</td>\n",
       "      <td>87.0</td>\n",
       "      <td>367.5</td>\n",
       "      <td>185.175</td>\n",
       "      <td>50.0</td>\n",
       "      <td>0.053457</td>\n",
       "    </tr>\n",
       "    <tr>\n",
       "      <th>47</th>\n",
       "      <td>Albert Tamm</td>\n",
       "      <td>153</td>\n",
       "      <td>2015</td>\n",
       "      <td>1022.0</td>\n",
       "      <td>25</td>\n",
       "      <td>119.5</td>\n",
       "      <td>294.0</td>\n",
       "      <td>180.575</td>\n",
       "      <td>48.9</td>\n",
       "      <td>0.052129</td>\n",
       "    </tr>\n",
       "    <tr>\n",
       "      <th>48</th>\n",
       "      <td>Matt Bell</td>\n",
       "      <td>None</td>\n",
       "      <td>None</td>\n",
       "      <td>NaN</td>\n",
       "      <td>None</td>\n",
       "      <td>191.0</td>\n",
       "      <td>156.0</td>\n",
       "      <td>178.750</td>\n",
       "      <td>47.8</td>\n",
       "      <td>0.051602</td>\n",
       "    </tr>\n",
       "    <tr>\n",
       "      <th>49</th>\n",
       "      <td>Gavin Rathbun</td>\n",
       "      <td>227</td>\n",
       "      <td>2013</td>\n",
       "      <td>1020.0</td>\n",
       "      <td>40</td>\n",
       "      <td>126.0</td>\n",
       "      <td>269.0</td>\n",
       "      <td>176.050</td>\n",
       "      <td>46.7</td>\n",
       "      <td>0.050823</td>\n",
       "    </tr>\n",
       "    <tr>\n",
       "      <th>50</th>\n",
       "      <td>Robert Burridge</td>\n",
       "      <td>84</td>\n",
       "      <td>2017</td>\n",
       "      <td>1021.0</td>\n",
       "      <td>21</td>\n",
       "      <td>137.0</td>\n",
       "      <td>245.0</td>\n",
       "      <td>174.800</td>\n",
       "      <td>45.7</td>\n",
       "      <td>0.050462</td>\n",
       "    </tr>\n",
       "    <tr>\n",
       "      <th>51</th>\n",
       "      <td>Jeremy Koling</td>\n",
       "      <td>None</td>\n",
       "      <td>None</td>\n",
       "      <td>NaN</td>\n",
       "      <td>None</td>\n",
       "      <td>105.0</td>\n",
       "      <td>263.0</td>\n",
       "      <td>160.300</td>\n",
       "      <td>44.6</td>\n",
       "      <td>0.046276</td>\n",
       "    </tr>\n",
       "    <tr>\n",
       "      <th>52</th>\n",
       "      <td>Joona Heinänen</td>\n",
       "      <td>136</td>\n",
       "      <td>2013</td>\n",
       "      <td>1028.0</td>\n",
       "      <td>8</td>\n",
       "      <td>160.0</td>\n",
       "      <td>85.5</td>\n",
       "      <td>133.925</td>\n",
       "      <td>43.5</td>\n",
       "      <td>0.038662</td>\n",
       "    </tr>\n",
       "    <tr>\n",
       "      <th>53</th>\n",
       "      <td>Casey White</td>\n",
       "      <td>None</td>\n",
       "      <td>None</td>\n",
       "      <td>NaN</td>\n",
       "      <td>None</td>\n",
       "      <td>135.0</td>\n",
       "      <td>129.0</td>\n",
       "      <td>132.900</td>\n",
       "      <td>42.4</td>\n",
       "      <td>0.038366</td>\n",
       "    </tr>\n",
       "    <tr>\n",
       "      <th>54</th>\n",
       "      <td>Eric Oakley</td>\n",
       "      <td>212</td>\n",
       "      <td>2012</td>\n",
       "      <td>1023.0</td>\n",
       "      <td>4</td>\n",
       "      <td>139.0</td>\n",
       "      <td>112.5</td>\n",
       "      <td>129.725</td>\n",
       "      <td>41.3</td>\n",
       "      <td>0.037449</td>\n",
       "    </tr>\n",
       "    <tr>\n",
       "      <th>55</th>\n",
       "      <td>Jakub Semerád</td>\n",
       "      <td>None</td>\n",
       "      <td>None</td>\n",
       "      <td>NaN</td>\n",
       "      <td>None</td>\n",
       "      <td>164.0</td>\n",
       "      <td>45.0</td>\n",
       "      <td>122.350</td>\n",
       "      <td>40.2</td>\n",
       "      <td>0.035320</td>\n",
       "    </tr>\n",
       "    <tr>\n",
       "      <th>56</th>\n",
       "      <td>Thomas Gilbert</td>\n",
       "      <td>203</td>\n",
       "      <td>2016</td>\n",
       "      <td>1011.0</td>\n",
       "      <td>32</td>\n",
       "      <td>9.0</td>\n",
       "      <td>323.0</td>\n",
       "      <td>118.900</td>\n",
       "      <td>39.1</td>\n",
       "      <td>0.034324</td>\n",
       "    </tr>\n",
       "    <tr>\n",
       "      <th>57</th>\n",
       "      <td>Austin Hannum</td>\n",
       "      <td>None</td>\n",
       "      <td>None</td>\n",
       "      <td>NaN</td>\n",
       "      <td>None</td>\n",
       "      <td>68.0</td>\n",
       "      <td>184.0</td>\n",
       "      <td>108.600</td>\n",
       "      <td>38.0</td>\n",
       "      <td>0.031351</td>\n",
       "    </tr>\n",
       "    <tr>\n",
       "      <th>58</th>\n",
       "      <td>Zach Arlinghaus</td>\n",
       "      <td>211</td>\n",
       "      <td>2014</td>\n",
       "      <td>1018.0</td>\n",
       "      <td>32</td>\n",
       "      <td>159.0</td>\n",
       "      <td>3.0</td>\n",
       "      <td>104.400</td>\n",
       "      <td>37.0</td>\n",
       "      <td>0.030139</td>\n",
       "    </tr>\n",
       "    <tr>\n",
       "      <th>59</th>\n",
       "      <td>Linus Carlsson</td>\n",
       "      <td>None</td>\n",
       "      <td>None</td>\n",
       "      <td>NaN</td>\n",
       "      <td>None</td>\n",
       "      <td>0.0</td>\n",
       "      <td>298.0</td>\n",
       "      <td>104.300</td>\n",
       "      <td>35.9</td>\n",
       "      <td>0.030110</td>\n",
       "    </tr>\n",
       "    <tr>\n",
       "      <th>60</th>\n",
       "      <td>Aidan Scott</td>\n",
       "      <td>127</td>\n",
       "      <td>2017</td>\n",
       "      <td>1018.0</td>\n",
       "      <td>60</td>\n",
       "      <td>157.5</td>\n",
       "      <td>0.0</td>\n",
       "      <td>102.375</td>\n",
       "      <td>34.8</td>\n",
       "      <td>0.029554</td>\n",
       "    </tr>\n",
       "    <tr>\n",
       "      <th>61</th>\n",
       "      <td>Lauri Lehtinen</td>\n",
       "      <td>97</td>\n",
       "      <td>2016</td>\n",
       "      <td>1033.0</td>\n",
       "      <td>17</td>\n",
       "      <td>69.0</td>\n",
       "      <td>156.0</td>\n",
       "      <td>99.450</td>\n",
       "      <td>33.7</td>\n",
       "      <td>0.028710</td>\n",
       "    </tr>\n",
       "    <tr>\n",
       "      <th>62</th>\n",
       "      <td>Sullivan Tipton</td>\n",
       "      <td>46</td>\n",
       "      <td>2015</td>\n",
       "      <td>1025.0</td>\n",
       "      <td>4</td>\n",
       "      <td>124.0</td>\n",
       "      <td>48.0</td>\n",
       "      <td>97.400</td>\n",
       "      <td>32.6</td>\n",
       "      <td>0.028118</td>\n",
       "    </tr>\n",
       "    <tr>\n",
       "      <th>63</th>\n",
       "      <td>Chandler Fry</td>\n",
       "      <td>None</td>\n",
       "      <td>None</td>\n",
       "      <td>NaN</td>\n",
       "      <td>None</td>\n",
       "      <td>12.0</td>\n",
       "      <td>237.0</td>\n",
       "      <td>90.750</td>\n",
       "      <td>31.5</td>\n",
       "      <td>0.026198</td>\n",
       "    </tr>\n",
       "    <tr>\n",
       "      <th>64</th>\n",
       "      <td>Luke Taylor</td>\n",
       "      <td>None</td>\n",
       "      <td>None</td>\n",
       "      <td>NaN</td>\n",
       "      <td>None</td>\n",
       "      <td>98.0</td>\n",
       "      <td>56.0</td>\n",
       "      <td>83.300</td>\n",
       "      <td>30.4</td>\n",
       "      <td>0.024047</td>\n",
       "    </tr>\n",
       "    <tr>\n",
       "      <th>65</th>\n",
       "      <td>Kevin Kiefer</td>\n",
       "      <td>None</td>\n",
       "      <td>None</td>\n",
       "      <td>NaN</td>\n",
       "      <td>None</td>\n",
       "      <td>97.0</td>\n",
       "      <td>48.0</td>\n",
       "      <td>79.850</td>\n",
       "      <td>29.3</td>\n",
       "      <td>0.023051</td>\n",
       "    </tr>\n",
       "    <tr>\n",
       "      <th>66</th>\n",
       "      <td>Paul Oman</td>\n",
       "      <td>354</td>\n",
       "      <td>2008</td>\n",
       "      <td>1019.0</td>\n",
       "      <td>55</td>\n",
       "      <td>90.0</td>\n",
       "      <td>52.0</td>\n",
       "      <td>76.700</td>\n",
       "      <td>28.3</td>\n",
       "      <td>0.022142</td>\n",
       "    </tr>\n",
       "    <tr>\n",
       "      <th>67</th>\n",
       "      <td>Mason Marchbanks</td>\n",
       "      <td>None</td>\n",
       "      <td>None</td>\n",
       "      <td>NaN</td>\n",
       "      <td>None</td>\n",
       "      <td>114.0</td>\n",
       "      <td>0.0</td>\n",
       "      <td>74.100</td>\n",
       "      <td>27.2</td>\n",
       "      <td>0.021391</td>\n",
       "    </tr>\n",
       "    <tr>\n",
       "      <th>68</th>\n",
       "      <td>Randon Latta</td>\n",
       "      <td>217</td>\n",
       "      <td>2012</td>\n",
       "      <td>1000.0</td>\n",
       "      <td>28</td>\n",
       "      <td>48.0</td>\n",
       "      <td>118.0</td>\n",
       "      <td>72.500</td>\n",
       "      <td>26.1</td>\n",
       "      <td>0.020930</td>\n",
       "    </tr>\n",
       "    <tr>\n",
       "      <th>69</th>\n",
       "      <td>Ty Love</td>\n",
       "      <td>72</td>\n",
       "      <td>2016</td>\n",
       "      <td>1012.0</td>\n",
       "      <td>6</td>\n",
       "      <td>96.0</td>\n",
       "      <td>25.0</td>\n",
       "      <td>71.150</td>\n",
       "      <td>25.0</td>\n",
       "      <td>0.020540</td>\n",
       "    </tr>\n",
       "    <tr>\n",
       "      <th>70</th>\n",
       "      <td>Nate Hecker</td>\n",
       "      <td>None</td>\n",
       "      <td>None</td>\n",
       "      <td>NaN</td>\n",
       "      <td>None</td>\n",
       "      <td>97.0</td>\n",
       "      <td>8.0</td>\n",
       "      <td>65.850</td>\n",
       "      <td>23.9</td>\n",
       "      <td>0.019010</td>\n",
       "    </tr>\n",
       "    <tr>\n",
       "      <th>71</th>\n",
       "      <td>Joseph Anderson</td>\n",
       "      <td>None</td>\n",
       "      <td>None</td>\n",
       "      <td>NaN</td>\n",
       "      <td>None</td>\n",
       "      <td>97.5</td>\n",
       "      <td>6.0</td>\n",
       "      <td>65.475</td>\n",
       "      <td>22.8</td>\n",
       "      <td>0.018902</td>\n",
       "    </tr>\n",
       "    <tr>\n",
       "      <th>72</th>\n",
       "      <td>Jesse Nieminen</td>\n",
       "      <td>None</td>\n",
       "      <td>None</td>\n",
       "      <td>NaN</td>\n",
       "      <td>None</td>\n",
       "      <td>1.5</td>\n",
       "      <td>165.0</td>\n",
       "      <td>58.725</td>\n",
       "      <td>21.7</td>\n",
       "      <td>0.016953</td>\n",
       "    </tr>\n",
       "    <tr>\n",
       "      <th>73</th>\n",
       "      <td>Evan Scott</td>\n",
       "      <td>154</td>\n",
       "      <td>2016</td>\n",
       "      <td>1021.0</td>\n",
       "      <td>30</td>\n",
       "      <td>76.5</td>\n",
       "      <td>10.0</td>\n",
       "      <td>53.225</td>\n",
       "      <td>20.7</td>\n",
       "      <td>0.015365</td>\n",
       "    </tr>\n",
       "    <tr>\n",
       "      <th>74</th>\n",
       "      <td>Connor OReilly</td>\n",
       "      <td>None</td>\n",
       "      <td>None</td>\n",
       "      <td>NaN</td>\n",
       "      <td>None</td>\n",
       "      <td>0.0</td>\n",
       "      <td>142.0</td>\n",
       "      <td>49.700</td>\n",
       "      <td>19.6</td>\n",
       "      <td>0.014348</td>\n",
       "    </tr>\n",
       "    <tr>\n",
       "      <th>75</th>\n",
       "      <td>Luke Samson</td>\n",
       "      <td>None</td>\n",
       "      <td>None</td>\n",
       "      <td>NaN</td>\n",
       "      <td>None</td>\n",
       "      <td>18.0</td>\n",
       "      <td>94.0</td>\n",
       "      <td>44.600</td>\n",
       "      <td>18.5</td>\n",
       "      <td>0.012875</td>\n",
       "    </tr>\n",
       "    <tr>\n",
       "      <th>76</th>\n",
       "      <td>Tuomas Hyytiäinen</td>\n",
       "      <td>164</td>\n",
       "      <td>2014</td>\n",
       "      <td>1017.0</td>\n",
       "      <td>17</td>\n",
       "      <td>63.0</td>\n",
       "      <td>0.0</td>\n",
       "      <td>40.950</td>\n",
       "      <td>17.4</td>\n",
       "      <td>0.011822</td>\n",
       "    </tr>\n",
       "    <tr>\n",
       "      <th>77</th>\n",
       "      <td>Raven Newsom</td>\n",
       "      <td>132</td>\n",
       "      <td>2016</td>\n",
       "      <td>1015.0</td>\n",
       "      <td>22</td>\n",
       "      <td>36.0</td>\n",
       "      <td>33.0</td>\n",
       "      <td>34.950</td>\n",
       "      <td>16.3</td>\n",
       "      <td>0.010089</td>\n",
       "    </tr>\n",
       "    <tr>\n",
       "      <th>78</th>\n",
       "      <td>Colten Montgomery</td>\n",
       "      <td>None</td>\n",
       "      <td>None</td>\n",
       "      <td>NaN</td>\n",
       "      <td>None</td>\n",
       "      <td>10.0</td>\n",
       "      <td>75.0</td>\n",
       "      <td>32.750</td>\n",
       "      <td>15.2</td>\n",
       "      <td>0.009454</td>\n",
       "    </tr>\n",
       "    <tr>\n",
       "      <th>79</th>\n",
       "      <td>Jake Monn</td>\n",
       "      <td>148</td>\n",
       "      <td>2017</td>\n",
       "      <td>1013.0</td>\n",
       "      <td>24</td>\n",
       "      <td>8.0</td>\n",
       "      <td>70.5</td>\n",
       "      <td>29.875</td>\n",
       "      <td>14.1</td>\n",
       "      <td>0.008624</td>\n",
       "    </tr>\n",
       "    <tr>\n",
       "      <th>80</th>\n",
       "      <td>Connor Rock</td>\n",
       "      <td>None</td>\n",
       "      <td>None</td>\n",
       "      <td>NaN</td>\n",
       "      <td>None</td>\n",
       "      <td>40.0</td>\n",
       "      <td>0.0</td>\n",
       "      <td>26.000</td>\n",
       "      <td>13.0</td>\n",
       "      <td>0.007506</td>\n",
       "    </tr>\n",
       "    <tr>\n",
       "      <th>81</th>\n",
       "      <td>Grady Shue</td>\n",
       "      <td>174</td>\n",
       "      <td>2014</td>\n",
       "      <td>1020.0</td>\n",
       "      <td>14</td>\n",
       "      <td>39.0</td>\n",
       "      <td>0.0</td>\n",
       "      <td>25.350</td>\n",
       "      <td>12.0</td>\n",
       "      <td>0.007318</td>\n",
       "    </tr>\n",
       "    <tr>\n",
       "      <th>82</th>\n",
       "      <td>Nathan Queen</td>\n",
       "      <td>285</td>\n",
       "      <td>2014</td>\n",
       "      <td>1017.0</td>\n",
       "      <td>52</td>\n",
       "      <td>12.0</td>\n",
       "      <td>42.0</td>\n",
       "      <td>22.500</td>\n",
       "      <td>10.9</td>\n",
       "      <td>0.006495</td>\n",
       "    </tr>\n",
       "    <tr>\n",
       "      <th>83</th>\n",
       "      <td>Carter Ahrens</td>\n",
       "      <td>96</td>\n",
       "      <td>2016</td>\n",
       "      <td>1010.0</td>\n",
       "      <td>23</td>\n",
       "      <td>33.0</td>\n",
       "      <td>0.0</td>\n",
       "      <td>21.450</td>\n",
       "      <td>9.8</td>\n",
       "      <td>0.006192</td>\n",
       "    </tr>\n",
       "    <tr>\n",
       "      <th>84</th>\n",
       "      <td>Andrew Fish</td>\n",
       "      <td>218</td>\n",
       "      <td>2013</td>\n",
       "      <td>1017.0</td>\n",
       "      <td>67</td>\n",
       "      <td>22.0</td>\n",
       "      <td>15.0</td>\n",
       "      <td>19.550</td>\n",
       "      <td>8.7</td>\n",
       "      <td>0.005644</td>\n",
       "    </tr>\n",
       "    <tr>\n",
       "      <th>85</th>\n",
       "      <td>Tim Barham</td>\n",
       "      <td>312</td>\n",
       "      <td>2012</td>\n",
       "      <td>1017.0</td>\n",
       "      <td>80</td>\n",
       "      <td>12.0</td>\n",
       "      <td>30.0</td>\n",
       "      <td>18.300</td>\n",
       "      <td>7.6</td>\n",
       "      <td>0.005283</td>\n",
       "    </tr>\n",
       "    <tr>\n",
       "      <th>86</th>\n",
       "      <td>Paul Krans</td>\n",
       "      <td>59</td>\n",
       "      <td>2020</td>\n",
       "      <td>1023.0</td>\n",
       "      <td>19</td>\n",
       "      <td>27.0</td>\n",
       "      <td>0.0</td>\n",
       "      <td>17.550</td>\n",
       "      <td>6.5</td>\n",
       "      <td>0.005066</td>\n",
       "    </tr>\n",
       "    <tr>\n",
       "      <th>87</th>\n",
       "      <td>Silver Lätt</td>\n",
       "      <td>185</td>\n",
       "      <td>2013</td>\n",
       "      <td>1014.0</td>\n",
       "      <td>48</td>\n",
       "      <td>21.0</td>\n",
       "      <td>0.0</td>\n",
       "      <td>13.650</td>\n",
       "      <td>5.4</td>\n",
       "      <td>0.003941</td>\n",
       "    </tr>\n",
       "    <tr>\n",
       "      <th>88</th>\n",
       "      <td>AJ Carey</td>\n",
       "      <td>290</td>\n",
       "      <td>2013</td>\n",
       "      <td>1012.0</td>\n",
       "      <td>21</td>\n",
       "      <td>0.0</td>\n",
       "      <td>30.0</td>\n",
       "      <td>10.500</td>\n",
       "      <td>4.3</td>\n",
       "      <td>0.003031</td>\n",
       "    </tr>\n",
       "    <tr>\n",
       "      <th>89</th>\n",
       "      <td>Clay Edwards</td>\n",
       "      <td>None</td>\n",
       "      <td>None</td>\n",
       "      <td>NaN</td>\n",
       "      <td>None</td>\n",
       "      <td>0.0</td>\n",
       "      <td>15.0</td>\n",
       "      <td>5.250</td>\n",
       "      <td>3.3</td>\n",
       "      <td>0.001516</td>\n",
       "    </tr>\n",
       "    <tr>\n",
       "      <th>90</th>\n",
       "      <td>Braeden Sides</td>\n",
       "      <td>None</td>\n",
       "      <td>None</td>\n",
       "      <td>NaN</td>\n",
       "      <td>None</td>\n",
       "      <td>0.0</td>\n",
       "      <td>0.0</td>\n",
       "      <td>0.000</td>\n",
       "      <td>1.6</td>\n",
       "      <td>0.000000</td>\n",
       "    </tr>\n",
       "    <tr>\n",
       "      <th>91</th>\n",
       "      <td>Jake Wolff</td>\n",
       "      <td>None</td>\n",
       "      <td>None</td>\n",
       "      <td>NaN</td>\n",
       "      <td>None</td>\n",
       "      <td>0.0</td>\n",
       "      <td>0.0</td>\n",
       "      <td>0.000</td>\n",
       "      <td>1.6</td>\n",
       "      <td>0.000000</td>\n",
       "    </tr>\n",
       "  </tbody>\n",
       "</table>\n",
       "</div>"
      ],
      "text/plain": [
       "               Player career_events join_date  rating_current career_wins  \\\n",
       "0     Calvin Heimburg           260      2010          1052.0          56   \n",
       "1       Ricky Wysocki           401      2009          1047.0         128   \n",
       "2         Gannon Buhr          None      None             NaN        None   \n",
       "3      Isaac Robinson           156      2011          1041.0          34   \n",
       "4       Simon Lizotte           260      2005          1044.0          80   \n",
       "5          Kyle Klein          None      None             NaN        None   \n",
       "6       Eagle McMahon           222      2008          1049.0          56   \n",
       "7           Matt Orum          None      None             NaN        None   \n",
       "8         Paul McBeth           410      2005          1049.0         149   \n",
       "9     Chris Dickerson          None      None             NaN        None   \n",
       "10     Anthony Barela           217      2010          1035.0          34   \n",
       "11      Aaron Gossage           155      2008          1032.0          29   \n",
       "12        Corey Ellis           251      2010          1030.0          51   \n",
       "13        Kevin Jones          None      None             NaN        None   \n",
       "14       Cole Redalen           150      2015          1038.0          28   \n",
       "15        Adam Hammes           188      2013          1028.0          28   \n",
       "16      James Proctor           189      2008          1034.0          42   \n",
       "17       Joel Freeman           214      2014          1035.0          33   \n",
       "18     Niklas Anttila           101      2017          1040.0          23   \n",
       "19      Ezra Aderhold           118      2019          1028.0           7   \n",
       "20       James Conrad          None      None             NaN        None   \n",
       "21   Bradley Williams          None      None             NaN        None   \n",
       "22       Alden Harris           141      2017          1034.0          10   \n",
       "23      Chris Clemons          None      None             NaN        None   \n",
       "24      Ezra Robinson          None      None             NaN        None   \n",
       "25      Emerson Keith           375      2011          1023.0          92   \n",
       "26       Väinö Mäkelä           158      2013          1030.0          22   \n",
       "27  Benjamin Callaway          None      None             NaN        None   \n",
       "28         Mason Ford           143      2015          1028.0          40   \n",
       "29        Drew Gibson           262      2011          1027.0          19   \n",
       "30    Garrett Gurthie           412      1998          1028.0          46   \n",
       "31      Gavin Babcock           106      2016          1021.0           6   \n",
       "32       Gregg Barsby          None      None             NaN        None   \n",
       "33         Evan Smith           109      2017          1026.0          24   \n",
       "34    Andrew Presnell           299      2014          1030.0          91   \n",
       "35     Andrew Marwede           248      2015          1030.0          59   \n",
       "36     Nikko Locastro           503      1996          1029.0         123   \n",
       "37      Paul Ulibarri           574      2005          1019.0         111   \n",
       "38   Jake Hebenheimer          None      None             NaN        None   \n",
       "39       Parker Welck           123      2009          1020.0           8   \n",
       "40      Silas Schultz           135      2015          1014.0          31   \n",
       "41       Brodie Smith          None      None             NaN        None   \n",
       "42     Luke Humphries          None      None             NaN        None   \n",
       "43     Tristan Tanner           138      2017          1008.0           2   \n",
       "44    Chandler Kramer            93      2020          1022.0           7   \n",
       "45      Austin Turner          None      None             NaN        None   \n",
       "46        Nate Sexton           338      2001          1024.0          90   \n",
       "47        Albert Tamm           153      2015          1022.0          25   \n",
       "48          Matt Bell          None      None             NaN        None   \n",
       "49      Gavin Rathbun           227      2013          1020.0          40   \n",
       "50    Robert Burridge            84      2017          1021.0          21   \n",
       "51      Jeremy Koling          None      None             NaN        None   \n",
       "52     Joona Heinänen           136      2013          1028.0           8   \n",
       "53        Casey White          None      None             NaN        None   \n",
       "54        Eric Oakley           212      2012          1023.0           4   \n",
       "55      Jakub Semerád          None      None             NaN        None   \n",
       "56     Thomas Gilbert           203      2016          1011.0          32   \n",
       "57      Austin Hannum          None      None             NaN        None   \n",
       "58    Zach Arlinghaus           211      2014          1018.0          32   \n",
       "59     Linus Carlsson          None      None             NaN        None   \n",
       "60        Aidan Scott           127      2017          1018.0          60   \n",
       "61     Lauri Lehtinen            97      2016          1033.0          17   \n",
       "62    Sullivan Tipton            46      2015          1025.0           4   \n",
       "63       Chandler Fry          None      None             NaN        None   \n",
       "64        Luke Taylor          None      None             NaN        None   \n",
       "65       Kevin Kiefer          None      None             NaN        None   \n",
       "66          Paul Oman           354      2008          1019.0          55   \n",
       "67   Mason Marchbanks          None      None             NaN        None   \n",
       "68       Randon Latta           217      2012          1000.0          28   \n",
       "69            Ty Love            72      2016          1012.0           6   \n",
       "70        Nate Hecker          None      None             NaN        None   \n",
       "71    Joseph Anderson          None      None             NaN        None   \n",
       "72     Jesse Nieminen          None      None             NaN        None   \n",
       "73         Evan Scott           154      2016          1021.0          30   \n",
       "74     Connor OReilly          None      None             NaN        None   \n",
       "75        Luke Samson          None      None             NaN        None   \n",
       "76  Tuomas Hyytiäinen           164      2014          1017.0          17   \n",
       "77       Raven Newsom           132      2016          1015.0          22   \n",
       "78  Colten Montgomery          None      None             NaN        None   \n",
       "79          Jake Monn           148      2017          1013.0          24   \n",
       "80        Connor Rock          None      None             NaN        None   \n",
       "81         Grady Shue           174      2014          1020.0          14   \n",
       "82       Nathan Queen           285      2014          1017.0          52   \n",
       "83      Carter Ahrens            96      2016          1010.0          23   \n",
       "84        Andrew Fish           218      2013          1017.0          67   \n",
       "85         Tim Barham           312      2012          1017.0          80   \n",
       "86         Paul Krans            59      2020          1023.0          19   \n",
       "87        Silver Lätt           185      2013          1014.0          48   \n",
       "88           AJ Carey           290      2013          1012.0          21   \n",
       "89       Clay Edwards          None      None             NaN        None   \n",
       "90      Braeden Sides          None      None             NaN        None   \n",
       "91         Jake Wolff          None      None             NaN        None   \n",
       "\n",
       "    fantasy_points_23  fantasy_points_22  composite_fp  composite_percentile  \\\n",
       "0              3929.5             2599.5      3464.000                 100.0   \n",
       "1              1849.0             3093.0      2284.400                  98.9   \n",
       "2              2104.0             2539.5      2256.425                  97.8   \n",
       "3              2686.5             1401.5      2236.750                  96.7   \n",
       "4              1730.5             2019.0      1831.475                  95.7   \n",
       "5              2148.5             1223.0      1824.575                  94.6   \n",
       "6              2282.0              519.0      1664.950                  93.5   \n",
       "7              1554.5             1618.5      1576.900                  92.4   \n",
       "8               645.0             2990.5      1465.925                  91.3   \n",
       "9               944.0             1817.0      1249.550                  90.2   \n",
       "10             1416.0              625.5      1139.325                  89.1   \n",
       "11             1096.5             1107.5      1100.350                  88.0   \n",
       "12              999.0             1093.5      1032.075                  87.0   \n",
       "13              882.0             1133.0       969.850                  85.9   \n",
       "14             1388.0              124.0       945.600                  84.8   \n",
       "15             1074.5              678.0       935.725                  83.7   \n",
       "16             1375.5              110.5       932.750                  82.6   \n",
       "17              651.5             1405.0       915.225                  81.5   \n",
       "18              788.5              988.0       858.325                  80.4   \n",
       "19              960.5              564.0       821.725                  79.3   \n",
       "20              706.0              852.0       757.100                  78.3   \n",
       "21              842.0              598.5       756.775                  77.2   \n",
       "22              899.0              413.5       729.075                  76.1   \n",
       "23              488.0              972.0       657.400                  75.0   \n",
       "24              943.5               90.0       644.775                  73.9   \n",
       "25              562.5              540.5       554.800                  72.8   \n",
       "26              520.5              608.0       551.125                  71.7   \n",
       "27              641.5              186.0       482.075                  70.7   \n",
       "28              459.5              430.0       449.175                  69.6   \n",
       "29              207.0              637.0       357.500                  68.5   \n",
       "30              265.0              382.0       305.950                  67.4   \n",
       "31              262.5              379.5       303.450                  66.3   \n",
       "32              241.0              419.0       303.300                  65.2   \n",
       "33              335.0              233.0       299.300                  64.1   \n",
       "34              310.0              241.0       285.850                  63.0   \n",
       "35              295.5              245.5       278.000                  62.0   \n",
       "36              296.0              229.0       272.550                  60.9   \n",
       "37              332.0              112.5       255.175                  59.8   \n",
       "38              194.0              337.0       244.050                  58.7   \n",
       "39              367.0                0.0       238.550                  57.6   \n",
       "40              330.5               36.0       227.425                  56.5   \n",
       "41              140.0              375.0       222.250                  55.4   \n",
       "42               81.0              427.0       202.100                  54.3   \n",
       "43               90.0              408.5       201.475                  53.3   \n",
       "44              128.0              310.5       191.875                  52.2   \n",
       "45              276.0               24.0       187.800                  51.1   \n",
       "46               87.0              367.5       185.175                  50.0   \n",
       "47              119.5              294.0       180.575                  48.9   \n",
       "48              191.0              156.0       178.750                  47.8   \n",
       "49              126.0              269.0       176.050                  46.7   \n",
       "50              137.0              245.0       174.800                  45.7   \n",
       "51              105.0              263.0       160.300                  44.6   \n",
       "52              160.0               85.5       133.925                  43.5   \n",
       "53              135.0              129.0       132.900                  42.4   \n",
       "54              139.0              112.5       129.725                  41.3   \n",
       "55              164.0               45.0       122.350                  40.2   \n",
       "56                9.0              323.0       118.900                  39.1   \n",
       "57               68.0              184.0       108.600                  38.0   \n",
       "58              159.0                3.0       104.400                  37.0   \n",
       "59                0.0              298.0       104.300                  35.9   \n",
       "60              157.5                0.0       102.375                  34.8   \n",
       "61               69.0              156.0        99.450                  33.7   \n",
       "62              124.0               48.0        97.400                  32.6   \n",
       "63               12.0              237.0        90.750                  31.5   \n",
       "64               98.0               56.0        83.300                  30.4   \n",
       "65               97.0               48.0        79.850                  29.3   \n",
       "66               90.0               52.0        76.700                  28.3   \n",
       "67              114.0                0.0        74.100                  27.2   \n",
       "68               48.0              118.0        72.500                  26.1   \n",
       "69               96.0               25.0        71.150                  25.0   \n",
       "70               97.0                8.0        65.850                  23.9   \n",
       "71               97.5                6.0        65.475                  22.8   \n",
       "72                1.5              165.0        58.725                  21.7   \n",
       "73               76.5               10.0        53.225                  20.7   \n",
       "74                0.0              142.0        49.700                  19.6   \n",
       "75               18.0               94.0        44.600                  18.5   \n",
       "76               63.0                0.0        40.950                  17.4   \n",
       "77               36.0               33.0        34.950                  16.3   \n",
       "78               10.0               75.0        32.750                  15.2   \n",
       "79                8.0               70.5        29.875                  14.1   \n",
       "80               40.0                0.0        26.000                  13.0   \n",
       "81               39.0                0.0        25.350                  12.0   \n",
       "82               12.0               42.0        22.500                  10.9   \n",
       "83               33.0                0.0        21.450                   9.8   \n",
       "84               22.0               15.0        19.550                   8.7   \n",
       "85               12.0               30.0        18.300                   7.6   \n",
       "86               27.0                0.0        17.550                   6.5   \n",
       "87               21.0                0.0        13.650                   5.4   \n",
       "88                0.0               30.0        10.500                   4.3   \n",
       "89                0.0               15.0         5.250                   3.3   \n",
       "90                0.0                0.0         0.000                   1.6   \n",
       "91                0.0                0.0         0.000                   1.6   \n",
       "\n",
       "    frac_calvin  \n",
       "0      1.000000  \n",
       "1      0.659469  \n",
       "2      0.651393  \n",
       "3      0.645713  \n",
       "4      0.528717  \n",
       "5      0.526725  \n",
       "6      0.480644  \n",
       "7      0.455225  \n",
       "8      0.423189  \n",
       "9      0.360725  \n",
       "10     0.328904  \n",
       "11     0.317653  \n",
       "12     0.297943  \n",
       "13     0.279980  \n",
       "14     0.272979  \n",
       "15     0.270128  \n",
       "16     0.269270  \n",
       "17     0.264210  \n",
       "18     0.247784  \n",
       "19     0.237219  \n",
       "20     0.218562  \n",
       "21     0.218469  \n",
       "22     0.210472  \n",
       "23     0.189781  \n",
       "24     0.186136  \n",
       "25     0.160162  \n",
       "26     0.159101  \n",
       "27     0.139167  \n",
       "28     0.129669  \n",
       "29     0.103204  \n",
       "30     0.088323  \n",
       "31     0.087601  \n",
       "32     0.087558  \n",
       "33     0.086403  \n",
       "34     0.082520  \n",
       "35     0.080254  \n",
       "36     0.078681  \n",
       "37     0.073665  \n",
       "38     0.070453  \n",
       "39     0.068865  \n",
       "40     0.065654  \n",
       "41     0.064160  \n",
       "42     0.058343  \n",
       "43     0.058163  \n",
       "44     0.055391  \n",
       "45     0.054215  \n",
       "46     0.053457  \n",
       "47     0.052129  \n",
       "48     0.051602  \n",
       "49     0.050823  \n",
       "50     0.050462  \n",
       "51     0.046276  \n",
       "52     0.038662  \n",
       "53     0.038366  \n",
       "54     0.037449  \n",
       "55     0.035320  \n",
       "56     0.034324  \n",
       "57     0.031351  \n",
       "58     0.030139  \n",
       "59     0.030110  \n",
       "60     0.029554  \n",
       "61     0.028710  \n",
       "62     0.028118  \n",
       "63     0.026198  \n",
       "64     0.024047  \n",
       "65     0.023051  \n",
       "66     0.022142  \n",
       "67     0.021391  \n",
       "68     0.020930  \n",
       "69     0.020540  \n",
       "70     0.019010  \n",
       "71     0.018902  \n",
       "72     0.016953  \n",
       "73     0.015365  \n",
       "74     0.014348  \n",
       "75     0.012875  \n",
       "76     0.011822  \n",
       "77     0.010089  \n",
       "78     0.009454  \n",
       "79     0.008624  \n",
       "80     0.007506  \n",
       "81     0.007318  \n",
       "82     0.006495  \n",
       "83     0.006192  \n",
       "84     0.005644  \n",
       "85     0.005283  \n",
       "86     0.005066  \n",
       "87     0.003941  \n",
       "88     0.003031  \n",
       "89     0.001516  \n",
       "90     0.000000  \n",
       "91     0.000000  "
      ]
     },
     "execution_count": 288,
     "metadata": {},
     "output_type": "execute_result"
    }
   ],
   "source": [
    "draft = players_24.drop(columns=['stats_data', 'ratings_data', 'career_earnings', 'world_rank', 'pdga_number']).sort_values(by='composite_fp', ascending=False)\n",
    "draft.reset_index(drop=True)"
   ]
  },
  {
   "cell_type": "code",
   "execution_count": null,
   "metadata": {},
   "outputs": [],
   "source": []
  }
 ],
 "metadata": {
  "kernelspec": {
   "display_name": "datascience",
   "language": "python",
   "name": "python3"
  },
  "language_info": {
   "codemirror_mode": {
    "name": "ipython",
    "version": 3
   },
   "file_extension": ".py",
   "mimetype": "text/x-python",
   "name": "python",
   "nbconvert_exporter": "python",
   "pygments_lexer": "ipython3",
   "version": "3.9.15"
  },
  "orig_nbformat": 4
 },
 "nbformat": 4,
 "nbformat_minor": 2
}
