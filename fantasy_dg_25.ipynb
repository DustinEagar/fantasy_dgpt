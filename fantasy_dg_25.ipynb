{
 "cells": [
  {
   "cell_type": "markdown",
   "metadata": {},
   "source": [
    "## Fantasy DG 2025 Draft Prep\n",
    "Analysis for 2025 fantasy dg"
   ]
  },
  {
   "cell_type": "code",
   "execution_count": 21,
   "metadata": {},
   "outputs": [
    {
     "name": "stdout",
     "output_type": "stream",
     "text": [
      "The autoreload extension is already loaded. To reload it, use:\n",
      "  %reload_ext autoreload\n"
     ]
    }
   ],
   "source": [
    "%load_ext autoreload\n",
    "%autoreload 2\n",
    "\n",
    "import pandas as pd\n",
    "import numpy as np\n",
    "import plotly.express as px\n",
    "import json\n",
    "\n",
    "from utils.feature_extraction import calculate_fantasy_points, calculate_composite_scores\n",
    "from utils.analysis_utils import player_historic_linechart, player_scoring_linechart, plot_histogram"
   ]
  },
  {
   "cell_type": "code",
   "execution_count": 2,
   "metadata": {},
   "outputs": [],
   "source": [
    "#df = pd.read_csv('./data/players_crawled_25.csv')"
   ]
  },
  {
   "cell_type": "code",
   "execution_count": 3,
   "metadata": {},
   "outputs": [],
   "source": [
    "#scoring_curve_25 = pd.read_csv('./data/points_map_2025.csv')"
   ]
  },
  {
   "cell_type": "code",
   "execution_count": 4,
   "metadata": {},
   "outputs": [],
   "source": [
    "#points_map_25 = {key: value for key, value in zip(scoring_curve_25['Position'], scoring_curve_25['Points'])}\n",
    "#points_map_25"
   ]
  },
  {
   "cell_type": "code",
   "execution_count": 5,
   "metadata": {},
   "outputs": [],
   "source": [
    "#Write points map to json dictionary\n",
    "# with open('./data/points_map_2025.json', 'w') as f:\n",
    "#     json.dump(points_map_25, f, indent=4)"
   ]
  },
  {
   "cell_type": "code",
   "execution_count": 6,
   "metadata": {},
   "outputs": [
    {
     "data": {
      "text/html": [
       "<div>\n",
       "<style scoped>\n",
       "    .dataframe tbody tr th:only-of-type {\n",
       "        vertical-align: middle;\n",
       "    }\n",
       "\n",
       "    .dataframe tbody tr th {\n",
       "        vertical-align: top;\n",
       "    }\n",
       "\n",
       "    .dataframe thead th {\n",
       "        text-align: right;\n",
       "    }\n",
       "</style>\n",
       "<table border=\"1\" class=\"dataframe\">\n",
       "  <thead>\n",
       "    <tr style=\"text-align: right;\">\n",
       "      <th></th>\n",
       "      <th>Player</th>\n",
       "      <th>pdga_number</th>\n",
       "      <th>career_events</th>\n",
       "      <th>join_date</th>\n",
       "      <th>rating_current</th>\n",
       "      <th>career_wins</th>\n",
       "      <th>career_earnings</th>\n",
       "      <th>world_rank</th>\n",
       "      <th>stats_data</th>\n",
       "      <th>ratings_data</th>\n",
       "      <th>fantasy_points_22</th>\n",
       "      <th>fantasy_points_23</th>\n",
       "      <th>fantasy_points_24</th>\n",
       "      <th>composite_fp</th>\n",
       "      <th>composite_percentile</th>\n",
       "      <th>frac_calvin</th>\n",
       "    </tr>\n",
       "  </thead>\n",
       "  <tbody>\n",
       "    <tr>\n",
       "      <th>0</th>\n",
       "      <td>Gannon Buhr</td>\n",
       "      <td>75412</td>\n",
       "      <td>157</td>\n",
       "      <td>2015</td>\n",
       "      <td>1059.0</td>\n",
       "      <td>44</td>\n",
       "      <td>411,712.00</td>\n",
       "      <td>NaN</td>\n",
       "      <td>[{'Place': ['2', '25', '24', '7', '4', '5', '5...</td>\n",
       "      <td>[{\"Rating\": [\"1024\", \"1074\", \"1052\", \"1093\", \"...</td>\n",
       "      <td>3139.5</td>\n",
       "      <td>2535.5</td>\n",
       "      <td>5745.5</td>\n",
       "      <td>4622.000</td>\n",
       "      <td>100.0</td>\n",
       "      <td>1.334296</td>\n",
       "    </tr>\n",
       "    <tr>\n",
       "      <th>1</th>\n",
       "      <td>Calvin Heimburg</td>\n",
       "      <td>45971</td>\n",
       "      <td>284</td>\n",
       "      <td>2010</td>\n",
       "      <td>1044.0</td>\n",
       "      <td>58</td>\n",
       "      <td>460,327.31</td>\n",
       "      <td>NaN</td>\n",
       "      <td>[{'Place': ['3', '16', '6', '2', '2', '3', '1'...</td>\n",
       "      <td>[{\"Rating\": [\"1014\", \"1058\", \"1070\", \"1039\", \"...</td>\n",
       "      <td>3094.0</td>\n",
       "      <td>4594.5</td>\n",
       "      <td>3949.5</td>\n",
       "      <td>4175.250</td>\n",
       "      <td>99.1</td>\n",
       "      <td>1.205326</td>\n",
       "    </tr>\n",
       "    <tr>\n",
       "      <th>2</th>\n",
       "      <td>Ricky Wysocki</td>\n",
       "      <td>38008</td>\n",
       "      <td>426</td>\n",
       "      <td>2009</td>\n",
       "      <td>1053.0</td>\n",
       "      <td>131</td>\n",
       "      <td>826,674.76</td>\n",
       "      <td>NaN</td>\n",
       "      <td>[{'Place': ['7', '12', '2', '1', '2', '10', '1...</td>\n",
       "      <td>[{\"Rating\": [\"1044\", \"1044\", \"1043\", \"1035\", \"...</td>\n",
       "      <td>3500.5</td>\n",
       "      <td>2300.0</td>\n",
       "      <td>5005.0</td>\n",
       "      <td>4058.250</td>\n",
       "      <td>98.3</td>\n",
       "      <td>1.171550</td>\n",
       "    </tr>\n",
       "    <tr>\n",
       "      <th>3</th>\n",
       "      <td>Isaac Robinson</td>\n",
       "      <td>50670</td>\n",
       "      <td>182</td>\n",
       "      <td>2011</td>\n",
       "      <td>1046.0</td>\n",
       "      <td>36</td>\n",
       "      <td>281,949.43</td>\n",
       "      <td>NaN</td>\n",
       "      <td>[{'Place': ['2', '1', '5', '45', '1', '19', '1...</td>\n",
       "      <td>[{\"Rating\": [\"987\", \"1053\", \"1069\", \"1052\", \"1...</td>\n",
       "      <td>1676.0</td>\n",
       "      <td>3101.5</td>\n",
       "      <td>3239.5</td>\n",
       "      <td>3191.200</td>\n",
       "      <td>97.4</td>\n",
       "      <td>0.921247</td>\n",
       "    </tr>\n",
       "    <tr>\n",
       "      <th>4</th>\n",
       "      <td>Anthony Barela</td>\n",
       "      <td>44382</td>\n",
       "      <td>246</td>\n",
       "      <td>2010</td>\n",
       "      <td>1040.0</td>\n",
       "      <td>39</td>\n",
       "      <td>242,195.33</td>\n",
       "      <td>NaN</td>\n",
       "      <td>[{'Place': ['4', '21', '2', '20', '24', '7', '...</td>\n",
       "      <td>[{\"Rating\": [\"1074\", \"1054\", \"1060\", \"1035\", \"...</td>\n",
       "      <td>933.5</td>\n",
       "      <td>1802.5</td>\n",
       "      <td>3026.0</td>\n",
       "      <td>2597.775</td>\n",
       "      <td>96.6</td>\n",
       "      <td>0.749935</td>\n",
       "    </tr>\n",
       "  </tbody>\n",
       "</table>\n",
       "</div>"
      ],
      "text/plain": [
       "            Player  pdga_number  career_events  join_date  rating_current  \\\n",
       "0      Gannon Buhr        75412            157       2015          1059.0   \n",
       "1  Calvin Heimburg        45971            284       2010          1044.0   \n",
       "2    Ricky Wysocki        38008            426       2009          1053.0   \n",
       "3   Isaac Robinson        50670            182       2011          1046.0   \n",
       "4   Anthony Barela        44382            246       2010          1040.0   \n",
       "\n",
       "   career_wins career_earnings  world_rank  \\\n",
       "0           44      411,712.00         NaN   \n",
       "1           58      460,327.31         NaN   \n",
       "2          131      826,674.76         NaN   \n",
       "3           36      281,949.43         NaN   \n",
       "4           39      242,195.33         NaN   \n",
       "\n",
       "                                          stats_data  \\\n",
       "0  [{'Place': ['2', '25', '24', '7', '4', '5', '5...   \n",
       "1  [{'Place': ['3', '16', '6', '2', '2', '3', '1'...   \n",
       "2  [{'Place': ['7', '12', '2', '1', '2', '10', '1...   \n",
       "3  [{'Place': ['2', '1', '5', '45', '1', '19', '1...   \n",
       "4  [{'Place': ['4', '21', '2', '20', '24', '7', '...   \n",
       "\n",
       "                                        ratings_data  fantasy_points_22  \\\n",
       "0  [{\"Rating\": [\"1024\", \"1074\", \"1052\", \"1093\", \"...             3139.5   \n",
       "1  [{\"Rating\": [\"1014\", \"1058\", \"1070\", \"1039\", \"...             3094.0   \n",
       "2  [{\"Rating\": [\"1044\", \"1044\", \"1043\", \"1035\", \"...             3500.5   \n",
       "3  [{\"Rating\": [\"987\", \"1053\", \"1069\", \"1052\", \"1...             1676.0   \n",
       "4  [{\"Rating\": [\"1074\", \"1054\", \"1060\", \"1035\", \"...              933.5   \n",
       "\n",
       "   fantasy_points_23  fantasy_points_24  composite_fp  composite_percentile  \\\n",
       "0             2535.5             5745.5      4622.000                 100.0   \n",
       "1             4594.5             3949.5      4175.250                  99.1   \n",
       "2             2300.0             5005.0      4058.250                  98.3   \n",
       "3             3101.5             3239.5      3191.200                  97.4   \n",
       "4             1802.5             3026.0      2597.775                  96.6   \n",
       "\n",
       "   frac_calvin  \n",
       "0     1.334296  \n",
       "1     1.205326  \n",
       "2     1.171550  \n",
       "3     0.921247  \n",
       "4     0.749935  "
      ]
     },
     "execution_count": 6,
     "metadata": {},
     "output_type": "execute_result"
    }
   ],
   "source": [
    "df = pd.read_csv('./data/players_crawled_25_updated.csv')\n",
    "df.head()"
   ]
  },
  {
   "cell_type": "code",
   "execution_count": 7,
   "metadata": {},
   "outputs": [],
   "source": [
    "#Create a sample dataframe for aider\n",
    "#df.head(2).to_csv('./data/players_25_crawled_sample.csv', index=False)"
   ]
  },
  {
   "cell_type": "code",
   "execution_count": null,
   "metadata": {},
   "outputs": [],
   "source": [
    "import plotly.express as px\n",
    "import pandas as pd\n",
    "\n",
    "\n"
   ]
  },
  {
   "cell_type": "code",
   "execution_count": 22,
   "metadata": {},
   "outputs": [
    {
     "data": {
      "application/vnd.plotly.v1+json": {
       "config": {
        "plotlyServerURL": "https://plot.ly"
       },
       "data": [
        {
         "alignmentgroup": "True",
         "bingroup": "x",
         "hovertemplate": "fantasy_points_24=%{x}<br>count=%{y}<extra></extra>",
         "legendgroup": "",
         "marker": {
          "color": "#636efa",
          "pattern": {
           "shape": ""
          }
         },
         "name": "",
         "nbinsx": 35,
         "offsetgroup": "",
         "orientation": "v",
         "showlegend": false,
         "type": "histogram",
         "x": [
          5745.5,
          3949.5,
          5005,
          3239.5,
          3026,
          3326.5,
          2257,
          2815.5,
          1890.5,
          2514,
          2218,
          1759.5,
          957,
          1226.5,
          1501.5,
          1037.5,
          1206.5,
          1730,
          1390.5,
          810.5,
          1273.5,
          1051,
          1146,
          1119.5,
          860,
          644,
          1005.5,
          556.5,
          785,
          654.5,
          413,
          837.5,
          368.5,
          909.5,
          577.5,
          662.5,
          763,
          847.5,
          758,
          269,
          664,
          669.5,
          585,
          515,
          466,
          658,
          596.5,
          477.5,
          184,
          431.5,
          324.5,
          212,
          408,
          223,
          373.5,
          355.5,
          319.5,
          355.5,
          357,
          385,
          200.5,
          118,
          222,
          242,
          268,
          149,
          261.5,
          247,
          248,
          242,
          238,
          131,
          222,
          122,
          215.5,
          140,
          118.5,
          190.5,
          52,
          53,
          198,
          65,
          157.5,
          179,
          178.5,
          172,
          131,
          93,
          153,
          156,
          71,
          0,
          134,
          111,
          111,
          111,
          51,
          104.5,
          94.5,
          91,
          24,
          82,
          75,
          0,
          53,
          47.5,
          33,
          34,
          18,
          0,
          0,
          17,
          0,
          0,
          0,
          0,
          0
         ],
         "xaxis": "x",
         "yaxis": "y"
        }
       ],
       "layout": {
        "annotations": [
         {
          "arrowhead": 2,
          "ax": 0,
          "ay": -20,
          "showarrow": true,
          "text": "Gannon Buhr",
          "x": 5745.5,
          "y": 0
         },
         {
          "arrowhead": 2,
          "ax": 0,
          "ay": -20,
          "showarrow": true,
          "text": "Ricky Wysocki",
          "x": 5005,
          "y": 1
         },
         {
          "arrowhead": 2,
          "ax": 0,
          "ay": -20,
          "showarrow": true,
          "text": "Calvin Heimburg",
          "x": 3949.5,
          "y": 2
         },
         {
          "arrowhead": 2,
          "ax": 0,
          "ay": -20,
          "showarrow": true,
          "text": "Niklas Anttila",
          "x": 3326.5,
          "y": 3
         },
         {
          "arrowhead": 2,
          "ax": 0,
          "ay": -20,
          "showarrow": true,
          "text": "Isaac Robinson",
          "x": 3239.5,
          "y": 4
         },
         {
          "arrowhead": 2,
          "ax": 0,
          "ay": -20,
          "showarrow": true,
          "text": "Anthony Barela",
          "x": 3026,
          "y": 5
         },
         {
          "arrowhead": 2,
          "ax": 0,
          "ay": -20,
          "showarrow": true,
          "text": "Ezra Robinson",
          "x": 2815.5,
          "y": 6
         }
        ],
        "barmode": "relative",
        "legend": {
         "tracegroupgap": 0
        },
        "template": {
         "data": {
          "bar": [
           {
            "error_x": {
             "color": "#2a3f5f"
            },
            "error_y": {
             "color": "#2a3f5f"
            },
            "marker": {
             "line": {
              "color": "#E5ECF6",
              "width": 0.5
             },
             "pattern": {
              "fillmode": "overlay",
              "size": 10,
              "solidity": 0.2
             }
            },
            "type": "bar"
           }
          ],
          "barpolar": [
           {
            "marker": {
             "line": {
              "color": "#E5ECF6",
              "width": 0.5
             },
             "pattern": {
              "fillmode": "overlay",
              "size": 10,
              "solidity": 0.2
             }
            },
            "type": "barpolar"
           }
          ],
          "carpet": [
           {
            "aaxis": {
             "endlinecolor": "#2a3f5f",
             "gridcolor": "white",
             "linecolor": "white",
             "minorgridcolor": "white",
             "startlinecolor": "#2a3f5f"
            },
            "baxis": {
             "endlinecolor": "#2a3f5f",
             "gridcolor": "white",
             "linecolor": "white",
             "minorgridcolor": "white",
             "startlinecolor": "#2a3f5f"
            },
            "type": "carpet"
           }
          ],
          "choropleth": [
           {
            "colorbar": {
             "outlinewidth": 0,
             "ticks": ""
            },
            "type": "choropleth"
           }
          ],
          "contour": [
           {
            "colorbar": {
             "outlinewidth": 0,
             "ticks": ""
            },
            "colorscale": [
             [
              0,
              "#0d0887"
             ],
             [
              0.1111111111111111,
              "#46039f"
             ],
             [
              0.2222222222222222,
              "#7201a8"
             ],
             [
              0.3333333333333333,
              "#9c179e"
             ],
             [
              0.4444444444444444,
              "#bd3786"
             ],
             [
              0.5555555555555556,
              "#d8576b"
             ],
             [
              0.6666666666666666,
              "#ed7953"
             ],
             [
              0.7777777777777778,
              "#fb9f3a"
             ],
             [
              0.8888888888888888,
              "#fdca26"
             ],
             [
              1,
              "#f0f921"
             ]
            ],
            "type": "contour"
           }
          ],
          "contourcarpet": [
           {
            "colorbar": {
             "outlinewidth": 0,
             "ticks": ""
            },
            "type": "contourcarpet"
           }
          ],
          "heatmap": [
           {
            "colorbar": {
             "outlinewidth": 0,
             "ticks": ""
            },
            "colorscale": [
             [
              0,
              "#0d0887"
             ],
             [
              0.1111111111111111,
              "#46039f"
             ],
             [
              0.2222222222222222,
              "#7201a8"
             ],
             [
              0.3333333333333333,
              "#9c179e"
             ],
             [
              0.4444444444444444,
              "#bd3786"
             ],
             [
              0.5555555555555556,
              "#d8576b"
             ],
             [
              0.6666666666666666,
              "#ed7953"
             ],
             [
              0.7777777777777778,
              "#fb9f3a"
             ],
             [
              0.8888888888888888,
              "#fdca26"
             ],
             [
              1,
              "#f0f921"
             ]
            ],
            "type": "heatmap"
           }
          ],
          "heatmapgl": [
           {
            "colorbar": {
             "outlinewidth": 0,
             "ticks": ""
            },
            "colorscale": [
             [
              0,
              "#0d0887"
             ],
             [
              0.1111111111111111,
              "#46039f"
             ],
             [
              0.2222222222222222,
              "#7201a8"
             ],
             [
              0.3333333333333333,
              "#9c179e"
             ],
             [
              0.4444444444444444,
              "#bd3786"
             ],
             [
              0.5555555555555556,
              "#d8576b"
             ],
             [
              0.6666666666666666,
              "#ed7953"
             ],
             [
              0.7777777777777778,
              "#fb9f3a"
             ],
             [
              0.8888888888888888,
              "#fdca26"
             ],
             [
              1,
              "#f0f921"
             ]
            ],
            "type": "heatmapgl"
           }
          ],
          "histogram": [
           {
            "marker": {
             "pattern": {
              "fillmode": "overlay",
              "size": 10,
              "solidity": 0.2
             }
            },
            "type": "histogram"
           }
          ],
          "histogram2d": [
           {
            "colorbar": {
             "outlinewidth": 0,
             "ticks": ""
            },
            "colorscale": [
             [
              0,
              "#0d0887"
             ],
             [
              0.1111111111111111,
              "#46039f"
             ],
             [
              0.2222222222222222,
              "#7201a8"
             ],
             [
              0.3333333333333333,
              "#9c179e"
             ],
             [
              0.4444444444444444,
              "#bd3786"
             ],
             [
              0.5555555555555556,
              "#d8576b"
             ],
             [
              0.6666666666666666,
              "#ed7953"
             ],
             [
              0.7777777777777778,
              "#fb9f3a"
             ],
             [
              0.8888888888888888,
              "#fdca26"
             ],
             [
              1,
              "#f0f921"
             ]
            ],
            "type": "histogram2d"
           }
          ],
          "histogram2dcontour": [
           {
            "colorbar": {
             "outlinewidth": 0,
             "ticks": ""
            },
            "colorscale": [
             [
              0,
              "#0d0887"
             ],
             [
              0.1111111111111111,
              "#46039f"
             ],
             [
              0.2222222222222222,
              "#7201a8"
             ],
             [
              0.3333333333333333,
              "#9c179e"
             ],
             [
              0.4444444444444444,
              "#bd3786"
             ],
             [
              0.5555555555555556,
              "#d8576b"
             ],
             [
              0.6666666666666666,
              "#ed7953"
             ],
             [
              0.7777777777777778,
              "#fb9f3a"
             ],
             [
              0.8888888888888888,
              "#fdca26"
             ],
             [
              1,
              "#f0f921"
             ]
            ],
            "type": "histogram2dcontour"
           }
          ],
          "mesh3d": [
           {
            "colorbar": {
             "outlinewidth": 0,
             "ticks": ""
            },
            "type": "mesh3d"
           }
          ],
          "parcoords": [
           {
            "line": {
             "colorbar": {
              "outlinewidth": 0,
              "ticks": ""
             }
            },
            "type": "parcoords"
           }
          ],
          "pie": [
           {
            "automargin": true,
            "type": "pie"
           }
          ],
          "scatter": [
           {
            "fillpattern": {
             "fillmode": "overlay",
             "size": 10,
             "solidity": 0.2
            },
            "type": "scatter"
           }
          ],
          "scatter3d": [
           {
            "line": {
             "colorbar": {
              "outlinewidth": 0,
              "ticks": ""
             }
            },
            "marker": {
             "colorbar": {
              "outlinewidth": 0,
              "ticks": ""
             }
            },
            "type": "scatter3d"
           }
          ],
          "scattercarpet": [
           {
            "marker": {
             "colorbar": {
              "outlinewidth": 0,
              "ticks": ""
             }
            },
            "type": "scattercarpet"
           }
          ],
          "scattergeo": [
           {
            "marker": {
             "colorbar": {
              "outlinewidth": 0,
              "ticks": ""
             }
            },
            "type": "scattergeo"
           }
          ],
          "scattergl": [
           {
            "marker": {
             "colorbar": {
              "outlinewidth": 0,
              "ticks": ""
             }
            },
            "type": "scattergl"
           }
          ],
          "scattermapbox": [
           {
            "marker": {
             "colorbar": {
              "outlinewidth": 0,
              "ticks": ""
             }
            },
            "type": "scattermapbox"
           }
          ],
          "scatterpolar": [
           {
            "marker": {
             "colorbar": {
              "outlinewidth": 0,
              "ticks": ""
             }
            },
            "type": "scatterpolar"
           }
          ],
          "scatterpolargl": [
           {
            "marker": {
             "colorbar": {
              "outlinewidth": 0,
              "ticks": ""
             }
            },
            "type": "scatterpolargl"
           }
          ],
          "scatterternary": [
           {
            "marker": {
             "colorbar": {
              "outlinewidth": 0,
              "ticks": ""
             }
            },
            "type": "scatterternary"
           }
          ],
          "surface": [
           {
            "colorbar": {
             "outlinewidth": 0,
             "ticks": ""
            },
            "colorscale": [
             [
              0,
              "#0d0887"
             ],
             [
              0.1111111111111111,
              "#46039f"
             ],
             [
              0.2222222222222222,
              "#7201a8"
             ],
             [
              0.3333333333333333,
              "#9c179e"
             ],
             [
              0.4444444444444444,
              "#bd3786"
             ],
             [
              0.5555555555555556,
              "#d8576b"
             ],
             [
              0.6666666666666666,
              "#ed7953"
             ],
             [
              0.7777777777777778,
              "#fb9f3a"
             ],
             [
              0.8888888888888888,
              "#fdca26"
             ],
             [
              1,
              "#f0f921"
             ]
            ],
            "type": "surface"
           }
          ],
          "table": [
           {
            "cells": {
             "fill": {
              "color": "#EBF0F8"
             },
             "line": {
              "color": "white"
             }
            },
            "header": {
             "fill": {
              "color": "#C8D4E3"
             },
             "line": {
              "color": "white"
             }
            },
            "type": "table"
           }
          ]
         },
         "layout": {
          "annotationdefaults": {
           "arrowcolor": "#2a3f5f",
           "arrowhead": 0,
           "arrowwidth": 1
          },
          "autotypenumbers": "strict",
          "coloraxis": {
           "colorbar": {
            "outlinewidth": 0,
            "ticks": ""
           }
          },
          "colorscale": {
           "diverging": [
            [
             0,
             "#8e0152"
            ],
            [
             0.1,
             "#c51b7d"
            ],
            [
             0.2,
             "#de77ae"
            ],
            [
             0.3,
             "#f1b6da"
            ],
            [
             0.4,
             "#fde0ef"
            ],
            [
             0.5,
             "#f7f7f7"
            ],
            [
             0.6,
             "#e6f5d0"
            ],
            [
             0.7,
             "#b8e186"
            ],
            [
             0.8,
             "#7fbc41"
            ],
            [
             0.9,
             "#4d9221"
            ],
            [
             1,
             "#276419"
            ]
           ],
           "sequential": [
            [
             0,
             "#0d0887"
            ],
            [
             0.1111111111111111,
             "#46039f"
            ],
            [
             0.2222222222222222,
             "#7201a8"
            ],
            [
             0.3333333333333333,
             "#9c179e"
            ],
            [
             0.4444444444444444,
             "#bd3786"
            ],
            [
             0.5555555555555556,
             "#d8576b"
            ],
            [
             0.6666666666666666,
             "#ed7953"
            ],
            [
             0.7777777777777778,
             "#fb9f3a"
            ],
            [
             0.8888888888888888,
             "#fdca26"
            ],
            [
             1,
             "#f0f921"
            ]
           ],
           "sequentialminus": [
            [
             0,
             "#0d0887"
            ],
            [
             0.1111111111111111,
             "#46039f"
            ],
            [
             0.2222222222222222,
             "#7201a8"
            ],
            [
             0.3333333333333333,
             "#9c179e"
            ],
            [
             0.4444444444444444,
             "#bd3786"
            ],
            [
             0.5555555555555556,
             "#d8576b"
            ],
            [
             0.6666666666666666,
             "#ed7953"
            ],
            [
             0.7777777777777778,
             "#fb9f3a"
            ],
            [
             0.8888888888888888,
             "#fdca26"
            ],
            [
             1,
             "#f0f921"
            ]
           ]
          },
          "colorway": [
           "#636efa",
           "#EF553B",
           "#00cc96",
           "#ab63fa",
           "#FFA15A",
           "#19d3f3",
           "#FF6692",
           "#B6E880",
           "#FF97FF",
           "#FECB52"
          ],
          "font": {
           "color": "#2a3f5f"
          },
          "geo": {
           "bgcolor": "white",
           "lakecolor": "white",
           "landcolor": "#E5ECF6",
           "showlakes": true,
           "showland": true,
           "subunitcolor": "white"
          },
          "hoverlabel": {
           "align": "left"
          },
          "hovermode": "closest",
          "mapbox": {
           "style": "light"
          },
          "paper_bgcolor": "white",
          "plot_bgcolor": "#E5ECF6",
          "polar": {
           "angularaxis": {
            "gridcolor": "white",
            "linecolor": "white",
            "ticks": ""
           },
           "bgcolor": "#E5ECF6",
           "radialaxis": {
            "gridcolor": "white",
            "linecolor": "white",
            "ticks": ""
           }
          },
          "scene": {
           "xaxis": {
            "backgroundcolor": "#E5ECF6",
            "gridcolor": "white",
            "gridwidth": 2,
            "linecolor": "white",
            "showbackground": true,
            "ticks": "",
            "zerolinecolor": "white"
           },
           "yaxis": {
            "backgroundcolor": "#E5ECF6",
            "gridcolor": "white",
            "gridwidth": 2,
            "linecolor": "white",
            "showbackground": true,
            "ticks": "",
            "zerolinecolor": "white"
           },
           "zaxis": {
            "backgroundcolor": "#E5ECF6",
            "gridcolor": "white",
            "gridwidth": 2,
            "linecolor": "white",
            "showbackground": true,
            "ticks": "",
            "zerolinecolor": "white"
           }
          },
          "shapedefaults": {
           "line": {
            "color": "#2a3f5f"
           }
          },
          "ternary": {
           "aaxis": {
            "gridcolor": "white",
            "linecolor": "white",
            "ticks": ""
           },
           "baxis": {
            "gridcolor": "white",
            "linecolor": "white",
            "ticks": ""
           },
           "bgcolor": "#E5ECF6",
           "caxis": {
            "gridcolor": "white",
            "linecolor": "white",
            "ticks": ""
           }
          },
          "title": {
           "x": 0.05
          },
          "xaxis": {
           "automargin": true,
           "gridcolor": "white",
           "linecolor": "white",
           "ticks": "",
           "title": {
            "standoff": 15
           },
           "zerolinecolor": "white",
           "zerolinewidth": 2
          },
          "yaxis": {
           "automargin": true,
           "gridcolor": "white",
           "linecolor": "white",
           "ticks": "",
           "title": {
            "standoff": 15
           },
           "zerolinecolor": "white",
           "zerolinewidth": 2
          }
         }
        },
        "title": {
         "text": "Histogram of fantasy_points_24"
        },
        "xaxis": {
         "anchor": "y",
         "domain": [
          0,
          1
         ],
         "title": {
          "text": "fantasy_points_24"
         }
        },
        "yaxis": {
         "anchor": "x",
         "domain": [
          0,
          1
         ],
         "title": {
          "text": "count"
         }
        }
       }
      },
      "text/html": [
       "<div>                            <div id=\"827ab606-baa0-41f7-904a-11ff330e14ab\" class=\"plotly-graph-div\" style=\"height:525px; width:100%;\"></div>            <script type=\"text/javascript\">                require([\"plotly\"], function(Plotly) {                    window.PLOTLYENV=window.PLOTLYENV || {};                                    if (document.getElementById(\"827ab606-baa0-41f7-904a-11ff330e14ab\")) {                    Plotly.newPlot(                        \"827ab606-baa0-41f7-904a-11ff330e14ab\",                        [{\"alignmentgroup\":\"True\",\"bingroup\":\"x\",\"hovertemplate\":\"fantasy_points_24=%{x}<br>count=%{y}<extra></extra>\",\"legendgroup\":\"\",\"marker\":{\"color\":\"#636efa\",\"pattern\":{\"shape\":\"\"}},\"name\":\"\",\"nbinsx\":35,\"offsetgroup\":\"\",\"orientation\":\"v\",\"showlegend\":false,\"x\":[5745.5,3949.5,5005.0,3239.5,3026.0,3326.5,2257.0,2815.5,1890.5,2514.0,2218.0,1759.5,957.0,1226.5,1501.5,1037.5,1206.5,1730.0,1390.5,810.5,1273.5,1051.0,1146.0,1119.5,860.0,644.0,1005.5,556.5,785.0,654.5,413.0,837.5,368.5,909.5,577.5,662.5,763.0,847.5,758.0,269.0,664.0,669.5,585.0,515.0,466.0,658.0,596.5,477.5,184.0,431.5,324.5,212.0,408.0,223.0,373.5,355.5,319.5,355.5,357.0,385.0,200.5,118.0,222.0,242.0,268.0,149.0,261.5,247.0,248.0,242.0,238.0,131.0,222.0,122.0,215.5,140.0,118.5,190.5,52.0,53.0,198.0,65.0,157.5,179.0,178.5,172.0,131.0,93.0,153.0,156.0,71.0,0.0,134.0,111.0,111.0,111.0,51.0,104.5,94.5,91.0,24.0,82.0,75.0,0.0,53.0,47.5,33.0,34.0,18.0,0.0,0.0,17.0,0.0,0.0,0.0,0.0,0.0],\"xaxis\":\"x\",\"yaxis\":\"y\",\"type\":\"histogram\"}],                        {\"template\":{\"data\":{\"histogram2dcontour\":[{\"type\":\"histogram2dcontour\",\"colorbar\":{\"outlinewidth\":0,\"ticks\":\"\"},\"colorscale\":[[0.0,\"#0d0887\"],[0.1111111111111111,\"#46039f\"],[0.2222222222222222,\"#7201a8\"],[0.3333333333333333,\"#9c179e\"],[0.4444444444444444,\"#bd3786\"],[0.5555555555555556,\"#d8576b\"],[0.6666666666666666,\"#ed7953\"],[0.7777777777777778,\"#fb9f3a\"],[0.8888888888888888,\"#fdca26\"],[1.0,\"#f0f921\"]]}],\"choropleth\":[{\"type\":\"choropleth\",\"colorbar\":{\"outlinewidth\":0,\"ticks\":\"\"}}],\"histogram2d\":[{\"type\":\"histogram2d\",\"colorbar\":{\"outlinewidth\":0,\"ticks\":\"\"},\"colorscale\":[[0.0,\"#0d0887\"],[0.1111111111111111,\"#46039f\"],[0.2222222222222222,\"#7201a8\"],[0.3333333333333333,\"#9c179e\"],[0.4444444444444444,\"#bd3786\"],[0.5555555555555556,\"#d8576b\"],[0.6666666666666666,\"#ed7953\"],[0.7777777777777778,\"#fb9f3a\"],[0.8888888888888888,\"#fdca26\"],[1.0,\"#f0f921\"]]}],\"heatmap\":[{\"type\":\"heatmap\",\"colorbar\":{\"outlinewidth\":0,\"ticks\":\"\"},\"colorscale\":[[0.0,\"#0d0887\"],[0.1111111111111111,\"#46039f\"],[0.2222222222222222,\"#7201a8\"],[0.3333333333333333,\"#9c179e\"],[0.4444444444444444,\"#bd3786\"],[0.5555555555555556,\"#d8576b\"],[0.6666666666666666,\"#ed7953\"],[0.7777777777777778,\"#fb9f3a\"],[0.8888888888888888,\"#fdca26\"],[1.0,\"#f0f921\"]]}],\"heatmapgl\":[{\"type\":\"heatmapgl\",\"colorbar\":{\"outlinewidth\":0,\"ticks\":\"\"},\"colorscale\":[[0.0,\"#0d0887\"],[0.1111111111111111,\"#46039f\"],[0.2222222222222222,\"#7201a8\"],[0.3333333333333333,\"#9c179e\"],[0.4444444444444444,\"#bd3786\"],[0.5555555555555556,\"#d8576b\"],[0.6666666666666666,\"#ed7953\"],[0.7777777777777778,\"#fb9f3a\"],[0.8888888888888888,\"#fdca26\"],[1.0,\"#f0f921\"]]}],\"contourcarpet\":[{\"type\":\"contourcarpet\",\"colorbar\":{\"outlinewidth\":0,\"ticks\":\"\"}}],\"contour\":[{\"type\":\"contour\",\"colorbar\":{\"outlinewidth\":0,\"ticks\":\"\"},\"colorscale\":[[0.0,\"#0d0887\"],[0.1111111111111111,\"#46039f\"],[0.2222222222222222,\"#7201a8\"],[0.3333333333333333,\"#9c179e\"],[0.4444444444444444,\"#bd3786\"],[0.5555555555555556,\"#d8576b\"],[0.6666666666666666,\"#ed7953\"],[0.7777777777777778,\"#fb9f3a\"],[0.8888888888888888,\"#fdca26\"],[1.0,\"#f0f921\"]]}],\"surface\":[{\"type\":\"surface\",\"colorbar\":{\"outlinewidth\":0,\"ticks\":\"\"},\"colorscale\":[[0.0,\"#0d0887\"],[0.1111111111111111,\"#46039f\"],[0.2222222222222222,\"#7201a8\"],[0.3333333333333333,\"#9c179e\"],[0.4444444444444444,\"#bd3786\"],[0.5555555555555556,\"#d8576b\"],[0.6666666666666666,\"#ed7953\"],[0.7777777777777778,\"#fb9f3a\"],[0.8888888888888888,\"#fdca26\"],[1.0,\"#f0f921\"]]}],\"mesh3d\":[{\"type\":\"mesh3d\",\"colorbar\":{\"outlinewidth\":0,\"ticks\":\"\"}}],\"scatter\":[{\"fillpattern\":{\"fillmode\":\"overlay\",\"size\":10,\"solidity\":0.2},\"type\":\"scatter\"}],\"parcoords\":[{\"type\":\"parcoords\",\"line\":{\"colorbar\":{\"outlinewidth\":0,\"ticks\":\"\"}}}],\"scatterpolargl\":[{\"type\":\"scatterpolargl\",\"marker\":{\"colorbar\":{\"outlinewidth\":0,\"ticks\":\"\"}}}],\"bar\":[{\"error_x\":{\"color\":\"#2a3f5f\"},\"error_y\":{\"color\":\"#2a3f5f\"},\"marker\":{\"line\":{\"color\":\"#E5ECF6\",\"width\":0.5},\"pattern\":{\"fillmode\":\"overlay\",\"size\":10,\"solidity\":0.2}},\"type\":\"bar\"}],\"scattergeo\":[{\"type\":\"scattergeo\",\"marker\":{\"colorbar\":{\"outlinewidth\":0,\"ticks\":\"\"}}}],\"scatterpolar\":[{\"type\":\"scatterpolar\",\"marker\":{\"colorbar\":{\"outlinewidth\":0,\"ticks\":\"\"}}}],\"histogram\":[{\"marker\":{\"pattern\":{\"fillmode\":\"overlay\",\"size\":10,\"solidity\":0.2}},\"type\":\"histogram\"}],\"scattergl\":[{\"type\":\"scattergl\",\"marker\":{\"colorbar\":{\"outlinewidth\":0,\"ticks\":\"\"}}}],\"scatter3d\":[{\"type\":\"scatter3d\",\"line\":{\"colorbar\":{\"outlinewidth\":0,\"ticks\":\"\"}},\"marker\":{\"colorbar\":{\"outlinewidth\":0,\"ticks\":\"\"}}}],\"scattermapbox\":[{\"type\":\"scattermapbox\",\"marker\":{\"colorbar\":{\"outlinewidth\":0,\"ticks\":\"\"}}}],\"scatterternary\":[{\"type\":\"scatterternary\",\"marker\":{\"colorbar\":{\"outlinewidth\":0,\"ticks\":\"\"}}}],\"scattercarpet\":[{\"type\":\"scattercarpet\",\"marker\":{\"colorbar\":{\"outlinewidth\":0,\"ticks\":\"\"}}}],\"carpet\":[{\"aaxis\":{\"endlinecolor\":\"#2a3f5f\",\"gridcolor\":\"white\",\"linecolor\":\"white\",\"minorgridcolor\":\"white\",\"startlinecolor\":\"#2a3f5f\"},\"baxis\":{\"endlinecolor\":\"#2a3f5f\",\"gridcolor\":\"white\",\"linecolor\":\"white\",\"minorgridcolor\":\"white\",\"startlinecolor\":\"#2a3f5f\"},\"type\":\"carpet\"}],\"table\":[{\"cells\":{\"fill\":{\"color\":\"#EBF0F8\"},\"line\":{\"color\":\"white\"}},\"header\":{\"fill\":{\"color\":\"#C8D4E3\"},\"line\":{\"color\":\"white\"}},\"type\":\"table\"}],\"barpolar\":[{\"marker\":{\"line\":{\"color\":\"#E5ECF6\",\"width\":0.5},\"pattern\":{\"fillmode\":\"overlay\",\"size\":10,\"solidity\":0.2}},\"type\":\"barpolar\"}],\"pie\":[{\"automargin\":true,\"type\":\"pie\"}]},\"layout\":{\"autotypenumbers\":\"strict\",\"colorway\":[\"#636efa\",\"#EF553B\",\"#00cc96\",\"#ab63fa\",\"#FFA15A\",\"#19d3f3\",\"#FF6692\",\"#B6E880\",\"#FF97FF\",\"#FECB52\"],\"font\":{\"color\":\"#2a3f5f\"},\"hovermode\":\"closest\",\"hoverlabel\":{\"align\":\"left\"},\"paper_bgcolor\":\"white\",\"plot_bgcolor\":\"#E5ECF6\",\"polar\":{\"bgcolor\":\"#E5ECF6\",\"angularaxis\":{\"gridcolor\":\"white\",\"linecolor\":\"white\",\"ticks\":\"\"},\"radialaxis\":{\"gridcolor\":\"white\",\"linecolor\":\"white\",\"ticks\":\"\"}},\"ternary\":{\"bgcolor\":\"#E5ECF6\",\"aaxis\":{\"gridcolor\":\"white\",\"linecolor\":\"white\",\"ticks\":\"\"},\"baxis\":{\"gridcolor\":\"white\",\"linecolor\":\"white\",\"ticks\":\"\"},\"caxis\":{\"gridcolor\":\"white\",\"linecolor\":\"white\",\"ticks\":\"\"}},\"coloraxis\":{\"colorbar\":{\"outlinewidth\":0,\"ticks\":\"\"}},\"colorscale\":{\"sequential\":[[0.0,\"#0d0887\"],[0.1111111111111111,\"#46039f\"],[0.2222222222222222,\"#7201a8\"],[0.3333333333333333,\"#9c179e\"],[0.4444444444444444,\"#bd3786\"],[0.5555555555555556,\"#d8576b\"],[0.6666666666666666,\"#ed7953\"],[0.7777777777777778,\"#fb9f3a\"],[0.8888888888888888,\"#fdca26\"],[1.0,\"#f0f921\"]],\"sequentialminus\":[[0.0,\"#0d0887\"],[0.1111111111111111,\"#46039f\"],[0.2222222222222222,\"#7201a8\"],[0.3333333333333333,\"#9c179e\"],[0.4444444444444444,\"#bd3786\"],[0.5555555555555556,\"#d8576b\"],[0.6666666666666666,\"#ed7953\"],[0.7777777777777778,\"#fb9f3a\"],[0.8888888888888888,\"#fdca26\"],[1.0,\"#f0f921\"]],\"diverging\":[[0,\"#8e0152\"],[0.1,\"#c51b7d\"],[0.2,\"#de77ae\"],[0.3,\"#f1b6da\"],[0.4,\"#fde0ef\"],[0.5,\"#f7f7f7\"],[0.6,\"#e6f5d0\"],[0.7,\"#b8e186\"],[0.8,\"#7fbc41\"],[0.9,\"#4d9221\"],[1,\"#276419\"]]},\"xaxis\":{\"gridcolor\":\"white\",\"linecolor\":\"white\",\"ticks\":\"\",\"title\":{\"standoff\":15},\"zerolinecolor\":\"white\",\"automargin\":true,\"zerolinewidth\":2},\"yaxis\":{\"gridcolor\":\"white\",\"linecolor\":\"white\",\"ticks\":\"\",\"title\":{\"standoff\":15},\"zerolinecolor\":\"white\",\"automargin\":true,\"zerolinewidth\":2},\"scene\":{\"xaxis\":{\"backgroundcolor\":\"#E5ECF6\",\"gridcolor\":\"white\",\"linecolor\":\"white\",\"showbackground\":true,\"ticks\":\"\",\"zerolinecolor\":\"white\",\"gridwidth\":2},\"yaxis\":{\"backgroundcolor\":\"#E5ECF6\",\"gridcolor\":\"white\",\"linecolor\":\"white\",\"showbackground\":true,\"ticks\":\"\",\"zerolinecolor\":\"white\",\"gridwidth\":2},\"zaxis\":{\"backgroundcolor\":\"#E5ECF6\",\"gridcolor\":\"white\",\"linecolor\":\"white\",\"showbackground\":true,\"ticks\":\"\",\"zerolinecolor\":\"white\",\"gridwidth\":2}},\"shapedefaults\":{\"line\":{\"color\":\"#2a3f5f\"}},\"annotationdefaults\":{\"arrowcolor\":\"#2a3f5f\",\"arrowhead\":0,\"arrowwidth\":1},\"geo\":{\"bgcolor\":\"white\",\"landcolor\":\"#E5ECF6\",\"subunitcolor\":\"white\",\"showland\":true,\"showlakes\":true,\"lakecolor\":\"white\"},\"title\":{\"x\":0.05},\"mapbox\":{\"style\":\"light\"}}},\"xaxis\":{\"anchor\":\"y\",\"domain\":[0.0,1.0],\"title\":{\"text\":\"fantasy_points_24\"}},\"yaxis\":{\"anchor\":\"x\",\"domain\":[0.0,1.0],\"title\":{\"text\":\"count\"}},\"legend\":{\"tracegroupgap\":0},\"title\":{\"text\":\"Histogram of fantasy_points_24\"},\"barmode\":\"relative\",\"annotations\":[{\"arrowhead\":2,\"ax\":0,\"ay\":-20,\"showarrow\":true,\"text\":\"Gannon Buhr\",\"x\":5745.5,\"y\":0},{\"arrowhead\":2,\"ax\":0,\"ay\":-20,\"showarrow\":true,\"text\":\"Ricky Wysocki\",\"x\":5005.0,\"y\":1},{\"arrowhead\":2,\"ax\":0,\"ay\":-20,\"showarrow\":true,\"text\":\"Calvin Heimburg\",\"x\":3949.5,\"y\":2},{\"arrowhead\":2,\"ax\":0,\"ay\":-20,\"showarrow\":true,\"text\":\"Niklas Anttila\",\"x\":3326.5,\"y\":3},{\"arrowhead\":2,\"ax\":0,\"ay\":-20,\"showarrow\":true,\"text\":\"Isaac Robinson\",\"x\":3239.5,\"y\":4},{\"arrowhead\":2,\"ax\":0,\"ay\":-20,\"showarrow\":true,\"text\":\"Anthony Barela\",\"x\":3026.0,\"y\":5},{\"arrowhead\":2,\"ax\":0,\"ay\":-20,\"showarrow\":true,\"text\":\"Ezra Robinson\",\"x\":2815.5,\"y\":6}]},                        {\"responsive\": true}                    ).then(function(){\n",
       "                            \n",
       "var gd = document.getElementById('827ab606-baa0-41f7-904a-11ff330e14ab');\n",
       "var x = new MutationObserver(function (mutations, observer) {{\n",
       "        var display = window.getComputedStyle(gd).display;\n",
       "        if (!display || display === 'none') {{\n",
       "            console.log([gd, 'removed!']);\n",
       "            Plotly.purge(gd);\n",
       "            observer.disconnect();\n",
       "        }}\n",
       "}});\n",
       "\n",
       "// Listen for the removal of the full notebook cells\n",
       "var notebookContainer = gd.closest('#notebook-container');\n",
       "if (notebookContainer) {{\n",
       "    x.observe(notebookContainer, {childList: true});\n",
       "}}\n",
       "\n",
       "// Listen for the clearing of the current output cell\n",
       "var outputEl = gd.closest('.output');\n",
       "if (outputEl) {{\n",
       "    x.observe(outputEl, {childList: true});\n",
       "}}\n",
       "\n",
       "                        })                };                });            </script>        </div>"
      ]
     },
     "metadata": {},
     "output_type": "display_data"
    }
   ],
   "source": [
    "plot_histogram(df, column='fantasy_points_24', annotate_top_n={'Player':7}, nbins=35)"
   ]
  },
  {
   "cell_type": "code",
   "execution_count": 10,
   "metadata": {},
   "outputs": [
    {
     "data": {
      "application/vnd.plotly.v1+json": {
       "config": {
        "plotlyServerURL": "https://plot.ly"
       },
       "data": [
        {
         "alignmentgroup": "True",
         "bingroup": "x",
         "hovertemplate": "composite_fp=%{x}<br>count=%{y}<extra></extra>",
         "legendgroup": "",
         "marker": {
          "color": "#636efa",
          "pattern": {
           "shape": ""
          }
         },
         "name": "",
         "nbinsx": 35,
         "offsetgroup": "",
         "orientation": "v",
         "showlegend": false,
         "type": "histogram",
         "x": [
          4622,
          4175.25,
          4058.25,
          3191.2,
          2597.775,
          2527.625,
          2342.75,
          2303.45,
          1929.875,
          1923.9,
          1899.325,
          1785.5749999999998,
          1575.45,
          1525.05,
          1465.625,
          1258.875,
          1254.1,
          1185.575,
          981.875,
          968.7,
          963.925,
          953.35,
          911.5,
          905.65,
          896.05,
          845.95,
          750.1750000000001,
          747.25,
          740.9,
          733.775,
          717.8499999999999,
          698.9,
          656.55,
          655.575,
          631.225,
          601.775,
          580.475,
          572.4,
          569.35,
          539.375,
          535.725,
          485.225,
          483.5,
          479.3,
          444.8250000000001,
          436.1,
          387.725,
          385.8,
          383.5,
          381.625,
          324.325,
          299.325,
          296,
          295.8,
          286.875,
          283.925,
          275.575,
          252.6,
          251.475,
          250.25,
          237.075,
          235.6,
          222.175,
          219.075,
          187.15,
          176.65,
          169.975,
          169.65,
          161.20000000000002,
          157.3,
          154.70000000000002,
          149.9,
          144.3,
          142.29999999999998,
          140.07500000000002,
          138.6,
          136,
          135.725,
          134.775,
          130.52499999999998,
          128.70000000000002,
          127.65,
          120.925,
          116.35,
          116.025,
          111.8,
          111.75,
          111.2,
          111,
          101.4,
          97.075,
          93.8,
          87.10000000000001,
          81.25,
          80.55000000000001,
          78.10000000000001,
          71.475,
          67.925,
          61.425,
          59.15,
          53.925,
          53.3,
          48.75,
          47.6,
          45.3,
          42.425,
          41.75,
          36.45,
          27.975,
          25.55,
          17.849999999999998,
          16.3,
          16.099999999999998,
          9.1,
          0,
          0,
          0
         ],
         "xaxis": "x",
         "yaxis": "y"
        }
       ],
       "layout": {
        "annotations": [
         {
          "arrowhead": 2,
          "ax": 0,
          "ay": -20,
          "showarrow": true,
          "text": "Gannon Buhr",
          "x": 4622,
          "y": 0
         },
         {
          "arrowhead": 2,
          "ax": 0,
          "ay": -20,
          "showarrow": true,
          "text": "Calvin Heimburg",
          "x": 4175.25,
          "y": 1
         },
         {
          "arrowhead": 2,
          "ax": 0,
          "ay": -20,
          "showarrow": true,
          "text": "Ricky Wysocki",
          "x": 4058.25,
          "y": 2
         },
         {
          "arrowhead": 2,
          "ax": 0,
          "ay": -20,
          "showarrow": true,
          "text": "Isaac Robinson",
          "x": 3191.2,
          "y": 3
         },
         {
          "arrowhead": 2,
          "ax": 0,
          "ay": -20,
          "showarrow": true,
          "text": "Anthony Barela",
          "x": 2597.775,
          "y": 4
         },
         {
          "arrowhead": 2,
          "ax": 0,
          "ay": -20,
          "showarrow": true,
          "text": "Niklas Anttila",
          "x": 2527.625,
          "y": 5
         },
         {
          "arrowhead": 2,
          "ax": 0,
          "ay": -20,
          "showarrow": true,
          "text": "Kyle Klein",
          "x": 2342.75,
          "y": 6
         }
        ],
        "barmode": "relative",
        "legend": {
         "tracegroupgap": 0
        },
        "template": {
         "data": {
          "bar": [
           {
            "error_x": {
             "color": "#2a3f5f"
            },
            "error_y": {
             "color": "#2a3f5f"
            },
            "marker": {
             "line": {
              "color": "#E5ECF6",
              "width": 0.5
             },
             "pattern": {
              "fillmode": "overlay",
              "size": 10,
              "solidity": 0.2
             }
            },
            "type": "bar"
           }
          ],
          "barpolar": [
           {
            "marker": {
             "line": {
              "color": "#E5ECF6",
              "width": 0.5
             },
             "pattern": {
              "fillmode": "overlay",
              "size": 10,
              "solidity": 0.2
             }
            },
            "type": "barpolar"
           }
          ],
          "carpet": [
           {
            "aaxis": {
             "endlinecolor": "#2a3f5f",
             "gridcolor": "white",
             "linecolor": "white",
             "minorgridcolor": "white",
             "startlinecolor": "#2a3f5f"
            },
            "baxis": {
             "endlinecolor": "#2a3f5f",
             "gridcolor": "white",
             "linecolor": "white",
             "minorgridcolor": "white",
             "startlinecolor": "#2a3f5f"
            },
            "type": "carpet"
           }
          ],
          "choropleth": [
           {
            "colorbar": {
             "outlinewidth": 0,
             "ticks": ""
            },
            "type": "choropleth"
           }
          ],
          "contour": [
           {
            "colorbar": {
             "outlinewidth": 0,
             "ticks": ""
            },
            "colorscale": [
             [
              0,
              "#0d0887"
             ],
             [
              0.1111111111111111,
              "#46039f"
             ],
             [
              0.2222222222222222,
              "#7201a8"
             ],
             [
              0.3333333333333333,
              "#9c179e"
             ],
             [
              0.4444444444444444,
              "#bd3786"
             ],
             [
              0.5555555555555556,
              "#d8576b"
             ],
             [
              0.6666666666666666,
              "#ed7953"
             ],
             [
              0.7777777777777778,
              "#fb9f3a"
             ],
             [
              0.8888888888888888,
              "#fdca26"
             ],
             [
              1,
              "#f0f921"
             ]
            ],
            "type": "contour"
           }
          ],
          "contourcarpet": [
           {
            "colorbar": {
             "outlinewidth": 0,
             "ticks": ""
            },
            "type": "contourcarpet"
           }
          ],
          "heatmap": [
           {
            "colorbar": {
             "outlinewidth": 0,
             "ticks": ""
            },
            "colorscale": [
             [
              0,
              "#0d0887"
             ],
             [
              0.1111111111111111,
              "#46039f"
             ],
             [
              0.2222222222222222,
              "#7201a8"
             ],
             [
              0.3333333333333333,
              "#9c179e"
             ],
             [
              0.4444444444444444,
              "#bd3786"
             ],
             [
              0.5555555555555556,
              "#d8576b"
             ],
             [
              0.6666666666666666,
              "#ed7953"
             ],
             [
              0.7777777777777778,
              "#fb9f3a"
             ],
             [
              0.8888888888888888,
              "#fdca26"
             ],
             [
              1,
              "#f0f921"
             ]
            ],
            "type": "heatmap"
           }
          ],
          "heatmapgl": [
           {
            "colorbar": {
             "outlinewidth": 0,
             "ticks": ""
            },
            "colorscale": [
             [
              0,
              "#0d0887"
             ],
             [
              0.1111111111111111,
              "#46039f"
             ],
             [
              0.2222222222222222,
              "#7201a8"
             ],
             [
              0.3333333333333333,
              "#9c179e"
             ],
             [
              0.4444444444444444,
              "#bd3786"
             ],
             [
              0.5555555555555556,
              "#d8576b"
             ],
             [
              0.6666666666666666,
              "#ed7953"
             ],
             [
              0.7777777777777778,
              "#fb9f3a"
             ],
             [
              0.8888888888888888,
              "#fdca26"
             ],
             [
              1,
              "#f0f921"
             ]
            ],
            "type": "heatmapgl"
           }
          ],
          "histogram": [
           {
            "marker": {
             "pattern": {
              "fillmode": "overlay",
              "size": 10,
              "solidity": 0.2
             }
            },
            "type": "histogram"
           }
          ],
          "histogram2d": [
           {
            "colorbar": {
             "outlinewidth": 0,
             "ticks": ""
            },
            "colorscale": [
             [
              0,
              "#0d0887"
             ],
             [
              0.1111111111111111,
              "#46039f"
             ],
             [
              0.2222222222222222,
              "#7201a8"
             ],
             [
              0.3333333333333333,
              "#9c179e"
             ],
             [
              0.4444444444444444,
              "#bd3786"
             ],
             [
              0.5555555555555556,
              "#d8576b"
             ],
             [
              0.6666666666666666,
              "#ed7953"
             ],
             [
              0.7777777777777778,
              "#fb9f3a"
             ],
             [
              0.8888888888888888,
              "#fdca26"
             ],
             [
              1,
              "#f0f921"
             ]
            ],
            "type": "histogram2d"
           }
          ],
          "histogram2dcontour": [
           {
            "colorbar": {
             "outlinewidth": 0,
             "ticks": ""
            },
            "colorscale": [
             [
              0,
              "#0d0887"
             ],
             [
              0.1111111111111111,
              "#46039f"
             ],
             [
              0.2222222222222222,
              "#7201a8"
             ],
             [
              0.3333333333333333,
              "#9c179e"
             ],
             [
              0.4444444444444444,
              "#bd3786"
             ],
             [
              0.5555555555555556,
              "#d8576b"
             ],
             [
              0.6666666666666666,
              "#ed7953"
             ],
             [
              0.7777777777777778,
              "#fb9f3a"
             ],
             [
              0.8888888888888888,
              "#fdca26"
             ],
             [
              1,
              "#f0f921"
             ]
            ],
            "type": "histogram2dcontour"
           }
          ],
          "mesh3d": [
           {
            "colorbar": {
             "outlinewidth": 0,
             "ticks": ""
            },
            "type": "mesh3d"
           }
          ],
          "parcoords": [
           {
            "line": {
             "colorbar": {
              "outlinewidth": 0,
              "ticks": ""
             }
            },
            "type": "parcoords"
           }
          ],
          "pie": [
           {
            "automargin": true,
            "type": "pie"
           }
          ],
          "scatter": [
           {
            "fillpattern": {
             "fillmode": "overlay",
             "size": 10,
             "solidity": 0.2
            },
            "type": "scatter"
           }
          ],
          "scatter3d": [
           {
            "line": {
             "colorbar": {
              "outlinewidth": 0,
              "ticks": ""
             }
            },
            "marker": {
             "colorbar": {
              "outlinewidth": 0,
              "ticks": ""
             }
            },
            "type": "scatter3d"
           }
          ],
          "scattercarpet": [
           {
            "marker": {
             "colorbar": {
              "outlinewidth": 0,
              "ticks": ""
             }
            },
            "type": "scattercarpet"
           }
          ],
          "scattergeo": [
           {
            "marker": {
             "colorbar": {
              "outlinewidth": 0,
              "ticks": ""
             }
            },
            "type": "scattergeo"
           }
          ],
          "scattergl": [
           {
            "marker": {
             "colorbar": {
              "outlinewidth": 0,
              "ticks": ""
             }
            },
            "type": "scattergl"
           }
          ],
          "scattermapbox": [
           {
            "marker": {
             "colorbar": {
              "outlinewidth": 0,
              "ticks": ""
             }
            },
            "type": "scattermapbox"
           }
          ],
          "scatterpolar": [
           {
            "marker": {
             "colorbar": {
              "outlinewidth": 0,
              "ticks": ""
             }
            },
            "type": "scatterpolar"
           }
          ],
          "scatterpolargl": [
           {
            "marker": {
             "colorbar": {
              "outlinewidth": 0,
              "ticks": ""
             }
            },
            "type": "scatterpolargl"
           }
          ],
          "scatterternary": [
           {
            "marker": {
             "colorbar": {
              "outlinewidth": 0,
              "ticks": ""
             }
            },
            "type": "scatterternary"
           }
          ],
          "surface": [
           {
            "colorbar": {
             "outlinewidth": 0,
             "ticks": ""
            },
            "colorscale": [
             [
              0,
              "#0d0887"
             ],
             [
              0.1111111111111111,
              "#46039f"
             ],
             [
              0.2222222222222222,
              "#7201a8"
             ],
             [
              0.3333333333333333,
              "#9c179e"
             ],
             [
              0.4444444444444444,
              "#bd3786"
             ],
             [
              0.5555555555555556,
              "#d8576b"
             ],
             [
              0.6666666666666666,
              "#ed7953"
             ],
             [
              0.7777777777777778,
              "#fb9f3a"
             ],
             [
              0.8888888888888888,
              "#fdca26"
             ],
             [
              1,
              "#f0f921"
             ]
            ],
            "type": "surface"
           }
          ],
          "table": [
           {
            "cells": {
             "fill": {
              "color": "#EBF0F8"
             },
             "line": {
              "color": "white"
             }
            },
            "header": {
             "fill": {
              "color": "#C8D4E3"
             },
             "line": {
              "color": "white"
             }
            },
            "type": "table"
           }
          ]
         },
         "layout": {
          "annotationdefaults": {
           "arrowcolor": "#2a3f5f",
           "arrowhead": 0,
           "arrowwidth": 1
          },
          "autotypenumbers": "strict",
          "coloraxis": {
           "colorbar": {
            "outlinewidth": 0,
            "ticks": ""
           }
          },
          "colorscale": {
           "diverging": [
            [
             0,
             "#8e0152"
            ],
            [
             0.1,
             "#c51b7d"
            ],
            [
             0.2,
             "#de77ae"
            ],
            [
             0.3,
             "#f1b6da"
            ],
            [
             0.4,
             "#fde0ef"
            ],
            [
             0.5,
             "#f7f7f7"
            ],
            [
             0.6,
             "#e6f5d0"
            ],
            [
             0.7,
             "#b8e186"
            ],
            [
             0.8,
             "#7fbc41"
            ],
            [
             0.9,
             "#4d9221"
            ],
            [
             1,
             "#276419"
            ]
           ],
           "sequential": [
            [
             0,
             "#0d0887"
            ],
            [
             0.1111111111111111,
             "#46039f"
            ],
            [
             0.2222222222222222,
             "#7201a8"
            ],
            [
             0.3333333333333333,
             "#9c179e"
            ],
            [
             0.4444444444444444,
             "#bd3786"
            ],
            [
             0.5555555555555556,
             "#d8576b"
            ],
            [
             0.6666666666666666,
             "#ed7953"
            ],
            [
             0.7777777777777778,
             "#fb9f3a"
            ],
            [
             0.8888888888888888,
             "#fdca26"
            ],
            [
             1,
             "#f0f921"
            ]
           ],
           "sequentialminus": [
            [
             0,
             "#0d0887"
            ],
            [
             0.1111111111111111,
             "#46039f"
            ],
            [
             0.2222222222222222,
             "#7201a8"
            ],
            [
             0.3333333333333333,
             "#9c179e"
            ],
            [
             0.4444444444444444,
             "#bd3786"
            ],
            [
             0.5555555555555556,
             "#d8576b"
            ],
            [
             0.6666666666666666,
             "#ed7953"
            ],
            [
             0.7777777777777778,
             "#fb9f3a"
            ],
            [
             0.8888888888888888,
             "#fdca26"
            ],
            [
             1,
             "#f0f921"
            ]
           ]
          },
          "colorway": [
           "#636efa",
           "#EF553B",
           "#00cc96",
           "#ab63fa",
           "#FFA15A",
           "#19d3f3",
           "#FF6692",
           "#B6E880",
           "#FF97FF",
           "#FECB52"
          ],
          "font": {
           "color": "#2a3f5f"
          },
          "geo": {
           "bgcolor": "white",
           "lakecolor": "white",
           "landcolor": "#E5ECF6",
           "showlakes": true,
           "showland": true,
           "subunitcolor": "white"
          },
          "hoverlabel": {
           "align": "left"
          },
          "hovermode": "closest",
          "mapbox": {
           "style": "light"
          },
          "paper_bgcolor": "white",
          "plot_bgcolor": "#E5ECF6",
          "polar": {
           "angularaxis": {
            "gridcolor": "white",
            "linecolor": "white",
            "ticks": ""
           },
           "bgcolor": "#E5ECF6",
           "radialaxis": {
            "gridcolor": "white",
            "linecolor": "white",
            "ticks": ""
           }
          },
          "scene": {
           "xaxis": {
            "backgroundcolor": "#E5ECF6",
            "gridcolor": "white",
            "gridwidth": 2,
            "linecolor": "white",
            "showbackground": true,
            "ticks": "",
            "zerolinecolor": "white"
           },
           "yaxis": {
            "backgroundcolor": "#E5ECF6",
            "gridcolor": "white",
            "gridwidth": 2,
            "linecolor": "white",
            "showbackground": true,
            "ticks": "",
            "zerolinecolor": "white"
           },
           "zaxis": {
            "backgroundcolor": "#E5ECF6",
            "gridcolor": "white",
            "gridwidth": 2,
            "linecolor": "white",
            "showbackground": true,
            "ticks": "",
            "zerolinecolor": "white"
           }
          },
          "shapedefaults": {
           "line": {
            "color": "#2a3f5f"
           }
          },
          "ternary": {
           "aaxis": {
            "gridcolor": "white",
            "linecolor": "white",
            "ticks": ""
           },
           "baxis": {
            "gridcolor": "white",
            "linecolor": "white",
            "ticks": ""
           },
           "bgcolor": "#E5ECF6",
           "caxis": {
            "gridcolor": "white",
            "linecolor": "white",
            "ticks": ""
           }
          },
          "title": {
           "x": 0.05
          },
          "xaxis": {
           "automargin": true,
           "gridcolor": "white",
           "linecolor": "white",
           "ticks": "",
           "title": {
            "standoff": 15
           },
           "zerolinecolor": "white",
           "zerolinewidth": 2
          },
          "yaxis": {
           "automargin": true,
           "gridcolor": "white",
           "linecolor": "white",
           "ticks": "",
           "title": {
            "standoff": 15
           },
           "zerolinecolor": "white",
           "zerolinewidth": 2
          }
         }
        },
        "title": {
         "text": "Histogram of composite_fp"
        },
        "xaxis": {
         "anchor": "y",
         "domain": [
          0,
          1
         ],
         "title": {
          "text": "composite_fp"
         }
        },
        "yaxis": {
         "anchor": "x",
         "domain": [
          0,
          1
         ],
         "title": {
          "text": "count"
         }
        }
       }
      },
      "text/html": [
       "<div>                            <div id=\"3d70d94f-17e8-4e43-8802-5b593c55b06d\" class=\"plotly-graph-div\" style=\"height:525px; width:100%;\"></div>            <script type=\"text/javascript\">                require([\"plotly\"], function(Plotly) {                    window.PLOTLYENV=window.PLOTLYENV || {};                                    if (document.getElementById(\"3d70d94f-17e8-4e43-8802-5b593c55b06d\")) {                    Plotly.newPlot(                        \"3d70d94f-17e8-4e43-8802-5b593c55b06d\",                        [{\"alignmentgroup\":\"True\",\"bingroup\":\"x\",\"hovertemplate\":\"composite_fp=%{x}<br>count=%{y}<extra></extra>\",\"legendgroup\":\"\",\"marker\":{\"color\":\"#636efa\",\"pattern\":{\"shape\":\"\"}},\"name\":\"\",\"nbinsx\":35,\"offsetgroup\":\"\",\"orientation\":\"v\",\"showlegend\":false,\"x\":[4622.0,4175.25,4058.25,3191.2,2597.775,2527.625,2342.75,2303.45,1929.875,1923.9,1899.325,1785.5749999999998,1575.45,1525.05,1465.625,1258.875,1254.1,1185.575,981.875,968.7,963.925,953.35,911.5,905.65,896.05,845.95,750.1750000000001,747.25,740.9,733.775,717.8499999999999,698.9,656.55,655.575,631.225,601.775,580.475,572.4,569.35,539.375,535.725,485.225,483.5,479.3,444.8250000000001,436.1,387.725,385.8,383.5,381.625,324.325,299.325,296.0,295.8,286.875,283.925,275.575,252.6,251.475,250.25,237.075,235.6,222.175,219.075,187.15,176.65,169.975,169.65,161.20000000000002,157.3,154.70000000000002,149.9,144.3,142.29999999999998,140.07500000000002,138.6,136.0,135.725,134.775,130.52499999999998,128.70000000000002,127.65,120.925,116.35,116.025,111.8,111.75,111.2,111.0,101.4,97.075,93.8,87.10000000000001,81.25,80.55000000000001,78.10000000000001,71.475,67.925,61.425,59.15,53.925,53.3,48.75,47.6,45.3,42.425,41.75,36.45,27.975,25.55,17.849999999999998,16.3,16.099999999999998,9.1,0.0,0.0,0.0],\"xaxis\":\"x\",\"yaxis\":\"y\",\"type\":\"histogram\"}],                        {\"template\":{\"data\":{\"histogram2dcontour\":[{\"type\":\"histogram2dcontour\",\"colorbar\":{\"outlinewidth\":0,\"ticks\":\"\"},\"colorscale\":[[0.0,\"#0d0887\"],[0.1111111111111111,\"#46039f\"],[0.2222222222222222,\"#7201a8\"],[0.3333333333333333,\"#9c179e\"],[0.4444444444444444,\"#bd3786\"],[0.5555555555555556,\"#d8576b\"],[0.6666666666666666,\"#ed7953\"],[0.7777777777777778,\"#fb9f3a\"],[0.8888888888888888,\"#fdca26\"],[1.0,\"#f0f921\"]]}],\"choropleth\":[{\"type\":\"choropleth\",\"colorbar\":{\"outlinewidth\":0,\"ticks\":\"\"}}],\"histogram2d\":[{\"type\":\"histogram2d\",\"colorbar\":{\"outlinewidth\":0,\"ticks\":\"\"},\"colorscale\":[[0.0,\"#0d0887\"],[0.1111111111111111,\"#46039f\"],[0.2222222222222222,\"#7201a8\"],[0.3333333333333333,\"#9c179e\"],[0.4444444444444444,\"#bd3786\"],[0.5555555555555556,\"#d8576b\"],[0.6666666666666666,\"#ed7953\"],[0.7777777777777778,\"#fb9f3a\"],[0.8888888888888888,\"#fdca26\"],[1.0,\"#f0f921\"]]}],\"heatmap\":[{\"type\":\"heatmap\",\"colorbar\":{\"outlinewidth\":0,\"ticks\":\"\"},\"colorscale\":[[0.0,\"#0d0887\"],[0.1111111111111111,\"#46039f\"],[0.2222222222222222,\"#7201a8\"],[0.3333333333333333,\"#9c179e\"],[0.4444444444444444,\"#bd3786\"],[0.5555555555555556,\"#d8576b\"],[0.6666666666666666,\"#ed7953\"],[0.7777777777777778,\"#fb9f3a\"],[0.8888888888888888,\"#fdca26\"],[1.0,\"#f0f921\"]]}],\"heatmapgl\":[{\"type\":\"heatmapgl\",\"colorbar\":{\"outlinewidth\":0,\"ticks\":\"\"},\"colorscale\":[[0.0,\"#0d0887\"],[0.1111111111111111,\"#46039f\"],[0.2222222222222222,\"#7201a8\"],[0.3333333333333333,\"#9c179e\"],[0.4444444444444444,\"#bd3786\"],[0.5555555555555556,\"#d8576b\"],[0.6666666666666666,\"#ed7953\"],[0.7777777777777778,\"#fb9f3a\"],[0.8888888888888888,\"#fdca26\"],[1.0,\"#f0f921\"]]}],\"contourcarpet\":[{\"type\":\"contourcarpet\",\"colorbar\":{\"outlinewidth\":0,\"ticks\":\"\"}}],\"contour\":[{\"type\":\"contour\",\"colorbar\":{\"outlinewidth\":0,\"ticks\":\"\"},\"colorscale\":[[0.0,\"#0d0887\"],[0.1111111111111111,\"#46039f\"],[0.2222222222222222,\"#7201a8\"],[0.3333333333333333,\"#9c179e\"],[0.4444444444444444,\"#bd3786\"],[0.5555555555555556,\"#d8576b\"],[0.6666666666666666,\"#ed7953\"],[0.7777777777777778,\"#fb9f3a\"],[0.8888888888888888,\"#fdca26\"],[1.0,\"#f0f921\"]]}],\"surface\":[{\"type\":\"surface\",\"colorbar\":{\"outlinewidth\":0,\"ticks\":\"\"},\"colorscale\":[[0.0,\"#0d0887\"],[0.1111111111111111,\"#46039f\"],[0.2222222222222222,\"#7201a8\"],[0.3333333333333333,\"#9c179e\"],[0.4444444444444444,\"#bd3786\"],[0.5555555555555556,\"#d8576b\"],[0.6666666666666666,\"#ed7953\"],[0.7777777777777778,\"#fb9f3a\"],[0.8888888888888888,\"#fdca26\"],[1.0,\"#f0f921\"]]}],\"mesh3d\":[{\"type\":\"mesh3d\",\"colorbar\":{\"outlinewidth\":0,\"ticks\":\"\"}}],\"scatter\":[{\"fillpattern\":{\"fillmode\":\"overlay\",\"size\":10,\"solidity\":0.2},\"type\":\"scatter\"}],\"parcoords\":[{\"type\":\"parcoords\",\"line\":{\"colorbar\":{\"outlinewidth\":0,\"ticks\":\"\"}}}],\"scatterpolargl\":[{\"type\":\"scatterpolargl\",\"marker\":{\"colorbar\":{\"outlinewidth\":0,\"ticks\":\"\"}}}],\"bar\":[{\"error_x\":{\"color\":\"#2a3f5f\"},\"error_y\":{\"color\":\"#2a3f5f\"},\"marker\":{\"line\":{\"color\":\"#E5ECF6\",\"width\":0.5},\"pattern\":{\"fillmode\":\"overlay\",\"size\":10,\"solidity\":0.2}},\"type\":\"bar\"}],\"scattergeo\":[{\"type\":\"scattergeo\",\"marker\":{\"colorbar\":{\"outlinewidth\":0,\"ticks\":\"\"}}}],\"scatterpolar\":[{\"type\":\"scatterpolar\",\"marker\":{\"colorbar\":{\"outlinewidth\":0,\"ticks\":\"\"}}}],\"histogram\":[{\"marker\":{\"pattern\":{\"fillmode\":\"overlay\",\"size\":10,\"solidity\":0.2}},\"type\":\"histogram\"}],\"scattergl\":[{\"type\":\"scattergl\",\"marker\":{\"colorbar\":{\"outlinewidth\":0,\"ticks\":\"\"}}}],\"scatter3d\":[{\"type\":\"scatter3d\",\"line\":{\"colorbar\":{\"outlinewidth\":0,\"ticks\":\"\"}},\"marker\":{\"colorbar\":{\"outlinewidth\":0,\"ticks\":\"\"}}}],\"scattermapbox\":[{\"type\":\"scattermapbox\",\"marker\":{\"colorbar\":{\"outlinewidth\":0,\"ticks\":\"\"}}}],\"scatterternary\":[{\"type\":\"scatterternary\",\"marker\":{\"colorbar\":{\"outlinewidth\":0,\"ticks\":\"\"}}}],\"scattercarpet\":[{\"type\":\"scattercarpet\",\"marker\":{\"colorbar\":{\"outlinewidth\":0,\"ticks\":\"\"}}}],\"carpet\":[{\"aaxis\":{\"endlinecolor\":\"#2a3f5f\",\"gridcolor\":\"white\",\"linecolor\":\"white\",\"minorgridcolor\":\"white\",\"startlinecolor\":\"#2a3f5f\"},\"baxis\":{\"endlinecolor\":\"#2a3f5f\",\"gridcolor\":\"white\",\"linecolor\":\"white\",\"minorgridcolor\":\"white\",\"startlinecolor\":\"#2a3f5f\"},\"type\":\"carpet\"}],\"table\":[{\"cells\":{\"fill\":{\"color\":\"#EBF0F8\"},\"line\":{\"color\":\"white\"}},\"header\":{\"fill\":{\"color\":\"#C8D4E3\"},\"line\":{\"color\":\"white\"}},\"type\":\"table\"}],\"barpolar\":[{\"marker\":{\"line\":{\"color\":\"#E5ECF6\",\"width\":0.5},\"pattern\":{\"fillmode\":\"overlay\",\"size\":10,\"solidity\":0.2}},\"type\":\"barpolar\"}],\"pie\":[{\"automargin\":true,\"type\":\"pie\"}]},\"layout\":{\"autotypenumbers\":\"strict\",\"colorway\":[\"#636efa\",\"#EF553B\",\"#00cc96\",\"#ab63fa\",\"#FFA15A\",\"#19d3f3\",\"#FF6692\",\"#B6E880\",\"#FF97FF\",\"#FECB52\"],\"font\":{\"color\":\"#2a3f5f\"},\"hovermode\":\"closest\",\"hoverlabel\":{\"align\":\"left\"},\"paper_bgcolor\":\"white\",\"plot_bgcolor\":\"#E5ECF6\",\"polar\":{\"bgcolor\":\"#E5ECF6\",\"angularaxis\":{\"gridcolor\":\"white\",\"linecolor\":\"white\",\"ticks\":\"\"},\"radialaxis\":{\"gridcolor\":\"white\",\"linecolor\":\"white\",\"ticks\":\"\"}},\"ternary\":{\"bgcolor\":\"#E5ECF6\",\"aaxis\":{\"gridcolor\":\"white\",\"linecolor\":\"white\",\"ticks\":\"\"},\"baxis\":{\"gridcolor\":\"white\",\"linecolor\":\"white\",\"ticks\":\"\"},\"caxis\":{\"gridcolor\":\"white\",\"linecolor\":\"white\",\"ticks\":\"\"}},\"coloraxis\":{\"colorbar\":{\"outlinewidth\":0,\"ticks\":\"\"}},\"colorscale\":{\"sequential\":[[0.0,\"#0d0887\"],[0.1111111111111111,\"#46039f\"],[0.2222222222222222,\"#7201a8\"],[0.3333333333333333,\"#9c179e\"],[0.4444444444444444,\"#bd3786\"],[0.5555555555555556,\"#d8576b\"],[0.6666666666666666,\"#ed7953\"],[0.7777777777777778,\"#fb9f3a\"],[0.8888888888888888,\"#fdca26\"],[1.0,\"#f0f921\"]],\"sequentialminus\":[[0.0,\"#0d0887\"],[0.1111111111111111,\"#46039f\"],[0.2222222222222222,\"#7201a8\"],[0.3333333333333333,\"#9c179e\"],[0.4444444444444444,\"#bd3786\"],[0.5555555555555556,\"#d8576b\"],[0.6666666666666666,\"#ed7953\"],[0.7777777777777778,\"#fb9f3a\"],[0.8888888888888888,\"#fdca26\"],[1.0,\"#f0f921\"]],\"diverging\":[[0,\"#8e0152\"],[0.1,\"#c51b7d\"],[0.2,\"#de77ae\"],[0.3,\"#f1b6da\"],[0.4,\"#fde0ef\"],[0.5,\"#f7f7f7\"],[0.6,\"#e6f5d0\"],[0.7,\"#b8e186\"],[0.8,\"#7fbc41\"],[0.9,\"#4d9221\"],[1,\"#276419\"]]},\"xaxis\":{\"gridcolor\":\"white\",\"linecolor\":\"white\",\"ticks\":\"\",\"title\":{\"standoff\":15},\"zerolinecolor\":\"white\",\"automargin\":true,\"zerolinewidth\":2},\"yaxis\":{\"gridcolor\":\"white\",\"linecolor\":\"white\",\"ticks\":\"\",\"title\":{\"standoff\":15},\"zerolinecolor\":\"white\",\"automargin\":true,\"zerolinewidth\":2},\"scene\":{\"xaxis\":{\"backgroundcolor\":\"#E5ECF6\",\"gridcolor\":\"white\",\"linecolor\":\"white\",\"showbackground\":true,\"ticks\":\"\",\"zerolinecolor\":\"white\",\"gridwidth\":2},\"yaxis\":{\"backgroundcolor\":\"#E5ECF6\",\"gridcolor\":\"white\",\"linecolor\":\"white\",\"showbackground\":true,\"ticks\":\"\",\"zerolinecolor\":\"white\",\"gridwidth\":2},\"zaxis\":{\"backgroundcolor\":\"#E5ECF6\",\"gridcolor\":\"white\",\"linecolor\":\"white\",\"showbackground\":true,\"ticks\":\"\",\"zerolinecolor\":\"white\",\"gridwidth\":2}},\"shapedefaults\":{\"line\":{\"color\":\"#2a3f5f\"}},\"annotationdefaults\":{\"arrowcolor\":\"#2a3f5f\",\"arrowhead\":0,\"arrowwidth\":1},\"geo\":{\"bgcolor\":\"white\",\"landcolor\":\"#E5ECF6\",\"subunitcolor\":\"white\",\"showland\":true,\"showlakes\":true,\"lakecolor\":\"white\"},\"title\":{\"x\":0.05},\"mapbox\":{\"style\":\"light\"}}},\"xaxis\":{\"anchor\":\"y\",\"domain\":[0.0,1.0],\"title\":{\"text\":\"composite_fp\"}},\"yaxis\":{\"anchor\":\"x\",\"domain\":[0.0,1.0],\"title\":{\"text\":\"count\"}},\"legend\":{\"tracegroupgap\":0},\"title\":{\"text\":\"Histogram of composite_fp\"},\"barmode\":\"relative\",\"annotations\":[{\"arrowhead\":2,\"ax\":0,\"ay\":-20,\"showarrow\":true,\"text\":\"Gannon Buhr\",\"x\":4622.0,\"y\":0},{\"arrowhead\":2,\"ax\":0,\"ay\":-20,\"showarrow\":true,\"text\":\"Calvin Heimburg\",\"x\":4175.25,\"y\":1},{\"arrowhead\":2,\"ax\":0,\"ay\":-20,\"showarrow\":true,\"text\":\"Ricky Wysocki\",\"x\":4058.25,\"y\":2},{\"arrowhead\":2,\"ax\":0,\"ay\":-20,\"showarrow\":true,\"text\":\"Isaac Robinson\",\"x\":3191.2,\"y\":3},{\"arrowhead\":2,\"ax\":0,\"ay\":-20,\"showarrow\":true,\"text\":\"Anthony Barela\",\"x\":2597.775,\"y\":4},{\"arrowhead\":2,\"ax\":0,\"ay\":-20,\"showarrow\":true,\"text\":\"Niklas Anttila\",\"x\":2527.625,\"y\":5},{\"arrowhead\":2,\"ax\":0,\"ay\":-20,\"showarrow\":true,\"text\":\"Kyle Klein\",\"x\":2342.75,\"y\":6}]},                        {\"responsive\": true}                    ).then(function(){\n",
       "                            \n",
       "var gd = document.getElementById('3d70d94f-17e8-4e43-8802-5b593c55b06d');\n",
       "var x = new MutationObserver(function (mutations, observer) {{\n",
       "        var display = window.getComputedStyle(gd).display;\n",
       "        if (!display || display === 'none') {{\n",
       "            console.log([gd, 'removed!']);\n",
       "            Plotly.purge(gd);\n",
       "            observer.disconnect();\n",
       "        }}\n",
       "}});\n",
       "\n",
       "// Listen for the removal of the full notebook cells\n",
       "var notebookContainer = gd.closest('#notebook-container');\n",
       "if (notebookContainer) {{\n",
       "    x.observe(notebookContainer, {childList: true});\n",
       "}}\n",
       "\n",
       "// Listen for the clearing of the current output cell\n",
       "var outputEl = gd.closest('.output');\n",
       "if (outputEl) {{\n",
       "    x.observe(outputEl, {childList: true});\n",
       "}}\n",
       "\n",
       "                        })                };                });            </script>        </div>"
      ]
     },
     "metadata": {},
     "output_type": "display_data"
    }
   ],
   "source": [
    "#Composite FP\n",
    "plot_histogram(df, column='composite_fp', annotate_top_n={'Player':7}, nbins=35)"
   ]
  },
  {
   "cell_type": "code",
   "execution_count": 13,
   "metadata": {},
   "outputs": [
    {
     "data": {
      "application/vnd.plotly.v1+json": {
       "config": {
        "plotlyServerURL": "https://plot.ly"
       },
       "data": [
        {
         "customdata": [
          2,
          25,
          24,
          7,
          4,
          5,
          5,
          10,
          1,
          9,
          4,
          10,
          6,
          4,
          1,
          12,
          2,
          3,
          12,
          14,
          6,
          3,
          1,
          3,
          30,
          1,
          24,
          1,
          19,
          3,
          1,
          7,
          10,
          7,
          2,
          4,
          21,
          9,
          8,
          50,
          1,
          10,
          1,
          2,
          24,
          1,
          10,
          6,
          11,
          27,
          6,
          6,
          4,
          1,
          1,
          4,
          2,
          7,
          7,
          10,
          2,
          2,
          13,
          1,
          1,
          5,
          3,
          7,
          1,
          10,
          1,
          8,
          7,
          1,
          1,
          1,
          3,
          1,
          1
         ],
         "hovertemplate": "Date: %{x}<br>Place: %{customdata}<extra></extra>",
         "line": {
          "color": "blue"
         },
         "name": "Place",
         "type": "scatter",
         "x": [
          "2022-02-27T00:00:00",
          "2022-03-13T00:00:00",
          "2022-03-20T00:00:00",
          "2022-03-27T00:00:00",
          "2022-04-10T00:00:00",
          "2022-04-17T00:00:00",
          "2022-04-24T00:00:00",
          "2022-05-01T00:00:00",
          "2022-05-15T00:00:00",
          "2022-05-22T00:00:00",
          "2022-06-05T00:00:00",
          "2022-06-12T00:00:00",
          "2022-06-26T00:00:00",
          "2022-07-10T00:00:00",
          "2022-07-24T00:00:00",
          "2022-07-31T00:00:00",
          "2022-08-07T00:00:00",
          "2022-08-14T00:00:00",
          "2022-08-21T00:00:00",
          "2022-09-03T00:00:00",
          "2022-09-18T00:00:00",
          "2022-09-25T00:00:00",
          "2022-10-09T00:00:00",
          "2022-10-16T00:00:00",
          "2023-02-26T00:00:00",
          "2023-03-05T00:00:00",
          "2023-03-12T00:00:00",
          "2023-03-19T00:00:00",
          "2023-03-26T00:00:00",
          "2023-04-09T00:00:00",
          "2023-04-16T00:00:00",
          "2023-04-23T00:00:00",
          "2023-04-30T00:00:00",
          "2023-05-07T00:00:00",
          "2023-05-14T00:00:00",
          "2023-05-21T00:00:00",
          "2023-05-28T00:00:00",
          "2023-06-04T00:00:00",
          "2023-06-11T00:00:00",
          "2023-06-18T00:00:00",
          "2023-06-25T00:00:00",
          "2023-07-02T00:00:00",
          "2023-07-09T00:00:00",
          "2023-07-30T00:00:00",
          "2023-08-06T00:00:00",
          "2023-08-13T00:00:00",
          "2023-08-20T00:00:00",
          "2023-09-03T00:00:00",
          "2023-09-17T00:00:00",
          "2023-10-08T00:00:00",
          "2023-10-15T00:00:00",
          "2024-02-17T00:00:00",
          "2024-02-25T00:00:00",
          "2024-03-03T00:00:00",
          "2024-03-10T00:00:00",
          "2024-03-17T00:00:00",
          "2024-03-31T00:00:00",
          "2024-04-14T00:00:00",
          "2024-04-21T00:00:00",
          "2024-04-28T00:00:00",
          "2024-05-05T00:00:00",
          "2024-05-12T00:00:00",
          "2024-05-19T00:00:00",
          "2024-06-02T00:00:00",
          "2024-06-09T00:00:00",
          "2024-06-23T00:00:00",
          "2024-07-07T00:00:00",
          "2024-07-14T00:00:00",
          "2024-07-21T00:00:00",
          "2024-07-28T00:00:00",
          "2024-08-04T00:00:00",
          "2024-08-11T00:00:00",
          "2024-08-25T00:00:00",
          "2024-09-08T00:00:00",
          "2024-09-15T00:00:00",
          "2024-09-22T00:00:00",
          "2024-09-29T00:00:00",
          "2024-10-13T00:00:00",
          "2024-10-20T00:00:00"
         ],
         "xaxis": "x",
         "y": [
          2,
          25,
          24,
          7,
          4,
          5,
          5,
          10,
          1,
          9,
          4,
          10,
          6,
          4,
          1,
          12,
          2,
          3,
          12,
          14,
          6,
          3,
          1,
          3,
          30,
          1,
          24,
          1,
          19,
          3,
          1,
          7,
          10,
          7,
          2,
          4,
          21,
          9,
          8,
          50,
          1,
          10,
          1,
          2,
          24,
          1,
          10,
          6,
          11,
          27,
          6,
          6,
          4,
          1,
          1,
          4,
          2,
          7,
          7,
          10,
          2,
          2,
          13,
          1,
          1,
          5,
          3,
          7,
          1,
          10,
          1,
          8,
          7,
          1,
          1,
          1,
          3,
          1,
          1
         ],
         "yaxis": "y"
        },
        {
         "customdata": [
          2,
          25,
          7,
          5,
          10,
          9,
          4,
          6,
          4,
          12,
          3,
          12,
          6,
          3,
          3,
          30,
          24,
          1,
          3,
          10,
          2,
          9,
          50,
          1,
          10,
          24,
          1,
          10,
          11,
          6,
          6,
          4,
          1,
          4,
          2,
          7,
          7,
          2,
          13,
          1,
          1,
          5,
          3,
          7,
          10,
          1,
          8,
          1,
          1,
          3,
          1
         ],
         "hovertemplate": "Date: %{x}<br>Place: %{customdata}<br>Tournament: %{text}<extra></extra>",
         "marker": {
          "size": 8
         },
         "mode": "markers",
         "name": "Tier ES",
         "text": [
          "DGPT - Las Vegas Challenge presented by Innova",
          "DGPT - Waco Annual Charity Open presented by Prodigy Disc",
          "DGPT - 27th Annual Texas State Disc Golf Championship Presented by Latitude 64",
          "DGPT - Play It Again Sports Jonesboro Open powered by Prodigy",
          "DGPT - Dynamic Discs Open",
          "DGPT - OTB Open presented by MVP Disc Sports",
          "DGPT - Portland Open presented by Dynamic Discs",
          "DGPT - The Preserve Championship designed by Leiviska Disc Golf",
          "DGPT - LWS Open at Idlewild presented by Dynamic Discs & The Nati",
          "DGPT - Discraft's Great Lakes Open",
          "DGPT - Discraft Ledgestone Open",
          "DGPT - The TruBank Des Moines Challenge presented by Discraft",
          "DGPT Playoffs - Discraft's Green Mountain Championship",
          "DGPT - MVP Open at Maple Hill",
          "Disc Golf Pro Tour Championship presented by Barbasol",
          "DGPT - Las Vegas Challenge presented by Innova",
          "DGPT - Prodigy presents WACO",
          "DGPT - The Open at Austin presented by Lone Star Disc",
          "DGPT Elite - Music City Open presented by Lone Star Disc",
          "DGPT - Play It Again Sports Jonesboro Open presented by Prodigy",
          "DGPT - OTB Open presented by MVP Disc Sports",
          "DGPT Elite+ 2023 Portland Open presented by Latitude 64",
          "DGPT - Dynamic Discs Open",
          "DGPT - The TruBank Des Moines Challenge presented by Discraft",
          "DGPT - The Preserve Championship powered by Prodigy",
          "DGPT - Discraft Ledgestone Open",
          "DGPT - LWS Open at Idlewild presented by Dynamic Discs & The Nati",
          "DGPT - Discraft Great Lakes Open",
          "DGPT Playoffs - MVP Open presented by OTB",
          "Disc Golf Pro Tour Championship presented by Barbasol",
          "DGPT - All-Star Weekend - Doubles",
          "DGPT - Chess.com Invitational presented by Discraft",
          "DGPT+ Prodigy presents WACO",
          "DGPT - The Open at Austin presented by Flight Factory Discs",
          "DGPT - Texas State Disc Golf Championships - presented by Lone Star Disc",
          "DGPT - Play It Again Sports Jonesboro Open - presented by Westside Discs",
          "DGPT - Music City Open presented by Lone Star Disc",
          "DGPT - Dynamic Discs Open",
          "DGPT - OTB Open presented by MVP Disc Sports + WGE",
          "DGPT+ 2024 Portland Open presented by Latitude64",
          "DGPT - 2024 Beaver State Fling Presented by Innova",
          "DGPT - The Preserve Championship connected by Microsoft Teams",
          "DGPT - Trubank Des Moines Challenge Presented by DGA",
          "DGPT - Krokhol Open presented by Latitude 64",
          "DGPT - European Disc Golf Festival",
          "DGPT+ Discraft's Ledgestone Open presented by GRIPeq",
          "DGPT - LWS Open at Idlewild presented by Dynamic Discs & The Nati",
          "DGPT+ Discraft Great Lakes Open presented by Gerrit J Verburg",
          "DGPT Playoffs - Discraft's Green Mountain Championship at Smugglers' Notch Resort",
          "DGPT Playoffs- MVP Open x OTB",
          "DGPT Championship presented by Barbasol"
         ],
         "type": "scatter",
         "x": [
          "2022-02-27T00:00:00",
          "2022-03-13T00:00:00",
          "2022-03-27T00:00:00",
          "2022-04-24T00:00:00",
          "2022-05-01T00:00:00",
          "2022-05-22T00:00:00",
          "2022-06-05T00:00:00",
          "2022-06-26T00:00:00",
          "2022-07-10T00:00:00",
          "2022-07-31T00:00:00",
          "2022-08-14T00:00:00",
          "2022-08-21T00:00:00",
          "2022-09-18T00:00:00",
          "2022-09-25T00:00:00",
          "2022-10-16T00:00:00",
          "2023-02-26T00:00:00",
          "2023-03-12T00:00:00",
          "2023-03-19T00:00:00",
          "2023-04-09T00:00:00",
          "2023-04-30T00:00:00",
          "2023-05-14T00:00:00",
          "2023-06-04T00:00:00",
          "2023-06-18T00:00:00",
          "2023-06-25T00:00:00",
          "2023-07-02T00:00:00",
          "2023-08-06T00:00:00",
          "2023-08-13T00:00:00",
          "2023-08-20T00:00:00",
          "2023-09-17T00:00:00",
          "2023-10-15T00:00:00",
          "2024-02-17T00:00:00",
          "2024-02-25T00:00:00",
          "2024-03-10T00:00:00",
          "2024-03-17T00:00:00",
          "2024-03-31T00:00:00",
          "2024-04-14T00:00:00",
          "2024-04-21T00:00:00",
          "2024-05-05T00:00:00",
          "2024-05-19T00:00:00",
          "2024-06-02T00:00:00",
          "2024-06-09T00:00:00",
          "2024-06-23T00:00:00",
          "2024-07-07T00:00:00",
          "2024-07-14T00:00:00",
          "2024-07-28T00:00:00",
          "2024-08-04T00:00:00",
          "2024-08-11T00:00:00",
          "2024-09-08T00:00:00",
          "2024-09-22T00:00:00",
          "2024-09-29T00:00:00",
          "2024-10-20T00:00:00"
         ],
         "xaxis": "x",
         "y": [
          2,
          25,
          7,
          5,
          10,
          9,
          4,
          6,
          4,
          12,
          3,
          12,
          6,
          3,
          3,
          30,
          24,
          1,
          3,
          10,
          2,
          9,
          50,
          1,
          10,
          24,
          1,
          10,
          11,
          6,
          6,
          4,
          1,
          4,
          2,
          7,
          7,
          2,
          13,
          1,
          1,
          5,
          3,
          7,
          10,
          1,
          8,
          1,
          1,
          3,
          1
         ],
         "yaxis": "y"
        },
        {
         "customdata": [
          24,
          4,
          1,
          10,
          1,
          2,
          1,
          19,
          1,
          7,
          4,
          21,
          8,
          1,
          2,
          1,
          2,
          1
         ],
         "hovertemplate": "Date: %{x}<br>Place: %{customdata}<br>Tournament: %{text}<extra></extra>",
         "marker": {
          "size": 8
         },
         "mode": "markers",
         "name": "Tier A",
         "text": [
          "Discraft presents THE OPEN at BELTON, a DGPT Silver Series Event",
          "The 2022 Open at Tallahassee - DGPT Silver Series Presented by Dynamic Discs",
          "2022 Santa Cruz Masters Cup (DGPT Silver Series) Presented by Innova Discs",
          "Discraft presents the 2022 Beaver State Fling sponsored by Resistance Discs—DGPT Silver Series",
          "Gatekeeper Media presents Clash at The Canyons VI - Pro Weekend",
          "Mid America Open DGPT Silver Series presented by Discraft",
          "The Memorial Championship presented by Discraft",
          "DGPT Silver - Innova Open at The 28th Annual Texas State Disc Golf Championships",
          "DGPT Silver - Innova Blue Ridge Championship at North Cove",
          "2023 Santa Cruz Masters Cup Presented By DGA",
          "DGPT Silver - Beaver State Fling Presented by Innova",
          "DGPT Silver - Discraft's Cascade Challenge presented by GRIPeq",
          "DGPT Silver Zoo Town Open Presented by Ink Realty Group Driven by Innova",
          "DGPT Silver - GRIPeq 41st Kansas City Wide Open Sponsored by Dynamic Discs",
          "DGPT Silver - Mid America Open",
          "The Memorial Championship presented by Discraft",
          "Las Vegas Challenge presented by Innova",
          "The Rip - DGPT Q-Series - Presented by Innova - Equipped by Diameter"
         ],
         "type": "scatter",
         "x": [
          "2022-03-20T00:00:00",
          "2022-04-10T00:00:00",
          "2022-05-15T00:00:00",
          "2022-06-12T00:00:00",
          "2022-07-24T00:00:00",
          "2022-08-07T00:00:00",
          "2023-03-05T00:00:00",
          "2023-03-26T00:00:00",
          "2023-04-16T00:00:00",
          "2023-05-07T00:00:00",
          "2023-05-21T00:00:00",
          "2023-05-28T00:00:00",
          "2023-06-11T00:00:00",
          "2023-07-09T00:00:00",
          "2023-07-30T00:00:00",
          "2024-03-03T00:00:00",
          "2024-05-12T00:00:00",
          "2024-09-15T00:00:00"
         ],
         "xaxis": "x",
         "y": [
          24,
          4,
          1,
          10,
          1,
          2,
          1,
          19,
          1,
          7,
          4,
          21,
          8,
          1,
          2,
          1,
          2,
          1
         ],
         "yaxis": "y"
        },
        {
         "customdata": [
          5,
          14,
          7,
          6,
          10,
          1,
          7
         ],
         "hovertemplate": "Date: %{x}<br>Place: %{customdata}<br>Tournament: %{text}<extra></extra>",
         "marker": {
          "size": 8
         },
         "mode": "markers",
         "name": "Tier M",
         "text": [
          "PDGA Champions Cup Presented by Bushnell",
          "2022 PDGA Professional Disc Golf World Championships Presented by Dynamic Discs",
          "PDGA Champions Cup Presented by Bushnell",
          "2023 PDGA Professional Disc Golf World Championships Presented by L.L.Bean",
          "2024 PDGA Champions Cup",
          "2024 European Open presented by Discmania",
          "2024 PDGA Professional Disc Golf World Championships Presented by Zuca"
         ],
         "type": "scatter",
         "x": [
          "2022-04-17T00:00:00",
          "2022-09-03T00:00:00",
          "2023-04-23T00:00:00",
          "2023-09-03T00:00:00",
          "2024-04-28T00:00:00",
          "2024-07-21T00:00:00",
          "2024-08-25T00:00:00"
         ],
         "xaxis": "x",
         "y": [
          5,
          14,
          7,
          6,
          10,
          1,
          7
         ],
         "yaxis": "y"
        },
        {
         "customdata": [
          1,
          27,
          1
         ],
         "hovertemplate": "Date: %{x}<br>Place: %{customdata}<br>Tournament: %{text}<extra></extra>",
         "marker": {
          "size": 8
         },
         "mode": "markers",
         "name": "Tier XM",
         "text": [
          "United States Disc Golf Championship",
          "United States Disc Golf Championship",
          "2024 United States Disc Golf Championship"
         ],
         "type": "scatter",
         "x": [
          "2022-10-09T00:00:00",
          "2023-10-08T00:00:00",
          "2024-10-13T00:00:00"
         ],
         "xaxis": "x",
         "y": [
          1,
          27,
          1
         ],
         "yaxis": "y"
        }
       ],
       "layout": {
        "hovermode": "x unified",
        "showlegend": true,
        "template": {
         "data": {
          "bar": [
           {
            "error_x": {
             "color": "#2a3f5f"
            },
            "error_y": {
             "color": "#2a3f5f"
            },
            "marker": {
             "line": {
              "color": "#E5ECF6",
              "width": 0.5
             },
             "pattern": {
              "fillmode": "overlay",
              "size": 10,
              "solidity": 0.2
             }
            },
            "type": "bar"
           }
          ],
          "barpolar": [
           {
            "marker": {
             "line": {
              "color": "#E5ECF6",
              "width": 0.5
             },
             "pattern": {
              "fillmode": "overlay",
              "size": 10,
              "solidity": 0.2
             }
            },
            "type": "barpolar"
           }
          ],
          "carpet": [
           {
            "aaxis": {
             "endlinecolor": "#2a3f5f",
             "gridcolor": "white",
             "linecolor": "white",
             "minorgridcolor": "white",
             "startlinecolor": "#2a3f5f"
            },
            "baxis": {
             "endlinecolor": "#2a3f5f",
             "gridcolor": "white",
             "linecolor": "white",
             "minorgridcolor": "white",
             "startlinecolor": "#2a3f5f"
            },
            "type": "carpet"
           }
          ],
          "choropleth": [
           {
            "colorbar": {
             "outlinewidth": 0,
             "ticks": ""
            },
            "type": "choropleth"
           }
          ],
          "contour": [
           {
            "colorbar": {
             "outlinewidth": 0,
             "ticks": ""
            },
            "colorscale": [
             [
              0,
              "#0d0887"
             ],
             [
              0.1111111111111111,
              "#46039f"
             ],
             [
              0.2222222222222222,
              "#7201a8"
             ],
             [
              0.3333333333333333,
              "#9c179e"
             ],
             [
              0.4444444444444444,
              "#bd3786"
             ],
             [
              0.5555555555555556,
              "#d8576b"
             ],
             [
              0.6666666666666666,
              "#ed7953"
             ],
             [
              0.7777777777777778,
              "#fb9f3a"
             ],
             [
              0.8888888888888888,
              "#fdca26"
             ],
             [
              1,
              "#f0f921"
             ]
            ],
            "type": "contour"
           }
          ],
          "contourcarpet": [
           {
            "colorbar": {
             "outlinewidth": 0,
             "ticks": ""
            },
            "type": "contourcarpet"
           }
          ],
          "heatmap": [
           {
            "colorbar": {
             "outlinewidth": 0,
             "ticks": ""
            },
            "colorscale": [
             [
              0,
              "#0d0887"
             ],
             [
              0.1111111111111111,
              "#46039f"
             ],
             [
              0.2222222222222222,
              "#7201a8"
             ],
             [
              0.3333333333333333,
              "#9c179e"
             ],
             [
              0.4444444444444444,
              "#bd3786"
             ],
             [
              0.5555555555555556,
              "#d8576b"
             ],
             [
              0.6666666666666666,
              "#ed7953"
             ],
             [
              0.7777777777777778,
              "#fb9f3a"
             ],
             [
              0.8888888888888888,
              "#fdca26"
             ],
             [
              1,
              "#f0f921"
             ]
            ],
            "type": "heatmap"
           }
          ],
          "heatmapgl": [
           {
            "colorbar": {
             "outlinewidth": 0,
             "ticks": ""
            },
            "colorscale": [
             [
              0,
              "#0d0887"
             ],
             [
              0.1111111111111111,
              "#46039f"
             ],
             [
              0.2222222222222222,
              "#7201a8"
             ],
             [
              0.3333333333333333,
              "#9c179e"
             ],
             [
              0.4444444444444444,
              "#bd3786"
             ],
             [
              0.5555555555555556,
              "#d8576b"
             ],
             [
              0.6666666666666666,
              "#ed7953"
             ],
             [
              0.7777777777777778,
              "#fb9f3a"
             ],
             [
              0.8888888888888888,
              "#fdca26"
             ],
             [
              1,
              "#f0f921"
             ]
            ],
            "type": "heatmapgl"
           }
          ],
          "histogram": [
           {
            "marker": {
             "pattern": {
              "fillmode": "overlay",
              "size": 10,
              "solidity": 0.2
             }
            },
            "type": "histogram"
           }
          ],
          "histogram2d": [
           {
            "colorbar": {
             "outlinewidth": 0,
             "ticks": ""
            },
            "colorscale": [
             [
              0,
              "#0d0887"
             ],
             [
              0.1111111111111111,
              "#46039f"
             ],
             [
              0.2222222222222222,
              "#7201a8"
             ],
             [
              0.3333333333333333,
              "#9c179e"
             ],
             [
              0.4444444444444444,
              "#bd3786"
             ],
             [
              0.5555555555555556,
              "#d8576b"
             ],
             [
              0.6666666666666666,
              "#ed7953"
             ],
             [
              0.7777777777777778,
              "#fb9f3a"
             ],
             [
              0.8888888888888888,
              "#fdca26"
             ],
             [
              1,
              "#f0f921"
             ]
            ],
            "type": "histogram2d"
           }
          ],
          "histogram2dcontour": [
           {
            "colorbar": {
             "outlinewidth": 0,
             "ticks": ""
            },
            "colorscale": [
             [
              0,
              "#0d0887"
             ],
             [
              0.1111111111111111,
              "#46039f"
             ],
             [
              0.2222222222222222,
              "#7201a8"
             ],
             [
              0.3333333333333333,
              "#9c179e"
             ],
             [
              0.4444444444444444,
              "#bd3786"
             ],
             [
              0.5555555555555556,
              "#d8576b"
             ],
             [
              0.6666666666666666,
              "#ed7953"
             ],
             [
              0.7777777777777778,
              "#fb9f3a"
             ],
             [
              0.8888888888888888,
              "#fdca26"
             ],
             [
              1,
              "#f0f921"
             ]
            ],
            "type": "histogram2dcontour"
           }
          ],
          "mesh3d": [
           {
            "colorbar": {
             "outlinewidth": 0,
             "ticks": ""
            },
            "type": "mesh3d"
           }
          ],
          "parcoords": [
           {
            "line": {
             "colorbar": {
              "outlinewidth": 0,
              "ticks": ""
             }
            },
            "type": "parcoords"
           }
          ],
          "pie": [
           {
            "automargin": true,
            "type": "pie"
           }
          ],
          "scatter": [
           {
            "fillpattern": {
             "fillmode": "overlay",
             "size": 10,
             "solidity": 0.2
            },
            "type": "scatter"
           }
          ],
          "scatter3d": [
           {
            "line": {
             "colorbar": {
              "outlinewidth": 0,
              "ticks": ""
             }
            },
            "marker": {
             "colorbar": {
              "outlinewidth": 0,
              "ticks": ""
             }
            },
            "type": "scatter3d"
           }
          ],
          "scattercarpet": [
           {
            "marker": {
             "colorbar": {
              "outlinewidth": 0,
              "ticks": ""
             }
            },
            "type": "scattercarpet"
           }
          ],
          "scattergeo": [
           {
            "marker": {
             "colorbar": {
              "outlinewidth": 0,
              "ticks": ""
             }
            },
            "type": "scattergeo"
           }
          ],
          "scattergl": [
           {
            "marker": {
             "colorbar": {
              "outlinewidth": 0,
              "ticks": ""
             }
            },
            "type": "scattergl"
           }
          ],
          "scattermapbox": [
           {
            "marker": {
             "colorbar": {
              "outlinewidth": 0,
              "ticks": ""
             }
            },
            "type": "scattermapbox"
           }
          ],
          "scatterpolar": [
           {
            "marker": {
             "colorbar": {
              "outlinewidth": 0,
              "ticks": ""
             }
            },
            "type": "scatterpolar"
           }
          ],
          "scatterpolargl": [
           {
            "marker": {
             "colorbar": {
              "outlinewidth": 0,
              "ticks": ""
             }
            },
            "type": "scatterpolargl"
           }
          ],
          "scatterternary": [
           {
            "marker": {
             "colorbar": {
              "outlinewidth": 0,
              "ticks": ""
             }
            },
            "type": "scatterternary"
           }
          ],
          "surface": [
           {
            "colorbar": {
             "outlinewidth": 0,
             "ticks": ""
            },
            "colorscale": [
             [
              0,
              "#0d0887"
             ],
             [
              0.1111111111111111,
              "#46039f"
             ],
             [
              0.2222222222222222,
              "#7201a8"
             ],
             [
              0.3333333333333333,
              "#9c179e"
             ],
             [
              0.4444444444444444,
              "#bd3786"
             ],
             [
              0.5555555555555556,
              "#d8576b"
             ],
             [
              0.6666666666666666,
              "#ed7953"
             ],
             [
              0.7777777777777778,
              "#fb9f3a"
             ],
             [
              0.8888888888888888,
              "#fdca26"
             ],
             [
              1,
              "#f0f921"
             ]
            ],
            "type": "surface"
           }
          ],
          "table": [
           {
            "cells": {
             "fill": {
              "color": "#EBF0F8"
             },
             "line": {
              "color": "white"
             }
            },
            "header": {
             "fill": {
              "color": "#C8D4E3"
             },
             "line": {
              "color": "white"
             }
            },
            "type": "table"
           }
          ]
         },
         "layout": {
          "annotationdefaults": {
           "arrowcolor": "#2a3f5f",
           "arrowhead": 0,
           "arrowwidth": 1
          },
          "autotypenumbers": "strict",
          "coloraxis": {
           "colorbar": {
            "outlinewidth": 0,
            "ticks": ""
           }
          },
          "colorscale": {
           "diverging": [
            [
             0,
             "#8e0152"
            ],
            [
             0.1,
             "#c51b7d"
            ],
            [
             0.2,
             "#de77ae"
            ],
            [
             0.3,
             "#f1b6da"
            ],
            [
             0.4,
             "#fde0ef"
            ],
            [
             0.5,
             "#f7f7f7"
            ],
            [
             0.6,
             "#e6f5d0"
            ],
            [
             0.7,
             "#b8e186"
            ],
            [
             0.8,
             "#7fbc41"
            ],
            [
             0.9,
             "#4d9221"
            ],
            [
             1,
             "#276419"
            ]
           ],
           "sequential": [
            [
             0,
             "#0d0887"
            ],
            [
             0.1111111111111111,
             "#46039f"
            ],
            [
             0.2222222222222222,
             "#7201a8"
            ],
            [
             0.3333333333333333,
             "#9c179e"
            ],
            [
             0.4444444444444444,
             "#bd3786"
            ],
            [
             0.5555555555555556,
             "#d8576b"
            ],
            [
             0.6666666666666666,
             "#ed7953"
            ],
            [
             0.7777777777777778,
             "#fb9f3a"
            ],
            [
             0.8888888888888888,
             "#fdca26"
            ],
            [
             1,
             "#f0f921"
            ]
           ],
           "sequentialminus": [
            [
             0,
             "#0d0887"
            ],
            [
             0.1111111111111111,
             "#46039f"
            ],
            [
             0.2222222222222222,
             "#7201a8"
            ],
            [
             0.3333333333333333,
             "#9c179e"
            ],
            [
             0.4444444444444444,
             "#bd3786"
            ],
            [
             0.5555555555555556,
             "#d8576b"
            ],
            [
             0.6666666666666666,
             "#ed7953"
            ],
            [
             0.7777777777777778,
             "#fb9f3a"
            ],
            [
             0.8888888888888888,
             "#fdca26"
            ],
            [
             1,
             "#f0f921"
            ]
           ]
          },
          "colorway": [
           "#636efa",
           "#EF553B",
           "#00cc96",
           "#ab63fa",
           "#FFA15A",
           "#19d3f3",
           "#FF6692",
           "#B6E880",
           "#FF97FF",
           "#FECB52"
          ],
          "font": {
           "color": "#2a3f5f"
          },
          "geo": {
           "bgcolor": "white",
           "lakecolor": "white",
           "landcolor": "#E5ECF6",
           "showlakes": true,
           "showland": true,
           "subunitcolor": "white"
          },
          "hoverlabel": {
           "align": "left"
          },
          "hovermode": "closest",
          "mapbox": {
           "style": "light"
          },
          "paper_bgcolor": "white",
          "plot_bgcolor": "#E5ECF6",
          "polar": {
           "angularaxis": {
            "gridcolor": "white",
            "linecolor": "white",
            "ticks": ""
           },
           "bgcolor": "#E5ECF6",
           "radialaxis": {
            "gridcolor": "white",
            "linecolor": "white",
            "ticks": ""
           }
          },
          "scene": {
           "xaxis": {
            "backgroundcolor": "#E5ECF6",
            "gridcolor": "white",
            "gridwidth": 2,
            "linecolor": "white",
            "showbackground": true,
            "ticks": "",
            "zerolinecolor": "white"
           },
           "yaxis": {
            "backgroundcolor": "#E5ECF6",
            "gridcolor": "white",
            "gridwidth": 2,
            "linecolor": "white",
            "showbackground": true,
            "ticks": "",
            "zerolinecolor": "white"
           },
           "zaxis": {
            "backgroundcolor": "#E5ECF6",
            "gridcolor": "white",
            "gridwidth": 2,
            "linecolor": "white",
            "showbackground": true,
            "ticks": "",
            "zerolinecolor": "white"
           }
          },
          "shapedefaults": {
           "line": {
            "color": "#2a3f5f"
           }
          },
          "ternary": {
           "aaxis": {
            "gridcolor": "white",
            "linecolor": "white",
            "ticks": ""
           },
           "baxis": {
            "gridcolor": "white",
            "linecolor": "white",
            "ticks": ""
           },
           "bgcolor": "#E5ECF6",
           "caxis": {
            "gridcolor": "white",
            "linecolor": "white",
            "ticks": ""
           }
          },
          "title": {
           "x": 0.05
          },
          "xaxis": {
           "automargin": true,
           "gridcolor": "white",
           "linecolor": "white",
           "ticks": "",
           "title": {
            "standoff": 15
           },
           "zerolinecolor": "white",
           "zerolinewidth": 2
          },
          "yaxis": {
           "automargin": true,
           "gridcolor": "white",
           "linecolor": "white",
           "ticks": "",
           "title": {
            "standoff": 15
           },
           "zerolinecolor": "white",
           "zerolinewidth": 2
          }
         }
        },
        "title": {
         "text": "Tournament History - Gannon Buhr"
        },
        "xaxis": {
         "anchor": "y",
         "domain": [
          0,
          0.94
         ],
         "title": {
          "text": "Date"
         }
        },
        "yaxis": {
         "anchor": "x",
         "autorange": "reversed",
         "domain": [
          0,
          1
         ],
         "rangemode": "tozero",
         "title": {
          "text": "Place"
         }
        },
        "yaxis2": {
         "anchor": "x",
         "overlaying": "y",
         "side": "right"
        }
       }
      },
      "text/html": [
       "<div>                            <div id=\"1badc85c-1886-4c47-a33f-9a03b26c676a\" class=\"plotly-graph-div\" style=\"height:525px; width:100%;\"></div>            <script type=\"text/javascript\">                require([\"plotly\"], function(Plotly) {                    window.PLOTLYENV=window.PLOTLYENV || {};                                    if (document.getElementById(\"1badc85c-1886-4c47-a33f-9a03b26c676a\")) {                    Plotly.newPlot(                        \"1badc85c-1886-4c47-a33f-9a03b26c676a\",                        [{\"customdata\":[2,25,24,7,4,5,5,10,1,9,4,10,6,4,1,12,2,3,12,14,6,3,1,3,30,1,24,1,19,3,1,7,10,7,2,4,21,9,8,50,1,10,1,2,24,1,10,6,11,27,6,6,4,1,1,4,2,7,7,10,2,2,13,1,1,5,3,7,1,10,1,8,7,1,1,1,3,1,1],\"hovertemplate\":\"Date: %{x}<br>Place: %{customdata}<extra></extra>\",\"line\":{\"color\":\"blue\"},\"name\":\"Place\",\"x\":[\"2022-02-27T00:00:00\",\"2022-03-13T00:00:00\",\"2022-03-20T00:00:00\",\"2022-03-27T00:00:00\",\"2022-04-10T00:00:00\",\"2022-04-17T00:00:00\",\"2022-04-24T00:00:00\",\"2022-05-01T00:00:00\",\"2022-05-15T00:00:00\",\"2022-05-22T00:00:00\",\"2022-06-05T00:00:00\",\"2022-06-12T00:00:00\",\"2022-06-26T00:00:00\",\"2022-07-10T00:00:00\",\"2022-07-24T00:00:00\",\"2022-07-31T00:00:00\",\"2022-08-07T00:00:00\",\"2022-08-14T00:00:00\",\"2022-08-21T00:00:00\",\"2022-09-03T00:00:00\",\"2022-09-18T00:00:00\",\"2022-09-25T00:00:00\",\"2022-10-09T00:00:00\",\"2022-10-16T00:00:00\",\"2023-02-26T00:00:00\",\"2023-03-05T00:00:00\",\"2023-03-12T00:00:00\",\"2023-03-19T00:00:00\",\"2023-03-26T00:00:00\",\"2023-04-09T00:00:00\",\"2023-04-16T00:00:00\",\"2023-04-23T00:00:00\",\"2023-04-30T00:00:00\",\"2023-05-07T00:00:00\",\"2023-05-14T00:00:00\",\"2023-05-21T00:00:00\",\"2023-05-28T00:00:00\",\"2023-06-04T00:00:00\",\"2023-06-11T00:00:00\",\"2023-06-18T00:00:00\",\"2023-06-25T00:00:00\",\"2023-07-02T00:00:00\",\"2023-07-09T00:00:00\",\"2023-07-30T00:00:00\",\"2023-08-06T00:00:00\",\"2023-08-13T00:00:00\",\"2023-08-20T00:00:00\",\"2023-09-03T00:00:00\",\"2023-09-17T00:00:00\",\"2023-10-08T00:00:00\",\"2023-10-15T00:00:00\",\"2024-02-17T00:00:00\",\"2024-02-25T00:00:00\",\"2024-03-03T00:00:00\",\"2024-03-10T00:00:00\",\"2024-03-17T00:00:00\",\"2024-03-31T00:00:00\",\"2024-04-14T00:00:00\",\"2024-04-21T00:00:00\",\"2024-04-28T00:00:00\",\"2024-05-05T00:00:00\",\"2024-05-12T00:00:00\",\"2024-05-19T00:00:00\",\"2024-06-02T00:00:00\",\"2024-06-09T00:00:00\",\"2024-06-23T00:00:00\",\"2024-07-07T00:00:00\",\"2024-07-14T00:00:00\",\"2024-07-21T00:00:00\",\"2024-07-28T00:00:00\",\"2024-08-04T00:00:00\",\"2024-08-11T00:00:00\",\"2024-08-25T00:00:00\",\"2024-09-08T00:00:00\",\"2024-09-15T00:00:00\",\"2024-09-22T00:00:00\",\"2024-09-29T00:00:00\",\"2024-10-13T00:00:00\",\"2024-10-20T00:00:00\"],\"y\":[2,25,24,7,4,5,5,10,1,9,4,10,6,4,1,12,2,3,12,14,6,3,1,3,30,1,24,1,19,3,1,7,10,7,2,4,21,9,8,50,1,10,1,2,24,1,10,6,11,27,6,6,4,1,1,4,2,7,7,10,2,2,13,1,1,5,3,7,1,10,1,8,7,1,1,1,3,1,1],\"type\":\"scatter\",\"xaxis\":\"x\",\"yaxis\":\"y\"},{\"customdata\":[2,25,7,5,10,9,4,6,4,12,3,12,6,3,3,30,24,1,3,10,2,9,50,1,10,24,1,10,11,6,6,4,1,4,2,7,7,2,13,1,1,5,3,7,10,1,8,1,1,3,1],\"hovertemplate\":\"Date: %{x}<br>Place: %{customdata}<br>Tournament: %{text}<extra></extra>\",\"marker\":{\"size\":8},\"mode\":\"markers\",\"name\":\"Tier ES\",\"text\":[\"DGPT - Las Vegas Challenge presented by Innova\",\"DGPT - Waco Annual Charity Open presented by Prodigy Disc\",\"DGPT - 27th Annual Texas State Disc Golf Championship Presented by Latitude 64\",\"DGPT - Play It Again Sports Jonesboro Open powered by Prodigy\",\"DGPT - Dynamic Discs Open\",\"DGPT - OTB Open presented by MVP Disc Sports\",\"DGPT - Portland Open presented by Dynamic Discs\",\"DGPT - The Preserve Championship designed by Leiviska Disc Golf\",\"DGPT - LWS Open at Idlewild presented by Dynamic Discs & The Nati\",\"DGPT - Discraft's Great Lakes Open\",\"DGPT - Discraft Ledgestone Open\",\"DGPT - The TruBank Des Moines Challenge presented by Discraft\",\"DGPT Playoffs - Discraft's Green Mountain Championship\",\"DGPT - MVP Open at Maple Hill\",\"Disc Golf Pro Tour Championship presented by Barbasol\",\"DGPT - Las Vegas Challenge presented by Innova\",\"DGPT - Prodigy presents WACO\",\"DGPT - The Open at Austin presented by Lone Star Disc\",\"DGPT Elite - Music City Open presented by Lone Star Disc\",\"DGPT - Play It Again Sports Jonesboro Open presented by Prodigy\",\"DGPT - OTB Open presented by MVP Disc Sports\",\"DGPT Elite+ 2023 Portland Open presented by Latitude 64\",\"DGPT - Dynamic Discs Open\",\"DGPT - The TruBank Des Moines Challenge presented by Discraft\",\"DGPT - The Preserve Championship powered by Prodigy\",\"DGPT - Discraft Ledgestone Open\",\"DGPT - LWS Open at Idlewild presented by Dynamic Discs & The Nati\",\"DGPT - Discraft Great Lakes Open\",\"DGPT Playoffs - MVP Open presented by OTB\",\"Disc Golf Pro Tour Championship presented by Barbasol\",\"DGPT - All-Star Weekend - Doubles\",\"DGPT - Chess.com Invitational presented by Discraft\",\"DGPT+ Prodigy presents WACO\",\"DGPT - The Open at Austin presented by Flight Factory Discs\",\"DGPT - Texas State Disc Golf Championships - presented by Lone Star Disc\",\"DGPT - Play It Again Sports Jonesboro Open - presented by Westside Discs\",\"DGPT - Music City Open presented by Lone Star Disc\",\"DGPT - Dynamic Discs Open\",\"DGPT - OTB Open presented by MVP Disc Sports + WGE\",\"DGPT+ 2024 Portland Open presented by Latitude64\",\"DGPT - 2024 Beaver State Fling Presented by Innova\",\"DGPT - The Preserve Championship connected by Microsoft Teams\",\"DGPT - Trubank Des Moines Challenge Presented by DGA\",\"DGPT - Krokhol Open presented by Latitude 64\",\"DGPT - European Disc Golf Festival\",\"DGPT+ Discraft's Ledgestone Open presented by GRIPeq\",\"DGPT - LWS Open at Idlewild presented by Dynamic Discs & The Nati\",\"DGPT+ Discraft Great Lakes Open presented by Gerrit J Verburg\",\"DGPT Playoffs - Discraft's Green Mountain Championship at Smugglers' Notch Resort\",\"DGPT Playoffs- MVP Open x OTB\",\"DGPT Championship presented by Barbasol\"],\"x\":[\"2022-02-27T00:00:00\",\"2022-03-13T00:00:00\",\"2022-03-27T00:00:00\",\"2022-04-24T00:00:00\",\"2022-05-01T00:00:00\",\"2022-05-22T00:00:00\",\"2022-06-05T00:00:00\",\"2022-06-26T00:00:00\",\"2022-07-10T00:00:00\",\"2022-07-31T00:00:00\",\"2022-08-14T00:00:00\",\"2022-08-21T00:00:00\",\"2022-09-18T00:00:00\",\"2022-09-25T00:00:00\",\"2022-10-16T00:00:00\",\"2023-02-26T00:00:00\",\"2023-03-12T00:00:00\",\"2023-03-19T00:00:00\",\"2023-04-09T00:00:00\",\"2023-04-30T00:00:00\",\"2023-05-14T00:00:00\",\"2023-06-04T00:00:00\",\"2023-06-18T00:00:00\",\"2023-06-25T00:00:00\",\"2023-07-02T00:00:00\",\"2023-08-06T00:00:00\",\"2023-08-13T00:00:00\",\"2023-08-20T00:00:00\",\"2023-09-17T00:00:00\",\"2023-10-15T00:00:00\",\"2024-02-17T00:00:00\",\"2024-02-25T00:00:00\",\"2024-03-10T00:00:00\",\"2024-03-17T00:00:00\",\"2024-03-31T00:00:00\",\"2024-04-14T00:00:00\",\"2024-04-21T00:00:00\",\"2024-05-05T00:00:00\",\"2024-05-19T00:00:00\",\"2024-06-02T00:00:00\",\"2024-06-09T00:00:00\",\"2024-06-23T00:00:00\",\"2024-07-07T00:00:00\",\"2024-07-14T00:00:00\",\"2024-07-28T00:00:00\",\"2024-08-04T00:00:00\",\"2024-08-11T00:00:00\",\"2024-09-08T00:00:00\",\"2024-09-22T00:00:00\",\"2024-09-29T00:00:00\",\"2024-10-20T00:00:00\"],\"y\":[2,25,7,5,10,9,4,6,4,12,3,12,6,3,3,30,24,1,3,10,2,9,50,1,10,24,1,10,11,6,6,4,1,4,2,7,7,2,13,1,1,5,3,7,10,1,8,1,1,3,1],\"type\":\"scatter\",\"xaxis\":\"x\",\"yaxis\":\"y\"},{\"customdata\":[24,4,1,10,1,2,1,19,1,7,4,21,8,1,2,1,2,1],\"hovertemplate\":\"Date: %{x}<br>Place: %{customdata}<br>Tournament: %{text}<extra></extra>\",\"marker\":{\"size\":8},\"mode\":\"markers\",\"name\":\"Tier A\",\"text\":[\"Discraft presents THE OPEN at BELTON, a DGPT Silver Series Event\",\"The 2022 Open at Tallahassee - DGPT Silver Series Presented by Dynamic Discs\",\"2022 Santa Cruz Masters Cup (DGPT Silver Series) Presented by Innova Discs\",\"Discraft presents the 2022 Beaver State Fling sponsored by Resistance Discs\\u2014DGPT Silver Series\",\"Gatekeeper Media presents Clash at The Canyons VI - Pro Weekend\",\"Mid America Open DGPT Silver Series presented by Discraft\",\"The Memorial Championship presented by Discraft\",\"DGPT Silver - Innova Open at The 28th Annual Texas State Disc Golf Championships\",\"DGPT Silver - Innova Blue Ridge Championship at North Cove\",\"2023 Santa Cruz Masters Cup Presented By DGA\",\"DGPT Silver - Beaver State Fling Presented by Innova\",\"DGPT Silver - Discraft's Cascade Challenge presented by GRIPeq\",\"DGPT Silver Zoo Town Open Presented by Ink Realty Group Driven by Innova\",\"DGPT Silver - GRIPeq 41st Kansas City Wide Open Sponsored by Dynamic Discs\",\"DGPT Silver - Mid America Open\",\"The Memorial Championship presented by Discraft\",\"Las Vegas Challenge presented by Innova\",\"The Rip - DGPT Q-Series - Presented by Innova - Equipped by Diameter\"],\"x\":[\"2022-03-20T00:00:00\",\"2022-04-10T00:00:00\",\"2022-05-15T00:00:00\",\"2022-06-12T00:00:00\",\"2022-07-24T00:00:00\",\"2022-08-07T00:00:00\",\"2023-03-05T00:00:00\",\"2023-03-26T00:00:00\",\"2023-04-16T00:00:00\",\"2023-05-07T00:00:00\",\"2023-05-21T00:00:00\",\"2023-05-28T00:00:00\",\"2023-06-11T00:00:00\",\"2023-07-09T00:00:00\",\"2023-07-30T00:00:00\",\"2024-03-03T00:00:00\",\"2024-05-12T00:00:00\",\"2024-09-15T00:00:00\"],\"y\":[24,4,1,10,1,2,1,19,1,7,4,21,8,1,2,1,2,1],\"type\":\"scatter\",\"xaxis\":\"x\",\"yaxis\":\"y\"},{\"customdata\":[5,14,7,6,10,1,7],\"hovertemplate\":\"Date: %{x}<br>Place: %{customdata}<br>Tournament: %{text}<extra></extra>\",\"marker\":{\"size\":8},\"mode\":\"markers\",\"name\":\"Tier M\",\"text\":[\"PDGA Champions Cup Presented by Bushnell\",\"2022 PDGA Professional Disc Golf World Championships Presented by Dynamic Discs\",\"PDGA Champions Cup Presented by Bushnell\",\"2023 PDGA Professional Disc Golf World Championships Presented by L.L.Bean\",\"2024 PDGA Champions Cup\",\"2024 European Open presented by Discmania\",\"2024 PDGA Professional Disc Golf World Championships Presented by Zuca\"],\"x\":[\"2022-04-17T00:00:00\",\"2022-09-03T00:00:00\",\"2023-04-23T00:00:00\",\"2023-09-03T00:00:00\",\"2024-04-28T00:00:00\",\"2024-07-21T00:00:00\",\"2024-08-25T00:00:00\"],\"y\":[5,14,7,6,10,1,7],\"type\":\"scatter\",\"xaxis\":\"x\",\"yaxis\":\"y\"},{\"customdata\":[1,27,1],\"hovertemplate\":\"Date: %{x}<br>Place: %{customdata}<br>Tournament: %{text}<extra></extra>\",\"marker\":{\"size\":8},\"mode\":\"markers\",\"name\":\"Tier XM\",\"text\":[\"United States Disc Golf Championship\",\"United States Disc Golf Championship\",\"2024 United States Disc Golf Championship\"],\"x\":[\"2022-10-09T00:00:00\",\"2023-10-08T00:00:00\",\"2024-10-13T00:00:00\"],\"y\":[1,27,1],\"type\":\"scatter\",\"xaxis\":\"x\",\"yaxis\":\"y\"}],                        {\"template\":{\"data\":{\"histogram2dcontour\":[{\"type\":\"histogram2dcontour\",\"colorbar\":{\"outlinewidth\":0,\"ticks\":\"\"},\"colorscale\":[[0.0,\"#0d0887\"],[0.1111111111111111,\"#46039f\"],[0.2222222222222222,\"#7201a8\"],[0.3333333333333333,\"#9c179e\"],[0.4444444444444444,\"#bd3786\"],[0.5555555555555556,\"#d8576b\"],[0.6666666666666666,\"#ed7953\"],[0.7777777777777778,\"#fb9f3a\"],[0.8888888888888888,\"#fdca26\"],[1.0,\"#f0f921\"]]}],\"choropleth\":[{\"type\":\"choropleth\",\"colorbar\":{\"outlinewidth\":0,\"ticks\":\"\"}}],\"histogram2d\":[{\"type\":\"histogram2d\",\"colorbar\":{\"outlinewidth\":0,\"ticks\":\"\"},\"colorscale\":[[0.0,\"#0d0887\"],[0.1111111111111111,\"#46039f\"],[0.2222222222222222,\"#7201a8\"],[0.3333333333333333,\"#9c179e\"],[0.4444444444444444,\"#bd3786\"],[0.5555555555555556,\"#d8576b\"],[0.6666666666666666,\"#ed7953\"],[0.7777777777777778,\"#fb9f3a\"],[0.8888888888888888,\"#fdca26\"],[1.0,\"#f0f921\"]]}],\"heatmap\":[{\"type\":\"heatmap\",\"colorbar\":{\"outlinewidth\":0,\"ticks\":\"\"},\"colorscale\":[[0.0,\"#0d0887\"],[0.1111111111111111,\"#46039f\"],[0.2222222222222222,\"#7201a8\"],[0.3333333333333333,\"#9c179e\"],[0.4444444444444444,\"#bd3786\"],[0.5555555555555556,\"#d8576b\"],[0.6666666666666666,\"#ed7953\"],[0.7777777777777778,\"#fb9f3a\"],[0.8888888888888888,\"#fdca26\"],[1.0,\"#f0f921\"]]}],\"heatmapgl\":[{\"type\":\"heatmapgl\",\"colorbar\":{\"outlinewidth\":0,\"ticks\":\"\"},\"colorscale\":[[0.0,\"#0d0887\"],[0.1111111111111111,\"#46039f\"],[0.2222222222222222,\"#7201a8\"],[0.3333333333333333,\"#9c179e\"],[0.4444444444444444,\"#bd3786\"],[0.5555555555555556,\"#d8576b\"],[0.6666666666666666,\"#ed7953\"],[0.7777777777777778,\"#fb9f3a\"],[0.8888888888888888,\"#fdca26\"],[1.0,\"#f0f921\"]]}],\"contourcarpet\":[{\"type\":\"contourcarpet\",\"colorbar\":{\"outlinewidth\":0,\"ticks\":\"\"}}],\"contour\":[{\"type\":\"contour\",\"colorbar\":{\"outlinewidth\":0,\"ticks\":\"\"},\"colorscale\":[[0.0,\"#0d0887\"],[0.1111111111111111,\"#46039f\"],[0.2222222222222222,\"#7201a8\"],[0.3333333333333333,\"#9c179e\"],[0.4444444444444444,\"#bd3786\"],[0.5555555555555556,\"#d8576b\"],[0.6666666666666666,\"#ed7953\"],[0.7777777777777778,\"#fb9f3a\"],[0.8888888888888888,\"#fdca26\"],[1.0,\"#f0f921\"]]}],\"surface\":[{\"type\":\"surface\",\"colorbar\":{\"outlinewidth\":0,\"ticks\":\"\"},\"colorscale\":[[0.0,\"#0d0887\"],[0.1111111111111111,\"#46039f\"],[0.2222222222222222,\"#7201a8\"],[0.3333333333333333,\"#9c179e\"],[0.4444444444444444,\"#bd3786\"],[0.5555555555555556,\"#d8576b\"],[0.6666666666666666,\"#ed7953\"],[0.7777777777777778,\"#fb9f3a\"],[0.8888888888888888,\"#fdca26\"],[1.0,\"#f0f921\"]]}],\"mesh3d\":[{\"type\":\"mesh3d\",\"colorbar\":{\"outlinewidth\":0,\"ticks\":\"\"}}],\"scatter\":[{\"fillpattern\":{\"fillmode\":\"overlay\",\"size\":10,\"solidity\":0.2},\"type\":\"scatter\"}],\"parcoords\":[{\"type\":\"parcoords\",\"line\":{\"colorbar\":{\"outlinewidth\":0,\"ticks\":\"\"}}}],\"scatterpolargl\":[{\"type\":\"scatterpolargl\",\"marker\":{\"colorbar\":{\"outlinewidth\":0,\"ticks\":\"\"}}}],\"bar\":[{\"error_x\":{\"color\":\"#2a3f5f\"},\"error_y\":{\"color\":\"#2a3f5f\"},\"marker\":{\"line\":{\"color\":\"#E5ECF6\",\"width\":0.5},\"pattern\":{\"fillmode\":\"overlay\",\"size\":10,\"solidity\":0.2}},\"type\":\"bar\"}],\"scattergeo\":[{\"type\":\"scattergeo\",\"marker\":{\"colorbar\":{\"outlinewidth\":0,\"ticks\":\"\"}}}],\"scatterpolar\":[{\"type\":\"scatterpolar\",\"marker\":{\"colorbar\":{\"outlinewidth\":0,\"ticks\":\"\"}}}],\"histogram\":[{\"marker\":{\"pattern\":{\"fillmode\":\"overlay\",\"size\":10,\"solidity\":0.2}},\"type\":\"histogram\"}],\"scattergl\":[{\"type\":\"scattergl\",\"marker\":{\"colorbar\":{\"outlinewidth\":0,\"ticks\":\"\"}}}],\"scatter3d\":[{\"type\":\"scatter3d\",\"line\":{\"colorbar\":{\"outlinewidth\":0,\"ticks\":\"\"}},\"marker\":{\"colorbar\":{\"outlinewidth\":0,\"ticks\":\"\"}}}],\"scattermapbox\":[{\"type\":\"scattermapbox\",\"marker\":{\"colorbar\":{\"outlinewidth\":0,\"ticks\":\"\"}}}],\"scatterternary\":[{\"type\":\"scatterternary\",\"marker\":{\"colorbar\":{\"outlinewidth\":0,\"ticks\":\"\"}}}],\"scattercarpet\":[{\"type\":\"scattercarpet\",\"marker\":{\"colorbar\":{\"outlinewidth\":0,\"ticks\":\"\"}}}],\"carpet\":[{\"aaxis\":{\"endlinecolor\":\"#2a3f5f\",\"gridcolor\":\"white\",\"linecolor\":\"white\",\"minorgridcolor\":\"white\",\"startlinecolor\":\"#2a3f5f\"},\"baxis\":{\"endlinecolor\":\"#2a3f5f\",\"gridcolor\":\"white\",\"linecolor\":\"white\",\"minorgridcolor\":\"white\",\"startlinecolor\":\"#2a3f5f\"},\"type\":\"carpet\"}],\"table\":[{\"cells\":{\"fill\":{\"color\":\"#EBF0F8\"},\"line\":{\"color\":\"white\"}},\"header\":{\"fill\":{\"color\":\"#C8D4E3\"},\"line\":{\"color\":\"white\"}},\"type\":\"table\"}],\"barpolar\":[{\"marker\":{\"line\":{\"color\":\"#E5ECF6\",\"width\":0.5},\"pattern\":{\"fillmode\":\"overlay\",\"size\":10,\"solidity\":0.2}},\"type\":\"barpolar\"}],\"pie\":[{\"automargin\":true,\"type\":\"pie\"}]},\"layout\":{\"autotypenumbers\":\"strict\",\"colorway\":[\"#636efa\",\"#EF553B\",\"#00cc96\",\"#ab63fa\",\"#FFA15A\",\"#19d3f3\",\"#FF6692\",\"#B6E880\",\"#FF97FF\",\"#FECB52\"],\"font\":{\"color\":\"#2a3f5f\"},\"hovermode\":\"closest\",\"hoverlabel\":{\"align\":\"left\"},\"paper_bgcolor\":\"white\",\"plot_bgcolor\":\"#E5ECF6\",\"polar\":{\"bgcolor\":\"#E5ECF6\",\"angularaxis\":{\"gridcolor\":\"white\",\"linecolor\":\"white\",\"ticks\":\"\"},\"radialaxis\":{\"gridcolor\":\"white\",\"linecolor\":\"white\",\"ticks\":\"\"}},\"ternary\":{\"bgcolor\":\"#E5ECF6\",\"aaxis\":{\"gridcolor\":\"white\",\"linecolor\":\"white\",\"ticks\":\"\"},\"baxis\":{\"gridcolor\":\"white\",\"linecolor\":\"white\",\"ticks\":\"\"},\"caxis\":{\"gridcolor\":\"white\",\"linecolor\":\"white\",\"ticks\":\"\"}},\"coloraxis\":{\"colorbar\":{\"outlinewidth\":0,\"ticks\":\"\"}},\"colorscale\":{\"sequential\":[[0.0,\"#0d0887\"],[0.1111111111111111,\"#46039f\"],[0.2222222222222222,\"#7201a8\"],[0.3333333333333333,\"#9c179e\"],[0.4444444444444444,\"#bd3786\"],[0.5555555555555556,\"#d8576b\"],[0.6666666666666666,\"#ed7953\"],[0.7777777777777778,\"#fb9f3a\"],[0.8888888888888888,\"#fdca26\"],[1.0,\"#f0f921\"]],\"sequentialminus\":[[0.0,\"#0d0887\"],[0.1111111111111111,\"#46039f\"],[0.2222222222222222,\"#7201a8\"],[0.3333333333333333,\"#9c179e\"],[0.4444444444444444,\"#bd3786\"],[0.5555555555555556,\"#d8576b\"],[0.6666666666666666,\"#ed7953\"],[0.7777777777777778,\"#fb9f3a\"],[0.8888888888888888,\"#fdca26\"],[1.0,\"#f0f921\"]],\"diverging\":[[0,\"#8e0152\"],[0.1,\"#c51b7d\"],[0.2,\"#de77ae\"],[0.3,\"#f1b6da\"],[0.4,\"#fde0ef\"],[0.5,\"#f7f7f7\"],[0.6,\"#e6f5d0\"],[0.7,\"#b8e186\"],[0.8,\"#7fbc41\"],[0.9,\"#4d9221\"],[1,\"#276419\"]]},\"xaxis\":{\"gridcolor\":\"white\",\"linecolor\":\"white\",\"ticks\":\"\",\"title\":{\"standoff\":15},\"zerolinecolor\":\"white\",\"automargin\":true,\"zerolinewidth\":2},\"yaxis\":{\"gridcolor\":\"white\",\"linecolor\":\"white\",\"ticks\":\"\",\"title\":{\"standoff\":15},\"zerolinecolor\":\"white\",\"automargin\":true,\"zerolinewidth\":2},\"scene\":{\"xaxis\":{\"backgroundcolor\":\"#E5ECF6\",\"gridcolor\":\"white\",\"linecolor\":\"white\",\"showbackground\":true,\"ticks\":\"\",\"zerolinecolor\":\"white\",\"gridwidth\":2},\"yaxis\":{\"backgroundcolor\":\"#E5ECF6\",\"gridcolor\":\"white\",\"linecolor\":\"white\",\"showbackground\":true,\"ticks\":\"\",\"zerolinecolor\":\"white\",\"gridwidth\":2},\"zaxis\":{\"backgroundcolor\":\"#E5ECF6\",\"gridcolor\":\"white\",\"linecolor\":\"white\",\"showbackground\":true,\"ticks\":\"\",\"zerolinecolor\":\"white\",\"gridwidth\":2}},\"shapedefaults\":{\"line\":{\"color\":\"#2a3f5f\"}},\"annotationdefaults\":{\"arrowcolor\":\"#2a3f5f\",\"arrowhead\":0,\"arrowwidth\":1},\"geo\":{\"bgcolor\":\"white\",\"landcolor\":\"#E5ECF6\",\"subunitcolor\":\"white\",\"showland\":true,\"showlakes\":true,\"lakecolor\":\"white\"},\"title\":{\"x\":0.05},\"mapbox\":{\"style\":\"light\"}}},\"xaxis\":{\"anchor\":\"y\",\"domain\":[0.0,0.94],\"title\":{\"text\":\"Date\"}},\"yaxis\":{\"anchor\":\"x\",\"domain\":[0.0,1.0],\"title\":{\"text\":\"Place\"},\"autorange\":\"reversed\",\"rangemode\":\"tozero\"},\"yaxis2\":{\"anchor\":\"x\",\"overlaying\":\"y\",\"side\":\"right\"},\"title\":{\"text\":\"Tournament History - Gannon Buhr\"},\"hovermode\":\"x unified\",\"showlegend\":true},                        {\"responsive\": true}                    ).then(function(){\n",
       "                            \n",
       "var gd = document.getElementById('1badc85c-1886-4c47-a33f-9a03b26c676a');\n",
       "var x = new MutationObserver(function (mutations, observer) {{\n",
       "        var display = window.getComputedStyle(gd).display;\n",
       "        if (!display || display === 'none') {{\n",
       "            console.log([gd, 'removed!']);\n",
       "            Plotly.purge(gd);\n",
       "            observer.disconnect();\n",
       "        }}\n",
       "}});\n",
       "\n",
       "// Listen for the removal of the full notebook cells\n",
       "var notebookContainer = gd.closest('#notebook-container');\n",
       "if (notebookContainer) {{\n",
       "    x.observe(notebookContainer, {childList: true});\n",
       "}}\n",
       "\n",
       "// Listen for the clearing of the current output cell\n",
       "var outputEl = gd.closest('.output');\n",
       "if (outputEl) {{\n",
       "    x.observe(outputEl, {childList: true});\n",
       "}}\n",
       "\n",
       "                        })                };                });            </script>        </div>"
      ]
     },
     "metadata": {},
     "output_type": "display_data"
    }
   ],
   "source": [
    "player_historic_linechart(df, 'Gannon Buhr')"
   ]
  },
  {
   "cell_type": "code",
   "execution_count": 19,
   "metadata": {},
   "outputs": [
    {
     "data": {
      "application/vnd.plotly.v1+json": {
       "config": {
        "plotlyServerURL": "https://plot.ly"
       },
       "data": [
        {
         "customdata": [
          [
           262,
           "2",
           "DGPT - Las Vegas Challenge presented by Innova"
          ],
          [
           20,
           "25",
           "DGPT - Waco Annual Charity Open presented by Prodigy Disc"
          ],
          [
           0,
           "24",
           "Discraft presents THE OPEN at BELTON, a DGPT Silver Series Event"
          ],
          [
           136,
           "7",
           "DGPT - 27th Annual Texas State Disc Golf Championship Presented by Latitude 64"
          ],
          [
           0,
           "4",
           "The 2022 Open at Tallahassee - DGPT Silver Series Presented by Dynamic Discs"
          ],
          [
           264,
           "5",
           "PDGA Champions Cup Presented by Bushnell"
          ],
          [
           176,
           "5",
           "DGPT - Play It Again Sports Jonesboro Open powered by Prodigy"
          ],
          [
           93,
           "10",
           "DGPT - Dynamic Discs Open"
          ],
          [
           0,
           "1",
           "2022 Santa Cruz Masters Cup (DGPT Silver Series) Presented by Innova Discs"
          ],
          [
           105,
           "9",
           "DGPT - OTB Open presented by MVP Disc Sports"
          ],
          [
           201,
           "4",
           "DGPT - Portland Open presented by Dynamic Discs"
          ],
          [
           0,
           "10",
           "Discraft presents the 2022 Beaver State Fling sponsored by Resistance Discs—DGPT Silver Series"
          ],
          [
           155,
           "6",
           "DGPT - The Preserve Championship designed by Leiviska Disc Golf"
          ],
          [
           201,
           "4",
           "DGPT - LWS Open at Idlewild presented by Dynamic Discs & The Nati"
          ],
          [
           0,
           "1",
           "Gatekeeper Media presents Clash at The Canyons VI - Pro Weekend"
          ],
          [
           73,
           "12",
           "DGPT - Discraft's Great Lakes Open"
          ],
          [
           0,
           "2",
           "Mid America Open DGPT Silver Series presented by Discraft"
          ],
          [
           230,
           "3",
           "DGPT - Discraft Ledgestone Open"
          ],
          [
           73,
           "12",
           "DGPT - The TruBank Des Moines Challenge presented by Discraft"
          ],
          [
           85.5,
           "14",
           "2022 PDGA Professional Disc Golf World Championships Presented by Dynamic Discs"
          ],
          [
           155,
           "6",
           "DGPT Playoffs - Discraft's Green Mountain Championship"
          ],
          [
           230,
           "3",
           "DGPT - MVP Open at Maple Hill"
          ],
          [
           450,
           "1",
           "United States Disc Golf Championship"
          ],
          [
           230,
           "3",
           "Disc Golf Pro Tour Championship presented by Barbasol"
          ],
          [
           15,
           "30",
           "DGPT - Las Vegas Challenge presented by Innova"
          ],
          [
           0,
           "1",
           "The Memorial Championship presented by Discraft"
          ],
          [
           22,
           "24",
           "DGPT - Prodigy presents WACO"
          ],
          [
           300,
           "1",
           "DGPT - The Open at Austin presented by Lone Star Disc"
          ],
          [
           0,
           "19",
           "DGPT Silver - Innova Open at The 28th Annual Texas State Disc Golf Championships"
          ],
          [
           230,
           "3",
           "DGPT Elite - Music City Open presented by Lone Star Disc"
          ],
          [
           0,
           "1",
           "DGPT Silver - Innova Blue Ridge Championship at North Cove"
          ],
          [
           204,
           "7",
           "PDGA Champions Cup Presented by Bushnell"
          ],
          [
           93,
           "10",
           "DGPT - Play It Again Sports Jonesboro Open presented by Prodigy"
          ],
          [
           0,
           "7",
           "2023 Santa Cruz Masters Cup Presented By DGA"
          ],
          [
           262,
           "2",
           "DGPT - OTB Open presented by MVP Disc Sports"
          ],
          [
           0,
           "4",
           "DGPT Silver - Beaver State Fling Presented by Innova"
          ],
          [
           0,
           "21",
           "DGPT Silver - Discraft's Cascade Challenge presented by GRIPeq"
          ],
          [
           105,
           "9",
           "DGPT Elite+ 2023 Portland Open presented by Latitude 64"
          ],
          [
           0,
           "8",
           "DGPT Silver Zoo Town Open Presented by Ink Realty Group Driven by Innova"
          ],
          [
           0,
           "50",
           "DGPT - Dynamic Discs Open"
          ],
          [
           300,
           "1",
           "DGPT - The TruBank Des Moines Challenge presented by Discraft"
          ],
          [
           93,
           "10",
           "DGPT - The Preserve Championship powered by Prodigy"
          ],
          [
           0,
           "1",
           "DGPT Silver - GRIPeq 41st Kansas City Wide Open Sponsored by Dynamic Discs"
          ],
          [
           0,
           "2",
           "DGPT Silver - Mid America Open"
          ],
          [
           22,
           "24",
           "DGPT - Discraft Ledgestone Open"
          ],
          [
           300,
           "1",
           "DGPT - LWS Open at Idlewild presented by Dynamic Discs & The Nati"
          ],
          [
           93,
           "10",
           "DGPT - Discraft Great Lakes Open"
          ],
          [
           232.5,
           "6",
           "2023 PDGA Professional Disc Golf World Championships Presented by L.L.Bean"
          ],
          [
           82,
           "11",
           "DGPT Playoffs - MVP Open presented by OTB"
          ],
          [
           27,
           "27",
           "United States Disc Golf Championship"
          ],
          [
           155,
           "6",
           "Disc Golf Pro Tour Championship presented by Barbasol"
          ],
          [
           155,
           "6",
           "DGPT - All-Star Weekend - Doubles"
          ],
          [
           201,
           "4",
           "DGPT - Chess.com Invitational presented by Discraft"
          ],
          [
           0,
           "1",
           "The Memorial Championship presented by Discraft"
          ],
          [
           300,
           "1",
           "DGPT+ Prodigy presents WACO"
          ],
          [
           201,
           "4",
           "DGPT - The Open at Austin presented by Flight Factory Discs"
          ],
          [
           262,
           "2",
           "DGPT - Texas State Disc Golf Championships - presented by Lone Star Disc"
          ],
          [
           136,
           "7",
           "DGPT - Play It Again Sports Jonesboro Open - presented by Westside Discs"
          ],
          [
           136,
           "7",
           "DGPT - Music City Open presented by Lone Star Disc"
          ],
          [
           139.5,
           "10",
           "2024 PDGA Champions Cup"
          ],
          [
           262,
           "2",
           "DGPT - Dynamic Discs Open"
          ],
          [
           0,
           "2",
           "Las Vegas Challenge presented by Innova"
          ],
          [
           65,
           "13",
           "DGPT - OTB Open presented by MVP Disc Sports + WGE"
          ],
          [
           300,
           "1",
           "DGPT+ 2024 Portland Open presented by Latitude64"
          ],
          [
           300,
           "1",
           "DGPT - 2024 Beaver State Fling Presented by Innova"
          ],
          [
           176,
           "5",
           "DGPT - The Preserve Championship connected by Microsoft Teams"
          ],
          [
           230,
           "3",
           "DGPT - Trubank Des Moines Challenge Presented by DGA"
          ],
          [
           136,
           "7",
           "DGPT - Krokhol Open presented by Latitude 64"
          ],
          [
           450,
           "1",
           "2024 European Open presented by Discmania"
          ],
          [
           93,
           "10",
           "DGPT - European Disc Golf Festival"
          ],
          [
           300,
           "1",
           "DGPT+ Discraft's Ledgestone Open presented by GRIPeq"
          ],
          [
           119,
           "8",
           "DGPT - LWS Open at Idlewild presented by Dynamic Discs & The Nati"
          ],
          [
           204,
           "7",
           "2024 PDGA Professional Disc Golf World Championships Presented by Zuca"
          ],
          [
           300,
           "1",
           "DGPT+ Discraft Great Lakes Open presented by Gerrit J Verburg"
          ],
          [
           0,
           "1",
           "The Rip - DGPT Q-Series - Presented by Innova - Equipped by Diameter"
          ],
          [
           300,
           "1",
           "DGPT Playoffs - Discraft's Green Mountain Championship at Smugglers' Notch Resort"
          ],
          [
           230,
           "3",
           "DGPT Playoffs- MVP Open x OTB"
          ],
          [
           450,
           "1",
           "2024 United States Disc Golf Championship"
          ],
          [
           300,
           "1",
           "DGPT Championship presented by Barbasol"
          ]
         ],
         "hovertemplate": "%{customdata[2]}<br>Date: %{x}<br>Points: %{customdata[0]:.1f}<br>Place: %{customdata[1]}<extra></extra>",
         "line": {
          "color": "blue"
         },
         "name": "Fantasy Points",
         "type": "scatter",
         "x": [
          "2022-02-27T00:00:00",
          "2022-03-13T00:00:00",
          "2022-03-20T00:00:00",
          "2022-03-27T00:00:00",
          "2022-04-10T00:00:00",
          "2022-04-17T00:00:00",
          "2022-04-24T00:00:00",
          "2022-05-01T00:00:00",
          "2022-05-15T00:00:00",
          "2022-05-22T00:00:00",
          "2022-06-05T00:00:00",
          "2022-06-12T00:00:00",
          "2022-06-26T00:00:00",
          "2022-07-10T00:00:00",
          "2022-07-24T00:00:00",
          "2022-07-31T00:00:00",
          "2022-08-07T00:00:00",
          "2022-08-14T00:00:00",
          "2022-08-21T00:00:00",
          "2022-09-03T00:00:00",
          "2022-09-18T00:00:00",
          "2022-09-25T00:00:00",
          "2022-10-09T00:00:00",
          "2022-10-16T00:00:00",
          "2023-02-26T00:00:00",
          "2023-03-05T00:00:00",
          "2023-03-12T00:00:00",
          "2023-03-19T00:00:00",
          "2023-03-26T00:00:00",
          "2023-04-09T00:00:00",
          "2023-04-16T00:00:00",
          "2023-04-23T00:00:00",
          "2023-04-30T00:00:00",
          "2023-05-07T00:00:00",
          "2023-05-14T00:00:00",
          "2023-05-21T00:00:00",
          "2023-05-28T00:00:00",
          "2023-06-04T00:00:00",
          "2023-06-11T00:00:00",
          "2023-06-18T00:00:00",
          "2023-06-25T00:00:00",
          "2023-07-02T00:00:00",
          "2023-07-09T00:00:00",
          "2023-07-30T00:00:00",
          "2023-08-06T00:00:00",
          "2023-08-13T00:00:00",
          "2023-08-20T00:00:00",
          "2023-09-03T00:00:00",
          "2023-09-17T00:00:00",
          "2023-10-08T00:00:00",
          "2023-10-15T00:00:00",
          "2024-02-17T00:00:00",
          "2024-02-25T00:00:00",
          "2024-03-03T00:00:00",
          "2024-03-10T00:00:00",
          "2024-03-17T00:00:00",
          "2024-03-31T00:00:00",
          "2024-04-14T00:00:00",
          "2024-04-21T00:00:00",
          "2024-04-28T00:00:00",
          "2024-05-05T00:00:00",
          "2024-05-12T00:00:00",
          "2024-05-19T00:00:00",
          "2024-06-02T00:00:00",
          "2024-06-09T00:00:00",
          "2024-06-23T00:00:00",
          "2024-07-07T00:00:00",
          "2024-07-14T00:00:00",
          "2024-07-21T00:00:00",
          "2024-07-28T00:00:00",
          "2024-08-04T00:00:00",
          "2024-08-11T00:00:00",
          "2024-08-25T00:00:00",
          "2024-09-08T00:00:00",
          "2024-09-15T00:00:00",
          "2024-09-22T00:00:00",
          "2024-09-29T00:00:00",
          "2024-10-13T00:00:00",
          "2024-10-20T00:00:00"
         ],
         "y": [
          262,
          20,
          0,
          136,
          0,
          264,
          176,
          93,
          0,
          105,
          201,
          0,
          155,
          201,
          0,
          73,
          0,
          230,
          73,
          85.5,
          155,
          230,
          450,
          230,
          15,
          0,
          22,
          300,
          0,
          230,
          0,
          204,
          93,
          0,
          262,
          0,
          0,
          105,
          0,
          0,
          300,
          93,
          0,
          0,
          22,
          300,
          93,
          232.5,
          82,
          27,
          155,
          155,
          201,
          0,
          300,
          201,
          262,
          136,
          136,
          139.5,
          262,
          0,
          65,
          300,
          300,
          176,
          230,
          136,
          450,
          93,
          300,
          119,
          204,
          300,
          0,
          300,
          230,
          450,
          300
         ]
        },
        {
         "customdata": [
          [
           262,
           "2",
           "DGPT - Las Vegas Challenge presented by Innova"
          ],
          [
           20,
           "25",
           "DGPT - Waco Annual Charity Open presented by Prodigy Disc"
          ],
          [
           136,
           "7",
           "DGPT - 27th Annual Texas State Disc Golf Championship Presented by Latitude 64"
          ],
          [
           176,
           "5",
           "DGPT - Play It Again Sports Jonesboro Open powered by Prodigy"
          ],
          [
           93,
           "10",
           "DGPT - Dynamic Discs Open"
          ],
          [
           105,
           "9",
           "DGPT - OTB Open presented by MVP Disc Sports"
          ],
          [
           201,
           "4",
           "DGPT - Portland Open presented by Dynamic Discs"
          ],
          [
           155,
           "6",
           "DGPT - The Preserve Championship designed by Leiviska Disc Golf"
          ],
          [
           201,
           "4",
           "DGPT - LWS Open at Idlewild presented by Dynamic Discs & The Nati"
          ],
          [
           73,
           "12",
           "DGPT - Discraft's Great Lakes Open"
          ],
          [
           230,
           "3",
           "DGPT - Discraft Ledgestone Open"
          ],
          [
           73,
           "12",
           "DGPT - The TruBank Des Moines Challenge presented by Discraft"
          ],
          [
           155,
           "6",
           "DGPT Playoffs - Discraft's Green Mountain Championship"
          ],
          [
           230,
           "3",
           "DGPT - MVP Open at Maple Hill"
          ],
          [
           230,
           "3",
           "Disc Golf Pro Tour Championship presented by Barbasol"
          ],
          [
           15,
           "30",
           "DGPT - Las Vegas Challenge presented by Innova"
          ],
          [
           22,
           "24",
           "DGPT - Prodigy presents WACO"
          ],
          [
           300,
           "1",
           "DGPT - The Open at Austin presented by Lone Star Disc"
          ],
          [
           230,
           "3",
           "DGPT Elite - Music City Open presented by Lone Star Disc"
          ],
          [
           93,
           "10",
           "DGPT - Play It Again Sports Jonesboro Open presented by Prodigy"
          ],
          [
           262,
           "2",
           "DGPT - OTB Open presented by MVP Disc Sports"
          ],
          [
           105,
           "9",
           "DGPT Elite+ 2023 Portland Open presented by Latitude 64"
          ],
          [
           0,
           "50",
           "DGPT - Dynamic Discs Open"
          ],
          [
           300,
           "1",
           "DGPT - The TruBank Des Moines Challenge presented by Discraft"
          ],
          [
           93,
           "10",
           "DGPT - The Preserve Championship powered by Prodigy"
          ],
          [
           22,
           "24",
           "DGPT - Discraft Ledgestone Open"
          ],
          [
           300,
           "1",
           "DGPT - LWS Open at Idlewild presented by Dynamic Discs & The Nati"
          ],
          [
           93,
           "10",
           "DGPT - Discraft Great Lakes Open"
          ],
          [
           82,
           "11",
           "DGPT Playoffs - MVP Open presented by OTB"
          ],
          [
           155,
           "6",
           "Disc Golf Pro Tour Championship presented by Barbasol"
          ],
          [
           155,
           "6",
           "DGPT - All-Star Weekend - Doubles"
          ],
          [
           201,
           "4",
           "DGPT - Chess.com Invitational presented by Discraft"
          ],
          [
           300,
           "1",
           "DGPT+ Prodigy presents WACO"
          ],
          [
           201,
           "4",
           "DGPT - The Open at Austin presented by Flight Factory Discs"
          ],
          [
           262,
           "2",
           "DGPT - Texas State Disc Golf Championships - presented by Lone Star Disc"
          ],
          [
           136,
           "7",
           "DGPT - Play It Again Sports Jonesboro Open - presented by Westside Discs"
          ],
          [
           136,
           "7",
           "DGPT - Music City Open presented by Lone Star Disc"
          ],
          [
           262,
           "2",
           "DGPT - Dynamic Discs Open"
          ],
          [
           65,
           "13",
           "DGPT - OTB Open presented by MVP Disc Sports + WGE"
          ],
          [
           300,
           "1",
           "DGPT+ 2024 Portland Open presented by Latitude64"
          ],
          [
           300,
           "1",
           "DGPT - 2024 Beaver State Fling Presented by Innova"
          ],
          [
           176,
           "5",
           "DGPT - The Preserve Championship connected by Microsoft Teams"
          ],
          [
           230,
           "3",
           "DGPT - Trubank Des Moines Challenge Presented by DGA"
          ],
          [
           136,
           "7",
           "DGPT - Krokhol Open presented by Latitude 64"
          ],
          [
           93,
           "10",
           "DGPT - European Disc Golf Festival"
          ],
          [
           300,
           "1",
           "DGPT+ Discraft's Ledgestone Open presented by GRIPeq"
          ],
          [
           119,
           "8",
           "DGPT - LWS Open at Idlewild presented by Dynamic Discs & The Nati"
          ],
          [
           300,
           "1",
           "DGPT+ Discraft Great Lakes Open presented by Gerrit J Verburg"
          ],
          [
           300,
           "1",
           "DGPT Playoffs - Discraft's Green Mountain Championship at Smugglers' Notch Resort"
          ],
          [
           230,
           "3",
           "DGPT Playoffs- MVP Open x OTB"
          ],
          [
           300,
           "1",
           "DGPT Championship presented by Barbasol"
          ]
         ],
         "hovertemplate": "%{customdata[2]}<br>Date: %{x}<br>Points: %{customdata[0]:.1f}<br>Place: %{customdata[1]}<extra></extra>",
         "marker": {
          "size": 8
         },
         "mode": "markers",
         "name": "Tier ES",
         "type": "scatter",
         "x": [
          "2022-02-27T00:00:00",
          "2022-03-13T00:00:00",
          "2022-03-27T00:00:00",
          "2022-04-24T00:00:00",
          "2022-05-01T00:00:00",
          "2022-05-22T00:00:00",
          "2022-06-05T00:00:00",
          "2022-06-26T00:00:00",
          "2022-07-10T00:00:00",
          "2022-07-31T00:00:00",
          "2022-08-14T00:00:00",
          "2022-08-21T00:00:00",
          "2022-09-18T00:00:00",
          "2022-09-25T00:00:00",
          "2022-10-16T00:00:00",
          "2023-02-26T00:00:00",
          "2023-03-12T00:00:00",
          "2023-03-19T00:00:00",
          "2023-04-09T00:00:00",
          "2023-04-30T00:00:00",
          "2023-05-14T00:00:00",
          "2023-06-04T00:00:00",
          "2023-06-18T00:00:00",
          "2023-06-25T00:00:00",
          "2023-07-02T00:00:00",
          "2023-08-06T00:00:00",
          "2023-08-13T00:00:00",
          "2023-08-20T00:00:00",
          "2023-09-17T00:00:00",
          "2023-10-15T00:00:00",
          "2024-02-17T00:00:00",
          "2024-02-25T00:00:00",
          "2024-03-10T00:00:00",
          "2024-03-17T00:00:00",
          "2024-03-31T00:00:00",
          "2024-04-14T00:00:00",
          "2024-04-21T00:00:00",
          "2024-05-05T00:00:00",
          "2024-05-19T00:00:00",
          "2024-06-02T00:00:00",
          "2024-06-09T00:00:00",
          "2024-06-23T00:00:00",
          "2024-07-07T00:00:00",
          "2024-07-14T00:00:00",
          "2024-07-28T00:00:00",
          "2024-08-04T00:00:00",
          "2024-08-11T00:00:00",
          "2024-09-08T00:00:00",
          "2024-09-22T00:00:00",
          "2024-09-29T00:00:00",
          "2024-10-20T00:00:00"
         ],
         "y": [
          262,
          20,
          136,
          176,
          93,
          105,
          201,
          155,
          201,
          73,
          230,
          73,
          155,
          230,
          230,
          15,
          22,
          300,
          230,
          93,
          262,
          105,
          0,
          300,
          93,
          22,
          300,
          93,
          82,
          155,
          155,
          201,
          300,
          201,
          262,
          136,
          136,
          262,
          65,
          300,
          300,
          176,
          230,
          136,
          93,
          300,
          119,
          300,
          300,
          230,
          300
         ]
        },
        {
         "customdata": [
          [
           264,
           "5",
           "PDGA Champions Cup Presented by Bushnell"
          ],
          [
           85.5,
           "14",
           "2022 PDGA Professional Disc Golf World Championships Presented by Dynamic Discs"
          ],
          [
           204,
           "7",
           "PDGA Champions Cup Presented by Bushnell"
          ],
          [
           232.5,
           "6",
           "2023 PDGA Professional Disc Golf World Championships Presented by L.L.Bean"
          ],
          [
           139.5,
           "10",
           "2024 PDGA Champions Cup"
          ],
          [
           450,
           "1",
           "2024 European Open presented by Discmania"
          ],
          [
           204,
           "7",
           "2024 PDGA Professional Disc Golf World Championships Presented by Zuca"
          ]
         ],
         "hovertemplate": "%{customdata[2]}<br>Date: %{x}<br>Points: %{customdata[0]:.1f}<br>Place: %{customdata[1]}<extra></extra>",
         "marker": {
          "size": 8
         },
         "mode": "markers",
         "name": "Tier M",
         "type": "scatter",
         "x": [
          "2022-04-17T00:00:00",
          "2022-09-03T00:00:00",
          "2023-04-23T00:00:00",
          "2023-09-03T00:00:00",
          "2024-04-28T00:00:00",
          "2024-07-21T00:00:00",
          "2024-08-25T00:00:00"
         ],
         "y": [
          264,
          85.5,
          204,
          232.5,
          139.5,
          450,
          204
         ]
        },
        {
         "customdata": [
          [
           450,
           "1",
           "United States Disc Golf Championship"
          ],
          [
           27,
           "27",
           "United States Disc Golf Championship"
          ],
          [
           450,
           "1",
           "2024 United States Disc Golf Championship"
          ]
         ],
         "hovertemplate": "%{customdata[2]}<br>Date: %{x}<br>Points: %{customdata[0]:.1f}<br>Place: %{customdata[1]}<extra></extra>",
         "marker": {
          "size": 8
         },
         "mode": "markers",
         "name": "Tier XM",
         "type": "scatter",
         "x": [
          "2022-10-09T00:00:00",
          "2023-10-08T00:00:00",
          "2024-10-13T00:00:00"
         ],
         "y": [
          450,
          27,
          450
         ]
        }
       ],
       "layout": {
        "hovermode": "closest",
        "showlegend": true,
        "template": {
         "data": {
          "bar": [
           {
            "error_x": {
             "color": "#2a3f5f"
            },
            "error_y": {
             "color": "#2a3f5f"
            },
            "marker": {
             "line": {
              "color": "#E5ECF6",
              "width": 0.5
             },
             "pattern": {
              "fillmode": "overlay",
              "size": 10,
              "solidity": 0.2
             }
            },
            "type": "bar"
           }
          ],
          "barpolar": [
           {
            "marker": {
             "line": {
              "color": "#E5ECF6",
              "width": 0.5
             },
             "pattern": {
              "fillmode": "overlay",
              "size": 10,
              "solidity": 0.2
             }
            },
            "type": "barpolar"
           }
          ],
          "carpet": [
           {
            "aaxis": {
             "endlinecolor": "#2a3f5f",
             "gridcolor": "white",
             "linecolor": "white",
             "minorgridcolor": "white",
             "startlinecolor": "#2a3f5f"
            },
            "baxis": {
             "endlinecolor": "#2a3f5f",
             "gridcolor": "white",
             "linecolor": "white",
             "minorgridcolor": "white",
             "startlinecolor": "#2a3f5f"
            },
            "type": "carpet"
           }
          ],
          "choropleth": [
           {
            "colorbar": {
             "outlinewidth": 0,
             "ticks": ""
            },
            "type": "choropleth"
           }
          ],
          "contour": [
           {
            "colorbar": {
             "outlinewidth": 0,
             "ticks": ""
            },
            "colorscale": [
             [
              0,
              "#0d0887"
             ],
             [
              0.1111111111111111,
              "#46039f"
             ],
             [
              0.2222222222222222,
              "#7201a8"
             ],
             [
              0.3333333333333333,
              "#9c179e"
             ],
             [
              0.4444444444444444,
              "#bd3786"
             ],
             [
              0.5555555555555556,
              "#d8576b"
             ],
             [
              0.6666666666666666,
              "#ed7953"
             ],
             [
              0.7777777777777778,
              "#fb9f3a"
             ],
             [
              0.8888888888888888,
              "#fdca26"
             ],
             [
              1,
              "#f0f921"
             ]
            ],
            "type": "contour"
           }
          ],
          "contourcarpet": [
           {
            "colorbar": {
             "outlinewidth": 0,
             "ticks": ""
            },
            "type": "contourcarpet"
           }
          ],
          "heatmap": [
           {
            "colorbar": {
             "outlinewidth": 0,
             "ticks": ""
            },
            "colorscale": [
             [
              0,
              "#0d0887"
             ],
             [
              0.1111111111111111,
              "#46039f"
             ],
             [
              0.2222222222222222,
              "#7201a8"
             ],
             [
              0.3333333333333333,
              "#9c179e"
             ],
             [
              0.4444444444444444,
              "#bd3786"
             ],
             [
              0.5555555555555556,
              "#d8576b"
             ],
             [
              0.6666666666666666,
              "#ed7953"
             ],
             [
              0.7777777777777778,
              "#fb9f3a"
             ],
             [
              0.8888888888888888,
              "#fdca26"
             ],
             [
              1,
              "#f0f921"
             ]
            ],
            "type": "heatmap"
           }
          ],
          "heatmapgl": [
           {
            "colorbar": {
             "outlinewidth": 0,
             "ticks": ""
            },
            "colorscale": [
             [
              0,
              "#0d0887"
             ],
             [
              0.1111111111111111,
              "#46039f"
             ],
             [
              0.2222222222222222,
              "#7201a8"
             ],
             [
              0.3333333333333333,
              "#9c179e"
             ],
             [
              0.4444444444444444,
              "#bd3786"
             ],
             [
              0.5555555555555556,
              "#d8576b"
             ],
             [
              0.6666666666666666,
              "#ed7953"
             ],
             [
              0.7777777777777778,
              "#fb9f3a"
             ],
             [
              0.8888888888888888,
              "#fdca26"
             ],
             [
              1,
              "#f0f921"
             ]
            ],
            "type": "heatmapgl"
           }
          ],
          "histogram": [
           {
            "marker": {
             "pattern": {
              "fillmode": "overlay",
              "size": 10,
              "solidity": 0.2
             }
            },
            "type": "histogram"
           }
          ],
          "histogram2d": [
           {
            "colorbar": {
             "outlinewidth": 0,
             "ticks": ""
            },
            "colorscale": [
             [
              0,
              "#0d0887"
             ],
             [
              0.1111111111111111,
              "#46039f"
             ],
             [
              0.2222222222222222,
              "#7201a8"
             ],
             [
              0.3333333333333333,
              "#9c179e"
             ],
             [
              0.4444444444444444,
              "#bd3786"
             ],
             [
              0.5555555555555556,
              "#d8576b"
             ],
             [
              0.6666666666666666,
              "#ed7953"
             ],
             [
              0.7777777777777778,
              "#fb9f3a"
             ],
             [
              0.8888888888888888,
              "#fdca26"
             ],
             [
              1,
              "#f0f921"
             ]
            ],
            "type": "histogram2d"
           }
          ],
          "histogram2dcontour": [
           {
            "colorbar": {
             "outlinewidth": 0,
             "ticks": ""
            },
            "colorscale": [
             [
              0,
              "#0d0887"
             ],
             [
              0.1111111111111111,
              "#46039f"
             ],
             [
              0.2222222222222222,
              "#7201a8"
             ],
             [
              0.3333333333333333,
              "#9c179e"
             ],
             [
              0.4444444444444444,
              "#bd3786"
             ],
             [
              0.5555555555555556,
              "#d8576b"
             ],
             [
              0.6666666666666666,
              "#ed7953"
             ],
             [
              0.7777777777777778,
              "#fb9f3a"
             ],
             [
              0.8888888888888888,
              "#fdca26"
             ],
             [
              1,
              "#f0f921"
             ]
            ],
            "type": "histogram2dcontour"
           }
          ],
          "mesh3d": [
           {
            "colorbar": {
             "outlinewidth": 0,
             "ticks": ""
            },
            "type": "mesh3d"
           }
          ],
          "parcoords": [
           {
            "line": {
             "colorbar": {
              "outlinewidth": 0,
              "ticks": ""
             }
            },
            "type": "parcoords"
           }
          ],
          "pie": [
           {
            "automargin": true,
            "type": "pie"
           }
          ],
          "scatter": [
           {
            "fillpattern": {
             "fillmode": "overlay",
             "size": 10,
             "solidity": 0.2
            },
            "type": "scatter"
           }
          ],
          "scatter3d": [
           {
            "line": {
             "colorbar": {
              "outlinewidth": 0,
              "ticks": ""
             }
            },
            "marker": {
             "colorbar": {
              "outlinewidth": 0,
              "ticks": ""
             }
            },
            "type": "scatter3d"
           }
          ],
          "scattercarpet": [
           {
            "marker": {
             "colorbar": {
              "outlinewidth": 0,
              "ticks": ""
             }
            },
            "type": "scattercarpet"
           }
          ],
          "scattergeo": [
           {
            "marker": {
             "colorbar": {
              "outlinewidth": 0,
              "ticks": ""
             }
            },
            "type": "scattergeo"
           }
          ],
          "scattergl": [
           {
            "marker": {
             "colorbar": {
              "outlinewidth": 0,
              "ticks": ""
             }
            },
            "type": "scattergl"
           }
          ],
          "scattermapbox": [
           {
            "marker": {
             "colorbar": {
              "outlinewidth": 0,
              "ticks": ""
             }
            },
            "type": "scattermapbox"
           }
          ],
          "scatterpolar": [
           {
            "marker": {
             "colorbar": {
              "outlinewidth": 0,
              "ticks": ""
             }
            },
            "type": "scatterpolar"
           }
          ],
          "scatterpolargl": [
           {
            "marker": {
             "colorbar": {
              "outlinewidth": 0,
              "ticks": ""
             }
            },
            "type": "scatterpolargl"
           }
          ],
          "scatterternary": [
           {
            "marker": {
             "colorbar": {
              "outlinewidth": 0,
              "ticks": ""
             }
            },
            "type": "scatterternary"
           }
          ],
          "surface": [
           {
            "colorbar": {
             "outlinewidth": 0,
             "ticks": ""
            },
            "colorscale": [
             [
              0,
              "#0d0887"
             ],
             [
              0.1111111111111111,
              "#46039f"
             ],
             [
              0.2222222222222222,
              "#7201a8"
             ],
             [
              0.3333333333333333,
              "#9c179e"
             ],
             [
              0.4444444444444444,
              "#bd3786"
             ],
             [
              0.5555555555555556,
              "#d8576b"
             ],
             [
              0.6666666666666666,
              "#ed7953"
             ],
             [
              0.7777777777777778,
              "#fb9f3a"
             ],
             [
              0.8888888888888888,
              "#fdca26"
             ],
             [
              1,
              "#f0f921"
             ]
            ],
            "type": "surface"
           }
          ],
          "table": [
           {
            "cells": {
             "fill": {
              "color": "#EBF0F8"
             },
             "line": {
              "color": "white"
             }
            },
            "header": {
             "fill": {
              "color": "#C8D4E3"
             },
             "line": {
              "color": "white"
             }
            },
            "type": "table"
           }
          ]
         },
         "layout": {
          "annotationdefaults": {
           "arrowcolor": "#2a3f5f",
           "arrowhead": 0,
           "arrowwidth": 1
          },
          "autotypenumbers": "strict",
          "coloraxis": {
           "colorbar": {
            "outlinewidth": 0,
            "ticks": ""
           }
          },
          "colorscale": {
           "diverging": [
            [
             0,
             "#8e0152"
            ],
            [
             0.1,
             "#c51b7d"
            ],
            [
             0.2,
             "#de77ae"
            ],
            [
             0.3,
             "#f1b6da"
            ],
            [
             0.4,
             "#fde0ef"
            ],
            [
             0.5,
             "#f7f7f7"
            ],
            [
             0.6,
             "#e6f5d0"
            ],
            [
             0.7,
             "#b8e186"
            ],
            [
             0.8,
             "#7fbc41"
            ],
            [
             0.9,
             "#4d9221"
            ],
            [
             1,
             "#276419"
            ]
           ],
           "sequential": [
            [
             0,
             "#0d0887"
            ],
            [
             0.1111111111111111,
             "#46039f"
            ],
            [
             0.2222222222222222,
             "#7201a8"
            ],
            [
             0.3333333333333333,
             "#9c179e"
            ],
            [
             0.4444444444444444,
             "#bd3786"
            ],
            [
             0.5555555555555556,
             "#d8576b"
            ],
            [
             0.6666666666666666,
             "#ed7953"
            ],
            [
             0.7777777777777778,
             "#fb9f3a"
            ],
            [
             0.8888888888888888,
             "#fdca26"
            ],
            [
             1,
             "#f0f921"
            ]
           ],
           "sequentialminus": [
            [
             0,
             "#0d0887"
            ],
            [
             0.1111111111111111,
             "#46039f"
            ],
            [
             0.2222222222222222,
             "#7201a8"
            ],
            [
             0.3333333333333333,
             "#9c179e"
            ],
            [
             0.4444444444444444,
             "#bd3786"
            ],
            [
             0.5555555555555556,
             "#d8576b"
            ],
            [
             0.6666666666666666,
             "#ed7953"
            ],
            [
             0.7777777777777778,
             "#fb9f3a"
            ],
            [
             0.8888888888888888,
             "#fdca26"
            ],
            [
             1,
             "#f0f921"
            ]
           ]
          },
          "colorway": [
           "#636efa",
           "#EF553B",
           "#00cc96",
           "#ab63fa",
           "#FFA15A",
           "#19d3f3",
           "#FF6692",
           "#B6E880",
           "#FF97FF",
           "#FECB52"
          ],
          "font": {
           "color": "#2a3f5f"
          },
          "geo": {
           "bgcolor": "white",
           "lakecolor": "white",
           "landcolor": "#E5ECF6",
           "showlakes": true,
           "showland": true,
           "subunitcolor": "white"
          },
          "hoverlabel": {
           "align": "left"
          },
          "hovermode": "closest",
          "mapbox": {
           "style": "light"
          },
          "paper_bgcolor": "white",
          "plot_bgcolor": "#E5ECF6",
          "polar": {
           "angularaxis": {
            "gridcolor": "white",
            "linecolor": "white",
            "ticks": ""
           },
           "bgcolor": "#E5ECF6",
           "radialaxis": {
            "gridcolor": "white",
            "linecolor": "white",
            "ticks": ""
           }
          },
          "scene": {
           "xaxis": {
            "backgroundcolor": "#E5ECF6",
            "gridcolor": "white",
            "gridwidth": 2,
            "linecolor": "white",
            "showbackground": true,
            "ticks": "",
            "zerolinecolor": "white"
           },
           "yaxis": {
            "backgroundcolor": "#E5ECF6",
            "gridcolor": "white",
            "gridwidth": 2,
            "linecolor": "white",
            "showbackground": true,
            "ticks": "",
            "zerolinecolor": "white"
           },
           "zaxis": {
            "backgroundcolor": "#E5ECF6",
            "gridcolor": "white",
            "gridwidth": 2,
            "linecolor": "white",
            "showbackground": true,
            "ticks": "",
            "zerolinecolor": "white"
           }
          },
          "shapedefaults": {
           "line": {
            "color": "#2a3f5f"
           }
          },
          "ternary": {
           "aaxis": {
            "gridcolor": "white",
            "linecolor": "white",
            "ticks": ""
           },
           "baxis": {
            "gridcolor": "white",
            "linecolor": "white",
            "ticks": ""
           },
           "bgcolor": "#E5ECF6",
           "caxis": {
            "gridcolor": "white",
            "linecolor": "white",
            "ticks": ""
           }
          },
          "title": {
           "x": 0.05
          },
          "xaxis": {
           "automargin": true,
           "gridcolor": "white",
           "linecolor": "white",
           "ticks": "",
           "title": {
            "standoff": 15
           },
           "zerolinecolor": "white",
           "zerolinewidth": 2
          },
          "yaxis": {
           "automargin": true,
           "gridcolor": "white",
           "linecolor": "white",
           "ticks": "",
           "title": {
            "standoff": 15
           },
           "zerolinecolor": "white",
           "zerolinewidth": 2
          }
         }
        },
        "title": {
         "text": "Fantasy Points History - Gannon Buhr"
        },
        "xaxis": {
         "title": {
          "text": "Date"
         }
        },
        "yaxis": {
         "title": {
          "text": "Fantasy Points"
         }
        }
       }
      },
      "text/html": [
       "<div>                            <div id=\"c42affd8-9e16-44a6-a898-523a41a66562\" class=\"plotly-graph-div\" style=\"height:525px; width:100%;\"></div>            <script type=\"text/javascript\">                require([\"plotly\"], function(Plotly) {                    window.PLOTLYENV=window.PLOTLYENV || {};                                    if (document.getElementById(\"c42affd8-9e16-44a6-a898-523a41a66562\")) {                    Plotly.newPlot(                        \"c42affd8-9e16-44a6-a898-523a41a66562\",                        [{\"customdata\":[[262.0,\"2\",\"DGPT - Las Vegas Challenge presented by Innova\"],[20.0,\"25\",\"DGPT - Waco Annual Charity Open presented by Prodigy Disc\"],[0.0,\"24\",\"Discraft presents THE OPEN at BELTON, a DGPT Silver Series Event\"],[136.0,\"7\",\"DGPT - 27th Annual Texas State Disc Golf Championship Presented by Latitude 64\"],[0.0,\"4\",\"The 2022 Open at Tallahassee - DGPT Silver Series Presented by Dynamic Discs\"],[264.0,\"5\",\"PDGA Champions Cup Presented by Bushnell\"],[176.0,\"5\",\"DGPT - Play It Again Sports Jonesboro Open powered by Prodigy\"],[93.0,\"10\",\"DGPT - Dynamic Discs Open\"],[0.0,\"1\",\"2022 Santa Cruz Masters Cup (DGPT Silver Series) Presented by Innova Discs\"],[105.0,\"9\",\"DGPT - OTB Open presented by MVP Disc Sports\"],[201.0,\"4\",\"DGPT - Portland Open presented by Dynamic Discs\"],[0.0,\"10\",\"Discraft presents the 2022 Beaver State Fling sponsored by Resistance Discs\\u2014DGPT Silver Series\"],[155.0,\"6\",\"DGPT - The Preserve Championship designed by Leiviska Disc Golf\"],[201.0,\"4\",\"DGPT - LWS Open at Idlewild presented by Dynamic Discs & The Nati\"],[0.0,\"1\",\"Gatekeeper Media presents Clash at The Canyons VI - Pro Weekend\"],[73.0,\"12\",\"DGPT - Discraft's Great Lakes Open\"],[0.0,\"2\",\"Mid America Open DGPT Silver Series presented by Discraft\"],[230.0,\"3\",\"DGPT - Discraft Ledgestone Open\"],[73.0,\"12\",\"DGPT - The TruBank Des Moines Challenge presented by Discraft\"],[85.5,\"14\",\"2022 PDGA Professional Disc Golf World Championships Presented by Dynamic Discs\"],[155.0,\"6\",\"DGPT Playoffs - Discraft's Green Mountain Championship\"],[230.0,\"3\",\"DGPT - MVP Open at Maple Hill\"],[450.0,\"1\",\"United States Disc Golf Championship\"],[230.0,\"3\",\"Disc Golf Pro Tour Championship presented by Barbasol\"],[15.0,\"30\",\"DGPT - Las Vegas Challenge presented by Innova\"],[0.0,\"1\",\"The Memorial Championship presented by Discraft\"],[22.0,\"24\",\"DGPT - Prodigy presents WACO\"],[300.0,\"1\",\"DGPT - The Open at Austin presented by Lone Star Disc\"],[0.0,\"19\",\"DGPT Silver - Innova Open at The 28th Annual Texas State Disc Golf Championships\"],[230.0,\"3\",\"DGPT Elite - Music City Open presented by Lone Star Disc\"],[0.0,\"1\",\"DGPT Silver - Innova Blue Ridge Championship at North Cove\"],[204.0,\"7\",\"PDGA Champions Cup Presented by Bushnell\"],[93.0,\"10\",\"DGPT - Play It Again Sports Jonesboro Open presented by Prodigy\"],[0.0,\"7\",\"2023 Santa Cruz Masters Cup Presented By DGA\"],[262.0,\"2\",\"DGPT - OTB Open presented by MVP Disc Sports\"],[0.0,\"4\",\"DGPT Silver - Beaver State Fling Presented by Innova\"],[0.0,\"21\",\"DGPT Silver - Discraft's Cascade Challenge presented by GRIPeq\"],[105.0,\"9\",\"DGPT Elite+ 2023 Portland Open presented by Latitude 64\"],[0.0,\"8\",\"DGPT Silver Zoo Town Open Presented by Ink Realty Group Driven by Innova\"],[0.0,\"50\",\"DGPT - Dynamic Discs Open\"],[300.0,\"1\",\"DGPT - The TruBank Des Moines Challenge presented by Discraft\"],[93.0,\"10\",\"DGPT - The Preserve Championship powered by Prodigy\"],[0.0,\"1\",\"DGPT Silver - GRIPeq 41st Kansas City Wide Open Sponsored by Dynamic Discs\"],[0.0,\"2\",\"DGPT Silver - Mid America Open\"],[22.0,\"24\",\"DGPT - Discraft Ledgestone Open\"],[300.0,\"1\",\"DGPT - LWS Open at Idlewild presented by Dynamic Discs & The Nati\"],[93.0,\"10\",\"DGPT - Discraft Great Lakes Open\"],[232.5,\"6\",\"2023 PDGA Professional Disc Golf World Championships Presented by L.L.Bean\"],[82.0,\"11\",\"DGPT Playoffs - MVP Open presented by OTB\"],[27.0,\"27\",\"United States Disc Golf Championship\"],[155.0,\"6\",\"Disc Golf Pro Tour Championship presented by Barbasol\"],[155.0,\"6\",\"DGPT - All-Star Weekend - Doubles\"],[201.0,\"4\",\"DGPT - Chess.com Invitational presented by Discraft\"],[0.0,\"1\",\"The Memorial Championship presented by Discraft\"],[300.0,\"1\",\"DGPT+ Prodigy presents WACO\"],[201.0,\"4\",\"DGPT - The Open at Austin presented by Flight Factory Discs\"],[262.0,\"2\",\"DGPT - Texas State Disc Golf Championships - presented by Lone Star Disc\"],[136.0,\"7\",\"DGPT - Play It Again Sports Jonesboro Open - presented by Westside Discs\"],[136.0,\"7\",\"DGPT - Music City Open presented by Lone Star Disc\"],[139.5,\"10\",\"2024 PDGA Champions Cup\"],[262.0,\"2\",\"DGPT - Dynamic Discs Open\"],[0.0,\"2\",\"Las Vegas Challenge presented by Innova\"],[65.0,\"13\",\"DGPT - OTB Open presented by MVP Disc Sports + WGE\"],[300.0,\"1\",\"DGPT+ 2024 Portland Open presented by Latitude64\"],[300.0,\"1\",\"DGPT - 2024 Beaver State Fling Presented by Innova\"],[176.0,\"5\",\"DGPT - The Preserve Championship connected by Microsoft Teams\"],[230.0,\"3\",\"DGPT - Trubank Des Moines Challenge Presented by DGA\"],[136.0,\"7\",\"DGPT - Krokhol Open presented by Latitude 64\"],[450.0,\"1\",\"2024 European Open presented by Discmania\"],[93.0,\"10\",\"DGPT - European Disc Golf Festival\"],[300.0,\"1\",\"DGPT+ Discraft's Ledgestone Open presented by GRIPeq\"],[119.0,\"8\",\"DGPT - LWS Open at Idlewild presented by Dynamic Discs & The Nati\"],[204.0,\"7\",\"2024 PDGA Professional Disc Golf World Championships Presented by Zuca\"],[300.0,\"1\",\"DGPT+ Discraft Great Lakes Open presented by Gerrit J Verburg\"],[0.0,\"1\",\"The Rip - DGPT Q-Series - Presented by Innova - Equipped by Diameter\"],[300.0,\"1\",\"DGPT Playoffs - Discraft's Green Mountain Championship at Smugglers' Notch Resort\"],[230.0,\"3\",\"DGPT Playoffs- MVP Open x OTB\"],[450.0,\"1\",\"2024 United States Disc Golf Championship\"],[300.0,\"1\",\"DGPT Championship presented by Barbasol\"]],\"hovertemplate\":\"%{customdata[2]}<br>Date: %{x}<br>Points: %{customdata[0]:.1f}<br>Place: %{customdata[1]}<extra></extra>\",\"line\":{\"color\":\"blue\"},\"name\":\"Fantasy Points\",\"x\":[\"2022-02-27T00:00:00\",\"2022-03-13T00:00:00\",\"2022-03-20T00:00:00\",\"2022-03-27T00:00:00\",\"2022-04-10T00:00:00\",\"2022-04-17T00:00:00\",\"2022-04-24T00:00:00\",\"2022-05-01T00:00:00\",\"2022-05-15T00:00:00\",\"2022-05-22T00:00:00\",\"2022-06-05T00:00:00\",\"2022-06-12T00:00:00\",\"2022-06-26T00:00:00\",\"2022-07-10T00:00:00\",\"2022-07-24T00:00:00\",\"2022-07-31T00:00:00\",\"2022-08-07T00:00:00\",\"2022-08-14T00:00:00\",\"2022-08-21T00:00:00\",\"2022-09-03T00:00:00\",\"2022-09-18T00:00:00\",\"2022-09-25T00:00:00\",\"2022-10-09T00:00:00\",\"2022-10-16T00:00:00\",\"2023-02-26T00:00:00\",\"2023-03-05T00:00:00\",\"2023-03-12T00:00:00\",\"2023-03-19T00:00:00\",\"2023-03-26T00:00:00\",\"2023-04-09T00:00:00\",\"2023-04-16T00:00:00\",\"2023-04-23T00:00:00\",\"2023-04-30T00:00:00\",\"2023-05-07T00:00:00\",\"2023-05-14T00:00:00\",\"2023-05-21T00:00:00\",\"2023-05-28T00:00:00\",\"2023-06-04T00:00:00\",\"2023-06-11T00:00:00\",\"2023-06-18T00:00:00\",\"2023-06-25T00:00:00\",\"2023-07-02T00:00:00\",\"2023-07-09T00:00:00\",\"2023-07-30T00:00:00\",\"2023-08-06T00:00:00\",\"2023-08-13T00:00:00\",\"2023-08-20T00:00:00\",\"2023-09-03T00:00:00\",\"2023-09-17T00:00:00\",\"2023-10-08T00:00:00\",\"2023-10-15T00:00:00\",\"2024-02-17T00:00:00\",\"2024-02-25T00:00:00\",\"2024-03-03T00:00:00\",\"2024-03-10T00:00:00\",\"2024-03-17T00:00:00\",\"2024-03-31T00:00:00\",\"2024-04-14T00:00:00\",\"2024-04-21T00:00:00\",\"2024-04-28T00:00:00\",\"2024-05-05T00:00:00\",\"2024-05-12T00:00:00\",\"2024-05-19T00:00:00\",\"2024-06-02T00:00:00\",\"2024-06-09T00:00:00\",\"2024-06-23T00:00:00\",\"2024-07-07T00:00:00\",\"2024-07-14T00:00:00\",\"2024-07-21T00:00:00\",\"2024-07-28T00:00:00\",\"2024-08-04T00:00:00\",\"2024-08-11T00:00:00\",\"2024-08-25T00:00:00\",\"2024-09-08T00:00:00\",\"2024-09-15T00:00:00\",\"2024-09-22T00:00:00\",\"2024-09-29T00:00:00\",\"2024-10-13T00:00:00\",\"2024-10-20T00:00:00\"],\"y\":[262.0,20.0,0.0,136.0,0.0,264.0,176.0,93.0,0.0,105.0,201.0,0.0,155.0,201.0,0.0,73.0,0.0,230.0,73.0,85.5,155.0,230.0,450.0,230.0,15.0,0.0,22.0,300.0,0.0,230.0,0.0,204.0,93.0,0.0,262.0,0.0,0.0,105.0,0.0,0.0,300.0,93.0,0.0,0.0,22.0,300.0,93.0,232.5,82.0,27.0,155.0,155.0,201.0,0.0,300.0,201.0,262.0,136.0,136.0,139.5,262.0,0.0,65.0,300.0,300.0,176.0,230.0,136.0,450.0,93.0,300.0,119.0,204.0,300.0,0.0,300.0,230.0,450.0,300.0],\"type\":\"scatter\"},{\"customdata\":[[262.0,\"2\",\"DGPT - Las Vegas Challenge presented by Innova\"],[20.0,\"25\",\"DGPT - Waco Annual Charity Open presented by Prodigy Disc\"],[136.0,\"7\",\"DGPT - 27th Annual Texas State Disc Golf Championship Presented by Latitude 64\"],[176.0,\"5\",\"DGPT - Play It Again Sports Jonesboro Open powered by Prodigy\"],[93.0,\"10\",\"DGPT - Dynamic Discs Open\"],[105.0,\"9\",\"DGPT - OTB Open presented by MVP Disc Sports\"],[201.0,\"4\",\"DGPT - Portland Open presented by Dynamic Discs\"],[155.0,\"6\",\"DGPT - The Preserve Championship designed by Leiviska Disc Golf\"],[201.0,\"4\",\"DGPT - LWS Open at Idlewild presented by Dynamic Discs & The Nati\"],[73.0,\"12\",\"DGPT - Discraft's Great Lakes Open\"],[230.0,\"3\",\"DGPT - Discraft Ledgestone Open\"],[73.0,\"12\",\"DGPT - The TruBank Des Moines Challenge presented by Discraft\"],[155.0,\"6\",\"DGPT Playoffs - Discraft's Green Mountain Championship\"],[230.0,\"3\",\"DGPT - MVP Open at Maple Hill\"],[230.0,\"3\",\"Disc Golf Pro Tour Championship presented by Barbasol\"],[15.0,\"30\",\"DGPT - Las Vegas Challenge presented by Innova\"],[22.0,\"24\",\"DGPT - Prodigy presents WACO\"],[300.0,\"1\",\"DGPT - The Open at Austin presented by Lone Star Disc\"],[230.0,\"3\",\"DGPT Elite - Music City Open presented by Lone Star Disc\"],[93.0,\"10\",\"DGPT - Play It Again Sports Jonesboro Open presented by Prodigy\"],[262.0,\"2\",\"DGPT - OTB Open presented by MVP Disc Sports\"],[105.0,\"9\",\"DGPT Elite+ 2023 Portland Open presented by Latitude 64\"],[0.0,\"50\",\"DGPT - Dynamic Discs Open\"],[300.0,\"1\",\"DGPT - The TruBank Des Moines Challenge presented by Discraft\"],[93.0,\"10\",\"DGPT - The Preserve Championship powered by Prodigy\"],[22.0,\"24\",\"DGPT - Discraft Ledgestone Open\"],[300.0,\"1\",\"DGPT - LWS Open at Idlewild presented by Dynamic Discs & The Nati\"],[93.0,\"10\",\"DGPT - Discraft Great Lakes Open\"],[82.0,\"11\",\"DGPT Playoffs - MVP Open presented by OTB\"],[155.0,\"6\",\"Disc Golf Pro Tour Championship presented by Barbasol\"],[155.0,\"6\",\"DGPT - All-Star Weekend - Doubles\"],[201.0,\"4\",\"DGPT - Chess.com Invitational presented by Discraft\"],[300.0,\"1\",\"DGPT+ Prodigy presents WACO\"],[201.0,\"4\",\"DGPT - The Open at Austin presented by Flight Factory Discs\"],[262.0,\"2\",\"DGPT - Texas State Disc Golf Championships - presented by Lone Star Disc\"],[136.0,\"7\",\"DGPT - Play It Again Sports Jonesboro Open - presented by Westside Discs\"],[136.0,\"7\",\"DGPT - Music City Open presented by Lone Star Disc\"],[262.0,\"2\",\"DGPT - Dynamic Discs Open\"],[65.0,\"13\",\"DGPT - OTB Open presented by MVP Disc Sports + WGE\"],[300.0,\"1\",\"DGPT+ 2024 Portland Open presented by Latitude64\"],[300.0,\"1\",\"DGPT - 2024 Beaver State Fling Presented by Innova\"],[176.0,\"5\",\"DGPT - The Preserve Championship connected by Microsoft Teams\"],[230.0,\"3\",\"DGPT - Trubank Des Moines Challenge Presented by DGA\"],[136.0,\"7\",\"DGPT - Krokhol Open presented by Latitude 64\"],[93.0,\"10\",\"DGPT - European Disc Golf Festival\"],[300.0,\"1\",\"DGPT+ Discraft's Ledgestone Open presented by GRIPeq\"],[119.0,\"8\",\"DGPT - LWS Open at Idlewild presented by Dynamic Discs & The Nati\"],[300.0,\"1\",\"DGPT+ Discraft Great Lakes Open presented by Gerrit J Verburg\"],[300.0,\"1\",\"DGPT Playoffs - Discraft's Green Mountain Championship at Smugglers' Notch Resort\"],[230.0,\"3\",\"DGPT Playoffs- MVP Open x OTB\"],[300.0,\"1\",\"DGPT Championship presented by Barbasol\"]],\"hovertemplate\":\"%{customdata[2]}<br>Date: %{x}<br>Points: %{customdata[0]:.1f}<br>Place: %{customdata[1]}<extra></extra>\",\"marker\":{\"size\":8},\"mode\":\"markers\",\"name\":\"Tier ES\",\"x\":[\"2022-02-27T00:00:00\",\"2022-03-13T00:00:00\",\"2022-03-27T00:00:00\",\"2022-04-24T00:00:00\",\"2022-05-01T00:00:00\",\"2022-05-22T00:00:00\",\"2022-06-05T00:00:00\",\"2022-06-26T00:00:00\",\"2022-07-10T00:00:00\",\"2022-07-31T00:00:00\",\"2022-08-14T00:00:00\",\"2022-08-21T00:00:00\",\"2022-09-18T00:00:00\",\"2022-09-25T00:00:00\",\"2022-10-16T00:00:00\",\"2023-02-26T00:00:00\",\"2023-03-12T00:00:00\",\"2023-03-19T00:00:00\",\"2023-04-09T00:00:00\",\"2023-04-30T00:00:00\",\"2023-05-14T00:00:00\",\"2023-06-04T00:00:00\",\"2023-06-18T00:00:00\",\"2023-06-25T00:00:00\",\"2023-07-02T00:00:00\",\"2023-08-06T00:00:00\",\"2023-08-13T00:00:00\",\"2023-08-20T00:00:00\",\"2023-09-17T00:00:00\",\"2023-10-15T00:00:00\",\"2024-02-17T00:00:00\",\"2024-02-25T00:00:00\",\"2024-03-10T00:00:00\",\"2024-03-17T00:00:00\",\"2024-03-31T00:00:00\",\"2024-04-14T00:00:00\",\"2024-04-21T00:00:00\",\"2024-05-05T00:00:00\",\"2024-05-19T00:00:00\",\"2024-06-02T00:00:00\",\"2024-06-09T00:00:00\",\"2024-06-23T00:00:00\",\"2024-07-07T00:00:00\",\"2024-07-14T00:00:00\",\"2024-07-28T00:00:00\",\"2024-08-04T00:00:00\",\"2024-08-11T00:00:00\",\"2024-09-08T00:00:00\",\"2024-09-22T00:00:00\",\"2024-09-29T00:00:00\",\"2024-10-20T00:00:00\"],\"y\":[262.0,20.0,136.0,176.0,93.0,105.0,201.0,155.0,201.0,73.0,230.0,73.0,155.0,230.0,230.0,15.0,22.0,300.0,230.0,93.0,262.0,105.0,0.0,300.0,93.0,22.0,300.0,93.0,82.0,155.0,155.0,201.0,300.0,201.0,262.0,136.0,136.0,262.0,65.0,300.0,300.0,176.0,230.0,136.0,93.0,300.0,119.0,300.0,300.0,230.0,300.0],\"type\":\"scatter\"},{\"customdata\":[[264.0,\"5\",\"PDGA Champions Cup Presented by Bushnell\"],[85.5,\"14\",\"2022 PDGA Professional Disc Golf World Championships Presented by Dynamic Discs\"],[204.0,\"7\",\"PDGA Champions Cup Presented by Bushnell\"],[232.5,\"6\",\"2023 PDGA Professional Disc Golf World Championships Presented by L.L.Bean\"],[139.5,\"10\",\"2024 PDGA Champions Cup\"],[450.0,\"1\",\"2024 European Open presented by Discmania\"],[204.0,\"7\",\"2024 PDGA Professional Disc Golf World Championships Presented by Zuca\"]],\"hovertemplate\":\"%{customdata[2]}<br>Date: %{x}<br>Points: %{customdata[0]:.1f}<br>Place: %{customdata[1]}<extra></extra>\",\"marker\":{\"size\":8},\"mode\":\"markers\",\"name\":\"Tier M\",\"x\":[\"2022-04-17T00:00:00\",\"2022-09-03T00:00:00\",\"2023-04-23T00:00:00\",\"2023-09-03T00:00:00\",\"2024-04-28T00:00:00\",\"2024-07-21T00:00:00\",\"2024-08-25T00:00:00\"],\"y\":[264.0,85.5,204.0,232.5,139.5,450.0,204.0],\"type\":\"scatter\"},{\"customdata\":[[450.0,\"1\",\"United States Disc Golf Championship\"],[27.0,\"27\",\"United States Disc Golf Championship\"],[450.0,\"1\",\"2024 United States Disc Golf Championship\"]],\"hovertemplate\":\"%{customdata[2]}<br>Date: %{x}<br>Points: %{customdata[0]:.1f}<br>Place: %{customdata[1]}<extra></extra>\",\"marker\":{\"size\":8},\"mode\":\"markers\",\"name\":\"Tier XM\",\"x\":[\"2022-10-09T00:00:00\",\"2023-10-08T00:00:00\",\"2024-10-13T00:00:00\"],\"y\":[450.0,27.0,450.0],\"type\":\"scatter\"}],                        {\"template\":{\"data\":{\"histogram2dcontour\":[{\"type\":\"histogram2dcontour\",\"colorbar\":{\"outlinewidth\":0,\"ticks\":\"\"},\"colorscale\":[[0.0,\"#0d0887\"],[0.1111111111111111,\"#46039f\"],[0.2222222222222222,\"#7201a8\"],[0.3333333333333333,\"#9c179e\"],[0.4444444444444444,\"#bd3786\"],[0.5555555555555556,\"#d8576b\"],[0.6666666666666666,\"#ed7953\"],[0.7777777777777778,\"#fb9f3a\"],[0.8888888888888888,\"#fdca26\"],[1.0,\"#f0f921\"]]}],\"choropleth\":[{\"type\":\"choropleth\",\"colorbar\":{\"outlinewidth\":0,\"ticks\":\"\"}}],\"histogram2d\":[{\"type\":\"histogram2d\",\"colorbar\":{\"outlinewidth\":0,\"ticks\":\"\"},\"colorscale\":[[0.0,\"#0d0887\"],[0.1111111111111111,\"#46039f\"],[0.2222222222222222,\"#7201a8\"],[0.3333333333333333,\"#9c179e\"],[0.4444444444444444,\"#bd3786\"],[0.5555555555555556,\"#d8576b\"],[0.6666666666666666,\"#ed7953\"],[0.7777777777777778,\"#fb9f3a\"],[0.8888888888888888,\"#fdca26\"],[1.0,\"#f0f921\"]]}],\"heatmap\":[{\"type\":\"heatmap\",\"colorbar\":{\"outlinewidth\":0,\"ticks\":\"\"},\"colorscale\":[[0.0,\"#0d0887\"],[0.1111111111111111,\"#46039f\"],[0.2222222222222222,\"#7201a8\"],[0.3333333333333333,\"#9c179e\"],[0.4444444444444444,\"#bd3786\"],[0.5555555555555556,\"#d8576b\"],[0.6666666666666666,\"#ed7953\"],[0.7777777777777778,\"#fb9f3a\"],[0.8888888888888888,\"#fdca26\"],[1.0,\"#f0f921\"]]}],\"heatmapgl\":[{\"type\":\"heatmapgl\",\"colorbar\":{\"outlinewidth\":0,\"ticks\":\"\"},\"colorscale\":[[0.0,\"#0d0887\"],[0.1111111111111111,\"#46039f\"],[0.2222222222222222,\"#7201a8\"],[0.3333333333333333,\"#9c179e\"],[0.4444444444444444,\"#bd3786\"],[0.5555555555555556,\"#d8576b\"],[0.6666666666666666,\"#ed7953\"],[0.7777777777777778,\"#fb9f3a\"],[0.8888888888888888,\"#fdca26\"],[1.0,\"#f0f921\"]]}],\"contourcarpet\":[{\"type\":\"contourcarpet\",\"colorbar\":{\"outlinewidth\":0,\"ticks\":\"\"}}],\"contour\":[{\"type\":\"contour\",\"colorbar\":{\"outlinewidth\":0,\"ticks\":\"\"},\"colorscale\":[[0.0,\"#0d0887\"],[0.1111111111111111,\"#46039f\"],[0.2222222222222222,\"#7201a8\"],[0.3333333333333333,\"#9c179e\"],[0.4444444444444444,\"#bd3786\"],[0.5555555555555556,\"#d8576b\"],[0.6666666666666666,\"#ed7953\"],[0.7777777777777778,\"#fb9f3a\"],[0.8888888888888888,\"#fdca26\"],[1.0,\"#f0f921\"]]}],\"surface\":[{\"type\":\"surface\",\"colorbar\":{\"outlinewidth\":0,\"ticks\":\"\"},\"colorscale\":[[0.0,\"#0d0887\"],[0.1111111111111111,\"#46039f\"],[0.2222222222222222,\"#7201a8\"],[0.3333333333333333,\"#9c179e\"],[0.4444444444444444,\"#bd3786\"],[0.5555555555555556,\"#d8576b\"],[0.6666666666666666,\"#ed7953\"],[0.7777777777777778,\"#fb9f3a\"],[0.8888888888888888,\"#fdca26\"],[1.0,\"#f0f921\"]]}],\"mesh3d\":[{\"type\":\"mesh3d\",\"colorbar\":{\"outlinewidth\":0,\"ticks\":\"\"}}],\"scatter\":[{\"fillpattern\":{\"fillmode\":\"overlay\",\"size\":10,\"solidity\":0.2},\"type\":\"scatter\"}],\"parcoords\":[{\"type\":\"parcoords\",\"line\":{\"colorbar\":{\"outlinewidth\":0,\"ticks\":\"\"}}}],\"scatterpolargl\":[{\"type\":\"scatterpolargl\",\"marker\":{\"colorbar\":{\"outlinewidth\":0,\"ticks\":\"\"}}}],\"bar\":[{\"error_x\":{\"color\":\"#2a3f5f\"},\"error_y\":{\"color\":\"#2a3f5f\"},\"marker\":{\"line\":{\"color\":\"#E5ECF6\",\"width\":0.5},\"pattern\":{\"fillmode\":\"overlay\",\"size\":10,\"solidity\":0.2}},\"type\":\"bar\"}],\"scattergeo\":[{\"type\":\"scattergeo\",\"marker\":{\"colorbar\":{\"outlinewidth\":0,\"ticks\":\"\"}}}],\"scatterpolar\":[{\"type\":\"scatterpolar\",\"marker\":{\"colorbar\":{\"outlinewidth\":0,\"ticks\":\"\"}}}],\"histogram\":[{\"marker\":{\"pattern\":{\"fillmode\":\"overlay\",\"size\":10,\"solidity\":0.2}},\"type\":\"histogram\"}],\"scattergl\":[{\"type\":\"scattergl\",\"marker\":{\"colorbar\":{\"outlinewidth\":0,\"ticks\":\"\"}}}],\"scatter3d\":[{\"type\":\"scatter3d\",\"line\":{\"colorbar\":{\"outlinewidth\":0,\"ticks\":\"\"}},\"marker\":{\"colorbar\":{\"outlinewidth\":0,\"ticks\":\"\"}}}],\"scattermapbox\":[{\"type\":\"scattermapbox\",\"marker\":{\"colorbar\":{\"outlinewidth\":0,\"ticks\":\"\"}}}],\"scatterternary\":[{\"type\":\"scatterternary\",\"marker\":{\"colorbar\":{\"outlinewidth\":0,\"ticks\":\"\"}}}],\"scattercarpet\":[{\"type\":\"scattercarpet\",\"marker\":{\"colorbar\":{\"outlinewidth\":0,\"ticks\":\"\"}}}],\"carpet\":[{\"aaxis\":{\"endlinecolor\":\"#2a3f5f\",\"gridcolor\":\"white\",\"linecolor\":\"white\",\"minorgridcolor\":\"white\",\"startlinecolor\":\"#2a3f5f\"},\"baxis\":{\"endlinecolor\":\"#2a3f5f\",\"gridcolor\":\"white\",\"linecolor\":\"white\",\"minorgridcolor\":\"white\",\"startlinecolor\":\"#2a3f5f\"},\"type\":\"carpet\"}],\"table\":[{\"cells\":{\"fill\":{\"color\":\"#EBF0F8\"},\"line\":{\"color\":\"white\"}},\"header\":{\"fill\":{\"color\":\"#C8D4E3\"},\"line\":{\"color\":\"white\"}},\"type\":\"table\"}],\"barpolar\":[{\"marker\":{\"line\":{\"color\":\"#E5ECF6\",\"width\":0.5},\"pattern\":{\"fillmode\":\"overlay\",\"size\":10,\"solidity\":0.2}},\"type\":\"barpolar\"}],\"pie\":[{\"automargin\":true,\"type\":\"pie\"}]},\"layout\":{\"autotypenumbers\":\"strict\",\"colorway\":[\"#636efa\",\"#EF553B\",\"#00cc96\",\"#ab63fa\",\"#FFA15A\",\"#19d3f3\",\"#FF6692\",\"#B6E880\",\"#FF97FF\",\"#FECB52\"],\"font\":{\"color\":\"#2a3f5f\"},\"hovermode\":\"closest\",\"hoverlabel\":{\"align\":\"left\"},\"paper_bgcolor\":\"white\",\"plot_bgcolor\":\"#E5ECF6\",\"polar\":{\"bgcolor\":\"#E5ECF6\",\"angularaxis\":{\"gridcolor\":\"white\",\"linecolor\":\"white\",\"ticks\":\"\"},\"radialaxis\":{\"gridcolor\":\"white\",\"linecolor\":\"white\",\"ticks\":\"\"}},\"ternary\":{\"bgcolor\":\"#E5ECF6\",\"aaxis\":{\"gridcolor\":\"white\",\"linecolor\":\"white\",\"ticks\":\"\"},\"baxis\":{\"gridcolor\":\"white\",\"linecolor\":\"white\",\"ticks\":\"\"},\"caxis\":{\"gridcolor\":\"white\",\"linecolor\":\"white\",\"ticks\":\"\"}},\"coloraxis\":{\"colorbar\":{\"outlinewidth\":0,\"ticks\":\"\"}},\"colorscale\":{\"sequential\":[[0.0,\"#0d0887\"],[0.1111111111111111,\"#46039f\"],[0.2222222222222222,\"#7201a8\"],[0.3333333333333333,\"#9c179e\"],[0.4444444444444444,\"#bd3786\"],[0.5555555555555556,\"#d8576b\"],[0.6666666666666666,\"#ed7953\"],[0.7777777777777778,\"#fb9f3a\"],[0.8888888888888888,\"#fdca26\"],[1.0,\"#f0f921\"]],\"sequentialminus\":[[0.0,\"#0d0887\"],[0.1111111111111111,\"#46039f\"],[0.2222222222222222,\"#7201a8\"],[0.3333333333333333,\"#9c179e\"],[0.4444444444444444,\"#bd3786\"],[0.5555555555555556,\"#d8576b\"],[0.6666666666666666,\"#ed7953\"],[0.7777777777777778,\"#fb9f3a\"],[0.8888888888888888,\"#fdca26\"],[1.0,\"#f0f921\"]],\"diverging\":[[0,\"#8e0152\"],[0.1,\"#c51b7d\"],[0.2,\"#de77ae\"],[0.3,\"#f1b6da\"],[0.4,\"#fde0ef\"],[0.5,\"#f7f7f7\"],[0.6,\"#e6f5d0\"],[0.7,\"#b8e186\"],[0.8,\"#7fbc41\"],[0.9,\"#4d9221\"],[1,\"#276419\"]]},\"xaxis\":{\"gridcolor\":\"white\",\"linecolor\":\"white\",\"ticks\":\"\",\"title\":{\"standoff\":15},\"zerolinecolor\":\"white\",\"automargin\":true,\"zerolinewidth\":2},\"yaxis\":{\"gridcolor\":\"white\",\"linecolor\":\"white\",\"ticks\":\"\",\"title\":{\"standoff\":15},\"zerolinecolor\":\"white\",\"automargin\":true,\"zerolinewidth\":2},\"scene\":{\"xaxis\":{\"backgroundcolor\":\"#E5ECF6\",\"gridcolor\":\"white\",\"linecolor\":\"white\",\"showbackground\":true,\"ticks\":\"\",\"zerolinecolor\":\"white\",\"gridwidth\":2},\"yaxis\":{\"backgroundcolor\":\"#E5ECF6\",\"gridcolor\":\"white\",\"linecolor\":\"white\",\"showbackground\":true,\"ticks\":\"\",\"zerolinecolor\":\"white\",\"gridwidth\":2},\"zaxis\":{\"backgroundcolor\":\"#E5ECF6\",\"gridcolor\":\"white\",\"linecolor\":\"white\",\"showbackground\":true,\"ticks\":\"\",\"zerolinecolor\":\"white\",\"gridwidth\":2}},\"shapedefaults\":{\"line\":{\"color\":\"#2a3f5f\"}},\"annotationdefaults\":{\"arrowcolor\":\"#2a3f5f\",\"arrowhead\":0,\"arrowwidth\":1},\"geo\":{\"bgcolor\":\"white\",\"landcolor\":\"#E5ECF6\",\"subunitcolor\":\"white\",\"showland\":true,\"showlakes\":true,\"lakecolor\":\"white\"},\"title\":{\"x\":0.05},\"mapbox\":{\"style\":\"light\"}}},\"title\":{\"text\":\"Fantasy Points History - Gannon Buhr\"},\"xaxis\":{\"title\":{\"text\":\"Date\"}},\"yaxis\":{\"title\":{\"text\":\"Fantasy Points\"}},\"hovermode\":\"closest\",\"showlegend\":true},                        {\"responsive\": true}                    ).then(function(){\n",
       "                            \n",
       "var gd = document.getElementById('c42affd8-9e16-44a6-a898-523a41a66562');\n",
       "var x = new MutationObserver(function (mutations, observer) {{\n",
       "        var display = window.getComputedStyle(gd).display;\n",
       "        if (!display || display === 'none') {{\n",
       "            console.log([gd, 'removed!']);\n",
       "            Plotly.purge(gd);\n",
       "            observer.disconnect();\n",
       "        }}\n",
       "}});\n",
       "\n",
       "// Listen for the removal of the full notebook cells\n",
       "var notebookContainer = gd.closest('#notebook-container');\n",
       "if (notebookContainer) {{\n",
       "    x.observe(notebookContainer, {childList: true});\n",
       "}}\n",
       "\n",
       "// Listen for the clearing of the current output cell\n",
       "var outputEl = gd.closest('.output');\n",
       "if (outputEl) {{\n",
       "    x.observe(outputEl, {childList: true});\n",
       "}}\n",
       "\n",
       "                        })                };                });            </script>        </div>"
      ]
     },
     "metadata": {},
     "output_type": "display_data"
    }
   ],
   "source": [
    "player_scoring_linechart(df=df, player_name='Gannon Buhr')"
   ]
  }
 ],
 "metadata": {
  "kernelspec": {
   "display_name": "datascience",
   "language": "python",
   "name": "python3"
  },
  "language_info": {
   "codemirror_mode": {
    "name": "ipython",
    "version": 3
   },
   "file_extension": ".py",
   "mimetype": "text/x-python",
   "name": "python",
   "nbconvert_exporter": "python",
   "pygments_lexer": "ipython3",
   "version": "3.9.15"
  }
 },
 "nbformat": 4,
 "nbformat_minor": 2
}
