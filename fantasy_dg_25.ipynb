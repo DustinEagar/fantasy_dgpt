{
 "cells": [
  {
   "cell_type": "markdown",
   "metadata": {},
   "source": [
    "## Fantasy DG 2025 Draft Prep\n",
    "Analysis for 2025 fantasy dg"
   ]
  },
  {
   "cell_type": "code",
   "execution_count": null,
   "metadata": {},
   "outputs": [],
   "source": [
    "import pandas as pd\n",
    "import numpy as np\n",
    "import plotly.express as px\n",
    "import json\n",
    "\n",
    "from utils.feature_extraction import calculate_fantasy_points, calculate_composite_scores"
   ]
  },
  {
   "cell_type": "code",
   "execution_count": null,
   "metadata": {},
   "outputs": [],
   "source": [
    "df = pd.read_csv('./data/players_crawled_25.csv')"
   ]
  },
  {
   "cell_type": "code",
   "execution_count": null,
   "metadata": {},
   "outputs": [],
   "source": [
    "scoring_curve_25 = pd.read_csv('./data/points_map_2025.csv')"
   ]
  },
  {
   "cell_type": "code",
   "execution_count": null,
   "metadata": {},
   "outputs": [],
   "source": [
    "points_map_25 = {key: value for key, value in zip(scoring_curve_25['Position'], scoring_curve_25['Points'])}\n",
    "points_map_25"
   ]
  },
  {
   "cell_type": "code",
   "execution_count": null,
   "metadata": {},
   "outputs": [],
   "source": [
    "#Write points map to json dictionary\n",
    "with open('./data/points_map_2025.json', 'w') as f:\n",
    "    json.dump(points_map_25, f, indent=4)"
   ]
  },
  {
   "cell_type": "code",
   "execution_count": null,
   "metadata": {},
   "outputs": [],
   "source": [
    "df = pd.read_csv('./data/players_crawled_25_updated.csv')\n",
    "df.head()"
   ]
  },
  {
   "cell_type": "code",
   "execution_count": null,
   "metadata": {},
   "outputs": [],
   "source": [
    "#Create a sample dataframe for aider\n",
    "df.head(2).to_csv('./data/players_25_crawled_sample.csv', index=False)"
   ]
  },
  {
   "cell_type": "code",
   "execution_count": null,
   "metadata": {},
   "outputs": [],
   "source": [
    "import plotly.express as px\n",
    "import pandas as pd\n",
    "\n",
    "def plot_histogram(df: pd.DataFrame, column: str, annotate_top_n: dict = None, nbins: int = None):\n",
    "    \"\"\"\n",
    "    Plots a histogram for the given column using Plotly Express.\n",
    "    \n",
    "    Optionally, annotates the top n rows (sorted by `column` in descending order)\n",
    "    for each annotation column specified in annotate_top_n.\n",
    "    \n",
    "    Parameters:\n",
    "      df (pd.DataFrame): The data.\n",
    "      column (str): The column to plot in the histogram.\n",
    "      annotate_top_n (dict, optional): Dictionary of {annotation_column: n}.\n",
    "          For each key, the top n rows (sorted by `column`) will be annotated with \n",
    "          the string value from that annotation column.\n",
    "      nbins (int, optional): Number of bins to use in the histogram.\n",
    "    \"\"\"\n",
    "    # Check if the main column exists in the DataFrame\n",
    "    if column not in df.columns:\n",
    "        raise ValueError(f\"Column '{column}' not found in the DataFrame.\")\n",
    "    \n",
    "    # Create the histogram using Plotly Express with the specified number of bins\n",
    "    fig = px.histogram(df, x=column, nbins=nbins, title=f\"Histogram of {column}\")\n",
    "    \n",
    "    # If annotation instructions are provided, add them\n",
    "    if annotate_top_n:\n",
    "        # Ensure each annotation column exists\n",
    "        for ann_col in annotate_top_n.keys():\n",
    "            if ann_col not in df.columns:\n",
    "                raise ValueError(f\"Annotation column '{ann_col}' not found in DataFrame.\")\n",
    "        \n",
    "        # Determine a baseline y-position for annotations.\n",
    "        # Here we take the maximum bar height from the histogram data.\n",
    "        if fig.data and fig.data[0].y:\n",
    "            max_y = max(fig.data[0].y)\n",
    "        else:\n",
    "            max_y = 0\n",
    "        \n",
    "        # A small offset to position annotations above the highest bar\n",
    "        offset = max_y * 0.05 if max_y > 0 else 1\n",
    "        \n",
    "        # For each annotation column, select the top n rows (sorted by the main column)\n",
    "        for ann_col, n in annotate_top_n.items():\n",
    "            top_rows = df.sort_values(by=column, ascending=False).head(n)\n",
    "            annotation_y_counter = 0\n",
    "            for _, row in top_rows.iterrows():\n",
    "                # Add an annotation at the x value from the row and above the histogram\n",
    "                fig.add_annotation(\n",
    "                    x=row[column],\n",
    "                    y=max_y + annotation_y_counter*offset,\n",
    "                    text=str(row[ann_col]),\n",
    "                    showarrow=True,\n",
    "                    arrowhead=2,\n",
    "                    ax=0,\n",
    "                    ay=-20  # Adjust arrow length as needed\n",
    "                )\n",
    "                annotation_y_counter+=1\n",
    "    \n",
    "    fig.show()\n"
   ]
  },
  {
   "cell_type": "code",
   "execution_count": null,
   "metadata": {},
   "outputs": [],
   "source": [
    "plot_histogram(df, column='fantasy_points_24', annotate_top_n={'Player':7}, nbins=35)"
   ]
  },
  {
   "cell_type": "code",
   "execution_count": null,
   "metadata": {},
   "outputs": [],
   "source": [
    "#Composite FP\n",
    "plot_histogram(df, column='composite_fp', annotate_top_n={'Player':7}, nbins=35)"
   ]
  },
  {
   "cell_type": "code",
   "execution_count": null,
   "metadata": {},
   "outputs": [],
   "source": [
    "def player_historic_linechart():"
   ]
  }
 ],
 "metadata": {
  "kernelspec": {
   "display_name": "datascience",
   "language": "python",
   "name": "python3"
  },
  "language_info": {
   "codemirror_mode": {
    "name": "ipython",
    "version": 3
   },
   "file_extension": ".py",
   "mimetype": "text/x-python",
   "name": "python",
   "nbconvert_exporter": "python",
   "pygments_lexer": "ipython3",
   "version": "3.9.15"
  }
 },
 "nbformat": 4,
 "nbformat_minor": 2
}
